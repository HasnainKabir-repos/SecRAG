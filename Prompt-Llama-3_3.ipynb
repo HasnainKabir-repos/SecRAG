{
  "cells": [
    {
      "cell_type": "code",
      "execution_count": null,
      "metadata": {
        "colab": {
          "base_uri": "https://localhost:8080/"
        },
        "id": "W-oC3DI5Vt8K",
        "outputId": "320853d0-dab5-4f43-cc82-7396c6ad1784"
      },
      "outputs": [
        {
          "name": "stdout",
          "output_type": "stream",
          "text": [
            "Requirement already satisfied: pyarrow in d:\\installation_folder\\python311\\lib\\site-packages (21.0.0)Note: you may need to restart the kernel to use updated packages.\n",
            "\n"
          ]
        },
        {
          "name": "stderr",
          "output_type": "stream",
          "text": [
            "\n",
            "[notice] A new release of pip is available: 23.2.1 -> 25.2\n",
            "[notice] To update, run: python.exe -m pip install --upgrade pip\n"
          ]
        },
        {
          "name": "stdout",
          "output_type": "stream",
          "text": [
            "Note: you may need to restart the kernel to use updated packages.\n",
            "Requirement already satisfied: pandas in d:\\installation_folder\\python311\\lib\\site-packages (2.1.3)\n",
            "Requirement already satisfied: numpy<2,>=1.23.2 in d:\\installation_folder\\python311\\lib\\site-packages (from pandas) (1.26.2)\n",
            "Requirement already satisfied: python-dateutil>=2.8.2 in c:\\users\\user\\appdata\\roaming\\python\\python311\\site-packages (from pandas) (2.8.2)\n",
            "Requirement already satisfied: pytz>=2020.1 in d:\\installation_folder\\python311\\lib\\site-packages (from pandas) (2023.3.post1)\n",
            "Requirement already satisfied: tzdata>=2022.1 in d:\\installation_folder\\python311\\lib\\site-packages (from pandas) (2023.3)\n",
            "Requirement already satisfied: six>=1.5 in c:\\users\\user\\appdata\\roaming\\python\\python311\\site-packages (from python-dateutil>=2.8.2->pandas) (1.16.0)\n"
          ]
        },
        {
          "name": "stderr",
          "output_type": "stream",
          "text": [
            "\n",
            "[notice] A new release of pip is available: 23.2.1 -> 25.2\n",
            "[notice] To update, run: python.exe -m pip install --upgrade pip\n"
          ]
        },
        {
          "name": "stdout",
          "output_type": "stream",
          "text": [
            "Requirement already satisfied: cerebras_cloud_sdk in d:\\installation_folder\\python311\\lib\\site-packages (1.46.0)\n",
            "Requirement already satisfied: anyio<5,>=3.5.0 in d:\\installation_folder\\python311\\lib\\site-packages (from cerebras_cloud_sdk) (4.10.0)\n",
            "Requirement already satisfied: distro<2,>=1.7.0 in d:\\installation_folder\\python311\\lib\\site-packages (from cerebras_cloud_sdk) (1.9.0)\n",
            "Requirement already satisfied: httpx<1,>=0.23.0 in d:\\installation_folder\\python311\\lib\\site-packages (from cerebras_cloud_sdk) (0.28.1)\n",
            "Requirement already satisfied: pydantic<3,>=1.9.0 in d:\\installation_folder\\python311\\lib\\site-packages (from cerebras_cloud_sdk) (2.11.7)\n",
            "Requirement already satisfied: sniffio in d:\\installation_folder\\python311\\lib\\site-packages (from cerebras_cloud_sdk) (1.3.1)\n",
            "Requirement already satisfied: typing-extensions<5,>=4.10 in d:\\installation_folder\\python311\\lib\\site-packages (from cerebras_cloud_sdk) (4.14.1)\n",
            "Requirement already satisfied: idna>=2.8 in d:\\installation_folder\\python311\\lib\\site-packages (from anyio<5,>=3.5.0->cerebras_cloud_sdk) (3.4)\n",
            "Requirement already satisfied: certifi in d:\\installation_folder\\python311\\lib\\site-packages (from httpx<1,>=0.23.0->cerebras_cloud_sdk) (2023.7.22)\n",
            "Requirement already satisfied: httpcore==1.* in d:\\installation_folder\\python311\\lib\\site-packages (from httpx<1,>=0.23.0->cerebras_cloud_sdk) (1.0.9)\n",
            "Requirement already satisfied: h11>=0.16 in d:\\installation_folder\\python311\\lib\\site-packages (from httpcore==1.*->httpx<1,>=0.23.0->cerebras_cloud_sdk) (0.16.0)\n",
            "Requirement already satisfied: annotated-types>=0.6.0 in d:\\installation_folder\\python311\\lib\\site-packages (from pydantic<3,>=1.9.0->cerebras_cloud_sdk) (0.7.0)\n",
            "Requirement already satisfied: pydantic-core==2.33.2 in d:\\installation_folder\\python311\\lib\\site-packages (from pydantic<3,>=1.9.0->cerebras_cloud_sdk) (2.33.2)\n",
            "Requirement already satisfied: typing-inspection>=0.4.0 in d:\\installation_folder\\python311\\lib\\site-packages (from pydantic<3,>=1.9.0->cerebras_cloud_sdk) (0.4.1)\n",
            "Note: you may need to restart the kernel to use updated packages.\n"
          ]
        },
        {
          "name": "stderr",
          "output_type": "stream",
          "text": [
            "\n",
            "[notice] A new release of pip is available: 23.2.1 -> 25.2\n",
            "[notice] To update, run: python.exe -m pip install --upgrade pip\n"
          ]
        }
      ],
      "source": [
        "%pip install pyarrow\n",
        "%pip install pandas\n",
        "%pip install cerebras_cloud_sdk\n",
        "%pip install dotenv\n",
        "%pip install tqdm"
      ]
    },
    {
      "cell_type": "code",
      "execution_count": null,
      "metadata": {
        "colab": {
          "base_uri": "https://localhost:8080/"
        },
        "id": "8r7VveXmSjEg",
        "outputId": "82241cf4-1ffd-4e84-80b5-3f047d430543"
      },
      "outputs": [
        {
          "name": "stdout",
          "output_type": "stream",
          "text": [
            "Columns in the dataset: Index(['project', 'commit_id', 'func', 'vul', 'CVE ID', 'CWE ID', 'CWE Name',\n",
            "       'CWE Description', 'Potential Mitigation', 'None', 'None', 'prompt',\n",
            "       'prompt_char_count', 'prompt_token_count'],\n",
            "      dtype='object')\n",
            "\n",
            "First few rows of the dataset:\n",
            "You are a professional cybersecurity analyst with expertise in static code analysis and Common Weakness Enumeration (CWE) classification.\n",
            "\n",
            "You will be provided with:\n",
            "- One **input function**, whose vulnerability status you must assess.\n",
            "- Several **reference examples**, each containing:\n",
            "  - A code function\n",
            "  - A known vulnerability label (1 for vulnerable, 0 for not)\n",
            "  - CWE ID (if vulnerable)\n",
            "  - CWE Name (if vulnerable)\n",
            "\n",
            "---\n",
            "\n",
            "### TASK\n",
            "\n",
            "Analyze the **structure, logic, and behavior** of the **input function**. Use deep comparison and reasoning based on the structure, intent, and usage patterns in the reference examples. Focus on the logical flow, operations performed, and overall behavior of the code to assess similarity and risk.\n",
            "\n",
            "You must:\n",
            "- Output whether the input function is vulnerable (1) or not (0)\n",
            "- If vulnerable, identify the **most appropriate CWE ID and CWE Name**\n",
            "- If not vulnerable, set CWE ID and CWE Name to \"NOT_APPLICABLE\"\n",
            "\n",
            "---\n",
            "\n",
            "### INSTRUCTIONS\n",
            "\n",
            "- Carefully compare the input function with the reference examples\n",
            "- Only use the structure and patterns from the examples for decision-making\n",
            "- Strictly output your result in the **exact 3-line format shown below**\n",
            "- **No explanation or additional commentary**\n",
            "- Your answer **must** be wrapped in triple backticks for structured parsing\n",
            "\n",
            "---\n",
            "\n",
            "Each reference is separated by:\n",
            "`### Reference Example`\n",
            "\n",
            "Respond in this **exact format**:\n",
            "Vulnerability: <1 or 0>\n",
            "CWE ID: <CWE-ID or NOT_APPLICABLE>\n",
            "CWE Name: <CWE Name or NOT_APPLICABLE>\n",
            "\n",
            "---\n",
            "### Reference Example\n",
            "Function:\n",
            "FLAC__bool read_residual_partitioned_rice_(FLAC__StreamDecoder *decoder, unsigned predictor_order, unsigned partition_order, FLAC__EntropyCodingMethod_PartitionedRiceContents *partitioned_rice_contents, FLAC__int32 *residual, FLAC__bool is_extended)\n",
            "{\n",
            "\tFLAC__uint32 rice_parameter;\n",
            "\tint i;\n",
            "\tunsigned partition, sample, u;\n",
            "\tconst unsigned partitions = 1u << partition_order;\n",
            "\tconst unsigned partition_samples = partition_order > 0? decoder->private_->frame.header.blocksize >> partition_order : decoder->private_->frame.header.blocksize - predictor_order;\n",
            "\tconst unsigned plen = is_extended? FLAC__ENTROPY_CODING_METHOD_PARTITIONED_RICE2_PARAMETER_LEN : FLAC__ENTROPY_CODING_METHOD_PARTITIONED_RICE_PARAMETER_LEN;\n",
            "\tconst unsigned pesc = is_extended? FLAC__ENTROPY_CODING_METHOD_PARTITIONED_RICE2_ESCAPE_PARAMETER : FLAC__ENTROPY_CODING_METHOD_PARTITIONED_RICE_ESCAPE_PARAMETER;\n",
            "\n",
            "\t/* sanity checks */\n",
            "\tif(partition_order == 0) {\n",
            "\t\tif(decoder->private_->frame.header.blocksize < predictor_order) {\n",
            "\t\t\tse…\n",
            "Vulnerability: 1.0\n",
            "CWE ID: CWE-119\n",
            "CWE Name: Improper Restriction of Operations within the Bounds of a Memory Buffer\n",
            "\n",
            "---\n",
            "### Reference Example\n",
            "Function:\n",
            "FLAC__bool read_residual_partitioned_rice_(FLAC__StreamDecoder *decoder, unsigned predictor_order, unsigned partition_order, FLAC__EntropyCodingMethod_PartitionedRiceContents *partitioned_rice_contents, FLAC__int32 *residual, FLAC__bool is_extended)\n",
            "{\n",
            "\tFLAC__uint32 rice_parameter;\n",
            "\tint i;\n",
            "\tunsigned partition, sample, u;\n",
            "\tconst unsigned partitions = 1u << partition_order;\n",
            "\tconst unsigned partition_samples = partition_order > 0? decoder->private_->frame.header.blocksize >> partition_order : decoder->private_->frame.header.blocksize - predictor_order;\n",
            "\tconst unsigned plen = is_extended? FLAC__ENTROPY_CODING_METHOD_PARTITIONED_RICE2_PARAMETER_LEN : FLAC__ENTROPY_CODING_METHOD_PARTITIONED_RICE_PARAMETER_LEN;\n",
            "\tconst unsigned pesc = is_extended? FLAC__ENTROPY_CODING_METHOD_PARTITIONED_RICE2_ESCAPE_PARAMETER : FLAC__ENTROPY_CODING_METHOD_PARTITIONED_RICE_ESCAPE_PARAMETER;\n",
            "\n",
            "\t/* sanity checks */\n",
            "\tif(partition_order == 0) {\n",
            "\t\tif(decoder->private_->frame.header.blocksize < predictor_order) {\n",
            "\t\t\tse…\n",
            "Vulnerability: 0.0\n",
            "CWE ID: NOT_APPLICABLE\n",
            "CWE Name: NOT_APPLICABLE\n",
            "\n",
            "---\n",
            "### Reference Example\n",
            "Function:\n",
            "FLAC__bool write_bitbuffer_(FLAC__StreamEncoder *encoder, uint32_t samples, FLAC__bool is_last_block)\n",
            "{\n",
            "\tconst FLAC__byte *buffer;\n",
            "\tsize_t bytes;\n",
            "\n",
            "\tFLAC__ASSERT(FLAC__bitwriter_is_byte_aligned(encoder->private_->frame));\n",
            "\n",
            "\tif(!FLAC__bitwriter_get_buffer(encoder->private_->frame, &buffer, &bytes)) {\n",
            "\t\tencoder->protected_->state = FLAC__STREAM_ENCODER_MEMORY_ALLOCATION_ERROR;\n",
            "\t\treturn false;\n",
            "\t}\n",
            "\n",
            "\tif(encoder->protected_->verify) {\n",
            "\t\tencoder->private_->verify.output.data = buffer;\n",
            "\t\tencoder->private_->verify.output.bytes = bytes;\n",
            "\t\tif(encoder->private_->verify.state_hint == ENCODER_IN_MAGIC) {\n",
            "\t\t\tencoder->private_->verify.needs_magic_hack = true;\n",
            "\t\t}\n",
            "\t\telse {\n",
            "\t\t\tif(!FLAC__stream_decoder_process_single(encoder->private_->verify.decoder)) {\n",
            "\t\t\t\tFLAC__bitwriter_release_buffer(encoder->private_->frame);\n",
            "\t\t\t\tFLAC__bitwriter_clear(encoder->private_->frame);\n",
            "\t\t\t\tif(encoder->protected_->state != FLAC__STREAM_ENCODER_VERIFY_MISMATCH_IN_AUDIO_DATA)\n",
            "\t\t\t\t\tencoder->protected_->state = FLAC__STREAM_ENCO…\n",
            "Vulnerability: 1.0\n",
            "CWE ID: CWE-787\n",
            "CWE Name: Out-of-bounds Write\n",
            "\n",
            "---\n",
            "### Input Function\n",
            "FLAC__bool read_residual_partitioned_rice_(FLAC__StreamDecoder *decoder, unsigned predictor_order, unsigned partition_order, FLAC__EntropyCodingMethod_PartitionedRiceContents *partitioned_rice_contents, FLAC__int32 *residual, FLAC__bool is_extended)\n",
            "{\n",
            "\tFLAC__uint32 rice_parameter;\n",
            "\tint i;\n",
            "\tunsigned partition, sample, u;\n",
            "\tconst unsigned partitions = 1u << partition_order;\n",
            "\tconst unsigned partition_samples = partition_order > 0? decoder->private_->frame.header.blocksize >> partition_order : decoder->private_->frame.header.blocksize - predictor_order;\n",
            "\tconst unsigned plen = is_extended? FLAC__ENTROPY_CODING_METHOD_PARTITIONED_RICE2_PARAMETER_LEN : FLAC__ENTROPY_CODING_METHOD_PARTITIONED_RICE_PARAMETER_LEN;\n",
            "\tconst unsigned pesc = is_extended? FLAC__ENTROPY_CODING_METHOD_PARTITIONED_RICE2_ESCAPE_PARAMETER : FLAC__ENTROPY_CODING_METHOD_PARTITIONED_RICE_ESCAPE_PARAMETER;\n",
            "\n",
            "\t/* sanity checks */\n",
            "\tif(partition_order == 0) {\n",
            "\t\tif(decoder->private_->frame.header.blocksize < predictor_order) {\n",
            "\t\t\tsend_error_to_client_(decoder, FLAC__STREAM_DECODER_ERROR_STATUS_LOST_SYNC);\n",
            "\t\t\tdecoder->protected_->state = FLAC__STREAM_DECODER_SEARCH_FOR_FRAME_SYNC;\n",
            "\t\t\t/* We have received a potentially malicious bt stream. All we can do is error out to avoid a heap overflow. */\n",
            "\t\t\treturn false;\n",
            "\t\t}\n",
            "\t}\n",
            "\telse {\n",
            "\t\tif(partition_samples < predictor_order) {\n",
            "\t\t\tsend_error_to_client_(decoder, FLAC__STREAM_DECODER_ERROR_STATUS_LOST_SYNC);\n",
            "\t\t\tdecoder->protected_->state = FLAC__STREAM_DECODER_SEARCH_FOR_FRAME_SYNC;\n",
            "\t\t\treturn true;\n",
            "\t\t}\n",
            "\t}\n",
            "\n",
            "\tif(!FLAC__format_entropy_coding_method_partitioned_rice_contents_ensure_size(partitioned_rice_contents, flac_max(6u, partition_order))) {\n",
            "\t\tdecoder->protected_->state = FLAC__STREAM_DECODER_MEMORY_ALLOCATION_ERROR;\n",
            "\t\treturn false;\n",
            "\t}\n",
            "\n",
            "\tsample = 0;\n",
            "\tfor(partition = 0; partition < partitions; partition++) {\n",
            "\t\tif(!FLAC__bitreader_read_raw_uint32(decoder->private_->input, &rice_parameter, plen))\n",
            "\t\t\treturn false; /* read_callback_ sets the state for us */\n",
            "\t\tpartitioned_rice_contents->parameters[partition] = rice_parameter;\n",
            "\t\tif(rice_parameter < pesc) {\n",
            "\t\t\tpartitioned_rice_contents->raw_bits[partition] = 0;\n",
            "\t\t\tu = (partition_order == 0 || partition > 0)? partition_samples : partition_samples - predictor_order;\n",
            "\t\t\tif(!FLAC__bitreader_read_rice_signed_block(decoder->private_->input, residual + sample, u, rice_parameter))\n",
            "\t\t\t\treturn false; /* read_callback_ sets the state for us */\n",
            "\t\t\tsample += u;\n",
            "\t\t}\n",
            "\t\telse {\n",
            "\t\t\tif(!FLAC__bitreader_read_raw_uint32(decoder->private_->input, &rice_parameter, FLAC__ENTROPY_CODING_METHOD_PARTITIONED_RICE_RAW_LEN))\n",
            "\t\t\t\treturn false; /* read_callback_ sets the state for us */\n",
            "\t\t\tpartitioned_rice_contents->raw_bits[partition] = rice_parameter;\n",
            "\t\t\tfor(u = (partition_order == 0 || partition > 0)? 0 : predictor_order; u < partition_samples; u++, sample++) {\n",
            "\t\t\t\tif(!FLAC__bitreader_read_raw_int32(decoder->private_->input, &i, rice_parameter))\n",
            "\t\t\t\t\treturn false; /* read_callback_ sets the state for us */\n",
            "\t\t\t\tresidual[sample] = i;\n",
            "\t\t\t}\n",
            "\t\t}\n",
            "\t}\n",
            "\n",
            "\treturn true;\n",
            "}\n",
            "\n",
            "---\n",
            "\n",
            "### Your Response\n",
            "Vulnerability:\n",
            "CWE ID:\n",
            "CWE Name:\n",
            "\n"
          ]
        }
      ],
      "source": [
        "import pyarrow.parquet as pq\n",
        "import pandas as pd\n",
        "\n",
        "file_path = 'prompts_full_dataset.parquet'\n",
        "parquet_file = pq.ParquetFile(file_path)\n",
        "\n",
        "schema = parquet_file.schema\n",
        "unique_columns = []\n",
        "seen = set()\n",
        "for field in schema:\n",
        "    if field.name not in seen:\n",
        "        unique_columns.append(field.name)\n",
        "        seen.add(field.name)\n",
        "\n",
        "\n",
        "table = parquet_file.read(columns=unique_columns)\n",
        "df = table.to_pandas()\n",
        "\n",
        "print(\"Columns in the dataset:\", df.columns)\n",
        "print(\"\\nFirst few rows of the dataset:\")\n",
        "print(df.loc[0, 'prompt'])"
      ]
    },
    {
      "cell_type": "code",
      "execution_count": 2,
      "metadata": {},
      "outputs": [
        {
          "name": "stdout",
          "output_type": "stream",
          "text": [
            "Sum of tokens in all prompts: 3948621\n"
          ]
        }
      ],
      "source": [
        "print(\"Sum of tokens in all prompts:\", df['prompt_token_count'].sum())"
      ]
    },
    {
      "cell_type": "code",
      "execution_count": 3,
      "metadata": {
        "colab": {
          "base_uri": "https://localhost:8080/"
        },
        "id": "-te8fIhuUQkd",
        "outputId": "7ff7182d-524a-45a3-81c6-e6d6914df205"
      },
      "outputs": [
        {
          "name": "stdout",
          "output_type": "stream",
          "text": [
            "Number of unique CWE IDs: 13\n",
            "Number of unique functions: 2253\n",
            "Number of unique prompts: 2253\n",
            "Average character count of prompts: 7011.89\n",
            "Average token count of prompts: 1752.61\n",
            "Number of unique projects: 377\n"
          ]
        }
      ],
      "source": [
        "unique_cwe_ids = df['CWE ID'].nunique()\n",
        "print(f\"Number of unique CWE IDs: {unique_cwe_ids}\")\n",
        "\n",
        "num_functions = df['func'].nunique()\n",
        "print(f\"Number of unique functions: {num_functions}\")\n",
        "\n",
        "num_prompts = df['prompt'].nunique()\n",
        "print(f\"Number of unique prompts: {num_prompts}\")\n",
        "\n",
        "avg_char_count = df['prompt_char_count'].mean()\n",
        "avg_token_count = df['prompt_token_count'].mean()\n",
        "print(f\"Average character count of prompts: {avg_char_count:.2f}\")\n",
        "print(f\"Average token count of prompts: {avg_token_count:.2f}\")\n",
        "\n",
        "unique_projects = df['project'].nunique()\n",
        "print(f\"Number of unique projects: {unique_projects}\")"
      ]
    },
    {
      "cell_type": "code",
      "execution_count": 4,
      "metadata": {
        "colab": {
          "base_uri": "https://localhost:8080/"
        },
        "id": "uJ67kOtvXM-5",
        "outputId": "40324b2d-1a76-46ca-8e6c-0d149e84d751"
      },
      "outputs": [
        {
          "name": "stdout",
          "output_type": "stream",
          "text": [
            "\n",
            "Sample of functions and their presence in prompts:\n",
            "                                                func  \\\n",
            "0  FLAC__bool read_residual_partitioned_rice_(FLA...   \n",
            "1  NeXTPreDecode(TIFF* tif, uint16 s)\\n{\\n\\tstati...   \n",
            "2  int ncp_open_create_file_or_subdir(struct ncp_...   \n",
            "3  static MagickBooleanType IsWEBPImageLossless(c...   \n",
            "4  static Image *ReadTIFFImage(const ImageInfo *i...   \n",
            "5  bool ImageBitmap::isAccelerated() const {\\n  r...   \n",
            "6  int vfs_fallocate(struct file *file, int mode,...   \n",
            "7  HTMLElement& toHTMLElement(FormAssociatedEleme...   \n",
            "8  static void download_one_url(const char *url)\\...   \n",
            "9  static av_cold int vqa_decode_init(AVCodecCont...   \n",
            "\n",
            "                                              prompt  func_in_prompt  \n",
            "0  You are a professional cybersecurity analyst w...            True  \n",
            "1  You are a professional cybersecurity analyst w...            True  \n",
            "2  You are a professional cybersecurity analyst w...            True  \n",
            "3  You are a professional cybersecurity analyst w...            True  \n",
            "4  You are a professional cybersecurity analyst w...            True  \n",
            "5  You are a professional cybersecurity analyst w...            True  \n",
            "6  You are a professional cybersecurity analyst w...            True  \n",
            "7  You are a professional cybersecurity analyst w...            True  \n",
            "8  You are a professional cybersecurity analyst w...            True  \n",
            "9  You are a professional cybersecurity analyst w...            True  \n",
            "\n",
            "Number of functions present in their corresponding prompts: 2005\n",
            "Number of functions NOT present in their corresponding prompts: 248\n"
          ]
        }
      ],
      "source": [
        "def check_func_in_prompt(row):\n",
        "    func = row['func']\n",
        "    prompt = row['prompt']\n",
        "    if isinstance(func, str) and isinstance(prompt, str):\n",
        "        return func in prompt\n",
        "    return False\n",
        "\n",
        "df['func_in_prompt'] = df.apply(check_func_in_prompt, axis=1)\n",
        "\n",
        "print(\"\\nSample of functions and their presence in prompts:\")\n",
        "print(df[['func', 'prompt', 'func_in_prompt']].head(10))\n",
        "\n",
        "num_funcs_in_prompt = df['func_in_prompt'].sum()\n",
        "print(f\"\\nNumber of functions present in their corresponding prompts: {num_funcs_in_prompt}\")\n",
        "print(f\"Number of functions NOT present in their corresponding prompts: {len(df) - num_funcs_in_prompt}\")"
      ]
    },
    {
      "cell_type": "code",
      "execution_count": 5,
      "metadata": {},
      "outputs": [
        {
          "name": "stdout",
          "output_type": "stream",
          "text": [
            "You are a professional cybersecurity analyst with expertise in static code analysis and Common Weakness Enumeration (CWE) classification.\n",
            "\n",
            "You will be provided with:\n",
            "- One **input function**, whose vulnerability status you must assess.\n",
            "- Several **reference examples**, each containing:\n",
            "  - A code function\n",
            "  - A known vulnerability label (1 for vulnerable, 0 for not)\n",
            "  - CWE ID (if vulnerable)\n",
            "  - CWE Name (if vulnerable)\n",
            "\n",
            "---\n",
            "\n",
            "### TASK\n",
            "\n",
            "Analyze the **structure, logic, and behavior** of the **input function**. Use deep comparison and reasoning based on the structure, intent, and usage patterns in the reference examples. Focus on the logical flow, operations performed, and overall behavior of the code to assess similarity and risk.\n",
            "\n",
            "You must:\n",
            "- Output whether the input function is vulnerable (1) or not (0)\n",
            "- If vulnerable, identify the **most appropriate CWE ID and CWE Name**\n",
            "- If not vulnerable, set CWE ID and CWE Name to \"NOT_APPLICABLE\"\n",
            "\n",
            "---\n",
            "\n",
            "### INSTRUCTIONS\n",
            "\n",
            "- Carefully compare the input function with the reference examples\n",
            "- Only use the structure and patterns from the examples for decision-making\n",
            "- Strictly output your result in the **exact 3-line format shown below**\n",
            "- **No explanation or additional commentary**\n",
            "- Your answer **must** be wrapped in triple backticks for structured parsing\n",
            "\n",
            "---\n",
            "\n",
            "Each reference is separated by:\n",
            "`### Reference Example`\n",
            "\n",
            "Respond in this **exact format**:\n",
            "Vulnerability: <1 or 0>\n",
            "CWE ID: <CWE-ID or NOT_APPLICABLE>\n",
            "CWE Name: <CWE Name or NOT_APPLICABLE>\n",
            "\n",
            "---\n",
            "### Reference Example\n",
            "Function:\n",
            "FLAC__bool read_residual_partitioned_rice_(FLAC__StreamDecoder *decoder, unsigned predictor_order, unsigned partition_order, FLAC__EntropyCodingMethod_PartitionedRiceContents *partitioned_rice_contents, FLAC__int32 *residual, FLAC__bool is_extended)\n",
            "{\n",
            "\tFLAC__uint32 rice_parameter;\n",
            "\tint i;\n",
            "\tunsigned partition, sample, u;\n",
            "\tconst unsigned partitions = 1u << partition_order;\n",
            "\tconst unsigned partition_samples = partition_order > 0? decoder->private_->frame.header.blocksize >> partition_order : decoder->private_->frame.header.blocksize - predictor_order;\n",
            "\tconst unsigned plen = is_extended? FLAC__ENTROPY_CODING_METHOD_PARTITIONED_RICE2_PARAMETER_LEN : FLAC__ENTROPY_CODING_METHOD_PARTITIONED_RICE_PARAMETER_LEN;\n",
            "\tconst unsigned pesc = is_extended? FLAC__ENTROPY_CODING_METHOD_PARTITIONED_RICE2_ESCAPE_PARAMETER : FLAC__ENTROPY_CODING_METHOD_PARTITIONED_RICE_ESCAPE_PARAMETER;\n",
            "\n",
            "\t/* sanity checks */\n",
            "\tif(partition_order == 0) {\n",
            "\t\tif(decoder->private_->frame.header.blocksize < predictor_order) {\n",
            "\t\t\tse…\n",
            "Vulnerability: 1.0\n",
            "CWE ID: CWE-119\n",
            "CWE Name: Improper Restriction of Operations within the Bounds of a Memory Buffer\n",
            "\n",
            "---\n",
            "### Reference Example\n",
            "Function:\n",
            "FLAC__bool read_residual_partitioned_rice_(FLAC__StreamDecoder *decoder, unsigned predictor_order, unsigned partition_order, FLAC__EntropyCodingMethod_PartitionedRiceContents *partitioned_rice_contents, FLAC__int32 *residual, FLAC__bool is_extended)\n",
            "{\n",
            "\tFLAC__uint32 rice_parameter;\n",
            "\tint i;\n",
            "\tunsigned partition, sample, u;\n",
            "\tconst unsigned partitions = 1u << partition_order;\n",
            "\tconst unsigned partition_samples = partition_order > 0? decoder->private_->frame.header.blocksize >> partition_order : decoder->private_->frame.header.blocksize - predictor_order;\n",
            "\tconst unsigned plen = is_extended? FLAC__ENTROPY_CODING_METHOD_PARTITIONED_RICE2_PARAMETER_LEN : FLAC__ENTROPY_CODING_METHOD_PARTITIONED_RICE_PARAMETER_LEN;\n",
            "\tconst unsigned pesc = is_extended? FLAC__ENTROPY_CODING_METHOD_PARTITIONED_RICE2_ESCAPE_PARAMETER : FLAC__ENTROPY_CODING_METHOD_PARTITIONED_RICE_ESCAPE_PARAMETER;\n",
            "\n",
            "\t/* sanity checks */\n",
            "\tif(partition_order == 0) {\n",
            "\t\tif(decoder->private_->frame.header.blocksize < predictor_order) {\n",
            "\t\t\tse…\n",
            "Vulnerability: 0.0\n",
            "CWE ID: NOT_APPLICABLE\n",
            "CWE Name: NOT_APPLICABLE\n",
            "\n",
            "---\n",
            "### Reference Example\n",
            "Function:\n",
            "FLAC__bool write_bitbuffer_(FLAC__StreamEncoder *encoder, uint32_t samples, FLAC__bool is_last_block)\n",
            "{\n",
            "\tconst FLAC__byte *buffer;\n",
            "\tsize_t bytes;\n",
            "\n",
            "\tFLAC__ASSERT(FLAC__bitwriter_is_byte_aligned(encoder->private_->frame));\n",
            "\n",
            "\tif(!FLAC__bitwriter_get_buffer(encoder->private_->frame, &buffer, &bytes)) {\n",
            "\t\tencoder->protected_->state = FLAC__STREAM_ENCODER_MEMORY_ALLOCATION_ERROR;\n",
            "\t\treturn false;\n",
            "\t}\n",
            "\n",
            "\tif(encoder->protected_->verify) {\n",
            "\t\tencoder->private_->verify.output.data = buffer;\n",
            "\t\tencoder->private_->verify.output.bytes = bytes;\n",
            "\t\tif(encoder->private_->verify.state_hint == ENCODER_IN_MAGIC) {\n",
            "\t\t\tencoder->private_->verify.needs_magic_hack = true;\n",
            "\t\t}\n",
            "\t\telse {\n",
            "\t\t\tif(!FLAC__stream_decoder_process_single(encoder->private_->verify.decoder)) {\n",
            "\t\t\t\tFLAC__bitwriter_release_buffer(encoder->private_->frame);\n",
            "\t\t\t\tFLAC__bitwriter_clear(encoder->private_->frame);\n",
            "\t\t\t\tif(encoder->protected_->state != FLAC__STREAM_ENCODER_VERIFY_MISMATCH_IN_AUDIO_DATA)\n",
            "\t\t\t\t\tencoder->protected_->state = FLAC__STREAM_ENCO…\n",
            "Vulnerability: 1.0\n",
            "CWE ID: CWE-787\n",
            "CWE Name: Out-of-bounds Write\n",
            "\n",
            "---\n",
            "### Input Function\n",
            "FLAC__bool read_residual_partitioned_rice_(FLAC__StreamDecoder *decoder, unsigned predictor_order, unsigned partition_order, FLAC__EntropyCodingMethod_PartitionedRiceContents *partitioned_rice_contents, FLAC__int32 *residual, FLAC__bool is_extended)\n",
            "{\n",
            "\tFLAC__uint32 rice_parameter;\n",
            "\tint i;\n",
            "\tunsigned partition, sample, u;\n",
            "\tconst unsigned partitions = 1u << partition_order;\n",
            "\tconst unsigned partition_samples = partition_order > 0? decoder->private_->frame.header.blocksize >> partition_order : decoder->private_->frame.header.blocksize - predictor_order;\n",
            "\tconst unsigned plen = is_extended? FLAC__ENTROPY_CODING_METHOD_PARTITIONED_RICE2_PARAMETER_LEN : FLAC__ENTROPY_CODING_METHOD_PARTITIONED_RICE_PARAMETER_LEN;\n",
            "\tconst unsigned pesc = is_extended? FLAC__ENTROPY_CODING_METHOD_PARTITIONED_RICE2_ESCAPE_PARAMETER : FLAC__ENTROPY_CODING_METHOD_PARTITIONED_RICE_ESCAPE_PARAMETER;\n",
            "\n",
            "\t/* sanity checks */\n",
            "\tif(partition_order == 0) {\n",
            "\t\tif(decoder->private_->frame.header.blocksize < predictor_order) {\n",
            "\t\t\tsend_error_to_client_(decoder, FLAC__STREAM_DECODER_ERROR_STATUS_LOST_SYNC);\n",
            "\t\t\tdecoder->protected_->state = FLAC__STREAM_DECODER_SEARCH_FOR_FRAME_SYNC;\n",
            "\t\t\t/* We have received a potentially malicious bt stream. All we can do is error out to avoid a heap overflow. */\n",
            "\t\t\treturn false;\n",
            "\t\t}\n",
            "\t}\n",
            "\telse {\n",
            "\t\tif(partition_samples < predictor_order) {\n",
            "\t\t\tsend_error_to_client_(decoder, FLAC__STREAM_DECODER_ERROR_STATUS_LOST_SYNC);\n",
            "\t\t\tdecoder->protected_->state = FLAC__STREAM_DECODER_SEARCH_FOR_FRAME_SYNC;\n",
            "\t\t\treturn true;\n",
            "\t\t}\n",
            "\t}\n",
            "\n",
            "\tif(!FLAC__format_entropy_coding_method_partitioned_rice_contents_ensure_size(partitioned_rice_contents, flac_max(6u, partition_order))) {\n",
            "\t\tdecoder->protected_->state = FLAC__STREAM_DECODER_MEMORY_ALLOCATION_ERROR;\n",
            "\t\treturn false;\n",
            "\t}\n",
            "\n",
            "\tsample = 0;\n",
            "\tfor(partition = 0; partition < partitions; partition++) {\n",
            "\t\tif(!FLAC__bitreader_read_raw_uint32(decoder->private_->input, &rice_parameter, plen))\n",
            "\t\t\treturn false; /* read_callback_ sets the state for us */\n",
            "\t\tpartitioned_rice_contents->parameters[partition] = rice_parameter;\n",
            "\t\tif(rice_parameter < pesc) {\n",
            "\t\t\tpartitioned_rice_contents->raw_bits[partition] = 0;\n",
            "\t\t\tu = (partition_order == 0 || partition > 0)? partition_samples : partition_samples - predictor_order;\n",
            "\t\t\tif(!FLAC__bitreader_read_rice_signed_block(decoder->private_->input, residual + sample, u, rice_parameter))\n",
            "\t\t\t\treturn false; /* read_callback_ sets the state for us */\n",
            "\t\t\tsample += u;\n",
            "\t\t}\n",
            "\t\telse {\n",
            "\t\t\tif(!FLAC__bitreader_read_raw_uint32(decoder->private_->input, &rice_parameter, FLAC__ENTROPY_CODING_METHOD_PARTITIONED_RICE_RAW_LEN))\n",
            "\t\t\t\treturn false; /* read_callback_ sets the state for us */\n",
            "\t\t\tpartitioned_rice_contents->raw_bits[partition] = rice_parameter;\n",
            "\t\t\tfor(u = (partition_order == 0 || partition > 0)? 0 : predictor_order; u < partition_samples; u++, sample++) {\n",
            "\t\t\t\tif(!FLAC__bitreader_read_raw_int32(decoder->private_->input, &i, rice_parameter))\n",
            "\t\t\t\t\treturn false; /* read_callback_ sets the state for us */\n",
            "\t\t\t\tresidual[sample] = i;\n",
            "\t\t\t}\n",
            "\t\t}\n",
            "\t}\n",
            "\n",
            "\treturn true;\n",
            "}\n",
            "\n",
            "---\n",
            "\n",
            "### Your Response\n",
            "Vulnerability:\n",
            "CWE ID:\n",
            "CWE Name:\n",
            "\n"
          ]
        }
      ],
      "source": [
        "print(df.loc[0, 'prompt'])"
      ]
    },
    {
      "cell_type": "code",
      "execution_count": 6,
      "metadata": {
        "id": "-IgMlvjwYWRJ"
      },
      "outputs": [],
      "source": [
        "def check_func_in_prompt(row):\n",
        "    func = row['func']\n",
        "    prompt = row['prompt']\n",
        "    if isinstance(func, str) and isinstance(prompt, str):\n",
        "        return func in prompt\n",
        "    return False"
      ]
    },
    {
      "cell_type": "code",
      "execution_count": 7,
      "metadata": {
        "colab": {
          "base_uri": "https://localhost:8080/"
        },
        "collapsed": true,
        "id": "Lq1ptS4yZgA1",
        "outputId": "e1945a73-e0aa-414f-a9f9-a8492254e6fa"
      },
      "outputs": [
        {
          "name": "stdout",
          "output_type": "stream",
          "text": [
            "\n",
            "Sample of functions and their presence in prompts (first 5 rows):\n",
            "                                                func  \\\n",
            "0  FLAC__bool read_residual_partitioned_rice_(FLA...   \n",
            "1  NeXTPreDecode(TIFF* tif, uint16 s)\\n{\\n\\tstati...   \n",
            "2  int ncp_open_create_file_or_subdir(struct ncp_...   \n",
            "3  static MagickBooleanType IsWEBPImageLossless(c...   \n",
            "4  static Image *ReadTIFFImage(const ImageInfo *i...   \n",
            "\n",
            "                                              prompt  func_in_prompt  \n",
            "0  You are a professional cybersecurity analyst w...            True  \n",
            "1  You are a professional cybersecurity analyst w...            True  \n",
            "2  You are a professional cybersecurity analyst w...            True  \n",
            "3  You are a professional cybersecurity analyst w...            True  \n",
            "4  You are a professional cybersecurity analyst w...            True  \n",
            "\n",
            "Sample of rows where function is NOT present in prompt:\n",
            "\n",
            "Row 28:\n",
            "Function:  static void copyMono8(\n",
            "         short *dst,\n",
            "        const int *const *src,\n",
            "         unsigned nSamples,\n",
            "         unsigned /* nChannels */) {\n",
            "     for (unsigned i = 0; i < nSamples; ++i) {\n",
            " *dst++ = src[0][i] << 8;\n",
            " }\n",
            "}\n",
            "\n",
            "Prompt: You are a professional cybersecurity analyst with expertise in static code analysis and Common Weakness Enumeration (CWE) classification.\n",
            "\n",
            "You will be provided with:\n",
            "- One **input function**, whose vulnerability status you must assess.\n",
            "- Several **reference examples**, each containing:\n",
            "  - A code function\n",
            "  - A known vulnerability label (1 for vulnerable, 0 for not)\n",
            "  - CWE ID (if vulnerable)\n",
            "  - CWE Name (if vulnerable)\n",
            "\n",
            "---\n",
            "\n",
            "### TASK\n",
            "\n",
            "Analyze the **structure, logic, and behavior** of the **input function**. Use deep comparison and reasoning based on the structure, intent, and usage patterns in the reference examples. Focus on the logical flow, operations performed, and overall behavior of the code to assess similarity and risk.\n",
            "\n",
            "You must:\n",
            "- Output whether the input function is vulnerable (1) or not (0)\n",
            "- If vulnerable, identify the **most appropriate CWE ID and CWE Name**\n",
            "- If not vulnerable, set CWE ID and CWE Name to \"NOT_APPLICABLE\"\n",
            "\n",
            "---\n",
            "\n",
            "### INSTRUCTIONS\n",
            "\n",
            "- Carefully compare the input function with the reference examples\n",
            "- Only use the structure and patterns from the examples for decision-making\n",
            "- Strictly output your result in the **exact 3-line format shown below**\n",
            "- **No explanation or additional commentary**\n",
            "- Your answer **must** be wrapped in triple backticks for structured parsing\n",
            "\n",
            "---\n",
            "\n",
            "Each reference is separated by:\n",
            "`### Reference Example`\n",
            "\n",
            "Respond in this **exact format**:\n",
            "Vulnerability: <1 or 0>\n",
            "CWE ID: <CWE-ID or NOT_APPLICABLE>\n",
            "CWE Name: <CWE Name or NOT_APPLICABLE>\n",
            "\n",
            "---\n",
            "### Reference Example\n",
            "Function:\n",
            "static void copyStereo8(\n",
            "         short *dst,\n",
            "        const int *const *src,\n",
            "         unsigned nSamples,\n",
            "         unsigned /* nChannels */) {\n",
            "     for (unsigned i = 0; i < nSamples; ++i) {\n",
            " *dst++ = src[0][i] << 8;\n",
            " *dst++ = src[1][i] << 8;\n",
            "\n",
            "     }\n",
            " }\n",
            "Vulnerability: 1.0\n",
            "CWE ID: CWE-119\n",
            "CWE Name: Improper Restriction of Operations within the Bounds of a Memory Buffer\n",
            "\n",
            "---\n",
            "### Reference Example\n",
            "Function:\n",
            "static void copyMono16(\n",
            "         short *dst,\n",
            "        const int *const *src,\n",
            "         unsigned nSamples,\n",
            "         unsigned /* nChannels */) {\n",
            "     for (unsigned i = 0; i < nSamples; ++i) {\n",
            " *dst++ = src[0][i];\n",
            " }\n",
            "}\n",
            "Vulnerability: 1.0\n",
            "CWE ID: CWE-119\n",
            "CWE Name: Improper Restriction of Operations within the Bounds of a Memory Buffer\n",
            "\n",
            "---\n",
            "### Reference Example\n",
            "Function:\n",
            "static void copyMono24(\n",
            "         short *dst,\n",
            "        const int *const *src,\n",
            "         unsigned nSamples,\n",
            "         unsigned /* nChannels */) {\n",
            "     for (unsigned i = 0; i < nSamples; ++i) {\n",
            " *dst++ = src[0][i] >> 8;\n",
            " }\n",
            "}\n",
            "Vulnerability: 1.0\n",
            "CWE ID: CWE-119\n",
            "CWE Name: Improper Restriction of Operations within the Bounds of a Memory Buffer\n",
            "\n",
            "---\n",
            "### Input Function\n",
            "static void copyMono8(\n",
            "         short *dst,\n",
            "        const int *const *src,\n",
            "         unsigned nSamples,\n",
            "         unsigned /* nChannels */) {\n",
            "     for (unsigned i = 0; i < nSamples; ++i) {\n",
            " *dst++ = src[0][i] << 8;\n",
            " }\n",
            "}\n",
            "\n",
            "---\n",
            "\n",
            "### Your Response\n",
            "Vulnerability:\n",
            "CWE ID:\n",
            "CWE Name:\n",
            "\n",
            "\n",
            "Row 32:\n",
            "Function:  void BrowserMainParts::PostDestroyThreads() {\n",
            "  if (BrowserProcessMain::GetInstance()->GetProcessModel() ==\n",
            "      PROCESS_MODEL_SINGLE_PROCESS) {\n",
            "    BrowserContext::AssertNoContextsExist();\n",
            "  }\n",
            "   device_client_.reset();\n",
            " \n",
            "   display::Screen::SetScreenInstance(nullptr);\n",
            "  gpu::oxide_shim::SetGLShareGroup(nullptr);\n",
            "  gl_share_context_ = nullptr;\n",
            "\n",
            "#if defined(OS_LINUX)\n",
            "  gpu::SetGpuInfoCollectorOxideLinux(nullptr);\n",
            "#endif\n",
            "}\n",
            "\n",
            "Prompt: You are a professional cybersecurity analyst with expertise in static code analysis and Common Weakness Enumeration (CWE) classification.\n",
            "\n",
            "You will be provided with:\n",
            "- One **input function**, whose vulnerability status you must assess.\n",
            "- Several **reference examples**, each containing:\n",
            "  - A code function\n",
            "  - A known vulnerability label (1 for vulnerable, 0 for not)\n",
            "  - CWE ID (if vulnerable)\n",
            "  - CWE Name (if vulnerable)\n",
            "\n",
            "---\n",
            "\n",
            "### TASK\n",
            "\n",
            "Analyze the **structure, logic, and behavior** of the **input function**. Use deep comparison and reasoning based on the structure, intent, and usage patterns in the reference examples. Focus on the logical flow, operations performed, and overall behavior of the code to assess similarity and risk.\n",
            "\n",
            "You must:\n",
            "- Output whether the input function is vulnerable (1) or not (0)\n",
            "- If vulnerable, identify the **most appropriate CWE ID and CWE Name**\n",
            "- If not vulnerable, set CWE ID and CWE Name to \"NOT_APPLICABLE\"\n",
            "\n",
            "---\n",
            "\n",
            "### INSTRUCTIONS\n",
            "\n",
            "- Carefully compare the input function with the reference examples\n",
            "- Only use the structure and patterns from the examples for decision-making\n",
            "- Strictly output your result in the **exact 3-line format shown below**\n",
            "- **No explanation or additional commentary**\n",
            "- Your answer **must** be wrapped in triple backticks for structured parsing\n",
            "\n",
            "---\n",
            "\n",
            "Each reference is separated by:\n",
            "`### Reference Example`\n",
            "\n",
            "Respond in this **exact format**:\n",
            "Vulnerability: <1 or 0>\n",
            "CWE ID: <CWE-ID or NOT_APPLICABLE>\n",
            "CWE Name: <CWE Name or NOT_APPLICABLE>\n",
            "\n",
            "---\n",
            "### Reference Example\n",
            "Function:\n",
            "void WebRunnerBrowserMainParts::PreMainMessageLoopRun() {\n",
            "  DCHECK(!screen_);\n",
            "\n",
            "  auto platform_screen = ui::OzonePlatform::GetInstance()->CreateScreen();\n",
            "  if (platform_screen) {\n",
            "    screen_ = std::make_unique<aura::ScreenOzone>(std::move(platform_screen));\n",
            "  } else {\n",
            "    screen_ = std::make_unique<WebRunnerScreen>();\n",
            "  }\n",
            "\n",
            "  display::Screen::SetScreenInstance(screen_.get());\n",
            "\n",
            "  DCHECK(!browser_context_);\n",
            "   browser_context_ =\n",
            "       std::make_unique<WebRunnerBrowserContext>(GetWebContextDataDir());\n",
            " \n",
            "  fidl::InterfaceRequest<chromium::web::Context> context_request(\n",
            "      std::move(context_channel_));\n",
            " \n",
            "  context_impl_ = std::make_unique<ContextImpl>(browser_context_.get());\n",
            "   context_binding_ = std::make_unique<fidl::Binding<chromium::web::Context>>(\n",
            "      context_impl_.get(), std::move(context_request));\n",
            " \n",
            "  context_binding_->set_error_handler(\n",
            "      [this]() { std::move(quit_closure_).Run(); });\n",
            " }\n",
            "Vulnerability: 1.0\n",
            "CWE ID: CWE-264\n",
            "CWE Name: Permissions, Privileges, and Access Controls\n",
            "\n",
            "---\n",
            "### Reference Example\n",
            "Function:\n",
            "void RenderViewTest::TearDown() {\n",
            "   base::RunLoop().RunUntilIdle();\n",
            " \n",
            "  // Close the main |view_| as well as any other windows that might have been\n",
            "  // opened by the test.\n",
            "  CloseMessageSendingRenderViewVisitor closing_visitor;\n",
            "  RenderView::ForEach(&closing_visitor);\n",
            " \n",
            "   std::unique_ptr<blink::WebLeakDetector> leak_detector =\n",
            "       base::WrapUnique(blink::WebLeakDetector::Create(this));\n",
            "\n",
            "  leak_detector->PrepareForLeakDetection(view_->GetWebView()->MainFrame());\n",
            "\n",
            "  view_ = nullptr;\n",
            "  mock_process_.reset();\n",
            "\n",
            "  RenderThreadImpl::SetRendererBlinkPlatformImplForTesting(nullptr);\n",
            "\n",
            "  base::RunLoop().RunUntilIdle();\n",
            "\n",
            "#if defined(OS_WIN)\n",
            "  ClearDWriteFontProxySenderForTesting();\n",
            "#endif\n",
            "\n",
            "#if defined(OS_MACOSX)\n",
            "  autorelease_pool_.reset();\n",
            "#endif\n",
            "\n",
            "  leak_detector->CollectGarbageAndReport();\n",
            "\n",
            "  blink_platform_impl_.Shutdown();\n",
            "  platform_->PlatformUninitialize();\n",
            "  platform_.reset();\n",
            "  params_.reset();\n",
            "  command_line_.reset();\n",
            "\n",
            "  test_io_thread_.reset();\n",
            "  ipc_support_.reset();\n",
            "}\n",
            "Vulnerability: 0.0\n",
            "CWE ID: NOT_APPLICABLE\n",
            "CWE Name: NOT_APPLICABLE\n",
            "\n",
            "---\n",
            "### Reference Example\n",
            "Function:\n",
            "void HTMLCanvasElement::Dispose() {\n",
            "   if (PlaceholderFrame())\n",
            "     ReleasePlaceholderFrame();\n",
            " \n",
            "   if (context_) {\n",
            "     context_->DetachHost();\n",
            "     context_ = nullptr;\n",
            "  }\n",
            "\n",
            "  if (canvas2d_bridge_) {\n",
            "    canvas2d_bridge_->SetCanvasResourceHost(nullptr);\n",
            "    canvas2d_bridge_ = nullptr;\n",
            "  }\n",
            "\n",
            "  if (gpu_memory_usage_) {\n",
            "    DCHECK_GT(global_accelerated_context_count_, 0u);\n",
            "    global_accelerated_context_count_--;\n",
            "  }\n",
            "  global_gpu_memory_usage_ -= gpu_memory_usage_;\n",
            "}\n",
            "Vulnerability: 1.0\n",
            "CWE ID: CWE-416\n",
            "CWE Name: Use After Free\n",
            "\n",
            "---\n",
            "### Input Function\n",
            "void BrowserMainParts::PostDestroyThreads() {\n",
            "  if (BrowserProcessMain::GetInstance()->GetProcessModel() ==\n",
            "      PROCESS_MODEL_SINGLE_PROCESS) {\n",
            "    BrowserContext::AssertNoContextsExist();\n",
            "  }\n",
            "   device_client_.reset();\n",
            " \n",
            "   display::Screen::SetScreenInstance(nullptr);\n",
            "  gpu::oxide_shim::SetGLShareGroup(nullptr);\n",
            "  gl_share_context_ = nullptr;\n",
            "\n",
            "#if defined(OS_LINUX)\n",
            "  gpu::SetGpuInfoCollectorOxideLinux(nullptr);\n",
            "#endif\n",
            "}\n",
            "\n",
            "---\n",
            "\n",
            "### Your Response\n",
            "Vulnerability:\n",
            "CWE ID:\n",
            "CWE Name:\n",
            "\n",
            "\n",
            "Row 33:\n",
            "Function:   void Compute(OpKernelContext* context) override {\n",
            "    const Tensor& indices = context->input(0);\n",
            "    const Tensor& values = context->input(1);\n",
            "    const Tensor& shape = context->input(2);\n",
            "    const Tensor& weights = context->input(3);\n",
            "    bool use_weights = weights.NumElements() > 0;\n",
            "\n",
            "    OP_REQUIRES(context, TensorShapeUtils::IsMatrix(indices.shape()),\n",
            "                errors::InvalidArgument(\n",
            "                    \"Input indices must be a 2-dimensional tensor. Got: \",\n",
            "                    indices.shape().DebugString()));\n",
            "    OP_REQUIRES(context, TensorShapeUtils::IsVector(values.shape()),\n",
            "                errors::InvalidArgument(\"Input values must be a vector. Got: \",\n",
            "                                        values.shape().DebugString()));\n",
            "    OP_REQUIRES(context, TensorShapeUtils::IsVector(shape.shape()),\n",
            "                errors::InvalidArgument(\"Input shape must be a vector. Got: \",\n",
            "                                        shape.shape().DebugString()));\n",
            "    OP_REQUIRES(context,\n",
            "                values.shape().dim_size(0) == indices.shape().dim_size(0),\n",
            "                errors::InvalidArgument(\n",
            "                    \"Number of values must match first dimension of indices.\",\n",
            "                    \"Got \", values.shape().dim_size(0),\n",
            "                    \" values, indices shape: \", indices.shape().DebugString()));\n",
            "    OP_REQUIRES(\n",
            "        context, shape.shape().dim_size(0) == indices.shape().dim_size(1),\n",
            "        errors::InvalidArgument(\n",
            "            \"Number of dimensions must match second dimension of indices.\",\n",
            "            \"Got \", shape.shape().dim_size(0),\n",
            "            \" dimensions, indices shape: \", indices.shape().DebugString()));\n",
            "    OP_REQUIRES(context, shape.NumElements() > 0,\n",
            "                errors::InvalidArgument(\n",
            "                    \"The shape argument requires at least one element.\"));\n",
            "    // Validate indices: each index must be valid for the corresponding\n",
            "    // dimension. This could be possibly done better.\n",
            "    const auto indices_values = indices.matrix<int64_t>();\n",
            "    const auto shape_vector = shape.vec<int64_t>();\n",
            "    int num_values = values.NumElements();  // same as first dim of indices\n",
            "    int rank = indices.shape().dim_size(1);\n",
            "    for (int i = 0; i < num_values; ++i) {\n",
            "      for (int j = 0; j < rank; ++j) {\n",
            "        OP_REQUIRES(\n",
            "            context,\n",
            "            indices_values(i, j) >= 0 && indices_values(i, j) < shape_vector(j),\n",
            "            errors::InvalidArgument(\n",
            "                \"Invalid index value at \", i, \": dimension \", j, \" has value \",\n",
            "                indices_values(i, j), \" which is not in [0, \", shape_vector(j),\n",
            "                \") (as given by dense shape \", shape.DebugString()));\n",
            "      }\n",
            "    }\n",
            "\n",
            "    if (use_weights) {\n",
            "      OP_REQUIRES(\n",
            "          context, weights.shape() == values.shape(),\n",
            "          errors::InvalidArgument(\n",
            "              \"Weights and values must have the same shape. Weight shape: \",\n",
            "              weights.shape().DebugString(),\n",
            "              \"; values shape: \", values.shape().DebugString()));\n",
            "    }\n",
            "\n",
            "    bool is_1d = shape.NumElements() == 1;\n",
            "    int num_batches = is_1d ? 1 : shape_vector(0);\n",
            "\n",
            "    const auto values_values = values.flat<T>();\n",
            "    const auto weight_values = weights.flat<W>();\n",
            "\n",
            "    auto per_batch_counts = BatchedMap<W>(num_batches);\n",
            "\n",
            "    T max_value = 0;\n",
            "\n",
            "    for (int idx = 0; idx < num_values; ++idx) {\n",
            "      int batch = is_1d ? 0 : indices_values(idx, 0);\n",
            "      if (batch >= num_batches) {\n",
            "        OP_REQUIRES(context, batch < num_batches,\n",
            "                    errors::InvalidArgument(\n",
            "                        \"Indices value along the first dimension must be \",\n",
            "                        \"lower than the first index of the shape.\", \"Got \",\n",
            "                        batch, \" as batch and \", num_batches,\n",
            "                        \" as the first dimension of the shape.\"));\n",
            "      }\n",
            "      const auto& value = values_values(idx);\n",
            "      if (value >= 0 && (maxlength_ <= 0 || value < maxlength_)) {\n",
            "        if (binary_output_) {\n",
            "          per_batch_counts[batch][value] = 1;\n",
            "        } else if (use_weights) {\n",
            "          per_batch_counts[batch][value] += weight_values(idx);\n",
            "        } else {\n",
            "          per_batch_counts[batch][value]++;\n",
            "        }\n",
            "        if (value > max_value) {\n",
            "          max_value = value;\n",
            "        }\n",
            "      }\n",
            "    }\n",
            "\n",
            "    int num_output_values = GetOutputSize(max_value, maxlength_, minlength_);\n",
            "    OP_REQUIRES_OK(context, OutputSparse<W>(per_batch_counts, num_output_values,\n",
            "                                            is_1d, context));\n",
            "  }\n",
            "Prompt: You are a professional cybersecurity analyst with expertise in static code analysis and Common Weakness Enumeration (CWE) classification.\n",
            "\n",
            "You will be provided with:\n",
            "- One **input function**, whose vulnerability status you must assess.\n",
            "- Several **reference examples**, each containing:\n",
            "  - A code function\n",
            "  - A known vulnerability label (1 for vulnerable, 0 for not)\n",
            "  - CWE ID (if vulnerable)\n",
            "  - CWE Name (if vulnerable)\n",
            "\n",
            "---\n",
            "\n",
            "### TASK\n",
            "\n",
            "Analyze the **structure, logic, and behavior** of the **input function**. Use deep comparison and reasoning based on the structure, intent, and usage patterns in the reference examples. Focus on the logical flow, operations performed, and overall behavior of the code to assess similarity and risk.\n",
            "\n",
            "You must:\n",
            "- Output whether the input function is vulnerable (1) or not (0)\n",
            "- If vulnerable, identify the **most appropriate CWE ID and CWE Name**\n",
            "- If not vulnerable, set CWE ID and CWE Name to \"NOT_APPLICABLE\"\n",
            "\n",
            "---\n",
            "\n",
            "### INSTRUCTIONS\n",
            "\n",
            "- Carefully compare the input function with the reference examples\n",
            "- Only use the structure and patterns from the examples for decision-making\n",
            "- Strictly output your result in the **exact 3-line format shown below**\n",
            "- **No explanation or additional commentary**\n",
            "- Your answer **must** be wrapped in triple backticks for structured parsing\n",
            "\n",
            "---\n",
            "\n",
            "Each reference is separated by:\n",
            "`### Reference Example`\n",
            "\n",
            "Respond in this **exact format**:\n",
            "Vulnerability: <1 or 0>\n",
            "CWE ID: <CWE-ID or NOT_APPLICABLE>\n",
            "CWE Name: <CWE Name or NOT_APPLICABLE>\n",
            "\n",
            "---\n",
            "### Reference Example\n",
            "Function:\n",
            "void Compute(OpKernelContext* context) override {\n",
            "    const Tensor& indices = context->input(0);\n",
            "    const Tensor& values = context->input(1);\n",
            "    const Tensor& shape = context->input(2);\n",
            "    const Tensor& weights = context->input(3);\n",
            "    bool use_weights = weights.NumElements() > 0;\n",
            "\n",
            "    OP_REQUIRES(context, TensorShapeUtils::IsMatrix(indices.shape()),\n",
            "                errors::InvalidArgument(\n",
            "                    \"Input indices must be a 2-dimensional tensor. Got: \",\n",
            "                    indices.shape().DebugString()));\n",
            "    OP_REQUIRES(context, TensorShapeUtils::IsVector(values.shape()),\n",
            "                errors::InvalidArgument(\"Input values must be a vector. Got: \",\n",
            "                                        values.shape().DebugString()));\n",
            "    OP_REQUIRES(context, TensorShapeUtils::IsVector(shape.shape()),\n",
            "                errors::InvalidArgument(\"Input shape must be a vector. Got: \",\n",
            "                                        shape.shape().DebugString()));\n",
            "    OP_REQUIRES(context,\n",
            "         …\n",
            "Vulnerability: 1.0\n",
            "CWE ID: CWE-787\n",
            "CWE Name: Out-of-bounds Write\n",
            "\n",
            "---\n",
            "### Reference Example\n",
            "Function:\n",
            "void Compute(OpKernelContext* context) override {\n",
            "    const Tensor* input_indices;\n",
            "    const Tensor* input_values;\n",
            "    const Tensor* input_shape;\n",
            "    SparseTensorsMap* map;\n",
            "\n",
            "    OP_REQUIRES_OK(context, context->input(\"sparse_indices\", &input_indices));\n",
            "    OP_REQUIRES_OK(context, context->input(\"sparse_values\", &input_values));\n",
            "    OP_REQUIRES_OK(context, context->input(\"sparse_shape\", &input_shape));\n",
            "    OP_REQUIRES_OK(context, GetMap(context, true /* is_writing */, &map));\n",
            "\n",
            "    OP_REQUIRES(context, TensorShapeUtils::IsMatrix(input_indices->shape()),\n",
            "                errors::InvalidArgument(\n",
            "                    \"Input indices should be a matrix but received shape \",\n",
            "                    input_indices->shape().DebugString()));\n",
            "    OP_REQUIRES(context, TensorShapeUtils::IsVector(input_values->shape()),\n",
            "                errors::InvalidArgument(\n",
            "                    \"Input values should be a vector but received shape \",\n",
            "                    input_values->shape().DebugString()));\n",
            "    OP_REQUI…\n",
            "Vulnerability: 1.0\n",
            "CWE ID: CWE-190\n",
            "CWE Name: Integer Overflow or Wraparound\n",
            "\n",
            "---\n",
            "### Reference Example\n",
            "Function:\n",
            "void MakeDataset(OpKernelContext* ctx, DatasetBase** output) override {\n",
            "    // Create a new SparseTensorSliceDatasetOp::Dataset, insert it in\n",
            "    // the step container, and return it as the output.\n",
            "    const Tensor* indices;\n",
            "    OP_REQUIRES_OK(ctx, ctx->input(\"indices\", &indices));\n",
            "    const Tensor* values;\n",
            "    OP_REQUIRES_OK(ctx, ctx->input(\"values\", &values));\n",
            "    const Tensor* dense_shape;\n",
            "    OP_REQUIRES_OK(ctx, ctx->input(\"dense_shape\", &dense_shape));\n",
            "\n",
            "    OP_REQUIRES(ctx, TensorShapeUtils::IsMatrix(indices->shape()),\n",
            "                errors::InvalidArgument(\n",
            "                    \"Input indices should be a matrix but received shape \",\n",
            "                    indices->shape().DebugString()));\n",
            "\n",
            "    const auto num_indices = indices->NumElements();\n",
            "    const auto num_values = values->NumElements();\n",
            "    if (num_indices == 0 || num_values == 0) {\n",
            "      OP_REQUIRES(ctx, num_indices == num_values,\n",
            "                  errors::InvalidArgument(\n",
            "                      \"If indices or values are empt…\n",
            "Vulnerability: 0.0\n",
            "CWE ID: NOT_APPLICABLE\n",
            "CWE Name: NOT_APPLICABLE\n",
            "\n",
            "---\n",
            "### Input Function\n",
            "void Compute(OpKernelContext* context) override {\n",
            "    const Tensor& indices = context->input(0);\n",
            "    const Tensor& values = context->input(1);\n",
            "    const Tensor& shape = context->input(2);\n",
            "    const Tensor& weights = context->input(3);\n",
            "    bool use_weights = weights.NumElements() > 0;\n",
            "\n",
            "    OP_REQUIRES(context, TensorShapeUtils::IsMatrix(indices.shape()),\n",
            "                errors::InvalidArgument(\n",
            "                    \"Input indices must be a 2-dimensional tensor. Got: \",\n",
            "                    indices.shape().DebugString()));\n",
            "    OP_REQUIRES(context, TensorShapeUtils::IsVector(values.shape()),\n",
            "                errors::InvalidArgument(\"Input values must be a vector. Got: \",\n",
            "                                        values.shape().DebugString()));\n",
            "    OP_REQUIRES(context, TensorShapeUtils::IsVector(shape.shape()),\n",
            "                errors::InvalidArgument(\"Input shape must be a vector. Got: \",\n",
            "                                        shape.shape().DebugString()));\n",
            "    OP_REQUIRES(context,\n",
            "                values.shape().dim_size(0) == indices.shape().dim_size(0),\n",
            "                errors::InvalidArgument(\n",
            "                    \"Number of values must match first dimension of indices.\",\n",
            "                    \"Got \", values.shape().dim_size(0),\n",
            "                    \" values, indices shape: \", indices.shape().DebugString()));\n",
            "    OP_REQUIRES(\n",
            "        context, shape.shape().dim_size(0) == indices.shape().dim_size(1),\n",
            "        errors::InvalidArgument(\n",
            "            \"Number of dimensions must match second dimension of indices.\",\n",
            "            \"Got \", shape.shape().dim_size(0),\n",
            "            \" dimensions, indices shape: \", indices.shape().DebugString()));\n",
            "    OP_REQUIRES(context, shape.NumElements() > 0,\n",
            "                errors::InvalidArgument(\n",
            "                    \"The shape argument requires at least one element.\"));\n",
            "    // Validate indices: each index must be valid for the corresponding\n",
            "    // dimension. This could be possibly done better.\n",
            "    const auto indices_values = indices.matrix<int64_t>();\n",
            "    const auto shape_vector = shape.vec<int64_t>();\n",
            "    int num_values = values.NumElements();  // same as first dim of indices\n",
            "    int rank = indices.shape().dim_size(1);\n",
            "    for (int i = 0; i < num_values; ++i) {\n",
            "      for (int j = 0; j < rank; ++j) {\n",
            "        OP_REQUIRES(\n",
            "            context,\n",
            "            indices_values(i, j) >= 0 && indices_values(i, j) < shape_vector(j),\n",
            "            errors::InvalidArgument(\n",
            "                \"Invalid index value at \", i, \": dimension \", j, \" has value \",\n",
            "                indices_values(i, j), \" which is not in [0, \", shape_vector(j),\n",
            "                \") (as given by dense shape \", shape.DebugString()));\n",
            "      }\n",
            "    }\n",
            "\n",
            "    if (use_weights) {\n",
            "      OP_REQUIRES(\n",
            "          context, weights.shape() == values.shape(),\n",
            "          errors::InvalidArgument(\n",
            "              \"Weights and values must have the same shape. Weight shape: \",\n",
            "              weights.shape().DebugString(),\n",
            "              \"; values shape: \", values.shape().DebugString()));\n",
            "    }\n",
            "\n",
            "    bool is_1d = shape.NumElements() == 1;\n",
            "    int num_batches = is_1d ? 1 : shape_vector(0);\n",
            "\n",
            "    const auto values_values = values.flat<T>();\n",
            "    const auto weight_values = weights.flat<W>();\n",
            "\n",
            "    auto per_batch_counts = BatchedMap<W>(num_batches);\n",
            "\n",
            "    T max_value = 0;\n",
            "\n",
            "    for (int idx = 0; idx < num_values; ++idx) {\n",
            "      int batch = is_1d ? 0 : indices_values(idx, 0);\n",
            "      if (batch >= num_batches) {\n",
            "        OP_REQUIRES(context, batch < num_batches,\n",
            "                    errors::InvalidArgument(\n",
            "                        \"Indices value along the first dimension must be \",\n",
            "                        \"lower than the first index of the shape.\", \"Got \",\n",
            "                        batch, \" as batch and \", num_batches,\n",
            "                        \" as the first dimension of the shape.\"));\n",
            "      }\n",
            "      const auto& value = values_values(idx);\n",
            "      if (value >= 0 && (maxlength_ <= 0 || value < maxlength_)) {\n",
            "        if (binary_output_) {\n",
            "          per_batch_counts[batch][value] = 1;\n",
            "        } else if (use_weights) {\n",
            "          per_batch_counts[batch][value] += weight_values(idx);\n",
            "        } else {\n",
            "          per_batch_counts[batch][value]++;\n",
            "        }\n",
            "        if (value > max_value) {\n",
            "          max_value = value;\n",
            "        }\n",
            "      }\n",
            "    }\n",
            "\n",
            "    int num_output_values = GetOutputSize(max_value, maxlength_, minlength_);\n",
            "    OP_REQUIRES_OK(context, OutputSparse<W>(per_batch_counts, num_output_values,\n",
            "                                            is_1d, context));\n",
            "  }\n",
            "\n",
            "---\n",
            "\n",
            "### Your Response\n",
            "Vulnerability:\n",
            "CWE ID:\n",
            "CWE Name:\n",
            "\n",
            "\n",
            "Row 47:\n",
            "Function:   FT_Stream_EnterFrame( FT_Stream  stream,\n",
            "                        FT_ULong   count )\n",
            "  {\n",
            "    FT_Error  error = FT_Err_Ok;\n",
            "    FT_ULong  read_bytes;\n",
            "\n",
            "\n",
            "    /* check for nested frame access */\n",
            "    FT_ASSERT( stream && stream->cursor == 0 );\n",
            "\n",
            "    if ( stream->read )\n",
            "    {\n",
            "      /* allocate the frame in memory */\n",
            "      FT_Memory  memory = stream->memory;\n",
            "\n",
            "\n",
            "      /* simple sanity check */\n",
            "      if ( count > stream->size )\n",
            "      {\n",
            "        FT_ERROR(( \"FT_Stream_EnterFrame:\"\n",
            "                   \" frame size (%lu) larger than stream size (%lu)\\n\",\n",
            "                   count, stream->size ));\n",
            "\n",
            "        error = FT_Err_Invalid_Stream_Operation;\n",
            "        goto Exit;\n",
            "      }\n",
            "\n",
            "#ifdef FT_DEBUG_MEMORY\n",
            "      /* assume _ft_debug_file and _ft_debug_lineno are already set */\n",
            "      stream->base = (unsigned char*)ft_mem_qalloc( memory, count, &error );\n",
            "      if ( error )\n",
            "        goto Exit;\n",
            "#else\n",
            "      if ( FT_QALLOC( stream->base, count ) )\n",
            "        goto Exit;\n",
            "#endif\n",
            "      /* read it */\n",
            "      read_bytes = stream->read( stream, stream->pos,\n",
            "                                 stream->base, count );\n",
            "      if ( read_bytes < count )\n",
            "      {\n",
            "        FT_ERROR(( \"FT_Stream_EnterFrame:\"\n",
            "                   \" invalid read; expected %lu bytes, got %lu\\n\",\n",
            "                   count, read_bytes ));\n",
            "\n",
            "        FT_FREE( stream->base );\n",
            "        error = FT_Err_Invalid_Stream_Operation;\n",
            "      }\n",
            "      stream->cursor = stream->base;\n",
            "      stream->limit  = stream->cursor + count;\n",
            "      stream->pos   += read_bytes;\n",
            "    }\n",
            "    else\n",
            "     {\n",
            "       /* check current and new position */\n",
            "       if ( stream->pos >= stream->size        ||\n",
            "           stream->pos + count > stream->size )\n",
            "       {\n",
            "         FT_ERROR(( \"FT_Stream_EnterFrame:\"\n",
            "                    \" invalid i/o; pos = 0x%lx, count = %lu, size = 0x%lx\\n\",\n",
            "                   stream->pos, count, stream->size ));\n",
            "\n",
            "        error = FT_Err_Invalid_Stream_Operation;\n",
            "        goto Exit;\n",
            "      }\n",
            "\n",
            "      /* set cursor */\n",
            "      stream->cursor = stream->base + stream->pos;\n",
            "      stream->limit  = stream->cursor + count;\n",
            "      stream->pos   += count;\n",
            "    }\n",
            "\n",
            "  Exit:\n",
            "    return error;\n",
            "  }\n",
            "\n",
            "Prompt: You are a professional cybersecurity analyst with expertise in static code analysis and Common Weakness Enumeration (CWE) classification.\n",
            "\n",
            "You will be provided with:\n",
            "- One **input function**, whose vulnerability status you must assess.\n",
            "- Several **reference examples**, each containing:\n",
            "  - A code function\n",
            "  - A known vulnerability label (1 for vulnerable, 0 for not)\n",
            "  - CWE ID (if vulnerable)\n",
            "  - CWE Name (if vulnerable)\n",
            "\n",
            "---\n",
            "\n",
            "### TASK\n",
            "\n",
            "Analyze the **structure, logic, and behavior** of the **input function**. Use deep comparison and reasoning based on the structure, intent, and usage patterns in the reference examples. Focus on the logical flow, operations performed, and overall behavior of the code to assess similarity and risk.\n",
            "\n",
            "You must:\n",
            "- Output whether the input function is vulnerable (1) or not (0)\n",
            "- If vulnerable, identify the **most appropriate CWE ID and CWE Name**\n",
            "- If not vulnerable, set CWE ID and CWE Name to \"NOT_APPLICABLE\"\n",
            "\n",
            "---\n",
            "\n",
            "### INSTRUCTIONS\n",
            "\n",
            "- Carefully compare the input function with the reference examples\n",
            "- Only use the structure and patterns from the examples for decision-making\n",
            "- Strictly output your result in the **exact 3-line format shown below**\n",
            "- **No explanation or additional commentary**\n",
            "- Your answer **must** be wrapped in triple backticks for structured parsing\n",
            "\n",
            "---\n",
            "\n",
            "Each reference is separated by:\n",
            "`### Reference Example`\n",
            "\n",
            "Respond in this **exact format**:\n",
            "Vulnerability: <1 or 0>\n",
            "CWE ID: <CWE-ID or NOT_APPLICABLE>\n",
            "CWE Name: <CWE Name or NOT_APPLICABLE>\n",
            "\n",
            "---\n",
            "### Reference Example\n",
            "Function:\n",
            "tt_sbit_decoder_load_byte_aligned( TT_SBitDecoder  decoder,\n",
            "                                     FT_Byte*        p,\n",
            "                                     FT_Byte*        limit,\n",
            "                                     FT_Int          x_pos,\n",
            "                                     FT_Int          y_pos )\n",
            "  {\n",
            "    FT_Error    error = FT_Err_Ok;\n",
            "    FT_Byte*    line;\n",
            "    FT_Int      bit_height, bit_width, pitch, width, height, line_bits, h;\n",
            "    FT_Bitmap*  bitmap;\n",
            "\n",
            "\n",
            "    /* check that we can write the glyph into the bitmap */\n",
            "    bitmap     = decoder->bitmap;\n",
            "    bit_width  = bitmap->width;\n",
            "    bit_height = bitmap->rows;\n",
            "    pitch      = bitmap->pitch;\n",
            "    line       = bitmap->buffer;\n",
            "\n",
            "    width  = decoder->metrics->width;\n",
            "    height = decoder->metrics->height;\n",
            "\n",
            "    line_bits = width * decoder->bit_depth;\n",
            "\n",
            "    if ( x_pos < 0 || x_pos + width > bit_width   ||\n",
            "         y_pos < 0 || y_pos + height > bit_height )\n",
            "    {\n",
            "      FT_TRACE1(( \"tt_sbit_decoder_load_byte_aligned:\"\n",
            "                  \" invalid…\n",
            "Vulnerability: 0.0\n",
            "CWE ID: NOT_APPLICABLE\n",
            "CWE Name: NOT_APPLICABLE\n",
            "\n",
            "---\n",
            "### Reference Example\n",
            "Function:\n",
            "t42_parse_encoding( T42_Face    face,\n",
            "                      T42_Loader  loader )\n",
            "  {\n",
            "    T42_Parser  parser = &loader->parser;\n",
            "    FT_Byte*    cur;\n",
            "    FT_Byte*    limit  = parser->root.limit;\n",
            "\n",
            "    PSAux_Service  psaux  = (PSAux_Service)face->psaux;\n",
            "\n",
            "\n",
            "    T1_Skip_Spaces( parser );\n",
            "    cur = parser->root.cursor;\n",
            "    if ( cur >= limit )\n",
            "    {\n",
            "      FT_ERROR(( \"t42_parse_encoding: out of bounds\\n\" ));\n",
            "      parser->root.error = T42_Err_Invalid_File_Format;\n",
            "      return;\n",
            "    }\n",
            "\n",
            "    /* if we have a number or `[', the encoding is an array, */\n",
            "    /* and we must load it now                               */\n",
            "    if ( ft_isdigit( *cur ) || *cur == '[' )\n",
            "    {\n",
            "      T1_Encoding  encode          = &face->type1.encoding;\n",
            "      FT_UInt      count, n;\n",
            "      PS_Table     char_table      = &loader->encoding_table;\n",
            "      FT_Memory    memory          = parser->root.memory;\n",
            "      FT_Error     error;\n",
            "      FT_Bool      only_immediates = 0;\n",
            "\n",
            "\n",
            "      /* read the number of entries in the encoding; should be …\n",
            "Vulnerability: 0.0\n",
            "CWE ID: NOT_APPLICABLE\n",
            "CWE Name: NOT_APPLICABLE\n",
            "\n",
            "---\n",
            "### Reference Example\n",
            "Function:\n",
            "T1_Get_Private_Dict( T1_Parser      parser,\n",
            "                       PSAux_Service  psaux )\n",
            "  {\n",
            "    FT_Stream  stream = parser->stream;\n",
            "    FT_Memory  memory = parser->root.memory;\n",
            "    FT_Error   error  = FT_Err_Ok;\n",
            "    FT_ULong   size;\n",
            "\n",
            "\n",
            "    if ( parser->in_pfb )\n",
            "    {\n",
            "      /* in the case of the PFB format, the private dictionary can be  */\n",
            "      /* made of several segments.  We thus first read the number of   */\n",
            "      /* segments to compute the total size of the private dictionary  */\n",
            "      /* then re-read them into memory.                                */\n",
            "      FT_ULong   start_pos = FT_STREAM_POS();\n",
            "      FT_UShort  tag;\n",
            "\n",
            "\n",
            "      parser->private_len = 0;\n",
            "      for (;;)\n",
            "      {\n",
            "        error = read_pfb_tag( stream, &tag, &size );\n",
            "        if ( error )\n",
            "          goto Fail;\n",
            "\n",
            "        if ( tag != 0x8002U )\n",
            "          break;\n",
            "\n",
            "        parser->private_len += size;\n",
            "\n",
            "        if ( FT_STREAM_SKIP( size ) )\n",
            "          goto Fail;\n",
            "      }\n",
            "\n",
            "      /* Check that we have a private dictionary there */\n",
            " …\n",
            "Vulnerability: 1.0\n",
            "CWE ID: CWE-125\n",
            "CWE Name: Out-of-bounds Read\n",
            "\n",
            "---\n",
            "### Input Function\n",
            "FT_Stream_EnterFrame( FT_Stream  stream,\n",
            "                        FT_ULong   count )\n",
            "  {\n",
            "    FT_Error  error = FT_Err_Ok;\n",
            "    FT_ULong  read_bytes;\n",
            "\n",
            "\n",
            "    /* check for nested frame access */\n",
            "    FT_ASSERT( stream && stream->cursor == 0 );\n",
            "\n",
            "    if ( stream->read )\n",
            "    {\n",
            "      /* allocate the frame in memory */\n",
            "      FT_Memory  memory = stream->memory;\n",
            "\n",
            "\n",
            "      /* simple sanity check */\n",
            "      if ( count > stream->size )\n",
            "      {\n",
            "        FT_ERROR(( \"FT_Stream_EnterFrame:\"\n",
            "                   \" frame size (%lu) larger than stream size (%lu)\\n\",\n",
            "                   count, stream->size ));\n",
            "\n",
            "        error = FT_Err_Invalid_Stream_Operation;\n",
            "        goto Exit;\n",
            "      }\n",
            "\n",
            "#ifdef FT_DEBUG_MEMORY\n",
            "      /* assume _ft_debug_file and _ft_debug_lineno are already set */\n",
            "      stream->base = (unsigned char*)ft_mem_qalloc( memory, count, &error );\n",
            "      if ( error )\n",
            "        goto Exit;\n",
            "#else\n",
            "      if ( FT_QALLOC( stream->base, count ) )\n",
            "        goto Exit;\n",
            "#endif\n",
            "      /* read it */\n",
            "      read_bytes = stream->read( stream, stream->pos,\n",
            "                                 stream->base, count );\n",
            "      if ( read_bytes < count )\n",
            "      {\n",
            "        FT_ERROR(( \"FT_Stream_EnterFrame:\"\n",
            "                   \" invalid read; expected %lu bytes, got %lu\\n\",\n",
            "                   count, read_bytes ));\n",
            "\n",
            "        FT_FREE( stream->base );\n",
            "        error = FT_Err_Invalid_Stream_Operation;\n",
            "      }\n",
            "      stream->cursor = stream->base;\n",
            "      stream->limit  = stream->cursor + count;\n",
            "      stream->pos   += read_bytes;\n",
            "    }\n",
            "    else\n",
            "     {\n",
            "       /* check current and new position */\n",
            "       if ( stream->pos >= stream->size        ||\n",
            "           stream->pos + count > stream->size )\n",
            "       {\n",
            "         FT_ERROR(( \"FT_Stream_EnterFrame:\"\n",
            "                    \" invalid i/o; pos = 0x%lx, count = %lu, size = 0x%lx\\n\",\n",
            "                   stream->pos, count, stream->size ));\n",
            "\n",
            "        error = FT_Err_Invalid_Stream_Operation;\n",
            "        goto Exit;\n",
            "      }\n",
            "\n",
            "      /* set cursor */\n",
            "      stream->cursor = stream->base + stream->pos;\n",
            "      stream->limit  = stream->cursor + count;\n",
            "      stream->pos   += count;\n",
            "    }\n",
            "\n",
            "  Exit:\n",
            "    return error;\n",
            "  }\n",
            "\n",
            "---\n",
            "\n",
            "### Your Response\n",
            "Vulnerability:\n",
            "CWE ID:\n",
            "CWE Name:\n",
            "\n",
            "\n",
            "Row 51:\n",
            "Function:  */\n",
            "static void php_wddx_pop_element(void *user_data, const XML_Char *name)\n",
            "{\n",
            "\tst_entry \t\t\t*ent1, *ent2;\n",
            "\twddx_stack \t\t\t*stack = (wddx_stack *)user_data;\n",
            "\tHashTable \t\t\t*target_hash;\n",
            "\tzend_class_entry \t*pce;\n",
            "\tzval\t\t\t\tobj;\n",
            "\n",
            "/* OBJECTS_FIXME */\n",
            "\tif (stack->top == 0) {\n",
            "\t\treturn;\n",
            "\t}\n",
            "\n",
            "\tif (!strcmp((char *)name, EL_STRING) || !strcmp((char *)name, EL_NUMBER) ||\n",
            "\t\t!strcmp((char *)name, EL_BOOLEAN) || !strcmp((char *)name, EL_NULL) ||\n",
            "\t  \t!strcmp((char *)name, EL_ARRAY) || !strcmp((char *)name, EL_STRUCT) ||\n",
            "\t\t!strcmp((char *)name, EL_RECORDSET) || !strcmp((char *)name, EL_BINARY) ||\n",
            "\t\t!strcmp((char *)name, EL_DATETIME)) {\n",
            "\t\twddx_stack_top(stack, (void**)&ent1);\n",
            "\n",
            "\t\tif (Z_TYPE(ent1->data) == IS_UNDEF) {\n",
            "\t\t\tif (stack->top > 1) {\n",
            "\t\t\t\tstack->top--;\n",
            "\t\t\t\tefree(ent1);\n",
            "\t\t\t} else {\n",
            "\t\t\t\tstack->done = 1;\n",
            "\t\t\t}\n",
            "\t\t\treturn;\n",
            "\t\t}\n",
            "\n",
            "\t\tif (!strcmp((char *)name, EL_BINARY)) {\n",
            "\t\t\tzend_string *new_str = NULL;\n",
            "\t\t\t\n",
            "\t\t\tif (ZSTR_EMPTY_ALLOC() != Z_STR(ent1->data)) {\n",
            "\t\t\t\tnew_str = php_base64_decode(\n",
            "\t\t\t\t\t(unsigned char *)Z_STRVAL(ent1->data), Z_STRLEN(ent1->data));\n",
            "\t\t\t}\n",
            "\n",
            "\t\t\tzval_ptr_dtor(&ent1->data);\n",
            "\t\t\tif (new_str) {\n",
            "\t\t\t\tZVAL_STR(&ent1->data, new_str);\n",
            "\t\t\t} else {\n",
            "\t\t\t\tZVAL_EMPTY_STRING(&ent1->data);\n",
            "\t\t\t}\n",
            "\t\t}\n",
            "\n",
            "\t\t/* Call __wakeup() method on the object. */\n",
            "\t\tif (Z_TYPE(ent1->data) == IS_OBJECT) {\n",
            "\t\t\tzval fname, retval;\n",
            "\n",
            "\t\t\tZVAL_STRING(&fname, \"__wakeup\");\n",
            "\n",
            "\t\t\tcall_user_function_ex(NULL, &ent1->data, &fname, &retval, 0, 0, 0, NULL);\n",
            "\n",
            "\t\t\tzval_ptr_dtor(&fname);\n",
            "\t\t\tzval_ptr_dtor(&retval);\n",
            "\t\t}\n",
            "\n",
            "\t\tif (stack->top > 1) {\n",
            "\t\t\tstack->top--;\n",
            "\t\t\twddx_stack_top(stack, (void**)&ent2);\n",
            "\n",
            "\t\t\t/* if non-existent field */\n",
            "\t\t\tif (Z_ISUNDEF(ent2->data)) {\n",
            "\t\t\t\tzval_ptr_dtor(&ent1->data);\n",
            "\t\t\t\tefree(ent1);\n",
            "\t\t\t\treturn;\n",
            "\t\t\t}\n",
            "\n",
            "\t\t\tif (Z_TYPE(ent2->data) == IS_ARRAY || Z_TYPE(ent2->data) == IS_OBJECT) {\n",
            "\t\t\t\ttarget_hash = HASH_OF(&ent2->data);\n",
            "\n",
            "\t\t\t\tif (ent1->varname) {\n",
            "\t\t\t\t\tif (!strcmp(ent1->varname, PHP_CLASS_NAME_VAR) &&\n",
            "\t\t\t\t\t\tZ_TYPE(ent1->data) == IS_STRING && Z_STRLEN(ent1->data) &&\n",
            "\t\t\t\t\t\tent2->type == ST_STRUCT && Z_TYPE(ent2->data) == IS_ARRAY) {\n",
            "\t\t\t\t\t\tzend_bool incomplete_class = 0;\n",
            "\n",
            "\t\t\t\t\t\tzend_str_tolower(Z_STRVAL(ent1->data), Z_STRLEN(ent1->data));\n",
            "\t\t\t\t\t\tzend_string_forget_hash_val(Z_STR(ent1->data));\n",
            "\t\t\t\t\t\tif ((pce = zend_hash_find_ptr(EG(class_table), Z_STR(ent1->data))) == NULL) {\n",
            "\t\t\t\t\t\t\tincomplete_class = 1;\n",
            "\t\t\t\t\t\t\tpce = PHP_IC_ENTRY;\n",
            "\t\t\t\t\t\t}\n",
            "\n",
            "\t\t\t\t\t\tif (pce != PHP_IC_ENTRY && (pce->serialize || pce->unserialize)) {\n",
            "\t\t\t\t\t\t\tzval_ptr_dtor(&ent2->data);\n",
            "\t\t\t\t\t\t\tZVAL_UNDEF(&ent2->data);\n",
            "\t\t\t\t\t\t\tphp_error_docref(NULL, E_WARNING, \"Class %s can not be unserialized\", Z_STRVAL(ent1->data));\n",
            "\t\t\t\t\t\t} else {\n",
            "\t\t\t\t\t\t\t/* Initialize target object */\n",
            "\t\t\t\t\t\t\tobject_init_ex(&obj, pce);\n",
            "\n",
            "\t\t\t\t\t\t\t/* Merge current hashtable with object's default properties */\n",
            "\t\t\t\t\t\t\tzend_hash_merge(Z_OBJPROP(obj),\n",
            "\t\t\t\t\t\t\t\t\t\t\tZ_ARRVAL(ent2->data),\n",
            "\t\t\t\t\t\t\t\t\t\t\tzval_add_ref, 0);\n",
            "\n",
            "\t\t\t\t\t\t\tif (incomplete_class) {\n",
            "\t\t\t\t\t\t\t\tphp_store_class_name(&obj, Z_STRVAL(ent1->data), Z_STRLEN(ent1->data));\n",
            "\t\t\t\t\t\t\t}\n",
            "\n",
            "\t\t\t\t\t\t\t/* Clean up old array entry */\n",
            "\t\t\t\t\t\t\tzval_ptr_dtor(&ent2->data);\n",
            "\n",
            "\t\t\t\t\t\t\t/* Set stack entry to point to the newly created object */\n",
            "\t\t\t\t\t\t\tZVAL_COPY_VALUE(&ent2->data, &obj);\n",
            "\t\t\t\t\t\t}\n",
            "\n",
            "\t\t\t\t\t\t/* Clean up class name var entry */\n",
            "\t\t\t\t\t\tzval_ptr_dtor(&ent1->data);\n",
            "\t\t\t\t\t} else if (Z_TYPE(ent2->data) == IS_OBJECT) {\n",
            "\t\t\t\t\t\tzend_class_entry *old_scope = EG(scope);\n",
            "\n",
            "\t\t\t\t\t\tEG(scope) = Z_OBJCE(ent2->data);\n",
            "\t\t\t\t\t\tadd_property_zval(&ent2->data, ent1->varname, &ent1->data);\n",
            "\t\t\t\t\t\tif Z_REFCOUNTED(ent1->data) Z_DELREF(ent1->data);\n",
            "\t\t\t\t\t\tEG(scope) = old_scope;\n",
            "\t\t\t\t\t} else {\n",
            "\t\t\t\t\t\tzend_symtable_str_update(target_hash, ent1->varname, strlen(ent1->varname), &ent1->data);\n",
            "\t\t\t\t\t}\n",
            "\t\t\t\t\tefree(ent1->varname);\n",
            "\t\t\t\t} else\t{\n",
            "\t\t\t\t\tzend_hash_next_index_insert(target_hash, &ent1->data);\n",
            "\t\t\t\t}\n",
            "\t\t\t}\n",
            "\t\t\tefree(ent1);\n",
            "\t\t} else {\n",
            "\t\t\tstack->done = 1;\n",
            "\t\t}\n",
            "\t} else if (!strcmp((char *)name, EL_VAR) && stack->varname) {\n",
            "\t\tefree(stack->varname);\n",
            "\t\tstack->varname = NULL;\n",
            "\t} else if (!strcmp((char *)name, EL_FIELD)) {\n",
            "\t\tst_entry *ent;\n",
            "\t\twddx_stack_top(stack, (void **)&ent);\n",
            "\t\tefree(ent);\n",
            "\t\tstack->top--;\n",
            "\t}\n",
            "Prompt: You are a professional cybersecurity analyst with expertise in static code analysis and Common Weakness Enumeration (CWE) classification.\n",
            "\n",
            "You will be provided with:\n",
            "- One **input function**, whose vulnerability status you must assess.\n",
            "- Several **reference examples**, each containing:\n",
            "  - A code function\n",
            "  - A known vulnerability label (1 for vulnerable, 0 for not)\n",
            "  - CWE ID (if vulnerable)\n",
            "  - CWE Name (if vulnerable)\n",
            "\n",
            "---\n",
            "\n",
            "### TASK\n",
            "\n",
            "Analyze the **structure, logic, and behavior** of the **input function**. Use deep comparison and reasoning based on the structure, intent, and usage patterns in the reference examples. Focus on the logical flow, operations performed, and overall behavior of the code to assess similarity and risk.\n",
            "\n",
            "You must:\n",
            "- Output whether the input function is vulnerable (1) or not (0)\n",
            "- If vulnerable, identify the **most appropriate CWE ID and CWE Name**\n",
            "- If not vulnerable, set CWE ID and CWE Name to \"NOT_APPLICABLE\"\n",
            "\n",
            "---\n",
            "\n",
            "### INSTRUCTIONS\n",
            "\n",
            "- Carefully compare the input function with the reference examples\n",
            "- Only use the structure and patterns from the examples for decision-making\n",
            "- Strictly output your result in the **exact 3-line format shown below**\n",
            "- **No explanation or additional commentary**\n",
            "- Your answer **must** be wrapped in triple backticks for structured parsing\n",
            "\n",
            "---\n",
            "\n",
            "Each reference is separated by:\n",
            "`### Reference Example`\n",
            "\n",
            "Respond in this **exact format**:\n",
            "Vulnerability: <1 or 0>\n",
            "CWE ID: <CWE-ID or NOT_APPLICABLE>\n",
            "CWE Name: <CWE Name or NOT_APPLICABLE>\n",
            "\n",
            "---\n",
            "### Reference Example\n",
            "Function:\n",
            "static void php_wddx_pop_element(void *user_data, const XML_Char *name)\n",
            "{\n",
            "\tst_entry \t\t\t*ent1, *ent2;\n",
            "\twddx_stack \t\t\t*stack = (wddx_stack *)user_data;\n",
            "\tHashTable \t\t\t*target_hash;\n",
            "\tzend_class_entry \t*pce;\n",
            "\tzval\t\t\t\tobj;\n",
            "\n",
            "/* OBJECTS_FIXME */\n",
            "\tif (stack->top == 0) {\n",
            "\t\treturn;\n",
            "\t}\n",
            "\n",
            "\tif (!strcmp((char *)name, EL_STRING) || !strcmp((char *)name, EL_NUMBER) ||\n",
            "\t\t!strcmp((char *)name, EL_BOOLEAN) || !strcmp((char *)name, EL_NULL) ||\n",
            "\t  \t!strcmp((char *)name, EL_ARRAY) || !strcmp((char *)name, EL_STRUCT) ||\n",
            "\t\t!strcmp((char *)name, EL_RECORDSET) || !strcmp((char *)name, EL_BINARY) ||\n",
            "\t\t!strcmp((char *)name, EL_DATETIME)) {\n",
            "\t\twddx_stack_top(stack, (void**)&ent1);\n",
            "\n",
            "\t\tif (Z_TYPE(ent1->data) == IS_UNDEF) {\n",
            "\t\t\tif (stack->top > 1) {\n",
            "\t\t\t\tstack->top--;\n",
            "\t\t\t\tefree(ent1);\n",
            "\t\t\t} else {\n",
            "\t\t\t\tstack->done = 1;\n",
            "\t\t\t}\n",
            "\t\t\treturn;\n",
            "\t\t}\n",
            " \n",
            " \t\tif (!strcmp((char *)name, EL_BINARY)) {\n",
            " \t\t\tzend_string *new_str = NULL;\n",
            " \t\t\tif (ZSTR_EMPTY_ALLOC() != Z_STR(ent1->data)) {\n",
            " \t\t\t\tnew_str = php_base64_decode(\n",
            " \t\t\t\t\t(unsigned char *)Z_…\n",
            "Vulnerability: 1.0\n",
            "CWE ID: CWE-476\n",
            "CWE Name: NULL Pointer Dereference\n",
            "\n",
            "---\n",
            "### Reference Example\n",
            "Function:\n",
            "static void php_wddx_pop_element(void *user_data, const XML_Char *name)\n",
            "{\n",
            "\tst_entry \t\t\t*ent1, *ent2;\n",
            "\twddx_stack \t\t\t*stack = (wddx_stack *)user_data;\n",
            "\tHashTable \t\t\t*target_hash;\n",
            "\tzend_class_entry \t**pce;\n",
            "\tzval\t\t\t\t*obj;\n",
            "\tzval\t\t\t\t*tmp;\n",
            "\tTSRMLS_FETCH();\n",
            "\n",
            "/* OBJECTS_FIXME */\n",
            "\tif (stack->top == 0) {\n",
            "\t\treturn;\n",
            "\t}\n",
            "\n",
            "\tif (!strcmp(name, EL_STRING) || !strcmp(name, EL_NUMBER) ||\n",
            "\t\t!strcmp(name, EL_BOOLEAN) || !strcmp(name, EL_NULL) ||\n",
            "\t  \t!strcmp(name, EL_ARRAY) || !strcmp(name, EL_STRUCT) ||\n",
            "\t\t!strcmp(name, EL_RECORDSET) || !strcmp(name, EL_BINARY) ||\n",
            "\t\t!strcmp(name, EL_DATETIME)) {\n",
            "\t\twddx_stack_top(stack, (void**)&ent1);\n",
            "\n",
            " \t\tif (!ent1->data) {\n",
            " \t\t\tif (stack->top > 1) {\n",
            " \t\t\t\tstack->top--;\n",
            " \t\t\t} else {\n",
            " \t\t\t\tstack->done = 1;\n",
            " \t\t\t}\n",
            "\t\t\tefree(ent1);\n",
            " \t\t\treturn;\n",
            " \t\t}\n",
            " \n",
            "\t\tif (!strcmp(name, EL_BINARY)) {\n",
            "\t\t\tint new_len=0;\n",
            "\t\t\tunsigned char *new_str;\n",
            "\n",
            "\t\t\tnew_str = php_base64_decode(Z_STRVAL_P(ent1->data), Z_STRLEN_P(ent1->data), &new_len);\n",
            "\t\t\tSTR_FREE(Z_STRVAL_P(ent1->data));\n",
            "\t\t\tif (new_str) {\n",
            "\t\t\t\tZ_STRVA…\n",
            "Vulnerability: 1.0\n",
            "CWE ID: CWE-476\n",
            "CWE Name: NULL Pointer Dereference\n",
            "\n",
            "---\n",
            "### Reference Example\n",
            "Function:\n",
            "static void php_wddx_pop_element(void *user_data, const XML_Char *name)\n",
            "{\n",
            "\tst_entry \t\t\t*ent1, *ent2;\n",
            "\twddx_stack \t\t\t*stack = (wddx_stack *)user_data;\n",
            "\tHashTable \t\t\t*target_hash;\n",
            "\tzend_class_entry \t**pce;\n",
            "\tzval\t\t\t\t*obj;\n",
            "\tzval\t\t\t\t*tmp;\n",
            "\tTSRMLS_FETCH();\n",
            "\n",
            "/* OBJECTS_FIXME */\n",
            "\tif (stack->top == 0) {\n",
            "\t\treturn;\n",
            "\t}\n",
            "\n",
            "\tif (!strcmp(name, EL_STRING) || !strcmp(name, EL_NUMBER) ||\n",
            "\t\t!strcmp(name, EL_BOOLEAN) || !strcmp(name, EL_NULL) ||\n",
            "\t  \t!strcmp(name, EL_ARRAY) || !strcmp(name, EL_STRUCT) ||\n",
            "\t\t!strcmp(name, EL_RECORDSET) || !strcmp(name, EL_BINARY) ||\n",
            "\t\t!strcmp(name, EL_DATETIME)) {\n",
            "\t\twddx_stack_top(stack, (void**)&ent1);\n",
            "\n",
            "\t\tif (!ent1->data) {\n",
            "\t\t\tif (stack->top > 1) {\n",
            "\t\t\t\tstack->top--;\n",
            "\t\t\t} else {\n",
            "\t\t\t\tstack->done = 1;\n",
            "\t\t\t}\n",
            "\t\t\tefree(ent1);\n",
            "\t\t\treturn;\n",
            "\t\t}\n",
            "\n",
            "\t\tif (!strcmp(name, EL_BINARY)) {\n",
            "\t\t\tint new_len=0;\n",
            "\t\t\tunsigned char *new_str;\n",
            " \n",
            " \t\t\tnew_str = php_base64_decode(Z_STRVAL_P(ent1->data), Z_STRLEN_P(ent1->data), &new_len);\n",
            " \t\t\tSTR_FREE(Z_STRVAL_P(ent1->data));\n",
            "\t\t\tZ_STRVAL_P(ent1->data) = new_str…\n",
            "Vulnerability: 1.0\n",
            "CWE ID: CWE-476\n",
            "CWE Name: NULL Pointer Dereference\n",
            "\n",
            "---\n",
            "### Input Function\n",
            "*/\n",
            "static void php_wddx_pop_element(void *user_data, const XML_Char *name)\n",
            "{\n",
            "\tst_entry \t\t\t*ent1, *ent2;\n",
            "\twddx_stack \t\t\t*stack = (wddx_stack *)user_data;\n",
            "\tHashTable \t\t\t*target_hash;\n",
            "\tzend_class_entry \t*pce;\n",
            "\tzval\t\t\t\tobj;\n",
            "\n",
            "/* OBJECTS_FIXME */\n",
            "\tif (stack->top == 0) {\n",
            "\t\treturn;\n",
            "\t}\n",
            "\n",
            "\tif (!strcmp((char *)name, EL_STRING) || !strcmp((char *)name, EL_NUMBER) ||\n",
            "\t\t!strcmp((char *)name, EL_BOOLEAN) || !strcmp((char *)name, EL_NULL) ||\n",
            "\t  \t!strcmp((char *)name, EL_ARRAY) || !strcmp((char *)name, EL_STRUCT) ||\n",
            "\t\t!strcmp((char *)name, EL_RECORDSET) || !strcmp((char *)name, EL_BINARY) ||\n",
            "\t\t!strcmp((char *)name, EL_DATETIME)) {\n",
            "\t\twddx_stack_top(stack, (void**)&ent1);\n",
            "\n",
            "\t\tif (Z_TYPE(ent1->data) == IS_UNDEF) {\n",
            "\t\t\tif (stack->top > 1) {\n",
            "\t\t\t\tstack->top--;\n",
            "\t\t\t\tefree(ent1);\n",
            "\t\t\t} else {\n",
            "\t\t\t\tstack->done = 1;\n",
            "\t\t\t}\n",
            "\t\t\treturn;\n",
            "\t\t}\n",
            "\n",
            "\t\tif (!strcmp((char *)name, EL_BINARY)) {\n",
            "\t\t\tzend_string *new_str = NULL;\n",
            "\t\t\t\n",
            "\t\t\tif (ZSTR_EMPTY_ALLOC() != Z_STR(ent1->data)) {\n",
            "\t\t\t\tnew_str = php_base64_decode(\n",
            "\t\t\t\t\t(unsigned char *)Z_STRVAL(ent1->data), Z_STRLEN(ent1->data));\n",
            "\t\t\t}\n",
            "\n",
            "\t\t\tzval_ptr_dtor(&ent1->data);\n",
            "\t\t\tif (new_str) {\n",
            "\t\t\t\tZVAL_STR(&ent1->data, new_str);\n",
            "\t\t\t} else {\n",
            "\t\t\t\tZVAL_EMPTY_STRING(&ent1->data);\n",
            "\t\t\t}\n",
            "\t\t}\n",
            "\n",
            "\t\t/* Call __wakeup() method on the object. */\n",
            "\t\tif (Z_TYPE(ent1->data) == IS_OBJECT) {\n",
            "\t\t\tzval fname, retval;\n",
            "\n",
            "\t\t\tZVAL_STRING(&fname, \"__wakeup\");\n",
            "\n",
            "\t\t\tcall_user_function_ex(NULL, &ent1->data, &fname, &retval, 0, 0, 0, NULL);\n",
            "\n",
            "\t\t\tzval_ptr_dtor(&fname);\n",
            "\t\t\tzval_ptr_dtor(&retval);\n",
            "\t\t}\n",
            "\n",
            "\t\tif (stack->top > 1) {\n",
            "\t\t\tstack->top--;\n",
            "\t\t\twddx_stack_top(stack, (void**)&ent2);\n",
            "\n",
            "\t\t\t/* if non-existent field */\n",
            "\t\t\tif (Z_ISUNDEF(ent2->data)) {\n",
            "\t\t\t\tzval_ptr_dtor(&ent1->data);\n",
            "\t\t\t\tefree(ent1);\n",
            "\t\t\t\treturn;\n",
            "\t\t\t}\n",
            "\n",
            "\t\t\tif (Z_TYPE(ent2->data) == IS_ARRAY || Z_TYPE(ent2->data) == IS_OBJECT) {\n",
            "\t\t\t\ttarget_hash = HASH_OF(&ent2->data);\n",
            "\n",
            "\t\t\t\tif (ent1->varname) {\n",
            "\t\t\t\t\tif (!strcmp(ent1->varname, PHP_CLASS_NAME_VAR) &&\n",
            "\t\t\t\t\t\tZ_TYPE(ent1->data) == IS_STRING && Z_STRLEN(ent1->data) &&\n",
            "\t\t\t\t\t\tent2->type == ST_STRUCT && Z_TYPE(ent2->data) == IS_ARRAY) {\n",
            "\t\t\t\t\t\tzend_bool incomplete_class = 0;\n",
            "\n",
            "\t\t\t\t\t\tzend_str_tolower(Z_STRVAL(ent1->data), Z_STRLEN(ent1->data));\n",
            "\t\t\t\t\t\tzend_string_forget_hash_val(Z_STR(ent1->data));\n",
            "\t\t\t\t\t\tif ((pce = zend_hash_find_ptr(EG(class_table), Z_STR(ent1->data))) == NULL) {\n",
            "\t\t\t\t\t\t\tincomplete_class = 1;\n",
            "\t\t\t\t\t\t\tpce = PHP_IC_ENTRY;\n",
            "\t\t\t\t\t\t}\n",
            "\n",
            "\t\t\t\t\t\tif (pce != PHP_IC_ENTRY && (pce->serialize || pce->unserialize)) {\n",
            "\t\t\t\t\t\t\tzval_ptr_dtor(&ent2->data);\n",
            "\t\t\t\t\t\t\tZVAL_UNDEF(&ent2->data);\n",
            "\t\t\t\t\t\t\tphp_error_docref(NULL, E_WARNING, \"Class %s can not be unserialized\", Z_STRVAL(ent1->data));\n",
            "\t\t\t\t\t\t} else {\n",
            "\t\t\t\t\t\t\t/* Initialize target object */\n",
            "\t\t\t\t\t\t\tobject_init_ex(&obj, pce);\n",
            "\n",
            "\t\t\t\t\t\t\t/* Merge current hashtable with object's default properties */\n",
            "\t\t\t\t\t\t\tzend_hash_merge(Z_OBJPROP(obj),\n",
            "\t\t\t\t\t\t\t\t\t\t\tZ_ARRVAL(ent2->data),\n",
            "\t\t\t\t\t\t\t\t\t\t\tzval_add_ref, 0);\n",
            "\n",
            "\t\t\t\t\t\t\tif (incomplete_class) {\n",
            "\t\t\t\t\t\t\t\tphp_store_class_name(&obj, Z_STRVAL(ent1->data), Z_STRLEN(ent1->data));\n",
            "\t\t\t\t\t\t\t}\n",
            "\n",
            "\t\t\t\t\t\t\t/* Clean up old array entry */\n",
            "\t\t\t\t\t\t\tzval_ptr_dtor(&ent2->data);\n",
            "\n",
            "\t\t\t\t\t\t\t/* Set stack entry to point to the newly created object */\n",
            "\t\t\t\t\t\t\tZVAL_COPY_VALUE(&ent2->data, &obj);\n",
            "\t\t\t\t\t\t}\n",
            "\n",
            "\t\t\t\t\t\t/* Clean up class name var entry */\n",
            "\t\t\t\t\t\tzval_ptr_dtor(&ent1->data);\n",
            "\t\t\t\t\t} else if (Z_TYPE(ent2->data) == IS_OBJECT) {\n",
            "\t\t\t\t\t\tzend_class_entry *old_scope = EG(scope);\n",
            "\n",
            "\t\t\t\t\t\tEG(scope) = Z_OBJCE(ent2->data);\n",
            "\t\t\t\t\t\tadd_property_zval(&ent2->data, ent1->varname, &ent1->data);\n",
            "\t\t\t\t\t\tif Z_REFCOUNTED(ent1->data) Z_DELREF(ent1->data);\n",
            "\t\t\t\t\t\tEG(scope) = old_scope;\n",
            "\t\t\t\t\t} else {\n",
            "\t\t\t\t\t\tzend_symtable_str_update(target_hash, ent1->varname, strlen(ent1->varname), &ent1->data);\n",
            "\t\t\t\t\t}\n",
            "\t\t\t\t\tefree(ent1->varname);\n",
            "\t\t\t\t} else\t{\n",
            "\t\t\t\t\tzend_hash_next_index_insert(target_hash, &ent1->data);\n",
            "\t\t\t\t}\n",
            "\t\t\t}\n",
            "\t\t\tefree(ent1);\n",
            "\t\t} else {\n",
            "\t\t\tstack->done = 1;\n",
            "\t\t}\n",
            "\t} else if (!strcmp((char *)name, EL_VAR) && stack->varname) {\n",
            "\t\tefree(stack->varname);\n",
            "\t\tstack->varname = NULL;\n",
            "\t} else if (!strcmp((char *)name, EL_FIELD)) {\n",
            "\t\tst_entry *ent;\n",
            "\t\twddx_stack_top(stack, (void **)&ent);\n",
            "\t\tefree(ent);\n",
            "\t\tstack->top--;\n",
            "\t}\n",
            "\n",
            "---\n",
            "\n",
            "### Your Response\n",
            "Vulnerability:\n",
            "CWE ID:\n",
            "CWE Name:\n",
            "\n",
            "\n",
            "Number of functions present in prompts: 2005\n",
            "Number of functions NOT present in prompts: 248\n",
            "\n",
            "Missing func values: 0\n",
            "Missing prompt values: 0\n"
          ]
        }
      ],
      "source": [
        "df['func_in_prompt'] = df.apply(check_func_in_prompt, axis=1)\n",
        "\n",
        "print(\"\\nSample of functions and their presence in prompts (first 5 rows):\")\n",
        "print(df[['func', 'prompt', 'func_in_prompt']].head(5))\n",
        "\n",
        "# Inspect rows where func is NOT in prompt\n",
        "print(\"\\nSample of rows where function is NOT present in prompt:\")\n",
        "not_present = df[~df['func_in_prompt']][['func', 'prompt']].head(5)\n",
        "for idx, row in not_present.iterrows():\n",
        "    print(f\"\\nRow {idx}:\")\n",
        "    print(f\"Function: {row['func']}\")\n",
        "    print(f\"Prompt: {row['prompt']}\")\n",
        "\n",
        "num_funcs_in_prompt = df['func_in_prompt'].sum()\n",
        "num_funcs_not_in_prompt = len(df) - num_funcs_in_prompt\n",
        "print(f\"\\nNumber of functions present in prompts: {num_funcs_in_prompt}\")\n",
        "print(f\"Number of functions NOT present in prompts: {num_funcs_not_in_prompt}\")\n",
        "\n",
        "print(f\"\\nMissing func values: {df['func'].isna().sum()}\")\n",
        "print(f\"Missing prompt values: {df['prompt'].isna().sum()}\")"
      ]
    },
    {
      "cell_type": "code",
      "execution_count": 8,
      "metadata": {
        "colab": {
          "base_uri": "https://localhost:8080/"
        },
        "id": "45NrpsItaFPl",
        "outputId": "8a7df821-4430-458a-c003-7a22b0f145e5"
      },
      "outputs": [
        {
          "name": "stdout",
          "output_type": "stream",
          "text": [
            "\n",
            "With normalized text:\n",
            "Number of functions present in prompts: 2253\n",
            "Number of functions NOT present in prompts: 0\n"
          ]
        }
      ],
      "source": [
        "def check_func_in_prompt_normalized(row):\n",
        "    func = row['func']\n",
        "    prompt = row['prompt']\n",
        "    if isinstance(func, str) and isinstance(prompt, str):\n",
        "        func = ' '.join(func.split())\n",
        "        prompt = ' '.join(prompt.split())\n",
        "        return func in prompt\n",
        "    return False\n",
        "\n",
        "df['func_in_prompt_normalized'] = df.apply(check_func_in_prompt_normalized, axis=1)\n",
        "print(\"\\nWith normalized text:\")\n",
        "print(f\"Number of functions present in prompts: {df['func_in_prompt_normalized'].sum()}\")\n",
        "print(f\"Number of functions NOT present in prompts: {len(df) - df['func_in_prompt_normalized'].sum()}\")"
      ]
    },
    {
      "cell_type": "code",
      "execution_count": null,
      "metadata": {},
      "outputs": [],
      "source": []
    },
    {
      "cell_type": "code",
      "execution_count": null,
      "metadata": {},
      "outputs": [],
      "source": [
        "import os\n",
        "from dotenv import load_dotenv\n",
        "from cerebras.cloud.sdk import Cerebras, APIError, RateLimitError\n",
        "import re\n",
        "from tqdm import tqdm\n",
        "load_dotenv()\n",
        "\n",
        "API_KEYS = [os.environ.get(\"CEREBRAS_API_KEY\"), os.environ.get(\"CEREBRAS_API_KEY_2\"), os.environ.get(\"CEREBRAS_API_KEY_3\"), os.environ.get(\"CEREBRAS_API_KEY_4\")]\n",
        "_key_index = 0\n",
        "\n",
        "def get_client():\n",
        "    global _key_index\n",
        "    api_key = API_KEYS[_key_index % len(API_KEYS)]\n",
        "    _key_index += 1\n",
        "    return Cerebras(api_key=api_key)\n",
        "\n",
        "def get_vul_info(prompt):\n",
        "    client = get_client()\n",
        "    try:\n",
        "        resp = client.chat.completions.create(\n",
        "            messages=[{\"role\": \"user\", \"content\": prompt}],\n",
        "            model=\"llama3.3-70b\",\n",
        "        )\n",
        "        text = resp.choices[0].message.content if hasattr(resp, 'choices') else str(resp)\n",
        "\n",
        "        vul = re.search(r\"Vulnerability:\\s*(.*)\", text)\n",
        "        cwe_id = re.search(r\"CWE ID:\\s*(.*)\", text)\n",
        "        cwe_name = re.search(r\"CWE Name:\\s*(.*)\", text)\n",
        "        return (\n",
        "            text.strip(),\n",
        "            vul.group(1).strip() if vul else None,\n",
        "            cwe_id.group(1).strip() if cwe_id else None,\n",
        "            cwe_name.group(1).strip() if cwe_name else None\n",
        "        )\n",
        "\n",
        "    except RateLimitError:\n",
        "        print(\"Rate limit hit — switching API key and retrying...\")\n",
        "        return get_vul_info(prompt)\n",
        "\n",
        "    except APIError as e:\n",
        "        print(f\"API error ({type(e).__name__}): {e}\")\n",
        "        return None, None, None, None"
      ]
    },
    {
      "cell_type": "code",
      "execution_count": null,
      "metadata": {},
      "outputs": [],
      "source": []
    },
    {
      "cell_type": "code",
      "execution_count": 10,
      "metadata": {},
      "outputs": [
        {
          "name": "stdout",
          "output_type": "stream",
          "text": [
            "       project                                 commit_id  \\\n",
            "0         flac  fcf0ba06ae12ccd7c67cee3c8d948df15f946b85   \n",
            "1      libtiff  b18012dae552f85dcc5c57d3bf4e997a15b1cc1c   \n",
            "2      staging  4c41aa24baa4ed338241d05494f2c595c885af8f   \n",
            "3  ImageMagick  361ed689cc8e56fd125f9d0d6508e9eb303bdca6   \n",
            "4  ImageMagick  986b5dff173413fa712db27eb677cdef15f0bab6   \n",
            "\n",
            "                                                func   vul CVE ID CWE ID  \\\n",
            "0  FLAC__bool read_residual_partitioned_rice_(FLA...  None   None   None   \n",
            "1  NeXTPreDecode(TIFF* tif, uint16 s)\\n{\\n\\tstati...  None   None   None   \n",
            "2  int ncp_open_create_file_or_subdir(struct ncp_...  None   None   None   \n",
            "3  static MagickBooleanType IsWEBPImageLossless(c...  None   None   None   \n",
            "4  static Image *ReadTIFFImage(const ImageInfo *i...  None   None   None   \n",
            "\n",
            "  CWE Name CWE Description Potential Mitigation   None  None  \\\n",
            "0     None            None                 None  23682     0   \n",
            "1     None            None                 None  21469     1   \n",
            "2     None            None                 None  15268     2   \n",
            "3     None            None                 None   5000     3   \n",
            "4     None            None                 None  22462     4   \n",
            "\n",
            "                                              prompt  prompt_char_count  \\\n",
            "0  You are a professional cybersecurity analyst w...               7976   \n",
            "1  You are a professional cybersecurity analyst w...               4751   \n",
            "2  You are a professional cybersecurity analyst w...               6410   \n",
            "3  You are a professional cybersecurity analyst w...               6145   \n",
            "4  You are a professional cybersecurity analyst w...              46306   \n",
            "\n",
            "   prompt_token_count  func_in_prompt  func_in_prompt_normalized response  \n",
            "0                1994            True                       True     None  \n",
            "1                1187            True                       True     None  \n",
            "2                1602            True                       True     None  \n",
            "3                1536            True                       True     None  \n",
            "4               11576            True                       True     None  \n"
          ]
        }
      ],
      "source": [
        "llama3_3ResponseDf = df.copy()\n",
        "llama3_3ResponseDf[\"response\"] = None\n",
        "llama3_3ResponseDf[\"vul\"] = None\n",
        "llama3_3ResponseDf[\"CWE ID\"] = None\n",
        "llama3_3ResponseDf[\"CWE Name\"] = None\n",
        "llama3_3ResponseDf[\"CWE Description\"] = None\n",
        "llama3_3ResponseDf[\"CVE ID\"] = None\n",
        "llama3_3ResponseDf[\"Potential Mitigation\"] = None\n",
        "print(llama3_3ResponseDf.head())"
      ]
    },
    {
      "cell_type": "code",
      "execution_count": 14,
      "metadata": {},
      "outputs": [
        {
          "name": "stdout",
          "output_type": "stream",
          "text": [
            "<re.Match object; span=(5, 21), match='Vulnerability: 1'> <re.Match object; span=(22, 37), match='CWE ID: CWE-125'> <re.Match object; span=(38, 66), match='CWE Name: Out-of-bounds Read'>\n"
          ]
        },
        {
          "name": "stderr",
          "output_type": "stream",
          "text": [
            " 26%|██▌       | 577/2253 [2:30:29<48:46,  1.75s/it]"
          ]
        },
        {
          "name": "stdout",
          "output_type": "stream",
          "text": [
            "<re.Match object; span=(5, 21), match='Vulnerability: 0'> <re.Match object; span=(22, 44), match='CWE ID: NOT_APPLICABLE'> <re.Match object; span=(45, 69), match='CWE Name: NOT_APPLICABLE'>\n"
          ]
        },
        {
          "name": "stderr",
          "output_type": "stream",
          "text": [
            " 26%|██▌       | 578/2253 [2:30:31<46:08,  1.65s/it]"
          ]
        },
        {
          "name": "stdout",
          "output_type": "stream",
          "text": [
            "<re.Match object; span=(5, 21), match='Vulnerability: 1'> <re.Match object; span=(22, 37), match='CWE ID: CWE-190'> <re.Match object; span=(38, 78), match='CWE Name: Integer Overflow or Wraparound'>\n"
          ]
        },
        {
          "name": "stderr",
          "output_type": "stream",
          "text": [
            " 26%|██▌       | 579/2253 [2:30:32<45:09,  1.62s/it]"
          ]
        },
        {
          "name": "stdout",
          "output_type": "stream",
          "text": [
            "<re.Match object; span=(5, 21), match='Vulnerability: 1'> <re.Match object; span=(22, 37), match='CWE ID: CWE-125'> <re.Match object; span=(38, 66), match='CWE Name: Out-of-bounds Read'>\n"
          ]
        },
        {
          "name": "stderr",
          "output_type": "stream",
          "text": [
            " 26%|██▌       | 580/2253 [2:30:34<43:35,  1.56s/it]"
          ]
        },
        {
          "name": "stdout",
          "output_type": "stream",
          "text": [
            "<re.Match object; span=(5, 21), match='Vulnerability: 0'> <re.Match object; span=(22, 44), match='CWE ID: NOT_APPLICABLE'> <re.Match object; span=(45, 69), match='CWE Name: NOT_APPLICABLE'>\n"
          ]
        },
        {
          "name": "stderr",
          "output_type": "stream",
          "text": [
            " 26%|██▌       | 581/2253 [2:30:35<41:40,  1.50s/it]"
          ]
        },
        {
          "name": "stdout",
          "output_type": "stream",
          "text": [
            "<re.Match object; span=(10, 26), match='Vulnerability: 1'> <re.Match object; span=(27, 42), match='CWE ID: CWE-787'> <re.Match object; span=(43, 72), match='CWE Name: Out-of-bounds Write'>\n"
          ]
        },
        {
          "name": "stderr",
          "output_type": "stream",
          "text": [
            " 26%|██▌       | 582/2253 [2:30:36<40:41,  1.46s/it]"
          ]
        },
        {
          "name": "stdout",
          "output_type": "stream",
          "text": [
            "<re.Match object; span=(10, 26), match='Vulnerability: 1'> <re.Match object; span=(27, 41), match='CWE ID: CWE-20'> <re.Match object; span=(42, 77), match='CWE Name: Improper Input Validation'>\n"
          ]
        },
        {
          "name": "stderr",
          "output_type": "stream",
          "text": [
            " 26%|██▌       | 583/2253 [2:30:38<40:02,  1.44s/it]"
          ]
        },
        {
          "name": "stdout",
          "output_type": "stream",
          "text": [
            "<re.Match object; span=(5, 21), match='Vulnerability: 1'> <re.Match object; span=(22, 37), match='CWE ID: CWE-399'> <re.Match object; span=(38, 74), match='CWE Name: Resource Management Errors'>\n"
          ]
        },
        {
          "name": "stderr",
          "output_type": "stream",
          "text": [
            " 26%|██▌       | 584/2253 [2:30:39<41:33,  1.49s/it]"
          ]
        },
        {
          "name": "stdout",
          "output_type": "stream",
          "text": [
            "<re.Match object; span=(5, 21), match='Vulnerability: 1'> <re.Match object; span=(22, 37), match='CWE ID: CWE-119'> <re.Match object; span=(38, 119), match='CWE Name: Improper Restriction of Operations with>\n"
          ]
        },
        {
          "name": "stderr",
          "output_type": "stream",
          "text": [
            " 26%|██▌       | 585/2253 [2:30:41<42:43,  1.54s/it]"
          ]
        },
        {
          "name": "stdout",
          "output_type": "stream",
          "text": [
            "<re.Match object; span=(5, 21), match='Vulnerability: 0'> <re.Match object; span=(22, 44), match='CWE ID: NOT_APPLICABLE'> <re.Match object; span=(45, 69), match='CWE Name: NOT_APPLICABLE'>\n"
          ]
        },
        {
          "name": "stderr",
          "output_type": "stream",
          "text": [
            " 26%|██▌       | 586/2253 [2:30:43<47:02,  1.69s/it]"
          ]
        },
        {
          "name": "stdout",
          "output_type": "stream",
          "text": [
            "<re.Match object; span=(5, 21), match='Vulnerability: 1'> <re.Match object; span=(22, 37), match='CWE ID: CWE-119'> <re.Match object; span=(38, 119), match='CWE Name: Improper Restriction of Operations with>\n"
          ]
        },
        {
          "name": "stderr",
          "output_type": "stream",
          "text": [
            " 26%|██▌       | 587/2253 [2:30:44<45:39,  1.64s/it]"
          ]
        },
        {
          "name": "stdout",
          "output_type": "stream",
          "text": [
            "<re.Match object; span=(8, 24), match='Vulnerability: 0'> <re.Match object; span=(25, 47), match='CWE ID: NOT_APPLICABLE'> <re.Match object; span=(48, 72), match='CWE Name: NOT_APPLICABLE'>\n"
          ]
        },
        {
          "name": "stderr",
          "output_type": "stream",
          "text": [
            " 26%|██▌       | 588/2253 [2:30:46<47:59,  1.73s/it]"
          ]
        },
        {
          "name": "stdout",
          "output_type": "stream",
          "text": [
            "<re.Match object; span=(10, 26), match='Vulnerability: 0'> <re.Match object; span=(27, 49), match='CWE ID: NOT_APPLICABLE'> <re.Match object; span=(50, 74), match='CWE Name: NOT_APPLICABLE'>\n"
          ]
        },
        {
          "name": "stderr",
          "output_type": "stream",
          "text": [
            " 26%|██▌       | 589/2253 [2:30:48<46:29,  1.68s/it]"
          ]
        },
        {
          "name": "stdout",
          "output_type": "stream",
          "text": [
            "<re.Match object; span=(5, 21), match='Vulnerability: 0'> <re.Match object; span=(22, 44), match='CWE ID: NOT_APPLICABLE'> <re.Match object; span=(45, 69), match='CWE Name: NOT_APPLICABLE'>\n"
          ]
        },
        {
          "name": "stderr",
          "output_type": "stream",
          "text": [
            " 26%|██▌       | 590/2253 [2:30:50<46:06,  1.66s/it]"
          ]
        },
        {
          "name": "stdout",
          "output_type": "stream",
          "text": [
            "<re.Match object; span=(5, 21), match='Vulnerability: 1'> <re.Match object; span=(22, 37), match='CWE ID: CWE-125'> <re.Match object; span=(38, 66), match='CWE Name: Out-of-bounds Read'>\n"
          ]
        },
        {
          "name": "stderr",
          "output_type": "stream",
          "text": [
            " 26%|██▌       | 591/2253 [2:30:53<58:41,  2.12s/it]"
          ]
        },
        {
          "name": "stdout",
          "output_type": "stream",
          "text": [
            "<re.Match object; span=(5, 21), match='Vulnerability: 1'> <re.Match object; span=(22, 37), match='CWE ID: CWE-200'> <re.Match object; span=(38, 106), match='CWE Name: Exposure of Sensitive Information to an>\n"
          ]
        },
        {
          "name": "stderr",
          "output_type": "stream",
          "text": [
            " 26%|██▋       | 592/2253 [2:30:54<52:54,  1.91s/it]"
          ]
        },
        {
          "name": "stdout",
          "output_type": "stream",
          "text": [
            "<re.Match object; span=(5, 21), match='Vulnerability: 0'> <re.Match object; span=(22, 44), match='CWE ID: NOT_APPLICABLE'> <re.Match object; span=(45, 69), match='CWE Name: NOT_APPLICABLE'>\n"
          ]
        },
        {
          "name": "stderr",
          "output_type": "stream",
          "text": [
            " 26%|██▋       | 593/2253 [2:30:56<48:17,  1.75s/it]"
          ]
        },
        {
          "name": "stdout",
          "output_type": "stream",
          "text": [
            "<re.Match object; span=(5, 21), match='Vulnerability: 1'> <re.Match object; span=(22, 37), match='CWE ID: CWE-119'> <re.Match object; span=(38, 119), match='CWE Name: Improper Restriction of Operations with>\n"
          ]
        },
        {
          "name": "stderr",
          "output_type": "stream",
          "text": [
            " 26%|██▋       | 594/2253 [2:30:57<47:08,  1.71s/it]"
          ]
        },
        {
          "name": "stdout",
          "output_type": "stream",
          "text": [
            "<re.Match object; span=(4, 20), match='Vulnerability: 0'> <re.Match object; span=(21, 43), match='CWE ID: NOT_APPLICABLE'> <re.Match object; span=(44, 68), match='CWE Name: NOT_APPLICABLE'>\n"
          ]
        },
        {
          "name": "stderr",
          "output_type": "stream",
          "text": [
            " 26%|██▋       | 595/2253 [2:30:59<44:56,  1.63s/it]"
          ]
        },
        {
          "name": "stdout",
          "output_type": "stream",
          "text": [
            "<re.Match object; span=(5, 21), match='Vulnerability: 0'> <re.Match object; span=(22, 44), match='CWE ID: NOT_APPLICABLE'> <re.Match object; span=(45, 69), match='CWE Name: NOT_APPLICABLE'>\n"
          ]
        },
        {
          "name": "stderr",
          "output_type": "stream",
          "text": [
            " 26%|██▋       | 596/2253 [2:31:00<43:17,  1.57s/it]"
          ]
        },
        {
          "name": "stdout",
          "output_type": "stream",
          "text": [
            "<re.Match object; span=(8, 24), match='Vulnerability: 0'> <re.Match object; span=(25, 47), match='CWE ID: NOT_APPLICABLE'> <re.Match object; span=(48, 72), match='CWE Name: NOT_APPLICABLE'>\n"
          ]
        },
        {
          "name": "stderr",
          "output_type": "stream",
          "text": [
            " 26%|██▋       | 597/2253 [2:31:02<43:00,  1.56s/it]"
          ]
        },
        {
          "name": "stdout",
          "output_type": "stream",
          "text": [
            "<re.Match object; span=(14, 30), match='Vulnerability: 1'> <re.Match object; span=(31, 46), match='CWE ID: CWE-399'> <re.Match object; span=(47, 83), match='CWE Name: Resource Management Errors'>\n"
          ]
        },
        {
          "name": "stderr",
          "output_type": "stream",
          "text": [
            " 27%|██▋       | 598/2253 [2:31:04<46:12,  1.68s/it]"
          ]
        },
        {
          "name": "stdout",
          "output_type": "stream",
          "text": [
            "<re.Match object; span=(5, 21), match='Vulnerability: 0'> <re.Match object; span=(22, 44), match='CWE ID: NOT_APPLICABLE'> <re.Match object; span=(45, 69), match='CWE Name: NOT_APPLICABLE'>\n"
          ]
        },
        {
          "name": "stderr",
          "output_type": "stream",
          "text": [
            " 27%|██▋       | 599/2253 [2:31:06<49:17,  1.79s/it]"
          ]
        },
        {
          "name": "stdout",
          "output_type": "stream",
          "text": [
            "<re.Match object; span=(5, 21), match='Vulnerability: 0'> <re.Match object; span=(22, 44), match='CWE ID: NOT_APPLICABLE'> <re.Match object; span=(45, 69), match='CWE Name: NOT_APPLICABLE'>\n"
          ]
        },
        {
          "name": "stderr",
          "output_type": "stream",
          "text": [
            " 27%|██▋       | 600/2253 [2:31:07<45:28,  1.65s/it]"
          ]
        },
        {
          "name": "stdout",
          "output_type": "stream",
          "text": [
            "<re.Match object; span=(5, 21), match='Vulnerability: 0'> <re.Match object; span=(22, 44), match='CWE ID: NOT_APPLICABLE'> <re.Match object; span=(45, 69), match='CWE Name: NOT_APPLICABLE'>\n"
          ]
        },
        {
          "name": "stderr",
          "output_type": "stream",
          "text": [
            " 27%|██▋       | 601/2253 [2:31:09<47:00,  1.71s/it]"
          ]
        },
        {
          "name": "stdout",
          "output_type": "stream",
          "text": [
            "<re.Match object; span=(5, 21), match='Vulnerability: 1'> <re.Match object; span=(22, 36), match='CWE ID: CWE-20'> <re.Match object; span=(37, 72), match='CWE Name: Improper Input Validation'>\n"
          ]
        },
        {
          "name": "stderr",
          "output_type": "stream",
          "text": [
            " 27%|██▋       | 602/2253 [2:31:10<45:31,  1.65s/it]"
          ]
        },
        {
          "name": "stdout",
          "output_type": "stream",
          "text": [
            "<re.Match object; span=(5, 21), match='Vulnerability: 1'> <re.Match object; span=(22, 33), match='CWE ID: 121'> <re.Match object; span=(34, 71), match='CWE Name: Stack-based Buffer Overflow'>\n"
          ]
        },
        {
          "name": "stderr",
          "output_type": "stream",
          "text": [
            " 27%|██▋       | 603/2253 [2:31:12<42:57,  1.56s/it]"
          ]
        },
        {
          "name": "stdout",
          "output_type": "stream",
          "text": [
            "<re.Match object; span=(5, 21), match='Vulnerability: 1'> <re.Match object; span=(22, 37), match='CWE ID: CWE-459'> <re.Match object; span=(38, 79), match='CWE Name: Inconsistent Parameter Handling'>\n"
          ]
        },
        {
          "name": "stderr",
          "output_type": "stream",
          "text": [
            " 27%|██▋       | 604/2253 [2:31:14<46:02,  1.68s/it]"
          ]
        },
        {
          "name": "stdout",
          "output_type": "stream",
          "text": [
            "<re.Match object; span=(5, 21), match='Vulnerability: 0'> <re.Match object; span=(22, 44), match='CWE ID: NOT_APPLICABLE'> <re.Match object; span=(45, 69), match='CWE Name: NOT_APPLICABLE'>\n"
          ]
        },
        {
          "name": "stderr",
          "output_type": "stream",
          "text": [
            " 27%|██▋       | 605/2253 [2:31:15<43:45,  1.59s/it]"
          ]
        },
        {
          "name": "stdout",
          "output_type": "stream",
          "text": [
            "<re.Match object; span=(5, 21), match='Vulnerability: 0'> <re.Match object; span=(22, 44), match='CWE ID: NOT_APPLICABLE'> <re.Match object; span=(45, 69), match='CWE Name: NOT_APPLICABLE'>\n"
          ]
        },
        {
          "name": "stderr",
          "output_type": "stream",
          "text": [
            " 27%|██▋       | 606/2253 [2:31:16<42:02,  1.53s/it]"
          ]
        },
        {
          "name": "stdout",
          "output_type": "stream",
          "text": [
            "<re.Match object; span=(5, 21), match='Vulnerability: 0'> <re.Match object; span=(22, 44), match='CWE ID: NOT_APPLICABLE'> <re.Match object; span=(45, 69), match='CWE Name: NOT_APPLICABLE'>\n"
          ]
        },
        {
          "name": "stderr",
          "output_type": "stream",
          "text": [
            " 27%|██▋       | 607/2253 [2:31:18<41:55,  1.53s/it]"
          ]
        },
        {
          "name": "stdout",
          "output_type": "stream",
          "text": [
            "<re.Match object; span=(10, 26), match='Vulnerability: 0'> <re.Match object; span=(27, 49), match='CWE ID: NOT_APPLICABLE'> <re.Match object; span=(50, 74), match='CWE Name: NOT_APPLICABLE'>\n"
          ]
        },
        {
          "name": "stderr",
          "output_type": "stream",
          "text": [
            " 27%|██▋       | 608/2253 [2:31:20<48:19,  1.76s/it]"
          ]
        },
        {
          "name": "stdout",
          "output_type": "stream",
          "text": [
            "<re.Match object; span=(5, 21), match='Vulnerability: 1'> <re.Match object; span=(22, 37), match='CWE ID: CWE-119'> <re.Match object; span=(38, 119), match='CWE Name: Improper Restriction of Operations with>\n"
          ]
        },
        {
          "name": "stderr",
          "output_type": "stream",
          "text": [
            " 27%|██▋       | 609/2253 [2:31:22<45:17,  1.65s/it]"
          ]
        },
        {
          "name": "stdout",
          "output_type": "stream",
          "text": [
            "<re.Match object; span=(5, 21), match='Vulnerability: 1'> <re.Match object; span=(22, 36), match='CWE ID: CWE-20'> <re.Match object; span=(37, 72), match='CWE Name: Improper Input Validation'>\n"
          ]
        },
        {
          "name": "stderr",
          "output_type": "stream",
          "text": [
            " 27%|██▋       | 610/2253 [2:31:23<44:03,  1.61s/it]"
          ]
        },
        {
          "name": "stdout",
          "output_type": "stream",
          "text": [
            "<re.Match object; span=(5, 21), match='Vulnerability: 0'> <re.Match object; span=(22, 44), match='CWE ID: NOT_APPLICABLE'> <re.Match object; span=(45, 69), match='CWE Name: NOT_APPLICABLE'>\n"
          ]
        },
        {
          "name": "stderr",
          "output_type": "stream",
          "text": [
            " 27%|██▋       | 611/2253 [2:31:25<43:21,  1.58s/it]"
          ]
        },
        {
          "name": "stdout",
          "output_type": "stream",
          "text": [
            "<re.Match object; span=(10, 26), match='Vulnerability: 0'> <re.Match object; span=(27, 49), match='CWE ID: NOT_APPLICABLE'> <re.Match object; span=(50, 74), match='CWE Name: NOT_APPLICABLE'>\n"
          ]
        },
        {
          "name": "stderr",
          "output_type": "stream",
          "text": [
            " 27%|██▋       | 612/2253 [2:31:27<46:17,  1.69s/it]"
          ]
        },
        {
          "name": "stdout",
          "output_type": "stream",
          "text": [
            "<re.Match object; span=(5, 21), match='Vulnerability: 0'> <re.Match object; span=(22, 44), match='CWE ID: NOT_APPLICABLE'> <re.Match object; span=(45, 69), match='CWE Name: NOT_APPLICABLE'>\n"
          ]
        },
        {
          "name": "stderr",
          "output_type": "stream",
          "text": [
            " 27%|██▋       | 613/2253 [2:31:28<47:37,  1.74s/it]"
          ]
        },
        {
          "name": "stdout",
          "output_type": "stream",
          "text": [
            "<re.Match object; span=(5, 21), match='Vulnerability: 1'> <re.Match object; span=(22, 37), match='CWE ID: CWE-120'> <re.Match object; span=(38, 118), match=\"CWE Name: Buffer Copy without Checking Size of In>\n"
          ]
        },
        {
          "name": "stderr",
          "output_type": "stream",
          "text": [
            " 27%|██▋       | 614/2253 [2:31:30<46:39,  1.71s/it]"
          ]
        },
        {
          "name": "stdout",
          "output_type": "stream",
          "text": [
            "<re.Match object; span=(5, 21), match='Vulnerability: 0'> <re.Match object; span=(22, 44), match='CWE ID: NOT_APPLICABLE'> <re.Match object; span=(45, 69), match='CWE Name: NOT_APPLICABLE'>\n"
          ]
        },
        {
          "name": "stderr",
          "output_type": "stream",
          "text": [
            " 27%|██▋       | 615/2253 [2:31:31<44:14,  1.62s/it]"
          ]
        },
        {
          "name": "stdout",
          "output_type": "stream",
          "text": [
            "<re.Match object; span=(5, 21), match='Vulnerability: 1'> <re.Match object; span=(22, 37), match='CWE ID: CWE-121'> <re.Match object; span=(38, 75), match='CWE Name: Stack-based Buffer Overflow'>\n"
          ]
        },
        {
          "name": "stderr",
          "output_type": "stream",
          "text": [
            " 27%|██▋       | 616/2253 [2:31:33<42:01,  1.54s/it]"
          ]
        },
        {
          "name": "stdout",
          "output_type": "stream",
          "text": [
            "<re.Match object; span=(5, 21), match='Vulnerability: 1'> <re.Match object; span=(22, 33), match='CWE ID: 190'> <re.Match object; span=(34, 60), match='CWE Name: Integer Overflow'>\n"
          ]
        },
        {
          "name": "stderr",
          "output_type": "stream",
          "text": [
            " 27%|██▋       | 617/2253 [2:31:34<40:25,  1.48s/it]"
          ]
        },
        {
          "name": "stdout",
          "output_type": "stream",
          "text": [
            "<re.Match object; span=(4, 20), match='Vulnerability: 0'> <re.Match object; span=(21, 43), match='CWE ID: NOT_APPLICABLE'> <re.Match object; span=(44, 68), match='CWE Name: NOT_APPLICABLE'>\n"
          ]
        },
        {
          "name": "stderr",
          "output_type": "stream",
          "text": [
            " 27%|██▋       | 618/2253 [2:31:36<41:00,  1.50s/it]"
          ]
        },
        {
          "name": "stdout",
          "output_type": "stream",
          "text": [
            "<re.Match object; span=(5, 21), match='Vulnerability: 1'> <re.Match object; span=(22, 37), match='CWE ID: CWE-119'> <re.Match object; span=(38, 119), match='CWE Name: Improper Restriction of Operations with>\n"
          ]
        },
        {
          "name": "stderr",
          "output_type": "stream",
          "text": [
            " 27%|██▋       | 619/2253 [2:31:38<44:34,  1.64s/it]"
          ]
        },
        {
          "name": "stdout",
          "output_type": "stream",
          "text": [
            "<re.Match object; span=(8, 24), match='Vulnerability: 0'> <re.Match object; span=(25, 47), match='CWE ID: NOT_APPLICABLE'> <re.Match object; span=(48, 72), match='CWE Name: NOT_APPLICABLE'>\n"
          ]
        },
        {
          "name": "stderr",
          "output_type": "stream",
          "text": [
            " 28%|██▊       | 620/2253 [2:31:40<52:06,  1.91s/it]"
          ]
        },
        {
          "name": "stdout",
          "output_type": "stream",
          "text": [
            "<re.Match object; span=(7, 23), match='Vulnerability: 1'> <re.Match object; span=(24, 39), match='CWE ID: CWE-125'> <re.Match object; span=(40, 68), match='CWE Name: Out-of-bounds Read'>\n"
          ]
        },
        {
          "name": "stderr",
          "output_type": "stream",
          "text": [
            " 28%|██▊       | 621/2253 [2:31:42<53:34,  1.97s/it]"
          ]
        },
        {
          "name": "stdout",
          "output_type": "stream",
          "text": [
            "<re.Match object; span=(5, 21), match='Vulnerability: 1'> <re.Match object; span=(22, 33), match='CWE ID: 121'> <re.Match object; span=(34, 71), match='CWE Name: Stack-based Buffer Overflow'>\n"
          ]
        },
        {
          "name": "stderr",
          "output_type": "stream",
          "text": [
            " 28%|██▊       | 622/2253 [2:31:44<48:21,  1.78s/it]"
          ]
        },
        {
          "name": "stdout",
          "output_type": "stream",
          "text": [
            "<re.Match object; span=(5, 21), match='Vulnerability: 0'> <re.Match object; span=(22, 44), match='CWE ID: NOT_APPLICABLE'> <re.Match object; span=(45, 69), match='CWE Name: NOT_APPLICABLE'>\n"
          ]
        },
        {
          "name": "stderr",
          "output_type": "stream",
          "text": [
            " 28%|██▊       | 623/2253 [2:31:45<46:20,  1.71s/it]"
          ]
        },
        {
          "name": "stdout",
          "output_type": "stream",
          "text": [
            "<re.Match object; span=(5, 21), match='Vulnerability: 0'> <re.Match object; span=(22, 44), match='CWE ID: NOT_APPLICABLE'> <re.Match object; span=(45, 69), match='CWE Name: NOT_APPLICABLE'>\n"
          ]
        },
        {
          "name": "stderr",
          "output_type": "stream",
          "text": [
            " 28%|██▊       | 624/2253 [2:31:47<44:05,  1.62s/it]"
          ]
        },
        {
          "name": "stdout",
          "output_type": "stream",
          "text": [
            "<re.Match object; span=(5, 21), match='Vulnerability: 0'> <re.Match object; span=(22, 44), match='CWE ID: NOT_APPLICABLE'> <re.Match object; span=(45, 69), match='CWE Name: NOT_APPLICABLE'>\n"
          ]
        },
        {
          "name": "stderr",
          "output_type": "stream",
          "text": [
            " 28%|██▊       | 625/2253 [2:31:48<43:39,  1.61s/it]"
          ]
        },
        {
          "name": "stdout",
          "output_type": "stream",
          "text": [
            "<re.Match object; span=(5, 21), match='Vulnerability: 1'> <re.Match object; span=(22, 37), match='CWE ID: CWE-119'> <re.Match object; span=(38, 119), match='CWE Name: Improper Restriction of Operations with>\n"
          ]
        },
        {
          "name": "stderr",
          "output_type": "stream",
          "text": [
            " 28%|██▊       | 626/2253 [2:31:50<43:37,  1.61s/it]"
          ]
        },
        {
          "name": "stdout",
          "output_type": "stream",
          "text": [
            "<re.Match object; span=(10, 26), match='Vulnerability: 1'> <re.Match object; span=(27, 41), match='CWE ID: CWE-20'> <re.Match object; span=(42, 77), match='CWE Name: Improper Input Validation'>\n"
          ]
        },
        {
          "name": "stderr",
          "output_type": "stream",
          "text": [
            " 28%|██▊       | 627/2253 [2:31:51<42:24,  1.56s/it]"
          ]
        },
        {
          "name": "stdout",
          "output_type": "stream",
          "text": [
            "<re.Match object; span=(4, 20), match='Vulnerability: 0'> <re.Match object; span=(21, 43), match='CWE ID: NOT_APPLICABLE'> <re.Match object; span=(44, 68), match='CWE Name: NOT_APPLICABLE'>\n"
          ]
        },
        {
          "name": "stderr",
          "output_type": "stream",
          "text": [
            " 28%|██▊       | 628/2253 [2:31:53<41:53,  1.55s/it]"
          ]
        },
        {
          "name": "stdout",
          "output_type": "stream",
          "text": [
            "<re.Match object; span=(8, 24), match='Vulnerability: 0'> <re.Match object; span=(25, 47), match='CWE ID: NOT_APPLICABLE'> <re.Match object; span=(48, 72), match='CWE Name: NOT_APPLICABLE'>\n"
          ]
        },
        {
          "name": "stderr",
          "output_type": "stream",
          "text": [
            " 28%|██▊       | 629/2253 [2:31:54<41:45,  1.54s/it]"
          ]
        },
        {
          "name": "stdout",
          "output_type": "stream",
          "text": [
            "<re.Match object; span=(5, 21), match='Vulnerability: 0'> <re.Match object; span=(22, 44), match='CWE ID: NOT_APPLICABLE'> <re.Match object; span=(45, 69), match='CWE Name: NOT_APPLICABLE'>\n"
          ]
        },
        {
          "name": "stderr",
          "output_type": "stream",
          "text": [
            " 28%|██▊       | 630/2253 [2:31:56<41:33,  1.54s/it]"
          ]
        },
        {
          "name": "stdout",
          "output_type": "stream",
          "text": [
            "<re.Match object; span=(5, 21), match='Vulnerability: 0'> <re.Match object; span=(22, 44), match='CWE ID: NOT_APPLICABLE'> <re.Match object; span=(45, 69), match='CWE Name: NOT_APPLICABLE'>\n"
          ]
        },
        {
          "name": "stderr",
          "output_type": "stream",
          "text": [
            " 28%|██▊       | 631/2253 [2:31:59<56:37,  2.09s/it]"
          ]
        },
        {
          "name": "stdout",
          "output_type": "stream",
          "text": [
            "<re.Match object; span=(10, 26), match='Vulnerability: 1'> <re.Match object; span=(27, 42), match='CWE ID: CWE-787'> <re.Match object; span=(43, 72), match='CWE Name: Out-of-bounds Write'>\n"
          ]
        },
        {
          "name": "stderr",
          "output_type": "stream",
          "text": [
            " 28%|██▊       | 632/2253 [2:32:01<53:43,  1.99s/it]"
          ]
        },
        {
          "name": "stdout",
          "output_type": "stream",
          "text": [
            "<re.Match object; span=(12, 28), match='Vulnerability: 0'> <re.Match object; span=(29, 51), match='CWE ID: NOT_APPLICABLE'> <re.Match object; span=(52, 76), match='CWE Name: NOT_APPLICABLE'>\n"
          ]
        },
        {
          "name": "stderr",
          "output_type": "stream",
          "text": [
            " 28%|██▊       | 633/2253 [2:32:02<48:52,  1.81s/it]"
          ]
        },
        {
          "name": "stdout",
          "output_type": "stream",
          "text": [
            "<re.Match object; span=(5, 21), match='Vulnerability: 0'> <re.Match object; span=(22, 44), match='CWE ID: NOT_APPLICABLE'> <re.Match object; span=(45, 69), match='CWE Name: NOT_APPLICABLE'>\n"
          ]
        },
        {
          "name": "stderr",
          "output_type": "stream",
          "text": [
            " 28%|██▊       | 634/2253 [2:32:04<46:02,  1.71s/it]"
          ]
        },
        {
          "name": "stdout",
          "output_type": "stream",
          "text": [
            "<re.Match object; span=(10, 26), match='Vulnerability: 0'> <re.Match object; span=(27, 49), match='CWE ID: NOT_APPLICABLE'> <re.Match object; span=(50, 74), match='CWE Name: NOT_APPLICABLE'>\n"
          ]
        },
        {
          "name": "stderr",
          "output_type": "stream",
          "text": [
            " 28%|██▊       | 635/2253 [2:32:06<46:59,  1.74s/it]"
          ]
        },
        {
          "name": "stdout",
          "output_type": "stream",
          "text": [
            "<re.Match object; span=(5, 21), match='Vulnerability: 0'> <re.Match object; span=(22, 44), match='CWE ID: NOT_APPLICABLE'> <re.Match object; span=(45, 69), match='CWE Name: NOT_APPLICABLE'>\n"
          ]
        },
        {
          "name": "stderr",
          "output_type": "stream",
          "text": [
            " 28%|██▊       | 636/2253 [2:32:07<43:51,  1.63s/it]"
          ]
        },
        {
          "name": "stdout",
          "output_type": "stream",
          "text": [
            "<re.Match object; span=(5, 21), match='Vulnerability: 0'> <re.Match object; span=(22, 44), match='CWE ID: NOT_APPLICABLE'> <re.Match object; span=(45, 69), match='CWE Name: NOT_APPLICABLE'>\n"
          ]
        },
        {
          "name": "stderr",
          "output_type": "stream",
          "text": [
            " 28%|██▊       | 637/2253 [2:32:09<43:12,  1.60s/it]"
          ]
        },
        {
          "name": "stdout",
          "output_type": "stream",
          "text": [
            "<re.Match object; span=(5, 21), match='Vulnerability: 0'> <re.Match object; span=(22, 44), match='CWE ID: NOT_APPLICABLE'> <re.Match object; span=(45, 69), match='CWE Name: NOT_APPLICABLE'>\n"
          ]
        },
        {
          "name": "stderr",
          "output_type": "stream",
          "text": [
            " 28%|██▊       | 638/2253 [2:32:10<41:22,  1.54s/it]"
          ]
        },
        {
          "name": "stdout",
          "output_type": "stream",
          "text": [
            "<re.Match object; span=(5, 21), match='Vulnerability: 1'> <re.Match object; span=(22, 37), match='CWE ID: CWE-125'> <re.Match object; span=(38, 66), match='CWE Name: Out-of-bounds Read'>\n"
          ]
        },
        {
          "name": "stderr",
          "output_type": "stream",
          "text": [
            " 28%|██▊       | 639/2253 [2:32:12<44:57,  1.67s/it]"
          ]
        },
        {
          "name": "stdout",
          "output_type": "stream",
          "text": [
            "<re.Match object; span=(5, 21), match='Vulnerability: 1'> <re.Match object; span=(22, 37), match='CWE ID: CWE-824'> <re.Match object; span=(38, 79), match='CWE Name: Access of Uninitialized Pointer'>\n"
          ]
        },
        {
          "name": "stderr",
          "output_type": "stream",
          "text": [
            " 28%|██▊       | 640/2253 [2:32:13<42:44,  1.59s/it]"
          ]
        },
        {
          "name": "stdout",
          "output_type": "stream",
          "text": [
            "<re.Match object; span=(10, 26), match='Vulnerability: 0'> <re.Match object; span=(27, 49), match='CWE ID: NOT_APPLICABLE'> <re.Match object; span=(50, 74), match='CWE Name: NOT_APPLICABLE'>\n"
          ]
        },
        {
          "name": "stderr",
          "output_type": "stream",
          "text": [
            " 28%|██▊       | 641/2253 [2:32:15<43:36,  1.62s/it]"
          ]
        },
        {
          "name": "stdout",
          "output_type": "stream",
          "text": [
            "<re.Match object; span=(8, 24), match='Vulnerability: 0'> <re.Match object; span=(25, 47), match='CWE ID: NOT_APPLICABLE'> <re.Match object; span=(48, 72), match='CWE Name: NOT_APPLICABLE'>\n"
          ]
        },
        {
          "name": "stderr",
          "output_type": "stream",
          "text": [
            " 28%|██▊       | 642/2253 [2:32:17<44:21,  1.65s/it]"
          ]
        },
        {
          "name": "stdout",
          "output_type": "stream",
          "text": [
            "<re.Match object; span=(5, 21), match='Vulnerability: 0'> <re.Match object; span=(22, 44), match='CWE ID: NOT_APPLICABLE'> <re.Match object; span=(45, 69), match='CWE Name: NOT_APPLICABLE'>\n"
          ]
        },
        {
          "name": "stderr",
          "output_type": "stream",
          "text": [
            " 29%|██▊       | 643/2253 [2:32:18<43:21,  1.62s/it]"
          ]
        },
        {
          "name": "stdout",
          "output_type": "stream",
          "text": [
            "<re.Match object; span=(5, 21), match='Vulnerability: 1'> <re.Match object; span=(22, 37), match='CWE ID: CWE-119'> <re.Match object; span=(38, 119), match='CWE Name: Improper Restriction of Operations with>\n"
          ]
        },
        {
          "name": "stderr",
          "output_type": "stream",
          "text": [
            " 29%|██▊       | 644/2253 [2:32:20<42:37,  1.59s/it]"
          ]
        },
        {
          "name": "stdout",
          "output_type": "stream",
          "text": [
            "<re.Match object; span=(10, 26), match='Vulnerability: 1'> <re.Match object; span=(27, 42), match='CWE ID: CWE-125'> <re.Match object; span=(43, 71), match='CWE Name: Out-of-bounds Read'>\n"
          ]
        },
        {
          "name": "stderr",
          "output_type": "stream",
          "text": [
            " 29%|██▊       | 645/2253 [2:32:22<44:20,  1.65s/it]"
          ]
        },
        {
          "name": "stdout",
          "output_type": "stream",
          "text": [
            "<re.Match object; span=(5, 21), match='Vulnerability: 1'> <re.Match object; span=(22, 37), match='CWE ID: CWE-119'> <re.Match object; span=(38, 119), match='CWE Name: Improper Restriction of Operations with>\n"
          ]
        },
        {
          "name": "stderr",
          "output_type": "stream",
          "text": [
            " 29%|██▊       | 646/2253 [2:32:23<43:44,  1.63s/it]"
          ]
        },
        {
          "name": "stdout",
          "output_type": "stream",
          "text": [
            "<re.Match object; span=(5, 21), match='Vulnerability: 1'> <re.Match object; span=(22, 37), match='CWE ID: CWE-416'> <re.Match object; span=(38, 62), match='CWE Name: Use After Free'>\n"
          ]
        },
        {
          "name": "stderr",
          "output_type": "stream",
          "text": [
            " 29%|██▊       | 647/2253 [2:32:25<43:42,  1.63s/it]"
          ]
        },
        {
          "name": "stdout",
          "output_type": "stream",
          "text": [
            "<re.Match object; span=(5, 21), match='Vulnerability: 0'> <re.Match object; span=(22, 44), match='CWE ID: NOT_APPLICABLE'> <re.Match object; span=(45, 69), match='CWE Name: NOT_APPLICABLE'>\n"
          ]
        },
        {
          "name": "stderr",
          "output_type": "stream",
          "text": [
            " 29%|██▉       | 648/2253 [2:32:26<42:09,  1.58s/it]"
          ]
        },
        {
          "name": "stdout",
          "output_type": "stream",
          "text": [
            "<re.Match object; span=(5, 21), match='Vulnerability: 0'> <re.Match object; span=(22, 44), match='CWE ID: NOT_APPLICABLE'> <re.Match object; span=(45, 69), match='CWE Name: NOT_APPLICABLE'>\n"
          ]
        },
        {
          "name": "stderr",
          "output_type": "stream",
          "text": [
            " 29%|██▉       | 649/2253 [2:32:28<43:21,  1.62s/it]"
          ]
        },
        {
          "name": "stdout",
          "output_type": "stream",
          "text": [
            "<re.Match object; span=(5, 21), match='Vulnerability: 1'> <re.Match object; span=(22, 37), match='CWE ID: CWE-125'> <re.Match object; span=(38, 66), match='CWE Name: Out-of-bounds Read'>\n"
          ]
        },
        {
          "name": "stderr",
          "output_type": "stream",
          "text": [
            " 29%|██▉       | 650/2253 [2:32:30<48:16,  1.81s/it]"
          ]
        },
        {
          "name": "stdout",
          "output_type": "stream",
          "text": [
            "<re.Match object; span=(5, 21), match='Vulnerability: 1'> <re.Match object; span=(22, 37), match='CWE ID: CWE-825'> <re.Match object; span=(38, 77), match='CWE Name: Expired or Invalid Identifier'>\n"
          ]
        },
        {
          "name": "stderr",
          "output_type": "stream",
          "text": [
            " 29%|██▉       | 651/2253 [2:32:32<46:15,  1.73s/it]"
          ]
        },
        {
          "name": "stdout",
          "output_type": "stream",
          "text": [
            "<re.Match object; span=(5, 21), match='Vulnerability: 0'> <re.Match object; span=(22, 44), match='CWE ID: NOT_APPLICABLE'> <re.Match object; span=(45, 69), match='CWE Name: NOT_APPLICABLE'>\n"
          ]
        },
        {
          "name": "stderr",
          "output_type": "stream",
          "text": [
            " 29%|██▉       | 652/2253 [2:32:37<1:17:00,  2.89s/it]"
          ]
        },
        {
          "name": "stdout",
          "output_type": "stream",
          "text": [
            "<re.Match object; span=(10, 26), match='Vulnerability: 1'> <re.Match object; span=(27, 42), match='CWE ID: CWE-125'> <re.Match object; span=(43, 71), match='CWE Name: Out-of-bounds Read'>\n"
          ]
        },
        {
          "name": "stderr",
          "output_type": "stream",
          "text": [
            " 29%|██▉       | 653/2253 [2:32:41<1:25:23,  3.20s/it]"
          ]
        },
        {
          "name": "stdout",
          "output_type": "stream",
          "text": [
            "<re.Match object; span=(10, 26), match='Vulnerability: 1'> <re.Match object; span=(27, 42), match='CWE ID: CWE-264'> <re.Match object; span=(43, 97), match='CWE Name: Permissions, Privileges, and Access Con>\n"
          ]
        },
        {
          "name": "stderr",
          "output_type": "stream",
          "text": [
            " 29%|██▉       | 654/2253 [2:32:43<1:16:27,  2.87s/it]"
          ]
        },
        {
          "name": "stdout",
          "output_type": "stream",
          "text": [
            "<re.Match object; span=(5, 21), match='Vulnerability: 0'> <re.Match object; span=(22, 44), match='CWE ID: NOT_APPLICABLE'> <re.Match object; span=(45, 69), match='CWE Name: NOT_APPLICABLE'>\n"
          ]
        },
        {
          "name": "stderr",
          "output_type": "stream",
          "text": [
            " 29%|██▉       | 655/2253 [2:32:45<1:08:43,  2.58s/it]"
          ]
        },
        {
          "name": "stdout",
          "output_type": "stream",
          "text": [
            "<re.Match object; span=(5, 21), match='Vulnerability: 0'> <re.Match object; span=(22, 44), match='CWE ID: NOT_APPLICABLE'> <re.Match object; span=(45, 69), match='CWE Name: NOT_APPLICABLE'>\n"
          ]
        },
        {
          "name": "stderr",
          "output_type": "stream",
          "text": [
            " 29%|██▉       | 656/2253 [2:32:47<1:04:27,  2.42s/it]"
          ]
        },
        {
          "name": "stdout",
          "output_type": "stream",
          "text": [
            "<re.Match object; span=(5, 21), match='Vulnerability: 1'> <re.Match object; span=(22, 37), match='CWE ID: CWE-189'> <re.Match object; span=(38, 62), match='CWE Name: Numeric Errors'>\n"
          ]
        },
        {
          "name": "stderr",
          "output_type": "stream",
          "text": [
            " 29%|██▉       | 657/2253 [2:32:49<57:40,  2.17s/it]  "
          ]
        },
        {
          "name": "stdout",
          "output_type": "stream",
          "text": [
            "<re.Match object; span=(8, 24), match='Vulnerability: 1'> <re.Match object; span=(25, 40), match='CWE ID: CWE-416'> <re.Match object; span=(41, 65), match='CWE Name: Use After Free'>\n"
          ]
        },
        {
          "name": "stderr",
          "output_type": "stream",
          "text": [
            " 29%|██▉       | 658/2253 [2:32:50<51:55,  1.95s/it]"
          ]
        },
        {
          "name": "stdout",
          "output_type": "stream",
          "text": [
            "<re.Match object; span=(5, 21), match='Vulnerability: 1'> <re.Match object; span=(22, 37), match='CWE ID: CWE-119'> <re.Match object; span=(38, 119), match='CWE Name: Improper Restriction of Operations with>\n"
          ]
        },
        {
          "name": "stderr",
          "output_type": "stream",
          "text": [
            " 29%|██▉       | 659/2253 [2:32:52<48:05,  1.81s/it]"
          ]
        },
        {
          "name": "stdout",
          "output_type": "stream",
          "text": [
            "<re.Match object; span=(5, 21), match='Vulnerability: 0'> <re.Match object; span=(22, 44), match='CWE ID: NOT_APPLICABLE'> <re.Match object; span=(45, 70), match='CWE Name: NOT_APP LICABLE'>\n"
          ]
        },
        {
          "name": "stderr",
          "output_type": "stream",
          "text": [
            " 29%|██▉       | 660/2253 [2:32:53<44:52,  1.69s/it]"
          ]
        },
        {
          "name": "stdout",
          "output_type": "stream",
          "text": [
            "<re.Match object; span=(4, 20), match='Vulnerability: 0'> <re.Match object; span=(21, 43), match='CWE ID: NOT_APPLICABLE'> <re.Match object; span=(44, 68), match='CWE Name: NOT_APPLICABLE'>\n"
          ]
        },
        {
          "name": "stderr",
          "output_type": "stream",
          "text": [
            " 29%|██▉       | 661/2253 [2:32:55<42:03,  1.58s/it]"
          ]
        },
        {
          "name": "stdout",
          "output_type": "stream",
          "text": [
            "<re.Match object; span=(5, 21), match='Vulnerability: 1'> <re.Match object; span=(22, 37), match='CWE ID: CWE-200'> <re.Match object; span=(38, 106), match='CWE Name: Exposure of Sensitive Information to an>\n"
          ]
        },
        {
          "name": "stderr",
          "output_type": "stream",
          "text": [
            " 29%|██▉       | 662/2253 [2:32:56<40:20,  1.52s/it]"
          ]
        },
        {
          "name": "stdout",
          "output_type": "stream",
          "text": [
            "<re.Match object; span=(5, 21), match='Vulnerability: 0'> <re.Match object; span=(22, 44), match='CWE ID: NOT_APPLICABLE'> <re.Match object; span=(45, 69), match='CWE Name: NOT_APPLICABLE'>\n"
          ]
        },
        {
          "name": "stderr",
          "output_type": "stream",
          "text": [
            " 29%|██▉       | 663/2253 [2:32:57<39:22,  1.49s/it]"
          ]
        },
        {
          "name": "stdout",
          "output_type": "stream",
          "text": [
            "<re.Match object; span=(8, 24), match='Vulnerability: 0'> <re.Match object; span=(25, 47), match='CWE ID: NOT_APPLICABLE'> <re.Match object; span=(48, 72), match='CWE Name: NOT_APPLICABLE'>\n"
          ]
        },
        {
          "name": "stderr",
          "output_type": "stream",
          "text": [
            " 29%|██▉       | 664/2253 [2:32:59<38:53,  1.47s/it]"
          ]
        },
        {
          "name": "stdout",
          "output_type": "stream",
          "text": [
            "<re.Match object; span=(5, 21), match='Vulnerability: 0'> <re.Match object; span=(22, 44), match='CWE ID: NOT_APPLICABLE'> <re.Match object; span=(45, 69), match='CWE Name: NOT_APPLICABLE'>\n"
          ]
        },
        {
          "name": "stderr",
          "output_type": "stream",
          "text": [
            " 30%|██▉       | 665/2253 [2:33:00<38:17,  1.45s/it]"
          ]
        },
        {
          "name": "stdout",
          "output_type": "stream",
          "text": [
            "<re.Match object; span=(5, 21), match='Vulnerability: 0'> <re.Match object; span=(22, 44), match='CWE ID: NOT_APPLICABLE'> <re.Match object; span=(45, 69), match='CWE Name: NOT_APPLICABLE'>\n"
          ]
        },
        {
          "name": "stderr",
          "output_type": "stream",
          "text": [
            " 30%|██▉       | 666/2253 [2:33:02<39:18,  1.49s/it]"
          ]
        },
        {
          "name": "stdout",
          "output_type": "stream",
          "text": [
            "<re.Match object; span=(5, 23), match='Vulnerability: 0.0'> <re.Match object; span=(24, 46), match='CWE ID: NOT_APPLICABLE'> <re.Match object; span=(47, 71), match='CWE Name: NOT_APPLICABLE'>\n"
          ]
        },
        {
          "name": "stderr",
          "output_type": "stream",
          "text": [
            " 30%|██▉       | 667/2253 [2:33:04<42:57,  1.63s/it]"
          ]
        },
        {
          "name": "stdout",
          "output_type": "stream",
          "text": [
            "<re.Match object; span=(5, 21), match='Vulnerability: 1'> <re.Match object; span=(22, 33), match='CWE ID: 825'> <re.Match object; span=(34, 73), match='CWE Name: Unclear Function Return Value'>\n"
          ]
        },
        {
          "name": "stderr",
          "output_type": "stream",
          "text": [
            " 30%|██▉       | 668/2253 [2:33:06<47:54,  1.81s/it]"
          ]
        },
        {
          "name": "stdout",
          "output_type": "stream",
          "text": [
            "<re.Match object; span=(5, 21), match='Vulnerability: 0'> <re.Match object; span=(22, 44), match='CWE ID: NOT_APPLICABLE'> <re.Match object; span=(45, 69), match='CWE Name: NOT_APPLICABLE'>\n"
          ]
        },
        {
          "name": "stderr",
          "output_type": "stream",
          "text": [
            " 30%|██▉       | 669/2253 [2:33:08<49:38,  1.88s/it]"
          ]
        },
        {
          "name": "stdout",
          "output_type": "stream",
          "text": [
            "<re.Match object; span=(5, 21), match='Vulnerability: 1'> <re.Match object; span=(22, 37), match='CWE ID: CWE-787'> <re.Match object; span=(38, 67), match='CWE Name: Out-of-bounds Write'>\n"
          ]
        },
        {
          "name": "stderr",
          "output_type": "stream",
          "text": [
            " 30%|██▉       | 670/2253 [2:33:09<45:14,  1.71s/it]"
          ]
        },
        {
          "name": "stdout",
          "output_type": "stream",
          "text": [
            "<re.Match object; span=(5, 21), match='Vulnerability: 1'> <re.Match object; span=(22, 37), match='CWE ID: CWE-190'> <re.Match object; span=(38, 78), match='CWE Name: Integer Overflow or Wraparound'>\n"
          ]
        },
        {
          "name": "stderr",
          "output_type": "stream",
          "text": [
            " 30%|██▉       | 671/2253 [2:33:11<42:12,  1.60s/it]"
          ]
        },
        {
          "name": "stdout",
          "output_type": "stream",
          "text": [
            "<re.Match object; span=(5, 21), match='Vulnerability: 0'> <re.Match object; span=(22, 44), match='CWE ID: NOT_APPLICABLE'> <re.Match object; span=(45, 69), match='CWE Name: NOT_APPLICABLE'>\n"
          ]
        },
        {
          "name": "stderr",
          "output_type": "stream",
          "text": [
            " 30%|██▉       | 672/2253 [2:33:12<41:39,  1.58s/it]"
          ]
        },
        {
          "name": "stdout",
          "output_type": "stream",
          "text": [
            "<re.Match object; span=(10, 26), match='Vulnerability: 1'> <re.Match object; span=(27, 42), match='CWE ID: CWE-189'> <re.Match object; span=(43, 67), match='CWE Name: Numeric Errors'>\n"
          ]
        },
        {
          "name": "stderr",
          "output_type": "stream",
          "text": [
            " 30%|██▉       | 673/2253 [2:33:14<39:38,  1.51s/it]"
          ]
        },
        {
          "name": "stdout",
          "output_type": "stream",
          "text": [
            "<re.Match object; span=(5, 21), match='Vulnerability: 1'> <re.Match object; span=(22, 37), match='CWE ID: CWE-120'> <re.Match object; span=(38, 118), match=\"CWE Name: Buffer Copy without Checking Size of In>\n"
          ]
        },
        {
          "name": "stderr",
          "output_type": "stream",
          "text": [
            " 30%|██▉       | 674/2253 [2:33:15<39:51,  1.51s/it]"
          ]
        },
        {
          "name": "stdout",
          "output_type": "stream",
          "text": [
            "<re.Match object; span=(5, 21), match='Vulnerability: 0'> <re.Match object; span=(22, 44), match='CWE ID: NOT_APPLICABLE'> <re.Match object; span=(45, 69), match='CWE Name: NOT_APPLICABLE'>\n"
          ]
        },
        {
          "name": "stderr",
          "output_type": "stream",
          "text": [
            " 30%|██▉       | 675/2253 [2:33:17<40:08,  1.53s/it]"
          ]
        },
        {
          "name": "stdout",
          "output_type": "stream",
          "text": [
            "<re.Match object; span=(10, 26), match='Vulnerability: 0'> <re.Match object; span=(27, 49), match='CWE ID: NOT_APPLICABLE'> <re.Match object; span=(50, 74), match='CWE Name: NOT_APPLICABLE'>\n"
          ]
        },
        {
          "name": "stderr",
          "output_type": "stream",
          "text": [
            " 30%|███       | 676/2253 [2:33:18<38:49,  1.48s/it]"
          ]
        },
        {
          "name": "stdout",
          "output_type": "stream",
          "text": [
            "<re.Match object; span=(5, 21), match='Vulnerability: 1'> <re.Match object; span=(22, 37), match='CWE ID: CWE-399'> <re.Match object; span=(38, 74), match='CWE Name: Resource Management Errors'>\n"
          ]
        },
        {
          "name": "stderr",
          "output_type": "stream",
          "text": [
            " 30%|███       | 677/2253 [2:33:20<40:33,  1.54s/it]"
          ]
        },
        {
          "name": "stdout",
          "output_type": "stream",
          "text": [
            "<re.Match object; span=(5, 21), match='Vulnerability: 0'> <re.Match object; span=(22, 44), match='CWE ID: NOT_APPLICABLE'> <re.Match object; span=(45, 69), match='CWE Name: NOT_APPLICABLE'>\n"
          ]
        },
        {
          "name": "stderr",
          "output_type": "stream",
          "text": [
            " 30%|███       | 678/2253 [2:33:21<40:10,  1.53s/it]"
          ]
        },
        {
          "name": "stdout",
          "output_type": "stream",
          "text": [
            "<re.Match object; span=(5, 21), match='Vulnerability: 0'> <re.Match object; span=(22, 44), match='CWE ID: NOT_APPLICABLE'> <re.Match object; span=(45, 69), match='CWE Name: NOT_APPLICABLE'>\n"
          ]
        },
        {
          "name": "stderr",
          "output_type": "stream",
          "text": [
            " 30%|███       | 679/2253 [2:33:23<39:00,  1.49s/it]"
          ]
        },
        {
          "name": "stdout",
          "output_type": "stream",
          "text": [
            "<re.Match object; span=(5, 21), match='Vulnerability: 0'> <re.Match object; span=(22, 44), match='CWE ID: NOT_APPLICABLE'> <re.Match object; span=(45, 69), match='CWE Name: NOT_APPLICABLE'>\n"
          ]
        },
        {
          "name": "stderr",
          "output_type": "stream",
          "text": [
            " 30%|███       | 680/2253 [2:33:24<40:01,  1.53s/it]"
          ]
        },
        {
          "name": "stdout",
          "output_type": "stream",
          "text": [
            "<re.Match object; span=(5, 21), match='Vulnerability: 1'> <re.Match object; span=(22, 37), match='CWE ID: CWE-787'> <re.Match object; span=(38, 67), match='CWE Name: Out-of-bounds Write'>\n"
          ]
        },
        {
          "name": "stderr",
          "output_type": "stream",
          "text": [
            " 30%|███       | 681/2253 [2:33:26<40:04,  1.53s/it]"
          ]
        },
        {
          "name": "stdout",
          "output_type": "stream",
          "text": [
            "<re.Match object; span=(5, 21), match='Vulnerability: 1'> <re.Match object; span=(22, 37), match='CWE ID: CWE-119'> <re.Match object; span=(38, 119), match='CWE Name: Improper Restriction of Operations with>\n"
          ]
        },
        {
          "name": "stderr",
          "output_type": "stream",
          "text": [
            " 30%|███       | 682/2253 [2:33:27<39:15,  1.50s/it]"
          ]
        },
        {
          "name": "stdout",
          "output_type": "stream",
          "text": [
            "<re.Match object; span=(5, 21), match='Vulnerability: 1'> <re.Match object; span=(22, 33), match='CWE ID: 688'> <re.Match object; span=(34, 94), match='CWE Name: Function Call With Incorrect Variable o>\n"
          ]
        },
        {
          "name": "stderr",
          "output_type": "stream",
          "text": [
            " 30%|███       | 683/2253 [2:33:29<39:38,  1.51s/it]"
          ]
        },
        {
          "name": "stdout",
          "output_type": "stream",
          "text": [
            "<re.Match object; span=(5, 21), match='Vulnerability: 0'> <re.Match object; span=(22, 44), match='CWE ID: NOT_APPLICABLE'> <re.Match object; span=(45, 69), match='CWE Name: NOT_APPLICABLE'>\n"
          ]
        },
        {
          "name": "stderr",
          "output_type": "stream",
          "text": [
            " 30%|███       | 684/2253 [2:33:30<38:36,  1.48s/it]"
          ]
        },
        {
          "name": "stdout",
          "output_type": "stream",
          "text": [
            "<re.Match object; span=(5, 21), match='Vulnerability: 0'> <re.Match object; span=(22, 44), match='CWE ID: NOT_APPLICABLE'> <re.Match object; span=(45, 69), match='CWE Name: NOT_APPLICABLE'>\n"
          ]
        },
        {
          "name": "stderr",
          "output_type": "stream",
          "text": [
            " 30%|███       | 685/2253 [2:33:32<39:08,  1.50s/it]"
          ]
        },
        {
          "name": "stdout",
          "output_type": "stream",
          "text": [
            "<re.Match object; span=(5, 21), match='Vulnerability: 0'> <re.Match object; span=(22, 44), match='CWE ID: NOT_APPLICABLE'> <re.Match object; span=(45, 69), match='CWE Name: NOT_APPLICABLE'>\n"
          ]
        },
        {
          "name": "stderr",
          "output_type": "stream",
          "text": [
            " 30%|███       | 686/2253 [2:33:33<39:38,  1.52s/it]"
          ]
        },
        {
          "name": "stdout",
          "output_type": "stream",
          "text": [
            "<re.Match object; span=(5, 21), match='Vulnerability: 0'> <re.Match object; span=(22, 44), match='CWE ID: NOT_APPLICABLE'> <re.Match object; span=(45, 69), match='CWE Name: NOT_APPLICABLE'>\n"
          ]
        },
        {
          "name": "stderr",
          "output_type": "stream",
          "text": [
            " 30%|███       | 687/2253 [2:33:35<38:55,  1.49s/it]"
          ]
        },
        {
          "name": "stdout",
          "output_type": "stream",
          "text": [
            "<re.Match object; span=(5, 21), match='Vulnerability: 1'> <re.Match object; span=(22, 37), match='CWE ID: CWE-119'> <re.Match object; span=(38, 119), match='CWE Name: Improper Restriction of Operations with>\n"
          ]
        },
        {
          "name": "stderr",
          "output_type": "stream",
          "text": [
            " 31%|███       | 688/2253 [2:33:36<39:15,  1.51s/it]"
          ]
        },
        {
          "name": "stdout",
          "output_type": "stream",
          "text": [
            "<re.Match object; span=(5, 21), match='Vulnerability: 0'> <re.Match object; span=(22, 44), match='CWE ID: NOT_APPLICABLE'> <re.Match object; span=(45, 69), match='CWE Name: NOT_APPLICABLE'>\n"
          ]
        },
        {
          "name": "stderr",
          "output_type": "stream",
          "text": [
            " 31%|███       | 689/2253 [2:33:38<38:09,  1.46s/it]"
          ]
        },
        {
          "name": "stdout",
          "output_type": "stream",
          "text": [
            "<re.Match object; span=(10, 26), match='Vulnerability: 1'> <re.Match object; span=(27, 42), match='CWE ID: CWE-125'> <re.Match object; span=(43, 71), match='CWE Name: Out-of-bounds Read'>\n"
          ]
        },
        {
          "name": "stderr",
          "output_type": "stream",
          "text": [
            " 31%|███       | 690/2253 [2:33:39<40:05,  1.54s/it]"
          ]
        },
        {
          "name": "stdout",
          "output_type": "stream",
          "text": [
            "<re.Match object; span=(5, 21), match='Vulnerability: 0'> <re.Match object; span=(22, 44), match='CWE ID: NOT_APPLICABLE'> <re.Match object; span=(45, 69), match='CWE Name: NOT_APPLICABLE'>\n"
          ]
        },
        {
          "name": "stderr",
          "output_type": "stream",
          "text": [
            " 31%|███       | 691/2253 [2:33:41<39:08,  1.50s/it]"
          ]
        },
        {
          "name": "stdout",
          "output_type": "stream",
          "text": [
            "<re.Match object; span=(5, 21), match='Vulnerability: 1'> <re.Match object; span=(22, 37), match='CWE ID: CWE-120'> <re.Match object; span=(38, 110), match=\"CWE Name: Buffer Copy without Checking Size of In>\n"
          ]
        },
        {
          "name": "stderr",
          "output_type": "stream",
          "text": [
            " 31%|███       | 692/2253 [2:33:42<38:32,  1.48s/it]"
          ]
        },
        {
          "name": "stdout",
          "output_type": "stream",
          "text": [
            "<re.Match object; span=(5, 21), match='Vulnerability: 1'> <re.Match object; span=(22, 37), match='CWE ID: CWE-119'> <re.Match object; span=(38, 119), match='CWE Name: Improper Restriction of Operations with>\n"
          ]
        },
        {
          "name": "stderr",
          "output_type": "stream",
          "text": [
            " 31%|███       | 693/2253 [2:33:44<38:59,  1.50s/it]"
          ]
        },
        {
          "name": "stdout",
          "output_type": "stream",
          "text": [
            "<re.Match object; span=(5, 21), match='Vulnerability: 0'> <re.Match object; span=(22, 44), match='CWE ID: NOT_APPLICABLE'> <re.Match object; span=(45, 69), match='CWE Name: NOT_APPLICABLE'>\n"
          ]
        },
        {
          "name": "stderr",
          "output_type": "stream",
          "text": [
            " 31%|███       | 694/2253 [2:33:45<40:51,  1.57s/it]"
          ]
        },
        {
          "name": "stdout",
          "output_type": "stream",
          "text": [
            "<re.Match object; span=(5, 21), match='Vulnerability: 0'> <re.Match object; span=(22, 44), match='CWE ID: NOT_APPLICABLE'> <re.Match object; span=(45, 69), match='CWE Name: NOT_APPLICABLE'>\n"
          ]
        },
        {
          "name": "stderr",
          "output_type": "stream",
          "text": [
            " 31%|███       | 695/2253 [2:33:47<40:31,  1.56s/it]"
          ]
        },
        {
          "name": "stdout",
          "output_type": "stream",
          "text": [
            "<re.Match object; span=(12, 28), match='Vulnerability: 1'> <re.Match object; span=(29, 44), match='CWE ID: CWE-125'> <re.Match object; span=(45, 73), match='CWE Name: Out-of-bounds Read'>\n"
          ]
        },
        {
          "name": "stderr",
          "output_type": "stream",
          "text": [
            " 31%|███       | 696/2253 [2:33:49<42:45,  1.65s/it]"
          ]
        },
        {
          "name": "stdout",
          "output_type": "stream",
          "text": [
            "<re.Match object; span=(5, 21), match='Vulnerability: 1'> <re.Match object; span=(22, 37), match='CWE ID: CWE-476'> <re.Match object; span=(38, 72), match='CWE Name: NULL Pointer Dereference'>\n"
          ]
        },
        {
          "name": "stderr",
          "output_type": "stream",
          "text": [
            " 31%|███       | 697/2253 [2:33:51<43:23,  1.67s/it]"
          ]
        },
        {
          "name": "stdout",
          "output_type": "stream",
          "text": [
            "<re.Match object; span=(14, 30), match='Vulnerability: 0'> <re.Match object; span=(31, 53), match='CWE ID: NOT_APPLICABLE'> <re.Match object; span=(54, 78), match='CWE Name: NOT_APPLICABLE'>\n"
          ]
        },
        {
          "name": "stderr",
          "output_type": "stream",
          "text": [
            " 31%|███       | 698/2253 [2:33:52<40:28,  1.56s/it]"
          ]
        },
        {
          "name": "stdout",
          "output_type": "stream",
          "text": [
            "<re.Match object; span=(10, 26), match='Vulnerability: 0'> <re.Match object; span=(27, 49), match='CWE ID: NOT_APPLICABLE'> <re.Match object; span=(50, 74), match='CWE Name: NOT_APPLICABLE'>\n"
          ]
        },
        {
          "name": "stderr",
          "output_type": "stream",
          "text": [
            " 31%|███       | 699/2253 [2:33:53<40:20,  1.56s/it]"
          ]
        },
        {
          "name": "stdout",
          "output_type": "stream",
          "text": [
            "<re.Match object; span=(5, 21), match='Vulnerability: 0'> <re.Match object; span=(22, 44), match='CWE ID: NOT_APPLICABLE'> <re.Match object; span=(45, 69), match='CWE Name: NOT_APPLICABLE'>\n"
          ]
        },
        {
          "name": "stderr",
          "output_type": "stream",
          "text": [
            " 31%|███       | 700/2253 [2:33:55<40:16,  1.56s/it]"
          ]
        },
        {
          "name": "stdout",
          "output_type": "stream",
          "text": [
            "<re.Match object; span=(5, 21), match='Vulnerability: 1'> <re.Match object; span=(22, 37), match='CWE ID: CWE-454'> <re.Match object; span=(38, 100), match='CWE Name: External Initialization of Trusted Vari>\n"
          ]
        },
        {
          "name": "stderr",
          "output_type": "stream",
          "text": [
            " 31%|███       | 701/2253 [2:33:57<41:39,  1.61s/it]"
          ]
        },
        {
          "name": "stdout",
          "output_type": "stream",
          "text": [
            "<re.Match object; span=(5, 21), match='Vulnerability: 0'> <re.Match object; span=(22, 44), match='CWE ID: NOT_APPLICABLE'> <re.Match object; span=(45, 69), match='CWE Name: NOT_APPLICABLE'>\n"
          ]
        },
        {
          "name": "stderr",
          "output_type": "stream",
          "text": [
            " 31%|███       | 702/2253 [2:33:58<40:01,  1.55s/it]"
          ]
        },
        {
          "name": "stdout",
          "output_type": "stream",
          "text": [
            "<re.Match object; span=(4, 20), match='Vulnerability: 1'> <re.Match object; span=(21, 36), match='CWE ID: CWE-119'> <re.Match object; span=(37, 118), match='CWE Name: Improper Restriction of Operations with>\n"
          ]
        },
        {
          "name": "stderr",
          "output_type": "stream",
          "text": [
            " 31%|███       | 703/2253 [2:34:00<39:25,  1.53s/it]"
          ]
        },
        {
          "name": "stdout",
          "output_type": "stream",
          "text": [
            "<re.Match object; span=(8, 24), match='Vulnerability: 0'> <re.Match object; span=(25, 47), match='CWE ID: NOT_APPLICABLE'> <re.Match object; span=(48, 72), match='CWE Name: NOT_APPLICABLE'>\n"
          ]
        },
        {
          "name": "stderr",
          "output_type": "stream",
          "text": [
            " 31%|███       | 704/2253 [2:34:01<39:27,  1.53s/it]"
          ]
        },
        {
          "name": "stdout",
          "output_type": "stream",
          "text": [
            "<re.Match object; span=(5, 21), match='Vulnerability: 0'> <re.Match object; span=(22, 44), match='CWE ID: NOT_APPLICABLE'> <re.Match object; span=(45, 69), match='CWE Name: NOT_APPLICABLE'>\n"
          ]
        },
        {
          "name": "stderr",
          "output_type": "stream",
          "text": [
            " 31%|███▏      | 705/2253 [2:34:02<37:57,  1.47s/it]"
          ]
        },
        {
          "name": "stdout",
          "output_type": "stream",
          "text": [
            "<re.Match object; span=(5, 21), match='Vulnerability: 1'> <re.Match object; span=(22, 37), match='CWE ID: CWE-125'> <re.Match object; span=(38, 66), match='CWE Name: Out-of-bounds Read'>\n"
          ]
        },
        {
          "name": "stderr",
          "output_type": "stream",
          "text": [
            " 31%|███▏      | 706/2253 [2:34:04<38:24,  1.49s/it]"
          ]
        },
        {
          "name": "stdout",
          "output_type": "stream",
          "text": [
            "<re.Match object; span=(8, 24), match='Vulnerability: 1'> <re.Match object; span=(25, 40), match='CWE ID: CWE-119'> <re.Match object; span=(41, 122), match='CWE Name: Improper Restriction of Operations with>\n"
          ]
        },
        {
          "name": "stderr",
          "output_type": "stream",
          "text": [
            " 31%|███▏      | 707/2253 [2:34:05<37:54,  1.47s/it]"
          ]
        },
        {
          "name": "stdout",
          "output_type": "stream",
          "text": [
            "<re.Match object; span=(5, 21), match='Vulnerability: 1'> <re.Match object; span=(22, 37), match='CWE ID: CWE-476'> <re.Match object; span=(38, 72), match='CWE Name: NULL Pointer Dereference'>\n"
          ]
        },
        {
          "name": "stderr",
          "output_type": "stream",
          "text": [
            " 31%|███▏      | 708/2253 [2:34:07<40:03,  1.56s/it]"
          ]
        },
        {
          "name": "stdout",
          "output_type": "stream",
          "text": [
            "<re.Match object; span=(5, 21), match='Vulnerability: 0'> <re.Match object; span=(22, 44), match='CWE ID: NOT_APPLICABLE'> <re.Match object; span=(45, 69), match='CWE Name: NOT_APPLICABLE'>\n"
          ]
        },
        {
          "name": "stderr",
          "output_type": "stream",
          "text": [
            " 31%|███▏      | 709/2253 [2:34:09<38:50,  1.51s/it]"
          ]
        },
        {
          "name": "stdout",
          "output_type": "stream",
          "text": [
            "<re.Match object; span=(5, 21), match='Vulnerability: 0'> <re.Match object; span=(22, 44), match='CWE ID: NOT_APPLICABLE'> <re.Match object; span=(45, 69), match='CWE Name: NOT_APPLICABLE'>\n"
          ]
        },
        {
          "name": "stderr",
          "output_type": "stream",
          "text": [
            " 32%|███▏      | 710/2253 [2:34:10<37:26,  1.46s/it]"
          ]
        },
        {
          "name": "stdout",
          "output_type": "stream",
          "text": [
            "<re.Match object; span=(4, 20), match='Vulnerability: 0'> <re.Match object; span=(21, 43), match='CWE ID: NOT_APPLICABLE'> <re.Match object; span=(44, 68), match='CWE Name: NOT_APPLICABLE'>\n"
          ]
        },
        {
          "name": "stderr",
          "output_type": "stream",
          "text": [
            " 32%|███▏      | 711/2253 [2:34:11<36:38,  1.43s/it]"
          ]
        },
        {
          "name": "stdout",
          "output_type": "stream",
          "text": [
            "<re.Match object; span=(14, 30), match='Vulnerability: 0'> <re.Match object; span=(31, 53), match='CWE ID: NOT_APPLICABLE'> <re.Match object; span=(54, 78), match='CWE Name: NOT_APPLICABLE'>\n"
          ]
        },
        {
          "name": "stderr",
          "output_type": "stream",
          "text": [
            " 32%|███▏      | 712/2253 [2:34:13<36:04,  1.40s/it]"
          ]
        },
        {
          "name": "stdout",
          "output_type": "stream",
          "text": [
            "<re.Match object; span=(8, 24), match='Vulnerability: 0'> <re.Match object; span=(25, 47), match='CWE ID: NOT_APPLICABLE'> <re.Match object; span=(48, 72), match='CWE Name: NOT_APPLICABLE'>\n"
          ]
        },
        {
          "name": "stderr",
          "output_type": "stream",
          "text": [
            " 32%|███▏      | 713/2253 [2:34:14<36:50,  1.44s/it]"
          ]
        },
        {
          "name": "stdout",
          "output_type": "stream",
          "text": [
            "<re.Match object; span=(5, 21), match='Vulnerability: 1'> <re.Match object; span=(22, 36), match='CWE ID: CWE-20'> <re.Match object; span=(37, 72), match='CWE Name: Improper Input Validation'>\n"
          ]
        },
        {
          "name": "stderr",
          "output_type": "stream",
          "text": [
            " 32%|███▏      | 714/2253 [2:34:16<37:34,  1.46s/it]"
          ]
        },
        {
          "name": "stdout",
          "output_type": "stream",
          "text": [
            "<re.Match object; span=(10, 26), match='Vulnerability: 0'> <re.Match object; span=(27, 49), match='CWE ID: NOT_APPLICABLE'> <re.Match object; span=(50, 74), match='CWE Name: NOT_APPLICABLE'>\n"
          ]
        },
        {
          "name": "stderr",
          "output_type": "stream",
          "text": [
            " 32%|███▏      | 715/2253 [2:34:17<37:11,  1.45s/it]"
          ]
        },
        {
          "name": "stdout",
          "output_type": "stream",
          "text": [
            "<re.Match object; span=(10, 26), match='Vulnerability: 0'> <re.Match object; span=(27, 49), match='CWE ID: NOT_APPLICABLE'> <re.Match object; span=(50, 74), match='CWE Name: NOT_APPLICABLE'>\n"
          ]
        },
        {
          "name": "stderr",
          "output_type": "stream",
          "text": [
            " 32%|███▏      | 716/2253 [2:34:18<36:07,  1.41s/it]"
          ]
        },
        {
          "name": "stdout",
          "output_type": "stream",
          "text": [
            "<re.Match object; span=(5, 21), match='Vulnerability: 0'> <re.Match object; span=(22, 44), match='CWE ID: NOT_APPLICABLE'> <re.Match object; span=(45, 69), match='CWE Name: NOT_APPLICABLE'>\n"
          ]
        },
        {
          "name": "stderr",
          "output_type": "stream",
          "text": [
            " 32%|███▏      | 717/2253 [2:34:20<36:19,  1.42s/it]"
          ]
        },
        {
          "name": "stdout",
          "output_type": "stream",
          "text": [
            "<re.Match object; span=(5, 21), match='Vulnerability: 0'> <re.Match object; span=(22, 44), match='CWE ID: NOT_APPLICABLE'> <re.Match object; span=(45, 69), match='CWE Name: NOT_APPLICABLE'>\n"
          ]
        },
        {
          "name": "stderr",
          "output_type": "stream",
          "text": [
            " 32%|███▏      | 718/2253 [2:34:21<36:37,  1.43s/it]"
          ]
        },
        {
          "name": "stdout",
          "output_type": "stream",
          "text": [
            "<re.Match object; span=(5, 21), match='Vulnerability: 0'> <re.Match object; span=(22, 44), match='CWE ID: NOT_APPLICABLE'> <re.Match object; span=(45, 69), match='CWE Name: NOT_APPLICABLE'>\n"
          ]
        },
        {
          "name": "stderr",
          "output_type": "stream",
          "text": [
            " 32%|███▏      | 719/2253 [2:34:23<37:07,  1.45s/it]"
          ]
        },
        {
          "name": "stdout",
          "output_type": "stream",
          "text": [
            "<re.Match object; span=(8, 24), match='Vulnerability: 0'> <re.Match object; span=(25, 47), match='CWE ID: NOT_APPLICABLE'> <re.Match object; span=(48, 72), match='CWE Name: NOT_APPLICABLE'>\n"
          ]
        },
        {
          "name": "stderr",
          "output_type": "stream",
          "text": [
            " 32%|███▏      | 720/2253 [2:34:24<37:20,  1.46s/it]"
          ]
        },
        {
          "name": "stdout",
          "output_type": "stream",
          "text": [
            "<re.Match object; span=(12, 28), match='Vulnerability: 1'> <re.Match object; span=(29, 44), match='CWE ID: CWE-399'> <re.Match object; span=(45, 81), match='CWE Name: Resource Management Errors'>\n"
          ]
        },
        {
          "name": "stderr",
          "output_type": "stream",
          "text": [
            " 32%|███▏      | 721/2253 [2:34:26<37:01,  1.45s/it]"
          ]
        },
        {
          "name": "stdout",
          "output_type": "stream",
          "text": [
            "<re.Match object; span=(12, 28), match='Vulnerability: 1'> <re.Match object; span=(29, 44), match='CWE ID: CWE-264'> <re.Match object; span=(45, 99), match='CWE Name: Permissions, Privileges, and Access Con>\n"
          ]
        },
        {
          "name": "stderr",
          "output_type": "stream",
          "text": [
            " 32%|███▏      | 722/2253 [2:34:28<40:00,  1.57s/it]"
          ]
        },
        {
          "name": "stdout",
          "output_type": "stream",
          "text": [
            "<re.Match object; span=(10, 26), match='Vulnerability: 0'> <re.Match object; span=(27, 49), match='CWE ID: NOT_APPLICABLE'> <re.Match object; span=(50, 74), match='CWE Name: NOT_APPLICABLE'>\n"
          ]
        },
        {
          "name": "stderr",
          "output_type": "stream",
          "text": [
            " 32%|███▏      | 723/2253 [2:34:29<39:43,  1.56s/it]"
          ]
        },
        {
          "name": "stdout",
          "output_type": "stream",
          "text": [
            "<re.Match object; span=(5, 21), match='Vulnerability: 0'> <re.Match object; span=(22, 44), match='CWE ID: NOT_APPLICABLE'> <re.Match object; span=(45, 69), match='CWE Name: NOT_APPLICABLE'>\n"
          ]
        },
        {
          "name": "stderr",
          "output_type": "stream",
          "text": [
            " 32%|███▏      | 724/2253 [2:34:31<39:32,  1.55s/it]"
          ]
        },
        {
          "name": "stdout",
          "output_type": "stream",
          "text": [
            "<re.Match object; span=(4, 20), match='Vulnerability: 0'> <re.Match object; span=(21, 43), match='CWE ID: NOT_APPLICABLE'> <re.Match object; span=(44, 68), match='CWE Name: NOT_APPLICABLE'>\n"
          ]
        },
        {
          "name": "stderr",
          "output_type": "stream",
          "text": [
            " 32%|███▏      | 725/2253 [2:34:32<41:49,  1.64s/it]"
          ]
        },
        {
          "name": "stdout",
          "output_type": "stream",
          "text": [
            "<re.Match object; span=(5, 21), match='Vulnerability: 1'> <re.Match object; span=(22, 37), match='CWE ID: CWE-276'> <re.Match object; span=(38, 77), match='CWE Name: Incorrect Default Permissions'>\n"
          ]
        },
        {
          "name": "stderr",
          "output_type": "stream",
          "text": [
            " 32%|███▏      | 726/2253 [2:34:34<41:47,  1.64s/it]"
          ]
        },
        {
          "name": "stdout",
          "output_type": "stream",
          "text": [
            "<re.Match object; span=(14, 30), match='Vulnerability: 1'> <re.Match object; span=(31, 46), match='CWE ID: CWE-125'> <re.Match object; span=(47, 75), match='CWE Name: Out-of-bounds Read'>\n"
          ]
        },
        {
          "name": "stderr",
          "output_type": "stream",
          "text": [
            " 32%|███▏      | 727/2253 [2:34:36<41:49,  1.64s/it]"
          ]
        },
        {
          "name": "stdout",
          "output_type": "stream",
          "text": [
            "<re.Match object; span=(5, 21), match='Vulnerability: 0'> <re.Match object; span=(22, 44), match='CWE ID: NOT_APPLICABLE'> <re.Match object; span=(45, 69), match='CWE Name: NOT_APPLICABLE'>\n"
          ]
        },
        {
          "name": "stderr",
          "output_type": "stream",
          "text": [
            " 32%|███▏      | 728/2253 [2:34:38<44:00,  1.73s/it]"
          ]
        },
        {
          "name": "stdout",
          "output_type": "stream",
          "text": [
            "<re.Match object; span=(4, 20), match='Vulnerability: 0'> <re.Match object; span=(21, 43), match='CWE ID: NOT_APPLICABLE'> <re.Match object; span=(44, 68), match='CWE Name: NOT_APPLICABLE'>\n"
          ]
        },
        {
          "name": "stderr",
          "output_type": "stream",
          "text": [
            " 32%|███▏      | 729/2253 [2:34:40<48:18,  1.90s/it]"
          ]
        },
        {
          "name": "stdout",
          "output_type": "stream",
          "text": [
            "<re.Match object; span=(5, 21), match='Vulnerability: 1'> <re.Match object; span=(22, 37), match='CWE ID: CWE-404'> <re.Match object; span=(38, 85), match='CWE Name: Improper Resource Shutdown or Release'>\n"
          ]
        },
        {
          "name": "stderr",
          "output_type": "stream",
          "text": [
            " 32%|███▏      | 730/2253 [2:34:42<45:52,  1.81s/it]"
          ]
        },
        {
          "name": "stdout",
          "output_type": "stream",
          "text": [
            "<re.Match object; span=(10, 26), match='Vulnerability: 0'> <re.Match object; span=(27, 49), match='CWE ID: NOT_APPLICABLE'> <re.Match object; span=(50, 74), match='CWE Name: NOT_APPLICABLE'>\n"
          ]
        },
        {
          "name": "stderr",
          "output_type": "stream",
          "text": [
            " 32%|███▏      | 731/2253 [2:34:43<42:57,  1.69s/it]"
          ]
        },
        {
          "name": "stdout",
          "output_type": "stream",
          "text": [
            "<re.Match object; span=(8, 24), match='Vulnerability: 0'> <re.Match object; span=(25, 47), match='CWE ID: NOT_APPLICABLE'> <re.Match object; span=(48, 72), match='CWE Name: NOT_APPLICABLE'>\n"
          ]
        },
        {
          "name": "stderr",
          "output_type": "stream",
          "text": [
            " 32%|███▏      | 732/2253 [2:34:44<40:09,  1.58s/it]"
          ]
        },
        {
          "name": "stdout",
          "output_type": "stream",
          "text": [
            "<re.Match object; span=(5, 21), match='Vulnerability: 0'> <re.Match object; span=(22, 44), match='CWE ID: NOT_APPLICABLE'> <re.Match object; span=(45, 69), match='CWE Name: NOT_APPLICABLE'>\n"
          ]
        },
        {
          "name": "stderr",
          "output_type": "stream",
          "text": [
            " 33%|███▎      | 733/2253 [2:34:46<40:36,  1.60s/it]"
          ]
        },
        {
          "name": "stdout",
          "output_type": "stream",
          "text": [
            "<re.Match object; span=(5, 21), match='Vulnerability: 0'> <re.Match object; span=(22, 44), match='CWE ID: NOT_APPLICABLE'> <re.Match object; span=(45, 69), match='CWE Name: NOT_APPLICABLE'>\n"
          ]
        },
        {
          "name": "stderr",
          "output_type": "stream",
          "text": [
            " 33%|███▎      | 734/2253 [2:34:48<40:48,  1.61s/it]"
          ]
        },
        {
          "name": "stdout",
          "output_type": "stream",
          "text": [
            "<re.Match object; span=(5, 21), match='Vulnerability: 1'> <re.Match object; span=(22, 37), match='CWE ID: CWE-119'> <re.Match object; span=(38, 119), match='CWE Name: Improper Restriction of Operations with>\n"
          ]
        },
        {
          "name": "stderr",
          "output_type": "stream",
          "text": [
            " 33%|███▎      | 735/2253 [2:34:49<42:30,  1.68s/it]"
          ]
        },
        {
          "name": "stdout",
          "output_type": "stream",
          "text": [
            "<re.Match object; span=(5, 21), match='Vulnerability: 1'> <re.Match object; span=(22, 37), match='CWE ID: CWE-476'> <re.Match object; span=(38, 72), match='CWE Name: NULL Pointer Dereference'>\n"
          ]
        },
        {
          "name": "stderr",
          "output_type": "stream",
          "text": [
            " 33%|███▎      | 736/2253 [2:34:51<41:53,  1.66s/it]"
          ]
        },
        {
          "name": "stdout",
          "output_type": "stream",
          "text": [
            "<re.Match object; span=(5, 21), match='Vulnerability: 0'> <re.Match object; span=(22, 44), match='CWE ID: NOT_APPLICABLE'> <re.Match object; span=(45, 69), match='CWE Name: NOT_APPLICABLE'>\n"
          ]
        },
        {
          "name": "stderr",
          "output_type": "stream",
          "text": [
            " 33%|███▎      | 737/2253 [2:34:53<40:28,  1.60s/it]"
          ]
        },
        {
          "name": "stdout",
          "output_type": "stream",
          "text": [
            "<re.Match object; span=(5, 21), match='Vulnerability: 0'> <re.Match object; span=(22, 44), match='CWE ID: NOT_APPLICABLE'> <re.Match object; span=(45, 69), match='CWE Name: NOT_APPLICABLE'>\n"
          ]
        },
        {
          "name": "stderr",
          "output_type": "stream",
          "text": [
            " 33%|███▎      | 738/2253 [2:34:54<39:57,  1.58s/it]"
          ]
        },
        {
          "name": "stdout",
          "output_type": "stream",
          "text": [
            "<re.Match object; span=(5, 21), match='Vulnerability: 1'> <re.Match object; span=(22, 37), match='CWE ID: CWE-119'> <re.Match object; span=(38, 119), match='CWE Name: Improper Restriction of Operations with>\n"
          ]
        },
        {
          "name": "stderr",
          "output_type": "stream",
          "text": [
            " 33%|███▎      | 739/2253 [2:34:55<38:13,  1.51s/it]"
          ]
        },
        {
          "name": "stdout",
          "output_type": "stream",
          "text": [
            "<re.Match object; span=(10, 26), match='Vulnerability: 0'> <re.Match object; span=(27, 49), match='CWE ID: NOT_APPLICABLE'> <re.Match object; span=(50, 74), match='CWE Name: NOT_APPLICABLE'>\n"
          ]
        },
        {
          "name": "stderr",
          "output_type": "stream",
          "text": [
            " 33%|███▎      | 740/2253 [2:34:57<39:01,  1.55s/it]"
          ]
        },
        {
          "name": "stdout",
          "output_type": "stream",
          "text": [
            "<re.Match object; span=(10, 26), match='Vulnerability: 1'> <re.Match object; span=(27, 42), match='CWE ID: CWE-119'> <re.Match object; span=(43, 124), match='CWE Name: Improper Restriction of Operations with>\n"
          ]
        },
        {
          "name": "stderr",
          "output_type": "stream",
          "text": [
            " 33%|███▎      | 741/2253 [2:34:59<41:54,  1.66s/it]"
          ]
        },
        {
          "name": "stdout",
          "output_type": "stream",
          "text": [
            "<re.Match object; span=(5, 21), match='Vulnerability: 1'> <re.Match object; span=(22, 37), match='CWE ID: CWE-758'> <re.Match object; span=(38, 93), match='CWE Name: Reliance on Undefined or Unspecified Be>\n"
          ]
        },
        {
          "name": "stderr",
          "output_type": "stream",
          "text": [
            " 33%|███▎      | 742/2253 [2:35:00<40:52,  1.62s/it]"
          ]
        },
        {
          "name": "stdout",
          "output_type": "stream",
          "text": [
            "<re.Match object; span=(5, 21), match='Vulnerability: 0'> <re.Match object; span=(22, 44), match='CWE ID: NOT_APPLICABLE'> <re.Match object; span=(45, 69), match='CWE Name: NOT_APPLICABLE'>\n"
          ]
        },
        {
          "name": "stderr",
          "output_type": "stream",
          "text": [
            " 33%|███▎      | 743/2253 [2:35:02<40:11,  1.60s/it]"
          ]
        },
        {
          "name": "stdout",
          "output_type": "stream",
          "text": [
            "<re.Match object; span=(5, 21), match='Vulnerability: 0'> <re.Match object; span=(22, 44), match='CWE ID: NOT_APPLICABLE'> <re.Match object; span=(45, 69), match='CWE Name: NOT_APPLICABLE'>\n"
          ]
        },
        {
          "name": "stderr",
          "output_type": "stream",
          "text": [
            " 33%|███▎      | 744/2253 [2:35:03<39:01,  1.55s/it]"
          ]
        },
        {
          "name": "stdout",
          "output_type": "stream",
          "text": [
            "<re.Match object; span=(5, 21), match='Vulnerability: 0'> <re.Match object; span=(22, 44), match='CWE ID: NOT_APPLICABLE'> <re.Match object; span=(45, 69), match='CWE Name: NOT_APPLICABLE'>\n"
          ]
        },
        {
          "name": "stderr",
          "output_type": "stream",
          "text": [
            " 33%|███▎      | 745/2253 [2:35:05<37:21,  1.49s/it]"
          ]
        },
        {
          "name": "stdout",
          "output_type": "stream",
          "text": [
            "<re.Match object; span=(4, 20), match='Vulnerability: 0'> <re.Match object; span=(21, 43), match='CWE ID: NOT_APPLICABLE'> <re.Match object; span=(44, 68), match='CWE Name: NOT_APPLICABLE'>\n"
          ]
        },
        {
          "name": "stderr",
          "output_type": "stream",
          "text": [
            " 33%|███▎      | 746/2253 [2:35:07<39:57,  1.59s/it]"
          ]
        },
        {
          "name": "stdout",
          "output_type": "stream",
          "text": [
            "<re.Match object; span=(5, 21), match='Vulnerability: 0'> <re.Match object; span=(22, 44), match='CWE ID: NOT_APPLICABLE'> <re.Match object; span=(45, 69), match='CWE Name: NOT_APPLICABLE'>\n"
          ]
        },
        {
          "name": "stderr",
          "output_type": "stream",
          "text": [
            " 33%|███▎      | 747/2253 [2:35:08<39:31,  1.57s/it]"
          ]
        },
        {
          "name": "stdout",
          "output_type": "stream",
          "text": [
            "<re.Match object; span=(5, 21), match='Vulnerability: 0'> <re.Match object; span=(22, 44), match='CWE ID: NOT_APPLICABLE'> <re.Match object; span=(45, 69), match='CWE Name: NOT_APPLICABLE'>\n"
          ]
        },
        {
          "name": "stderr",
          "output_type": "stream",
          "text": [
            " 33%|███▎      | 748/2253 [2:35:10<39:08,  1.56s/it]"
          ]
        },
        {
          "name": "stdout",
          "output_type": "stream",
          "text": [
            "<re.Match object; span=(5, 21), match='Vulnerability: 1'> <re.Match object; span=(22, 37), match='CWE ID: CWE-119'> <re.Match object; span=(38, 119), match='CWE Name: Improper Restriction of Operations with>\n"
          ]
        },
        {
          "name": "stderr",
          "output_type": "stream",
          "text": [
            " 33%|███▎      | 749/2253 [2:35:11<38:47,  1.55s/it]"
          ]
        },
        {
          "name": "stdout",
          "output_type": "stream",
          "text": [
            "<re.Match object; span=(8, 24), match='Vulnerability: 1'> <re.Match object; span=(25, 39), match='CWE ID: CWE-20'> <re.Match object; span=(40, 75), match='CWE Name: Improper Input Validation'>\n"
          ]
        },
        {
          "name": "stderr",
          "output_type": "stream",
          "text": [
            " 33%|███▎      | 750/2253 [2:35:13<39:41,  1.58s/it]"
          ]
        },
        {
          "name": "stdout",
          "output_type": "stream",
          "text": [
            "<re.Match object; span=(10, 26), match='Vulnerability: 1'> <re.Match object; span=(27, 42), match='CWE ID: CWE-119'> <re.Match object; span=(43, 124), match='CWE Name: Improper Restriction of Operations with>\n"
          ]
        },
        {
          "name": "stderr",
          "output_type": "stream",
          "text": [
            " 33%|███▎      | 751/2253 [2:35:15<40:24,  1.61s/it]"
          ]
        },
        {
          "name": "stdout",
          "output_type": "stream",
          "text": [
            "<re.Match object; span=(5, 21), match='Vulnerability: 0'> <re.Match object; span=(22, 44), match='CWE ID: NOT_APPLICABLE'> <re.Match object; span=(45, 69), match='CWE Name: NOT_APPLICABLE'>\n"
          ]
        },
        {
          "name": "stderr",
          "output_type": "stream",
          "text": [
            " 33%|███▎      | 752/2253 [2:35:16<39:39,  1.59s/it]"
          ]
        },
        {
          "name": "stdout",
          "output_type": "stream",
          "text": [
            "<re.Match object; span=(4, 20), match='Vulnerability: 0'> <re.Match object; span=(21, 43), match='CWE ID: NOT_APPLICABLE'> <re.Match object; span=(44, 68), match='CWE Name: NOT_APPLICABLE'>\n"
          ]
        },
        {
          "name": "stderr",
          "output_type": "stream",
          "text": [
            " 33%|███▎      | 753/2253 [2:35:18<38:23,  1.54s/it]"
          ]
        },
        {
          "name": "stdout",
          "output_type": "stream",
          "text": [
            "<re.Match object; span=(14, 30), match='Vulnerability: 0'> <re.Match object; span=(31, 53), match='CWE ID: NOT_APPLICABLE'> <re.Match object; span=(54, 78), match='CWE Name: NOT_APPLICABLE'>\n"
          ]
        },
        {
          "name": "stderr",
          "output_type": "stream",
          "text": [
            " 33%|███▎      | 754/2253 [2:35:19<38:12,  1.53s/it]"
          ]
        },
        {
          "name": "stdout",
          "output_type": "stream",
          "text": [
            "<re.Match object; span=(5, 21), match='Vulnerability: 0'> <re.Match object; span=(22, 44), match='CWE ID: NOT_APPLICABLE'> <re.Match object; span=(45, 69), match='CWE Name: NOT_APPLICABLE'>\n"
          ]
        },
        {
          "name": "stderr",
          "output_type": "stream",
          "text": [
            " 34%|███▎      | 755/2253 [2:35:21<38:13,  1.53s/it]"
          ]
        },
        {
          "name": "stdout",
          "output_type": "stream",
          "text": [
            "<re.Match object; span=(5, 21), match='Vulnerability: 1'> <re.Match object; span=(22, 37), match='CWE ID: CWE-264'> <re.Match object; span=(38, 92), match='CWE Name: Permissions, Privileges, and Access Con>\n"
          ]
        },
        {
          "name": "stderr",
          "output_type": "stream",
          "text": [
            " 34%|███▎      | 756/2253 [2:35:22<39:48,  1.60s/it]"
          ]
        },
        {
          "name": "stdout",
          "output_type": "stream",
          "text": [
            "<re.Match object; span=(5, 21), match='Vulnerability: 0'> <re.Match object; span=(22, 44), match='CWE ID: NOT_APPLICABLE'> <re.Match object; span=(45, 69), match='CWE Name: NOT_APPLICABLE'>\n"
          ]
        },
        {
          "name": "stderr",
          "output_type": "stream",
          "text": [
            " 34%|███▎      | 757/2253 [2:35:24<39:16,  1.58s/it]"
          ]
        },
        {
          "name": "stdout",
          "output_type": "stream",
          "text": [
            "<re.Match object; span=(5, 21), match='Vulnerability: 1'> <re.Match object; span=(22, 36), match='CWE ID: CWE-20'> <re.Match object; span=(37, 72), match='CWE Name: Improper Input Validation'>\n"
          ]
        },
        {
          "name": "stderr",
          "output_type": "stream",
          "text": [
            " 34%|███▎      | 758/2253 [2:35:25<38:58,  1.56s/it]"
          ]
        },
        {
          "name": "stdout",
          "output_type": "stream",
          "text": [
            "<re.Match object; span=(8, 24), match='Vulnerability: 1'> <re.Match object; span=(25, 40), match='CWE ID: CWE-125'> <re.Match object; span=(41, 69), match='CWE Name: Out-of-bounds Read'>\n"
          ]
        },
        {
          "name": "stderr",
          "output_type": "stream",
          "text": [
            " 34%|███▎      | 759/2253 [2:35:27<37:33,  1.51s/it]"
          ]
        },
        {
          "name": "stdout",
          "output_type": "stream",
          "text": [
            "<re.Match object; span=(12, 28), match='Vulnerability: 0'> <re.Match object; span=(29, 51), match='CWE ID: NOT_APPLICABLE'> <re.Match object; span=(52, 76), match='CWE Name: NOT_APPLICABLE'>\n"
          ]
        },
        {
          "name": "stderr",
          "output_type": "stream",
          "text": [
            " 34%|███▎      | 760/2253 [2:35:28<38:00,  1.53s/it]"
          ]
        },
        {
          "name": "stdout",
          "output_type": "stream",
          "text": [
            "<re.Match object; span=(5, 21), match='Vulnerability: 0'> <re.Match object; span=(22, 44), match='CWE ID: NOT_APPLICABLE'> <re.Match object; span=(45, 69), match='CWE Name: NOT_APPLICABLE'>\n"
          ]
        },
        {
          "name": "stderr",
          "output_type": "stream",
          "text": [
            " 34%|███▍      | 761/2253 [2:35:30<36:53,  1.48s/it]"
          ]
        },
        {
          "name": "stdout",
          "output_type": "stream",
          "text": [
            "<re.Match object; span=(5, 21), match='Vulnerability: 0'> <re.Match object; span=(22, 44), match='CWE ID: NOT_APPLICABLE'> <re.Match object; span=(45, 69), match='CWE Name: NOT_APPLICABLE'>\n"
          ]
        },
        {
          "name": "stderr",
          "output_type": "stream",
          "text": [
            " 34%|███▍      | 762/2253 [2:35:31<37:04,  1.49s/it]"
          ]
        },
        {
          "name": "stdout",
          "output_type": "stream",
          "text": [
            "<re.Match object; span=(12, 28), match='Vulnerability: 0'> <re.Match object; span=(29, 51), match='CWE ID: NOT_APPLICABLE'> <re.Match object; span=(52, 76), match='CWE Name: NOT_APPLICABLE'>\n"
          ]
        },
        {
          "name": "stderr",
          "output_type": "stream",
          "text": [
            " 34%|███▍      | 763/2253 [2:35:33<38:05,  1.53s/it]"
          ]
        },
        {
          "name": "stdout",
          "output_type": "stream",
          "text": [
            "<re.Match object; span=(10, 26), match='Vulnerability: 0'> <re.Match object; span=(27, 49), match='CWE ID: NOT_APPLICABLE'> <re.Match object; span=(50, 74), match='CWE Name: NOT_APPLICABLE'>\n"
          ]
        },
        {
          "name": "stderr",
          "output_type": "stream",
          "text": [
            " 34%|███▍      | 764/2253 [2:35:34<38:02,  1.53s/it]"
          ]
        },
        {
          "name": "stdout",
          "output_type": "stream",
          "text": [
            "<re.Match object; span=(5, 21), match='Vulnerability: 0'> <re.Match object; span=(22, 44), match='CWE ID: NOT_APPLICABLE'> <re.Match object; span=(45, 69), match='CWE Name: NOT_APPLICABLE'>\n"
          ]
        },
        {
          "name": "stderr",
          "output_type": "stream",
          "text": [
            " 34%|███▍      | 765/2253 [2:35:36<37:21,  1.51s/it]"
          ]
        },
        {
          "name": "stdout",
          "output_type": "stream",
          "text": [
            "<re.Match object; span=(10, 26), match='Vulnerability: 1'> <re.Match object; span=(27, 41), match='CWE ID: CWE-20'> <re.Match object; span=(42, 77), match='CWE Name: Improper Input Validation'>\n"
          ]
        },
        {
          "name": "stderr",
          "output_type": "stream",
          "text": [
            " 34%|███▍      | 766/2253 [2:35:37<37:32,  1.52s/it]"
          ]
        },
        {
          "name": "stdout",
          "output_type": "stream",
          "text": [
            "<re.Match object; span=(8, 24), match='Vulnerability: 1'> <re.Match object; span=(25, 40), match='CWE ID: CWE-119'> <re.Match object; span=(41, 122), match='CWE Name: Improper Restriction of Operations with>\n"
          ]
        },
        {
          "name": "stderr",
          "output_type": "stream",
          "text": [
            " 34%|███▍      | 767/2253 [2:35:39<37:10,  1.50s/it]"
          ]
        },
        {
          "name": "stdout",
          "output_type": "stream",
          "text": [
            "<re.Match object; span=(5, 21), match='Vulnerability: 0'> <re.Match object; span=(22, 44), match='CWE ID: NOT_APPLICABLE'> <re.Match object; span=(45, 69), match='CWE Name: NOT_APPLICABLE'>\n"
          ]
        },
        {
          "name": "stderr",
          "output_type": "stream",
          "text": [
            " 34%|███▍      | 768/2253 [2:35:40<37:53,  1.53s/it]"
          ]
        },
        {
          "name": "stdout",
          "output_type": "stream",
          "text": [
            "<re.Match object; span=(5, 21), match='Vulnerability: 0'> <re.Match object; span=(22, 44), match='CWE ID: NOT_APPLICABLE'> <re.Match object; span=(45, 69), match='CWE Name: NOT_APPLICABLE'>\n"
          ]
        },
        {
          "name": "stderr",
          "output_type": "stream",
          "text": [
            " 34%|███▍      | 769/2253 [2:35:42<37:59,  1.54s/it]"
          ]
        },
        {
          "name": "stdout",
          "output_type": "stream",
          "text": [
            "<re.Match object; span=(12, 28), match='Vulnerability: 0'> <re.Match object; span=(29, 51), match='CWE ID: NOT_APPLICABLE'> <re.Match object; span=(52, 76), match='CWE Name: NOT_APPLICABLE'>\n"
          ]
        },
        {
          "name": "stderr",
          "output_type": "stream",
          "text": [
            " 34%|███▍      | 770/2253 [2:35:44<38:01,  1.54s/it]"
          ]
        },
        {
          "name": "stdout",
          "output_type": "stream",
          "text": [
            "<re.Match object; span=(4, 20), match='Vulnerability: 0'> <re.Match object; span=(21, 43), match='CWE ID: NOT_APPLICABLE'> <re.Match object; span=(44, 68), match='CWE Name: NOT_APPLICABLE'>\n"
          ]
        },
        {
          "name": "stderr",
          "output_type": "stream",
          "text": [
            " 34%|███▍      | 771/2253 [2:35:45<39:22,  1.59s/it]"
          ]
        },
        {
          "name": "stdout",
          "output_type": "stream",
          "text": [
            "<re.Match object; span=(5, 21), match='Vulnerability: 1'> <re.Match object; span=(22, 33), match='CWE ID: 798'> <re.Match object; span=(34, 73), match='CWE Name: Use of Hard-coded Credentials'>\n"
          ]
        },
        {
          "name": "stderr",
          "output_type": "stream",
          "text": [
            " 34%|███▍      | 772/2253 [2:35:47<38:53,  1.58s/it]"
          ]
        },
        {
          "name": "stdout",
          "output_type": "stream",
          "text": [
            "<re.Match object; span=(5, 21), match='Vulnerability: 0'> <re.Match object; span=(22, 44), match='CWE ID: NOT_APPLICABLE'> <re.Match object; span=(45, 69), match='CWE Name: NOT_APPLICABLE'>\n"
          ]
        },
        {
          "name": "stderr",
          "output_type": "stream",
          "text": [
            " 34%|███▍      | 773/2253 [2:35:48<39:23,  1.60s/it]"
          ]
        },
        {
          "name": "stdout",
          "output_type": "stream",
          "text": [
            "<re.Match object; span=(10, 26), match='Vulnerability: 0'> <re.Match object; span=(27, 49), match='CWE ID: NOT_APPLICABLE'> <re.Match object; span=(50, 74), match='CWE Name: NOT_APPLICABLE'>\n"
          ]
        },
        {
          "name": "stderr",
          "output_type": "stream",
          "text": [
            " 34%|███▍      | 774/2253 [2:35:50<38:08,  1.55s/it]"
          ]
        },
        {
          "name": "stdout",
          "output_type": "stream",
          "text": [
            "<re.Match object; span=(5, 21), match='Vulnerability: 0'> <re.Match object; span=(22, 44), match='CWE ID: NOT_APPLICABLE'> <re.Match object; span=(45, 69), match='CWE Name: NOT_APPLICABLE'>\n"
          ]
        },
        {
          "name": "stderr",
          "output_type": "stream",
          "text": [
            " 34%|███▍      | 775/2253 [2:35:52<41:43,  1.69s/it]"
          ]
        },
        {
          "name": "stdout",
          "output_type": "stream",
          "text": [
            "<re.Match object; span=(5, 21), match='Vulnerability: 0'> <re.Match object; span=(22, 44), match='CWE ID: NOT_APPLICABLE'> <re.Match object; span=(45, 69), match='CWE Name: NOT_APPLICABLE'>\n"
          ]
        },
        {
          "name": "stderr",
          "output_type": "stream",
          "text": [
            " 34%|███▍      | 776/2253 [2:35:53<40:57,  1.66s/it]"
          ]
        },
        {
          "name": "stdout",
          "output_type": "stream",
          "text": [
            "<re.Match object; span=(5, 21), match='Vulnerability: 0'> <re.Match object; span=(22, 44), match='CWE ID: NOT_APPLICABLE'> <re.Match object; span=(45, 69), match='CWE Name: NOT_APPLICABLE'>\n"
          ]
        },
        {
          "name": "stderr",
          "output_type": "stream",
          "text": [
            " 34%|███▍      | 777/2253 [2:35:55<39:34,  1.61s/it]"
          ]
        },
        {
          "name": "stdout",
          "output_type": "stream",
          "text": [
            "<re.Match object; span=(5, 21), match='Vulnerability: 0'> <re.Match object; span=(22, 44), match='CWE ID: NOT_APPLICABLE'> <re.Match object; span=(45, 69), match='CWE Name: NOT_APPLICABLE'>\n"
          ]
        },
        {
          "name": "stderr",
          "output_type": "stream",
          "text": [
            " 35%|███▍      | 778/2253 [2:35:57<39:04,  1.59s/it]"
          ]
        },
        {
          "name": "stdout",
          "output_type": "stream",
          "text": [
            "<re.Match object; span=(5, 21), match='Vulnerability: 0'> <re.Match object; span=(22, 44), match='CWE ID: NOT_APPLICABLE'> <re.Match object; span=(45, 69), match='CWE Name: NOT_APPLICABLE'>\n"
          ]
        },
        {
          "name": "stderr",
          "output_type": "stream",
          "text": [
            " 35%|███▍      | 779/2253 [2:35:58<38:23,  1.56s/it]"
          ]
        },
        {
          "name": "stdout",
          "output_type": "stream",
          "text": [
            "<re.Match object; span=(5, 21), match='Vulnerability: 0'> <re.Match object; span=(22, 44), match='CWE ID: NOT_APPLICABLE'> <re.Match object; span=(45, 69), match='CWE Name: NOT_APPLICABLE'>\n"
          ]
        },
        {
          "name": "stderr",
          "output_type": "stream",
          "text": [
            " 35%|███▍      | 780/2253 [2:35:59<37:15,  1.52s/it]"
          ]
        },
        {
          "name": "stdout",
          "output_type": "stream",
          "text": [
            "<re.Match object; span=(12, 28), match='Vulnerability: 1'> <re.Match object; span=(29, 43), match='CWE ID: CWE-59'> <re.Match object; span=(44, 97), match='CWE Name: Improper Link Resolution Before File Ac>\n"
          ]
        },
        {
          "name": "stderr",
          "output_type": "stream",
          "text": [
            " 35%|███▍      | 781/2253 [2:36:01<37:08,  1.51s/it]"
          ]
        },
        {
          "name": "stdout",
          "output_type": "stream",
          "text": [
            "<re.Match object; span=(5, 21), match='Vulnerability: 1'> <re.Match object; span=(22, 37), match='CWE ID: CWE-399'> <re.Match object; span=(38, 74), match='CWE Name: Resource Management Errors'>\n"
          ]
        },
        {
          "name": "stderr",
          "output_type": "stream",
          "text": [
            " 35%|███▍      | 782/2253 [2:36:03<38:00,  1.55s/it]"
          ]
        },
        {
          "name": "stdout",
          "output_type": "stream",
          "text": [
            "<re.Match object; span=(5, 21), match='Vulnerability: 1'> <re.Match object; span=(22, 37), match='CWE ID: CWE-264'> <re.Match object; span=(38, 92), match='CWE Name: Permissions, Privileges, and Access Con>\n"
          ]
        },
        {
          "name": "stderr",
          "output_type": "stream",
          "text": [
            " 35%|███▍      | 783/2253 [2:36:04<38:29,  1.57s/it]"
          ]
        },
        {
          "name": "stdout",
          "output_type": "stream",
          "text": [
            "<re.Match object; span=(5, 21), match='Vulnerability: 1'> <re.Match object; span=(22, 36), match='CWE ID: CWE-20'> <re.Match object; span=(37, 72), match='CWE Name: Improper Input Validation'>\n"
          ]
        },
        {
          "name": "stderr",
          "output_type": "stream",
          "text": [
            " 35%|███▍      | 784/2253 [2:36:06<38:15,  1.56s/it]"
          ]
        },
        {
          "name": "stdout",
          "output_type": "stream",
          "text": [
            "<re.Match object; span=(5, 21), match='Vulnerability: 0'> <re.Match object; span=(22, 44), match='CWE ID: NOT_APPLICABLE'> <re.Match object; span=(45, 69), match='CWE Name: NOT_APPLICABLE'>\n"
          ]
        },
        {
          "name": "stderr",
          "output_type": "stream",
          "text": [
            " 35%|███▍      | 785/2253 [2:36:07<36:32,  1.49s/it]"
          ]
        },
        {
          "name": "stdout",
          "output_type": "stream",
          "text": [
            "<re.Match object; span=(8, 24), match='Vulnerability: 1'> <re.Match object; span=(25, 40), match='CWE ID: CWE-787'> <re.Match object; span=(41, 70), match='CWE Name: Out-of-bounds Write'>\n"
          ]
        },
        {
          "name": "stderr",
          "output_type": "stream",
          "text": [
            " 35%|███▍      | 786/2253 [2:36:08<35:35,  1.46s/it]"
          ]
        },
        {
          "name": "stdout",
          "output_type": "stream",
          "text": [
            "<re.Match object; span=(10, 26), match='Vulnerability: 0'> <re.Match object; span=(27, 49), match='CWE ID: NOT_APPLICABLE'> <re.Match object; span=(50, 74), match='CWE Name: NOT_APPLICABLE'>\n"
          ]
        },
        {
          "name": "stderr",
          "output_type": "stream",
          "text": [
            " 35%|███▍      | 787/2253 [2:36:10<35:54,  1.47s/it]"
          ]
        },
        {
          "name": "stdout",
          "output_type": "stream",
          "text": [
            "<re.Match object; span=(10, 26), match='Vulnerability: 0'> <re.Match object; span=(27, 49), match='CWE ID: NOT_APPLICABLE'> <re.Match object; span=(50, 74), match='CWE Name: NOT_APPLICABLE'>\n"
          ]
        },
        {
          "name": "stderr",
          "output_type": "stream",
          "text": [
            " 35%|███▍      | 788/2253 [2:36:12<38:35,  1.58s/it]"
          ]
        },
        {
          "name": "stdout",
          "output_type": "stream",
          "text": [
            "<re.Match object; span=(14, 30), match='Vulnerability: 0'> <re.Match object; span=(31, 53), match='CWE ID: NOT_APPLICABLE'> <re.Match object; span=(54, 78), match='CWE Name: NOT_APPLICABLE'>\n"
          ]
        },
        {
          "name": "stderr",
          "output_type": "stream",
          "text": [
            " 35%|███▌      | 789/2253 [2:36:13<36:59,  1.52s/it]"
          ]
        },
        {
          "name": "stdout",
          "output_type": "stream",
          "text": [
            "<re.Match object; span=(5, 21), match='Vulnerability: 0'> <re.Match object; span=(22, 44), match='CWE ID: NOT_APPLICABLE'> <re.Match object; span=(45, 69), match='CWE Name: NOT_APPLICABLE'>\n"
          ]
        },
        {
          "name": "stderr",
          "output_type": "stream",
          "text": [
            " 35%|███▌      | 790/2253 [2:36:15<35:56,  1.47s/it]"
          ]
        },
        {
          "name": "stdout",
          "output_type": "stream",
          "text": [
            "<re.Match object; span=(8, 24), match='Vulnerability: 0'> <re.Match object; span=(25, 47), match='CWE ID: NOT_APPLICABLE'> <re.Match object; span=(48, 72), match='CWE Name: NOT_APPLICABLE'>\n"
          ]
        },
        {
          "name": "stderr",
          "output_type": "stream",
          "text": [
            " 35%|███▌      | 791/2253 [2:36:16<39:37,  1.63s/it]"
          ]
        },
        {
          "name": "stdout",
          "output_type": "stream",
          "text": [
            "<re.Match object; span=(5, 21), match='Vulnerability: 1'> <re.Match object; span=(22, 37), match='CWE ID: CWE-189'> <re.Match object; span=(38, 62), match='CWE Name: Numeric Errors'>\n"
          ]
        },
        {
          "name": "stderr",
          "output_type": "stream",
          "text": [
            " 35%|███▌      | 792/2253 [2:36:18<38:38,  1.59s/it]"
          ]
        },
        {
          "name": "stdout",
          "output_type": "stream",
          "text": [
            "<re.Match object; span=(8, 24), match='Vulnerability: 0'> <re.Match object; span=(25, 47), match='CWE ID: NOT_APPLICABLE'> <re.Match object; span=(48, 72), match='CWE Name: NOT_APPLICABLE'>\n"
          ]
        },
        {
          "name": "stderr",
          "output_type": "stream",
          "text": [
            " 35%|███▌      | 793/2253 [2:36:20<39:55,  1.64s/it]"
          ]
        },
        {
          "name": "stdout",
          "output_type": "stream",
          "text": [
            "<re.Match object; span=(5, 21), match='Vulnerability: 1'> <re.Match object; span=(22, 37), match='CWE ID: CWE-399'> <re.Match object; span=(38, 74), match='CWE Name: Resource Management Errors'>\n"
          ]
        },
        {
          "name": "stderr",
          "output_type": "stream",
          "text": [
            " 35%|███▌      | 794/2253 [2:36:22<47:14,  1.94s/it]"
          ]
        },
        {
          "name": "stdout",
          "output_type": "stream",
          "text": [
            "<re.Match object; span=(5, 21), match='Vulnerability: 1'> <re.Match object; span=(22, 37), match='CWE ID: CWE-125'> <re.Match object; span=(38, 66), match='CWE Name: Out-of-bounds Read'>\n"
          ]
        },
        {
          "name": "stderr",
          "output_type": "stream",
          "text": [
            " 35%|███▌      | 795/2253 [2:36:24<45:07,  1.86s/it]"
          ]
        },
        {
          "name": "stdout",
          "output_type": "stream",
          "text": [
            "<re.Match object; span=(5, 21), match='Vulnerability: 1'> <re.Match object; span=(22, 37), match='CWE ID: CWE-787'> <re.Match object; span=(38, 67), match='CWE Name: Out-of-bounds Write'>\n"
          ]
        },
        {
          "name": "stderr",
          "output_type": "stream",
          "text": [
            " 35%|███▌      | 796/2253 [2:36:26<42:43,  1.76s/it]"
          ]
        },
        {
          "name": "stdout",
          "output_type": "stream",
          "text": [
            "<re.Match object; span=(5, 21), match='Vulnerability: 0'> <re.Match object; span=(22, 44), match='CWE ID: NOT_APPLICABLE'> <re.Match object; span=(45, 69), match='CWE Name: NOT_APPLICABLE'>\n"
          ]
        },
        {
          "name": "stderr",
          "output_type": "stream",
          "text": [
            " 35%|███▌      | 797/2253 [2:36:27<40:19,  1.66s/it]"
          ]
        },
        {
          "name": "stdout",
          "output_type": "stream",
          "text": [
            "<re.Match object; span=(5, 21), match='Vulnerability: 0'> <re.Match object; span=(22, 44), match='CWE ID: NOT_APPLICABLE'> <re.Match object; span=(45, 69), match='CWE Name: NOT_APPLICABLE'>\n"
          ]
        },
        {
          "name": "stderr",
          "output_type": "stream",
          "text": [
            " 35%|███▌      | 798/2253 [2:36:29<41:38,  1.72s/it]"
          ]
        },
        {
          "name": "stdout",
          "output_type": "stream",
          "text": [
            "<re.Match object; span=(4, 20), match='Vulnerability: 0'> <re.Match object; span=(21, 43), match='CWE ID: NOT_APPLICABLE'> <re.Match object; span=(44, 68), match='CWE Name: NOT_APPLICABLE'>\n"
          ]
        },
        {
          "name": "stderr",
          "output_type": "stream",
          "text": [
            " 35%|███▌      | 799/2253 [2:36:30<40:21,  1.67s/it]"
          ]
        },
        {
          "name": "stdout",
          "output_type": "stream",
          "text": [
            "<re.Match object; span=(10, 26), match='Vulnerability: 1'> <re.Match object; span=(27, 42), match='CWE ID: CWE-200'> <re.Match object; span=(43, 111), match='CWE Name: Exposure of Sensitive Information to an>\n"
          ]
        },
        {
          "name": "stderr",
          "output_type": "stream",
          "text": [
            " 36%|███▌      | 800/2253 [2:36:32<42:14,  1.74s/it]"
          ]
        },
        {
          "name": "stdout",
          "output_type": "stream",
          "text": [
            "<re.Match object; span=(5, 21), match='Vulnerability: 1'> <re.Match object; span=(22, 33), match='CWE ID: 762'> <re.Match object; span=(34, 81), match='CWE Name: Mismatched Memory Management Routines'>\n"
          ]
        },
        {
          "name": "stderr",
          "output_type": "stream",
          "text": [
            " 36%|███▌      | 801/2253 [2:36:34<41:31,  1.72s/it]"
          ]
        },
        {
          "name": "stdout",
          "output_type": "stream",
          "text": [
            "<re.Match object; span=(10, 26), match='Vulnerability: 0'> <re.Match object; span=(27, 49), match='CWE ID: NOT_APPLICABLE'> <re.Match object; span=(50, 74), match='CWE Name: NOT_APPLICABLE'>\n"
          ]
        },
        {
          "name": "stderr",
          "output_type": "stream",
          "text": [
            " 36%|███▌      | 802/2253 [2:36:36<42:24,  1.75s/it]"
          ]
        },
        {
          "name": "stdout",
          "output_type": "stream",
          "text": [
            "<re.Match object; span=(5, 21), match='Vulnerability: 0'> <re.Match object; span=(22, 44), match='CWE ID: NOT_APPLICABLE'> <re.Match object; span=(45, 69), match='CWE Name: NOT_APPLICABLE'>\n"
          ]
        },
        {
          "name": "stderr",
          "output_type": "stream",
          "text": [
            " 36%|███▌      | 803/2253 [2:36:37<40:05,  1.66s/it]"
          ]
        },
        {
          "name": "stdout",
          "output_type": "stream",
          "text": [
            "<re.Match object; span=(4, 20), match='Vulnerability: 0'> <re.Match object; span=(21, 43), match='CWE ID: NOT_APPLICABLE'> <re.Match object; span=(44, 68), match='CWE Name: NOT_APPLICABLE'>\n"
          ]
        },
        {
          "name": "stderr",
          "output_type": "stream",
          "text": [
            " 36%|███▌      | 804/2253 [2:36:39<38:13,  1.58s/it]"
          ]
        },
        {
          "name": "stdout",
          "output_type": "stream",
          "text": [
            "<re.Match object; span=(5, 21), match='Vulnerability: 0'> <re.Match object; span=(22, 44), match='CWE ID: NOT_APPLICABLE'> <re.Match object; span=(45, 69), match='CWE Name: NOT_APPLICABLE'>\n"
          ]
        },
        {
          "name": "stderr",
          "output_type": "stream",
          "text": [
            " 36%|███▌      | 805/2253 [2:36:40<37:17,  1.55s/it]"
          ]
        },
        {
          "name": "stdout",
          "output_type": "stream",
          "text": [
            "<re.Match object; span=(4, 20), match='Vulnerability: 0'> <re.Match object; span=(21, 43), match='CWE ID: NOT_APPLICABLE'> <re.Match object; span=(44, 68), match='CWE Name: NOT_APPLICABLE'>\n"
          ]
        },
        {
          "name": "stderr",
          "output_type": "stream",
          "text": [
            " 36%|███▌      | 806/2253 [2:36:41<35:50,  1.49s/it]"
          ]
        },
        {
          "name": "stdout",
          "output_type": "stream",
          "text": [
            "<re.Match object; span=(5, 21), match='Vulnerability: 0'> <re.Match object; span=(22, 44), match='CWE ID: NOT_APPLICABLE'> <re.Match object; span=(45, 69), match='CWE Name: NOT_APPLICABLE'>\n"
          ]
        },
        {
          "name": "stderr",
          "output_type": "stream",
          "text": [
            " 36%|███▌      | 807/2253 [2:36:43<36:49,  1.53s/it]"
          ]
        },
        {
          "name": "stdout",
          "output_type": "stream",
          "text": [
            "<re.Match object; span=(5, 21), match='Vulnerability: 0'> <re.Match object; span=(22, 44), match='CWE ID: NOT_APPLICABLE'> <re.Match object; span=(45, 69), match='CWE Name: NOT_APPLICABLE'>\n"
          ]
        },
        {
          "name": "stderr",
          "output_type": "stream",
          "text": [
            " 36%|███▌      | 808/2253 [2:36:45<39:03,  1.62s/it]"
          ]
        },
        {
          "name": "stdout",
          "output_type": "stream",
          "text": [
            "<re.Match object; span=(5, 21), match='Vulnerability: 1'> <re.Match object; span=(22, 37), match='CWE ID: CWE-758'> <re.Match object; span=(38, 78), match='CWE Name: Reliance on Undefined Behavior'>\n"
          ]
        },
        {
          "name": "stderr",
          "output_type": "stream",
          "text": [
            " 36%|███▌      | 809/2253 [2:36:47<42:30,  1.77s/it]"
          ]
        },
        {
          "name": "stdout",
          "output_type": "stream",
          "text": [
            "<re.Match object; span=(5, 21), match='Vulnerability: 0'> <re.Match object; span=(22, 44), match='CWE ID: NOT_APPLICABLE'> <re.Match object; span=(45, 69), match='CWE Name: NOT_APPLICABLE'>\n"
          ]
        },
        {
          "name": "stderr",
          "output_type": "stream",
          "text": [
            " 36%|███▌      | 810/2253 [2:36:49<41:48,  1.74s/it]"
          ]
        },
        {
          "name": "stdout",
          "output_type": "stream",
          "text": [
            "<re.Match object; span=(5, 21), match='Vulnerability: 0'> <re.Match object; span=(22, 44), match='CWE ID: NOT_APPLICABLE'> <re.Match object; span=(45, 69), match='CWE Name: NOT_APPLICABLE'>\n"
          ]
        },
        {
          "name": "stderr",
          "output_type": "stream",
          "text": [
            " 36%|███▌      | 811/2253 [2:36:50<41:07,  1.71s/it]"
          ]
        },
        {
          "name": "stdout",
          "output_type": "stream",
          "text": [
            "<re.Match object; span=(5, 21), match='Vulnerability: 0'> <re.Match object; span=(22, 44), match='CWE ID: NOT_APPLICABLE'> <re.Match object; span=(45, 69), match='CWE Name: NOT_APPLICABLE'>\n"
          ]
        },
        {
          "name": "stderr",
          "output_type": "stream",
          "text": [
            " 36%|███▌      | 812/2253 [2:36:52<42:48,  1.78s/it]"
          ]
        },
        {
          "name": "stdout",
          "output_type": "stream",
          "text": [
            "<re.Match object; span=(5, 21), match='Vulnerability: 0'> <re.Match object; span=(22, 44), match='CWE ID: NOT_APPLICABLE'> <re.Match object; span=(45, 69), match='CWE Name: NOT_APPLICABLE'>\n"
          ]
        },
        {
          "name": "stderr",
          "output_type": "stream",
          "text": [
            " 36%|███▌      | 813/2253 [2:36:54<40:15,  1.68s/it]"
          ]
        },
        {
          "name": "stdout",
          "output_type": "stream",
          "text": [
            "<re.Match object; span=(5, 21), match='Vulnerability: 0'> <re.Match object; span=(22, 44), match='CWE ID: NOT_APPLICABLE'> <re.Match object; span=(45, 69), match='CWE Name: NOT_APPLICABLE'>\n"
          ]
        },
        {
          "name": "stderr",
          "output_type": "stream",
          "text": [
            " 36%|███▌      | 814/2253 [2:36:55<39:13,  1.64s/it]"
          ]
        },
        {
          "name": "stdout",
          "output_type": "stream",
          "text": [
            "<re.Match object; span=(5, 21), match='Vulnerability: 1'> <re.Match object; span=(22, 37), match='CWE ID: CWE-119'> <re.Match object; span=(38, 119), match='CWE Name: Improper Restriction of Operations with>\n"
          ]
        },
        {
          "name": "stderr",
          "output_type": "stream",
          "text": [
            " 36%|███▌      | 815/2253 [2:36:57<40:42,  1.70s/it]"
          ]
        },
        {
          "name": "stdout",
          "output_type": "stream",
          "text": [
            "<re.Match object; span=(14, 30), match='Vulnerability: 1'> <re.Match object; span=(31, 46), match='CWE ID: CWE-416'> <re.Match object; span=(47, 71), match='CWE Name: Use After Free'>\n"
          ]
        },
        {
          "name": "stderr",
          "output_type": "stream",
          "text": [
            " 36%|███▌      | 816/2253 [2:36:59<39:27,  1.65s/it]"
          ]
        },
        {
          "name": "stdout",
          "output_type": "stream",
          "text": [
            "<re.Match object; span=(10, 26), match='Vulnerability: 1'> <re.Match object; span=(27, 42), match='CWE ID: CWE-119'> <re.Match object; span=(43, 124), match='CWE Name: Improper Restriction of Operations with>\n"
          ]
        },
        {
          "name": "stderr",
          "output_type": "stream",
          "text": [
            " 36%|███▋      | 817/2253 [2:37:00<38:41,  1.62s/it]"
          ]
        },
        {
          "name": "stdout",
          "output_type": "stream",
          "text": [
            "<re.Match object; span=(5, 21), match='Vulnerability: 0'> <re.Match object; span=(22, 44), match='CWE ID: NOT_APPLICABLE'> <re.Match object; span=(45, 69), match='CWE Name: NOT_APPLICABLE'>\n"
          ]
        },
        {
          "name": "stderr",
          "output_type": "stream",
          "text": [
            " 36%|███▋      | 818/2253 [2:37:02<38:06,  1.59s/it]"
          ]
        },
        {
          "name": "stdout",
          "output_type": "stream",
          "text": [
            "<re.Match object; span=(5, 21), match='Vulnerability: 0'> <re.Match object; span=(22, 44), match='CWE ID: NOT_APPLICABLE'> <re.Match object; span=(45, 69), match='CWE Name: NOT_APPLICABLE'>\n"
          ]
        },
        {
          "name": "stderr",
          "output_type": "stream",
          "text": [
            " 36%|███▋      | 819/2253 [2:37:03<36:22,  1.52s/it]"
          ]
        },
        {
          "name": "stdout",
          "output_type": "stream",
          "text": [
            "<re.Match object; span=(5, 21), match='Vulnerability: 0'> <re.Match object; span=(22, 44), match='CWE ID: NOT_APPLICABLE'> <re.Match object; span=(45, 69), match='CWE Name: NOT_APPLICABLE'>\n"
          ]
        },
        {
          "name": "stderr",
          "output_type": "stream",
          "text": [
            " 36%|███▋      | 820/2253 [2:37:05<36:11,  1.52s/it]"
          ]
        },
        {
          "name": "stdout",
          "output_type": "stream",
          "text": [
            "<re.Match object; span=(8, 24), match='Vulnerability: 0'> <re.Match object; span=(25, 47), match='CWE ID: NOT_APPLICABLE'> <re.Match object; span=(48, 72), match='CWE Name: NOT_APPLICABLE'>\n"
          ]
        },
        {
          "name": "stderr",
          "output_type": "stream",
          "text": [
            " 36%|███▋      | 821/2253 [2:37:06<34:53,  1.46s/it]"
          ]
        },
        {
          "name": "stdout",
          "output_type": "stream",
          "text": [
            "<re.Match object; span=(10, 26), match='Vulnerability: 0'> <re.Match object; span=(27, 49), match='CWE ID: NOT_APPLICABLE'> <re.Match object; span=(50, 74), match='CWE Name: NOT_APPLICABLE'>\n"
          ]
        },
        {
          "name": "stderr",
          "output_type": "stream",
          "text": [
            " 36%|███▋      | 822/2253 [2:37:08<36:07,  1.51s/it]"
          ]
        },
        {
          "name": "stdout",
          "output_type": "stream",
          "text": [
            "<re.Match object; span=(5, 21), match='Vulnerability: 0'> <re.Match object; span=(22, 44), match='CWE ID: NOT_APPLICABLE'> <re.Match object; span=(45, 69), match='CWE Name: NOT_APPLICABLE'>\n"
          ]
        },
        {
          "name": "stderr",
          "output_type": "stream",
          "text": [
            " 37%|███▋      | 823/2253 [2:37:09<36:14,  1.52s/it]"
          ]
        },
        {
          "name": "stdout",
          "output_type": "stream",
          "text": [
            "<re.Match object; span=(10, 26), match='Vulnerability: 0'> <re.Match object; span=(27, 49), match='CWE ID: NOT_APPLICABLE'> <re.Match object; span=(50, 74), match='CWE Name: NOT_APPLICABLE'>\n"
          ]
        },
        {
          "name": "stderr",
          "output_type": "stream",
          "text": [
            " 37%|███▋      | 824/2253 [2:37:11<36:21,  1.53s/it]"
          ]
        },
        {
          "name": "stdout",
          "output_type": "stream",
          "text": [
            "<re.Match object; span=(5, 21), match='Vulnerability: 1'> <re.Match object; span=(22, 37), match='CWE ID: CWE-119'> <re.Match object; span=(38, 119), match='CWE Name: Improper Restriction of Operations with>\n"
          ]
        },
        {
          "name": "stderr",
          "output_type": "stream",
          "text": [
            " 37%|███▋      | 825/2253 [2:37:12<37:13,  1.56s/it]"
          ]
        },
        {
          "name": "stdout",
          "output_type": "stream",
          "text": [
            "<re.Match object; span=(10, 26), match='Vulnerability: 0'> <re.Match object; span=(27, 49), match='CWE ID: NOT_APPLICABLE'> <re.Match object; span=(50, 74), match='CWE Name: NOT_APPLICABLE'>\n"
          ]
        },
        {
          "name": "stderr",
          "output_type": "stream",
          "text": [
            " 37%|███▋      | 826/2253 [2:37:14<39:50,  1.68s/it]"
          ]
        },
        {
          "name": "stdout",
          "output_type": "stream",
          "text": [
            "<re.Match object; span=(5, 21), match='Vulnerability: 0'> <re.Match object; span=(22, 44), match='CWE ID: NOT_APPLICABLE'> <re.Match object; span=(45, 69), match='CWE Name: NOT_APPLICABLE'>\n"
          ]
        },
        {
          "name": "stderr",
          "output_type": "stream",
          "text": [
            " 37%|███▋      | 827/2253 [2:37:16<42:23,  1.78s/it]"
          ]
        },
        {
          "name": "stdout",
          "output_type": "stream",
          "text": [
            "<re.Match object; span=(5, 21), match='Vulnerability: 1'> <re.Match object; span=(22, 37), match='CWE ID: CWE-200'> <re.Match object; span=(38, 106), match='CWE Name: Exposure of Sensitive Information to an>\n"
          ]
        },
        {
          "name": "stderr",
          "output_type": "stream",
          "text": [
            " 37%|███▋      | 828/2253 [2:37:18<39:14,  1.65s/it]"
          ]
        },
        {
          "name": "stdout",
          "output_type": "stream",
          "text": [
            "<re.Match object; span=(5, 21), match='Vulnerability: 1'> <re.Match object; span=(22, 37), match='CWE ID: CWE-787'> <re.Match object; span=(38, 67), match='CWE Name: Out-of-bounds Write'>\n"
          ]
        },
        {
          "name": "stderr",
          "output_type": "stream",
          "text": [
            " 37%|███▋      | 829/2253 [2:37:19<38:16,  1.61s/it]"
          ]
        },
        {
          "name": "stdout",
          "output_type": "stream",
          "text": [
            "<re.Match object; span=(5, 21), match='Vulnerability: 1'> <re.Match object; span=(22, 37), match='CWE ID: CWE-125'> <re.Match object; span=(38, 66), match='CWE Name: Out-of-bounds Read'>\n"
          ]
        },
        {
          "name": "stderr",
          "output_type": "stream",
          "text": [
            " 37%|███▋      | 830/2253 [2:38:21<7:48:18, 19.75s/it]"
          ]
        },
        {
          "name": "stdout",
          "output_type": "stream",
          "text": [
            "<re.Match object; span=(5, 21), match='Vulnerability: 1'> <re.Match object; span=(22, 37), match='CWE ID: CWE-459'> <re.Match object; span=(38, 66), match='CWE Name: Incomplete Cleanup'>\n"
          ]
        },
        {
          "name": "stderr",
          "output_type": "stream",
          "text": [
            " 37%|███▋      | 831/2253 [2:38:23<5:39:18, 14.32s/it]"
          ]
        },
        {
          "name": "stdout",
          "output_type": "stream",
          "text": [
            "<re.Match object; span=(5, 21), match='Vulnerability: 1'> <re.Match object; span=(22, 37), match='CWE ID: CWE-119'> <re.Match object; span=(38, 119), match='CWE Name: Improper Restriction of Operations with>\n"
          ]
        },
        {
          "name": "stderr",
          "output_type": "stream",
          "text": [
            " 37%|███▋      | 832/2253 [2:38:24<4:08:08, 10.48s/it]"
          ]
        },
        {
          "name": "stdout",
          "output_type": "stream",
          "text": [
            "<re.Match object; span=(10, 26), match='Vulnerability: 1'> <re.Match object; span=(27, 42), match='CWE ID: CWE-264'> <re.Match object; span=(43, 97), match='CWE Name: Permissions, Privileges, and Access Con>\n"
          ]
        },
        {
          "name": "stderr",
          "output_type": "stream",
          "text": [
            " 37%|███▋      | 833/2253 [2:38:26<3:03:58,  7.77s/it]"
          ]
        },
        {
          "name": "stdout",
          "output_type": "stream",
          "text": [
            "<re.Match object; span=(5, 21), match='Vulnerability: 0'> <re.Match object; span=(22, 44), match='CWE ID: NOT_APPLICABLE'> <re.Match object; span=(45, 69), match='CWE Name: NOT_APPLICABLE'>\n"
          ]
        },
        {
          "name": "stderr",
          "output_type": "stream",
          "text": [
            " 37%|███▋      | 834/2253 [2:38:28<2:20:53,  5.96s/it]"
          ]
        },
        {
          "name": "stdout",
          "output_type": "stream",
          "text": [
            "<re.Match object; span=(5, 21), match='Vulnerability: 1'> <re.Match object; span=(22, 36), match='CWE ID: CWE-20'> <re.Match object; span=(37, 72), match='CWE Name: Improper Input Validation'>\n"
          ]
        },
        {
          "name": "stderr",
          "output_type": "stream",
          "text": [
            " 37%|███▋      | 835/2253 [2:38:29<1:48:44,  4.60s/it]"
          ]
        },
        {
          "name": "stdout",
          "output_type": "stream",
          "text": [
            "<re.Match object; span=(8, 24), match='Vulnerability: 0'> <re.Match object; span=(25, 47), match='CWE ID: NOT_APPLICABLE'> <re.Match object; span=(48, 72), match='CWE Name: NOT_APPLICABLE'>\n"
          ]
        },
        {
          "name": "stderr",
          "output_type": "stream",
          "text": [
            " 37%|███▋      | 836/2253 [2:38:31<1:28:25,  3.74s/it]"
          ]
        },
        {
          "name": "stdout",
          "output_type": "stream",
          "text": [
            "<re.Match object; span=(5, 21), match='Vulnerability: 1'> <re.Match object; span=(22, 37), match='CWE ID: CWE-824'> <re.Match object; span=(38, 79), match='CWE Name: Access of Uninitialized Pointer'>\n"
          ]
        },
        {
          "name": "stderr",
          "output_type": "stream",
          "text": [
            " 37%|███▋      | 837/2253 [2:38:33<1:14:51,  3.17s/it]"
          ]
        },
        {
          "name": "stdout",
          "output_type": "stream",
          "text": [
            "<re.Match object; span=(5, 21), match='Vulnerability: 0'> <re.Match object; span=(22, 44), match='CWE ID: NOT_APPLICABLE'> <re.Match object; span=(45, 69), match='CWE Name: NOT_APPLICABLE'>\n"
          ]
        },
        {
          "name": "stderr",
          "output_type": "stream",
          "text": [
            " 37%|███▋      | 838/2253 [2:38:34<1:04:07,  2.72s/it]"
          ]
        },
        {
          "name": "stdout",
          "output_type": "stream",
          "text": [
            "<re.Match object; span=(10, 26), match='Vulnerability: 1'> <re.Match object; span=(27, 42), match='CWE ID: CWE-121'> <re.Match object; span=(43, 80), match='CWE Name: Stack-based Buffer Overflow'>\n"
          ]
        },
        {
          "name": "stderr",
          "output_type": "stream",
          "text": [
            " 37%|███▋      | 839/2253 [2:38:36<55:33,  2.36s/it]  "
          ]
        },
        {
          "name": "stdout",
          "output_type": "stream",
          "text": [
            "<re.Match object; span=(8, 24), match='Vulnerability: 1'> <re.Match object; span=(25, 40), match='CWE ID: CWE-131'> <re.Match object; span=(41, 87), match='CWE Name: Incorrect Calculation of Buffer Size'>\n"
          ]
        },
        {
          "name": "stderr",
          "output_type": "stream",
          "text": [
            " 37%|███▋      | 840/2253 [2:38:39<58:23,  2.48s/it]"
          ]
        },
        {
          "name": "stdout",
          "output_type": "stream",
          "text": [
            "<re.Match object; span=(8, 24), match='Vulnerability: 1'> <re.Match object; span=(25, 40), match='CWE ID: CWE-119'> <re.Match object; span=(41, 122), match='CWE Name: Improper Restriction of Operations with>\n"
          ]
        },
        {
          "name": "stderr",
          "output_type": "stream",
          "text": [
            " 37%|███▋      | 841/2253 [2:38:41<59:41,  2.54s/it]"
          ]
        },
        {
          "name": "stdout",
          "output_type": "stream",
          "text": [
            "<re.Match object; span=(5, 21), match='Vulnerability: 0'> <re.Match object; span=(22, 44), match='CWE ID: NOT_APPLICABLE'> <re.Match object; span=(45, 69), match='CWE Name: NOT_APPLICABLE'>\n"
          ]
        },
        {
          "name": "stderr",
          "output_type": "stream",
          "text": [
            " 37%|███▋      | 842/2253 [2:38:43<54:03,  2.30s/it]"
          ]
        },
        {
          "name": "stdout",
          "output_type": "stream",
          "text": [
            "<re.Match object; span=(5, 21), match='Vulnerability: 1'> <re.Match object; span=(22, 37), match='CWE ID: CWE-264'> <re.Match object; span=(38, 92), match='CWE Name: Permissions, Privileges, and Access Con>\n"
          ]
        },
        {
          "name": "stderr",
          "output_type": "stream",
          "text": [
            " 37%|███▋      | 843/2253 [2:38:44<48:35,  2.07s/it]"
          ]
        },
        {
          "name": "stdout",
          "output_type": "stream",
          "text": [
            "<re.Match object; span=(5, 21), match='Vulnerability: 0'> <re.Match object; span=(22, 44), match='CWE ID: NOT_APPLICABLE'> <re.Match object; span=(45, 69), match='CWE Name: NOT_APPLICABLE'>\n"
          ]
        },
        {
          "name": "stderr",
          "output_type": "stream",
          "text": [
            " 37%|███▋      | 844/2253 [2:38:46<46:52,  2.00s/it]"
          ]
        },
        {
          "name": "stdout",
          "output_type": "stream",
          "text": [
            "<re.Match object; span=(5, 21), match='Vulnerability: 0'> <re.Match object; span=(22, 44), match='CWE ID: NOT_APPLICABLE'> <re.Match object; span=(45, 69), match='CWE Name: NOT_APPLICABLE'>\n"
          ]
        },
        {
          "name": "stderr",
          "output_type": "stream",
          "text": [
            " 38%|███▊      | 845/2253 [2:38:49<55:10,  2.35s/it]"
          ]
        },
        {
          "name": "stdout",
          "output_type": "stream",
          "text": [
            "<re.Match object; span=(5, 21), match='Vulnerability: 0'> <re.Match object; span=(22, 44), match='CWE ID: NOT_APPLICABLE'> <re.Match object; span=(45, 69), match='CWE Name: NOT_APPLICABLE'>\n"
          ]
        },
        {
          "name": "stderr",
          "output_type": "stream",
          "text": [
            " 38%|███▊      | 846/2253 [2:38:52<53:06,  2.26s/it]"
          ]
        },
        {
          "name": "stdout",
          "output_type": "stream",
          "text": [
            "<re.Match object; span=(5, 21), match='Vulnerability: 0'> <re.Match object; span=(22, 44), match='CWE ID: NOT_APPLICABLE'> <re.Match object; span=(45, 69), match='CWE Name: NOT_APPLICABLE'>\n"
          ]
        },
        {
          "name": "stderr",
          "output_type": "stream",
          "text": [
            " 38%|███▊      | 847/2253 [2:38:53<47:17,  2.02s/it]"
          ]
        },
        {
          "name": "stdout",
          "output_type": "stream",
          "text": [
            "<re.Match object; span=(5, 21), match='Vulnerability: 0'> <re.Match object; span=(22, 44), match='CWE ID: NOT_APPLICABLE'> <re.Match object; span=(45, 69), match='CWE Name: NOT_APPLICABLE'>\n"
          ]
        },
        {
          "name": "stderr",
          "output_type": "stream",
          "text": [
            " 38%|███▊      | 848/2253 [2:38:55<46:34,  1.99s/it]"
          ]
        },
        {
          "name": "stdout",
          "output_type": "stream",
          "text": [
            "<re.Match object; span=(5, 21), match='Vulnerability: 0'> <re.Match object; span=(22, 44), match='CWE ID: NOT_APPLICABLE'> <re.Match object; span=(45, 69), match='CWE Name: NOT_APPLICABLE'>\n"
          ]
        },
        {
          "name": "stderr",
          "output_type": "stream",
          "text": [
            " 38%|███▊      | 849/2253 [2:38:56<41:53,  1.79s/it]"
          ]
        },
        {
          "name": "stdout",
          "output_type": "stream",
          "text": [
            "<re.Match object; span=(5, 21), match='Vulnerability: 0'> <re.Match object; span=(22, 44), match='CWE ID: NOT_APPLICABLE'> <re.Match object; span=(45, 69), match='CWE Name: NOT_APPLICABLE'>\n"
          ]
        },
        {
          "name": "stderr",
          "output_type": "stream",
          "text": [
            " 38%|███▊      | 850/2253 [2:38:58<40:10,  1.72s/it]"
          ]
        },
        {
          "name": "stdout",
          "output_type": "stream",
          "text": [
            "<re.Match object; span=(5, 21), match='Vulnerability: 0'> <re.Match object; span=(22, 44), match='CWE ID: NOT_APPLICABLE'> <re.Match object; span=(45, 69), match='CWE Name: NOT_APPLICABLE'>\n"
          ]
        },
        {
          "name": "stderr",
          "output_type": "stream",
          "text": [
            " 38%|███▊      | 851/2253 [2:39:00<40:18,  1.72s/it]"
          ]
        },
        {
          "name": "stdout",
          "output_type": "stream",
          "text": [
            "<re.Match object; span=(5, 21), match='Vulnerability: 0'> <re.Match object; span=(22, 44), match='CWE ID: NOT_APPLICABLE'> <re.Match object; span=(45, 69), match='CWE Name: NOT_APPLICABLE'>\n"
          ]
        },
        {
          "name": "stderr",
          "output_type": "stream",
          "text": [
            " 38%|███▊      | 852/2253 [2:39:01<41:49,  1.79s/it]"
          ]
        },
        {
          "name": "stdout",
          "output_type": "stream",
          "text": [
            "<re.Match object; span=(14, 30), match='Vulnerability: 0'> <re.Match object; span=(31, 53), match='CWE ID: NOT_APPLICABLE'> <re.Match object; span=(54, 78), match='CWE Name: NOT_APPLICABLE'>\n"
          ]
        },
        {
          "name": "stderr",
          "output_type": "stream",
          "text": [
            " 38%|███▊      | 853/2253 [2:39:03<38:39,  1.66s/it]"
          ]
        },
        {
          "name": "stdout",
          "output_type": "stream",
          "text": [
            "<re.Match object; span=(8, 24), match='Vulnerability: 0'> <re.Match object; span=(25, 47), match='CWE ID: NOT_APPLICABLE'> <re.Match object; span=(48, 72), match='CWE Name: NOT_APPLICABLE'>\n"
          ]
        },
        {
          "name": "stderr",
          "output_type": "stream",
          "text": [
            " 38%|███▊      | 854/2253 [2:39:04<36:50,  1.58s/it]"
          ]
        },
        {
          "name": "stdout",
          "output_type": "stream",
          "text": [
            "<re.Match object; span=(5, 21), match='Vulnerability: 0'> <re.Match object; span=(22, 44), match='CWE ID: NOT_APPLICABLE'> <re.Match object; span=(45, 69), match='CWE Name: NOT_APPLICABLE'>\n"
          ]
        },
        {
          "name": "stderr",
          "output_type": "stream",
          "text": [
            " 38%|███▊      | 855/2253 [2:39:06<37:17,  1.60s/it]"
          ]
        },
        {
          "name": "stdout",
          "output_type": "stream",
          "text": [
            "<re.Match object; span=(10, 26), match='Vulnerability: 0'> <re.Match object; span=(27, 49), match='CWE ID: NOT_APPLICABLE'> <re.Match object; span=(50, 74), match='CWE Name: NOT_APPLICABLE'>\n"
          ]
        },
        {
          "name": "stderr",
          "output_type": "stream",
          "text": [
            " 38%|███▊      | 856/2253 [2:39:08<38:58,  1.67s/it]"
          ]
        },
        {
          "name": "stdout",
          "output_type": "stream",
          "text": [
            "<re.Match object; span=(10, 26), match='Vulnerability: 0'> <re.Match object; span=(27, 49), match='CWE ID: NOT_APPLICABLE'> <re.Match object; span=(50, 74), match='CWE Name: NOT_APPLICABLE'>\n"
          ]
        },
        {
          "name": "stderr",
          "output_type": "stream",
          "text": [
            " 38%|███▊      | 857/2253 [2:39:09<38:02,  1.64s/it]"
          ]
        },
        {
          "name": "stdout",
          "output_type": "stream",
          "text": [
            "<re.Match object; span=(5, 21), match='Vulnerability: 1'> <re.Match object; span=(22, 37), match='CWE ID: CWE-127'> <re.Match object; span=(38, 65), match='CWE Name: Buffer Under-read'>\n"
          ]
        },
        {
          "name": "stderr",
          "output_type": "stream",
          "text": [
            " 38%|███▊      | 858/2253 [2:39:11<40:06,  1.72s/it]"
          ]
        },
        {
          "name": "stdout",
          "output_type": "stream",
          "text": [
            "<re.Match object; span=(5, 21), match='Vulnerability: 0'> <re.Match object; span=(22, 44), match='CWE ID: NOT_APPLICABLE'> <re.Match object; span=(45, 69), match='CWE Name: NOT_APPLICABLE'>\n"
          ]
        },
        {
          "name": "stderr",
          "output_type": "stream",
          "text": [
            " 38%|███▊      | 859/2253 [2:39:13<38:51,  1.67s/it]"
          ]
        },
        {
          "name": "stdout",
          "output_type": "stream",
          "text": [
            "<re.Match object; span=(5, 21), match='Vulnerability: 0'> <re.Match object; span=(22, 44), match='CWE ID: NOT_APPLICABLE'> <re.Match object; span=(45, 69), match='CWE Name: NOT_APPLICABLE'>\n"
          ]
        },
        {
          "name": "stderr",
          "output_type": "stream",
          "text": [
            " 38%|███▊      | 860/2253 [2:39:14<37:09,  1.60s/it]"
          ]
        },
        {
          "name": "stdout",
          "output_type": "stream",
          "text": [
            "<re.Match object; span=(5, 21), match='Vulnerability: 0'> <re.Match object; span=(22, 44), match='CWE ID: NOT_APPLICABLE'> <re.Match object; span=(45, 69), match='CWE Name: NOT_APPLICABLE'>\n"
          ]
        },
        {
          "name": "stderr",
          "output_type": "stream",
          "text": [
            " 38%|███▊      | 861/2253 [2:39:16<37:17,  1.61s/it]"
          ]
        },
        {
          "name": "stdout",
          "output_type": "stream",
          "text": [
            "<re.Match object; span=(5, 21), match='Vulnerability: 0'> <re.Match object; span=(22, 44), match='CWE ID: NOT_APPLICABLE'> <re.Match object; span=(45, 69), match='CWE Name: NOT_APPLICABLE'>\n"
          ]
        },
        {
          "name": "stderr",
          "output_type": "stream",
          "text": [
            " 38%|███▊      | 862/2253 [2:39:18<44:24,  1.92s/it]"
          ]
        },
        {
          "name": "stdout",
          "output_type": "stream",
          "text": [
            "<re.Match object; span=(5, 21), match='Vulnerability: 0'> <re.Match object; span=(22, 44), match='CWE ID: NOT_APPLICABLE'> <re.Match object; span=(45, 69), match='CWE Name: NOT_APPLICABLE'>\n"
          ]
        },
        {
          "name": "stderr",
          "output_type": "stream",
          "text": [
            " 38%|███▊      | 863/2253 [2:39:20<41:59,  1.81s/it]"
          ]
        },
        {
          "name": "stdout",
          "output_type": "stream",
          "text": [
            "<re.Match object; span=(5, 21), match='Vulnerability: 1'> <re.Match object; span=(22, 37), match='CWE ID: CWE-121'> <re.Match object; span=(38, 75), match='CWE Name: Stack-based Buffer Overflow'>\n"
          ]
        },
        {
          "name": "stderr",
          "output_type": "stream",
          "text": [
            " 38%|███▊      | 864/2253 [2:39:22<40:02,  1.73s/it]"
          ]
        },
        {
          "name": "stdout",
          "output_type": "stream",
          "text": [
            "<re.Match object; span=(10, 26), match='Vulnerability: 1'> <re.Match object; span=(27, 42), match='CWE ID: CWE-119'> <re.Match object; span=(43, 124), match='CWE Name: Improper Restriction of Operations with>\n"
          ]
        },
        {
          "name": "stderr",
          "output_type": "stream",
          "text": [
            " 38%|███▊      | 865/2253 [2:39:23<41:32,  1.80s/it]"
          ]
        },
        {
          "name": "stdout",
          "output_type": "stream",
          "text": [
            "<re.Match object; span=(5, 21), match='Vulnerability: 0'> <re.Match object; span=(22, 44), match='CWE ID: NOT_APPLICABLE'> <re.Match object; span=(45, 69), match='CWE Name: NOT_APPLICABLE'>\n"
          ]
        },
        {
          "name": "stderr",
          "output_type": "stream",
          "text": [
            " 38%|███▊      | 866/2253 [2:39:25<38:31,  1.67s/it]"
          ]
        },
        {
          "name": "stdout",
          "output_type": "stream",
          "text": [
            "<re.Match object; span=(14, 30), match='Vulnerability: 0'> <re.Match object; span=(31, 53), match='CWE ID: NOT_APPLICABLE'> <re.Match object; span=(54, 78), match='CWE Name: NOT_APPLICABLE'>\n"
          ]
        },
        {
          "name": "stderr",
          "output_type": "stream",
          "text": [
            " 38%|███▊      | 867/2253 [2:39:26<36:37,  1.59s/it]"
          ]
        },
        {
          "name": "stdout",
          "output_type": "stream",
          "text": [
            "<re.Match object; span=(5, 21), match='Vulnerability: 0'> <re.Match object; span=(22, 44), match='CWE ID: NOT_APPLICABLE'> <re.Match object; span=(45, 69), match='CWE Name: NOT_APPLICABLE'>\n"
          ]
        },
        {
          "name": "stderr",
          "output_type": "stream",
          "text": [
            " 39%|███▊      | 868/2253 [2:39:28<35:15,  1.53s/it]"
          ]
        },
        {
          "name": "stdout",
          "output_type": "stream",
          "text": [
            "<re.Match object; span=(12, 28), match='Vulnerability: 0'> <re.Match object; span=(29, 51), match='CWE ID: NOT_APPLICABLE'> <re.Match object; span=(52, 76), match='CWE Name: NOT_APPLICABLE'>\n"
          ]
        },
        {
          "name": "stderr",
          "output_type": "stream",
          "text": [
            " 39%|███▊      | 869/2253 [2:39:30<38:20,  1.66s/it]"
          ]
        },
        {
          "name": "stdout",
          "output_type": "stream",
          "text": [
            "<re.Match object; span=(10, 26), match='Vulnerability: 1'> <re.Match object; span=(27, 42), match='CWE ID: CWE-200'> <re.Match object; span=(43, 111), match='CWE Name: Exposure of Sensitive Information to an>\n"
          ]
        },
        {
          "name": "stderr",
          "output_type": "stream",
          "text": [
            " 39%|███▊      | 870/2253 [2:39:31<36:06,  1.57s/it]"
          ]
        },
        {
          "name": "stdout",
          "output_type": "stream",
          "text": [
            "<re.Match object; span=(5, 21), match='Vulnerability: 0'> <re.Match object; span=(22, 44), match='CWE ID: NOT_APPLICABLE'> <re.Match object; span=(45, 69), match='CWE Name: NOT_APPLICABLE'>\n"
          ]
        },
        {
          "name": "stderr",
          "output_type": "stream",
          "text": [
            " 39%|███▊      | 871/2253 [2:39:33<38:36,  1.68s/it]"
          ]
        },
        {
          "name": "stdout",
          "output_type": "stream",
          "text": [
            "<re.Match object; span=(10, 26), match='Vulnerability: 0'> <re.Match object; span=(27, 49), match='CWE ID: NOT_APPLICABLE'> <re.Match object; span=(50, 74), match='CWE Name: NOT_APPLICABLE'>\n"
          ]
        },
        {
          "name": "stderr",
          "output_type": "stream",
          "text": [
            " 39%|███▊      | 872/2253 [2:39:34<37:28,  1.63s/it]"
          ]
        },
        {
          "name": "stdout",
          "output_type": "stream",
          "text": [
            "<re.Match object; span=(14, 30), match='Vulnerability: 1'> <re.Match object; span=(31, 46), match='CWE ID: CWE-829'> <re.Match object; span=(47, 113), match='CWE Name: Inclusion of Functionality from Untrust>\n"
          ]
        },
        {
          "name": "stderr",
          "output_type": "stream",
          "text": [
            " 39%|███▊      | 873/2253 [2:39:36<40:22,  1.76s/it]"
          ]
        },
        {
          "name": "stdout",
          "output_type": "stream",
          "text": [
            "<re.Match object; span=(5, 21), match='Vulnerability: 0'> <re.Match object; span=(22, 44), match='CWE ID: NOT_APPLICABLE'> <re.Match object; span=(45, 69), match='CWE Name: NOT_APPLICABLE'>\n"
          ]
        },
        {
          "name": "stderr",
          "output_type": "stream",
          "text": [
            " 39%|███▉      | 874/2253 [2:39:40<54:55,  2.39s/it]"
          ]
        },
        {
          "name": "stdout",
          "output_type": "stream",
          "text": [
            "<re.Match object; span=(5, 21), match='Vulnerability: 0'> <re.Match object; span=(22, 44), match='CWE ID: NOT_APPLICABLE'> <re.Match object; span=(45, 69), match='CWE Name: NOT_APPLICABLE'>\n"
          ]
        },
        {
          "name": "stderr",
          "output_type": "stream",
          "text": [
            " 39%|███▉      | 875/2253 [2:39:45<1:09:35,  3.03s/it]"
          ]
        },
        {
          "name": "stdout",
          "output_type": "stream",
          "text": [
            "<re.Match object; span=(5, 21), match='Vulnerability: 1'> <re.Match object; span=(22, 36), match='CWE ID: CWE-20'> <re.Match object; span=(37, 72), match='CWE Name: Improper Input Validation'>\n"
          ]
        },
        {
          "name": "stderr",
          "output_type": "stream",
          "text": [
            " 39%|███▉      | 876/2253 [2:39:49<1:14:17,  3.24s/it]"
          ]
        },
        {
          "name": "stdout",
          "output_type": "stream",
          "text": [
            "<re.Match object; span=(5, 21), match='Vulnerability: 0'> <re.Match object; span=(22, 44), match='CWE ID: NOT_APPLICABLE'> <re.Match object; span=(45, 69), match='CWE Name: NOT_APPLICABLE'>\n"
          ]
        },
        {
          "name": "stderr",
          "output_type": "stream",
          "text": [
            " 39%|███▉      | 877/2253 [2:39:53<1:19:23,  3.46s/it]"
          ]
        },
        {
          "name": "stdout",
          "output_type": "stream",
          "text": [
            "<re.Match object; span=(12, 28), match='Vulnerability: 1'> <re.Match object; span=(29, 44), match='CWE ID: CWE-127'> <re.Match object; span=(45, 71), match='CWE Name: Buffer Underread'>\n"
          ]
        },
        {
          "name": "stderr",
          "output_type": "stream",
          "text": [
            " 39%|███▉      | 878/2253 [2:39:54<1:08:01,  2.97s/it]"
          ]
        },
        {
          "name": "stdout",
          "output_type": "stream",
          "text": [
            "<re.Match object; span=(8, 24), match='Vulnerability: 0'> <re.Match object; span=(25, 47), match='CWE ID: NOT_APPLICABLE'> <re.Match object; span=(48, 72), match='CWE Name: NOT_APPLICABLE'>\n"
          ]
        },
        {
          "name": "stderr",
          "output_type": "stream",
          "text": [
            " 39%|███▉      | 879/2253 [2:39:56<59:08,  2.58s/it]  "
          ]
        },
        {
          "name": "stdout",
          "output_type": "stream",
          "text": [
            "<re.Match object; span=(5, 21), match='Vulnerability: 0'> <re.Match object; span=(22, 44), match='CWE ID: NOT_APPLICABLE'> <re.Match object; span=(45, 69), match='CWE Name: NOT_APPLICABLE'>\n"
          ]
        },
        {
          "name": "stderr",
          "output_type": "stream",
          "text": [
            " 39%|███▉      | 880/2253 [2:39:58<53:57,  2.36s/it]"
          ]
        },
        {
          "name": "stdout",
          "output_type": "stream",
          "text": [
            "<re.Match object; span=(10, 26), match='Vulnerability: 1'> <re.Match object; span=(27, 42), match='CWE ID: CWE-789'> <re.Match object; span=(43, 72), match='CWE Name: Uncontrolled Memcpy'>\n"
          ]
        },
        {
          "name": "stderr",
          "output_type": "stream",
          "text": [
            " 39%|███▉      | 881/2253 [2:39:59<47:06,  2.06s/it]"
          ]
        },
        {
          "name": "stdout",
          "output_type": "stream",
          "text": [
            "<re.Match object; span=(10, 26), match='Vulnerability: 1'> <re.Match object; span=(27, 42), match='CWE ID: CWE-119'> <re.Match object; span=(43, 124), match='CWE Name: Improper Restriction of Operations with>\n"
          ]
        },
        {
          "name": "stderr",
          "output_type": "stream",
          "text": [
            " 39%|███▉      | 882/2253 [2:40:01<42:33,  1.86s/it]"
          ]
        },
        {
          "name": "stdout",
          "output_type": "stream",
          "text": [
            "<re.Match object; span=(5, 21), match='Vulnerability: 0'> <re.Match object; span=(22, 44), match='CWE ID: NOT_APPLICABLE'> <re.Match object; span=(45, 69), match='CWE Name: NOT_APPLICABLE'>\n"
          ]
        },
        {
          "name": "stderr",
          "output_type": "stream",
          "text": [
            " 39%|███▉      | 883/2253 [2:40:02<39:14,  1.72s/it]"
          ]
        },
        {
          "name": "stdout",
          "output_type": "stream",
          "text": [
            "<re.Match object; span=(5, 21), match='Vulnerability: 0'> <re.Match object; span=(22, 44), match='CWE ID: NOT_APPLICABLE'> <re.Match object; span=(45, 69), match='CWE Name: NOT_APPLICABLE'>\n"
          ]
        },
        {
          "name": "stderr",
          "output_type": "stream",
          "text": [
            " 39%|███▉      | 884/2253 [2:40:04<38:58,  1.71s/it]"
          ]
        },
        {
          "name": "stdout",
          "output_type": "stream",
          "text": [
            "<re.Match object; span=(5, 21), match='Vulnerability: 1'> <re.Match object; span=(22, 37), match='CWE ID: CWE-125'> <re.Match object; span=(38, 66), match='CWE Name: Out-of-bounds Read'>\n"
          ]
        },
        {
          "name": "stderr",
          "output_type": "stream",
          "text": [
            " 39%|███▉      | 885/2253 [2:40:05<38:25,  1.69s/it]"
          ]
        },
        {
          "name": "stdout",
          "output_type": "stream",
          "text": [
            "<re.Match object; span=(5, 21), match='Vulnerability: 1'> <re.Match object; span=(22, 33), match='CWE ID: 121'> <re.Match object; span=(34, 71), match='CWE Name: Stack-based Buffer Overflow'>\n"
          ]
        },
        {
          "name": "stderr",
          "output_type": "stream",
          "text": [
            " 39%|███▉      | 886/2253 [2:40:07<36:45,  1.61s/it]"
          ]
        },
        {
          "name": "stdout",
          "output_type": "stream",
          "text": [
            "<re.Match object; span=(5, 21), match='Vulnerability: 0'> <re.Match object; span=(22, 44), match='CWE ID: NOT_APPLICABLE'> <re.Match object; span=(45, 69), match='CWE Name: NOT_APPLICABLE'>\n"
          ]
        },
        {
          "name": "stderr",
          "output_type": "stream",
          "text": [
            " 39%|███▉      | 887/2253 [2:40:08<37:19,  1.64s/it]"
          ]
        },
        {
          "name": "stdout",
          "output_type": "stream",
          "text": [
            "<re.Match object; span=(8, 24), match='Vulnerability: 1'> <re.Match object; span=(25, 40), match='CWE ID: CWE-200'> <re.Match object; span=(41, 109), match='CWE Name: Exposure of Sensitive Information to an>\n"
          ]
        },
        {
          "name": "stderr",
          "output_type": "stream",
          "text": [
            " 39%|███▉      | 888/2253 [2:40:10<36:12,  1.59s/it]"
          ]
        },
        {
          "name": "stdout",
          "output_type": "stream",
          "text": [
            "<re.Match object; span=(4, 20), match='Vulnerability: 0'> <re.Match object; span=(21, 43), match='CWE ID: NOT_APPLICABLE'> <re.Match object; span=(44, 68), match='CWE Name: NOT_APPLICABLE'>\n"
          ]
        },
        {
          "name": "stderr",
          "output_type": "stream",
          "text": [
            " 39%|███▉      | 889/2253 [2:40:12<35:43,  1.57s/it]"
          ]
        },
        {
          "name": "stdout",
          "output_type": "stream",
          "text": [
            "<re.Match object; span=(5, 21), match='Vulnerability: 1'> <re.Match object; span=(22, 32), match='CWE ID: 80'> <re.Match object; span=(33, 127), match=\"CWE Name: Improper Neutralization of Input During>\n"
          ]
        },
        {
          "name": "stderr",
          "output_type": "stream",
          "text": [
            " 40%|███▉      | 890/2253 [2:40:13<38:21,  1.69s/it]"
          ]
        },
        {
          "name": "stdout",
          "output_type": "stream",
          "text": [
            "<re.Match object; span=(8, 24), match='Vulnerability: 1'> <re.Match object; span=(25, 40), match='CWE ID: CWE-416'> <re.Match object; span=(41, 65), match='CWE Name: Use After Free'>\n"
          ]
        },
        {
          "name": "stderr",
          "output_type": "stream",
          "text": [
            " 40%|███▉      | 891/2253 [2:40:15<38:37,  1.70s/it]"
          ]
        },
        {
          "name": "stdout",
          "output_type": "stream",
          "text": [
            "<re.Match object; span=(5, 21), match='Vulnerability: 1'> <re.Match object; span=(22, 37), match='CWE ID: CWE-347'> <re.Match object; span=(38, 96), match='CWE Name: Improper Verification of Cryptographic >\n"
          ]
        },
        {
          "name": "stderr",
          "output_type": "stream",
          "text": [
            " 40%|███▉      | 892/2253 [2:40:17<38:10,  1.68s/it]"
          ]
        },
        {
          "name": "stdout",
          "output_type": "stream",
          "text": [
            "<re.Match object; span=(5, 21), match='Vulnerability: 1'> <re.Match object; span=(22, 37), match='CWE ID: CWE-824'> <re.Match object; span=(38, 79), match='CWE Name: Access of Uninitialized Pointer'>\n"
          ]
        },
        {
          "name": "stderr",
          "output_type": "stream",
          "text": [
            " 40%|███▉      | 893/2253 [2:40:18<36:22,  1.61s/it]"
          ]
        },
        {
          "name": "stdout",
          "output_type": "stream",
          "text": [
            "<re.Match object; span=(5, 21), match='Vulnerability: 1'> <re.Match object; span=(22, 33), match='CWE ID: 134'> <re.Match object; span=(34, 86), match='CWE Name: Use of Externally-Controlled Format Str>\n"
          ]
        },
        {
          "name": "stderr",
          "output_type": "stream",
          "text": [
            " 40%|███▉      | 894/2253 [2:40:20<35:44,  1.58s/it]"
          ]
        },
        {
          "name": "stdout",
          "output_type": "stream",
          "text": [
            "<re.Match object; span=(8, 24), match='Vulnerability: 0'> <re.Match object; span=(25, 47), match='CWE ID: NOT_APPLICABLE'> <re.Match object; span=(48, 72), match='CWE Name: NOT_APPLICABLE'>\n"
          ]
        },
        {
          "name": "stderr",
          "output_type": "stream",
          "text": [
            " 40%|███▉      | 895/2253 [2:40:21<35:31,  1.57s/it]"
          ]
        },
        {
          "name": "stdout",
          "output_type": "stream",
          "text": [
            "<re.Match object; span=(4, 20), match='Vulnerability: 1'> <re.Match object; span=(21, 36), match='CWE ID: CWE-685'> <re.Match object; span=(37, 84), match='CWE Name: Function Call With Incorrect Variable'>\n"
          ]
        },
        {
          "name": "stderr",
          "output_type": "stream",
          "text": [
            " 40%|███▉      | 896/2253 [2:40:23<38:09,  1.69s/it]"
          ]
        },
        {
          "name": "stdout",
          "output_type": "stream",
          "text": [
            "<re.Match object; span=(5, 21), match='Vulnerability: 0'> <re.Match object; span=(22, 44), match='CWE ID: NOT_APPLICABLE'> <re.Match object; span=(45, 69), match='CWE Name: NOT_APPLICABLE'>\n"
          ]
        },
        {
          "name": "stderr",
          "output_type": "stream",
          "text": [
            " 40%|███▉      | 897/2253 [2:40:25<35:56,  1.59s/it]"
          ]
        },
        {
          "name": "stdout",
          "output_type": "stream",
          "text": [
            "<re.Match object; span=(5, 21), match='Vulnerability: 1'> <re.Match object; span=(22, 37), match='CWE ID: CWE-362'> <re.Match object; span=(38, 139), match=\"CWE Name: Concurrent Execution using Shared Resou>\n"
          ]
        },
        {
          "name": "stderr",
          "output_type": "stream",
          "text": [
            " 40%|███▉      | 898/2253 [2:40:26<35:20,  1.57s/it]"
          ]
        },
        {
          "name": "stdout",
          "output_type": "stream",
          "text": [
            "<re.Match object; span=(5, 21), match='Vulnerability: 1'> <re.Match object; span=(22, 37), match='CWE ID: CWE-399'> <re.Match object; span=(38, 74), match='CWE Name: Resource Management Errors'>\n"
          ]
        },
        {
          "name": "stderr",
          "output_type": "stream",
          "text": [
            " 40%|███▉      | 899/2253 [2:40:28<37:08,  1.65s/it]"
          ]
        },
        {
          "name": "stdout",
          "output_type": "stream",
          "text": [
            "<re.Match object; span=(14, 30), match='Vulnerability: 0'> <re.Match object; span=(31, 53), match='CWE ID: NOT_APPLICABLE'> <re.Match object; span=(54, 78), match='CWE Name: NOT_APPLICABLE'>\n"
          ]
        },
        {
          "name": "stderr",
          "output_type": "stream",
          "text": [
            " 40%|███▉      | 900/2253 [2:40:29<35:13,  1.56s/it]"
          ]
        },
        {
          "name": "stdout",
          "output_type": "stream",
          "text": [
            "<re.Match object; span=(5, 21), match='Vulnerability: 0'> <re.Match object; span=(22, 44), match='CWE ID: NOT_APPLICABLE'> <re.Match object; span=(45, 69), match='CWE Name: NOT_APPLICABLE'>\n"
          ]
        },
        {
          "name": "stderr",
          "output_type": "stream",
          "text": [
            " 40%|███▉      | 901/2253 [2:40:31<33:56,  1.51s/it]"
          ]
        },
        {
          "name": "stdout",
          "output_type": "stream",
          "text": [
            "<re.Match object; span=(5, 21), match='Vulnerability: 1'> <re.Match object; span=(22, 37), match='CWE ID: CWE-264'> <re.Match object; span=(38, 92), match='CWE Name: Permissions, Privileges, and Access Con>\n"
          ]
        },
        {
          "name": "stderr",
          "output_type": "stream",
          "text": [
            " 40%|████      | 902/2253 [2:40:32<33:29,  1.49s/it]"
          ]
        },
        {
          "name": "stdout",
          "output_type": "stream",
          "text": [
            "<re.Match object; span=(5, 21), match='Vulnerability: 0'> <re.Match object; span=(22, 44), match='CWE ID: NOT_APPLICABLE'> <re.Match object; span=(45, 69), match='CWE Name: NOT_APPLICABLE'>\n"
          ]
        },
        {
          "name": "stderr",
          "output_type": "stream",
          "text": [
            " 40%|████      | 903/2253 [2:40:34<33:06,  1.47s/it]"
          ]
        },
        {
          "name": "stdout",
          "output_type": "stream",
          "text": [
            "<re.Match object; span=(5, 21), match='Vulnerability: 0'> <re.Match object; span=(22, 44), match='CWE ID: NOT_APPLICABLE'> <re.Match object; span=(45, 69), match='CWE Name: NOT_APPLICABLE'>\n"
          ]
        },
        {
          "name": "stderr",
          "output_type": "stream",
          "text": [
            " 40%|████      | 904/2253 [2:40:35<34:16,  1.52s/it]"
          ]
        },
        {
          "name": "stdout",
          "output_type": "stream",
          "text": [
            "<re.Match object; span=(5, 21), match='Vulnerability: 1'> <re.Match object; span=(22, 37), match='CWE ID: CWE-399'> <re.Match object; span=(38, 74), match='CWE Name: Resource Management Errors'>\n"
          ]
        },
        {
          "name": "stderr",
          "output_type": "stream",
          "text": [
            " 40%|████      | 905/2253 [2:40:37<34:17,  1.53s/it]"
          ]
        },
        {
          "name": "stdout",
          "output_type": "stream",
          "text": [
            "<re.Match object; span=(5, 21), match='Vulnerability: 0'> <re.Match object; span=(22, 44), match='CWE ID: NOT_APPLICABLE'> <re.Match object; span=(45, 69), match='CWE Name: NOT_APPLICABLE'>\n"
          ]
        },
        {
          "name": "stderr",
          "output_type": "stream",
          "text": [
            " 40%|████      | 906/2253 [2:40:38<33:39,  1.50s/it]"
          ]
        },
        {
          "name": "stdout",
          "output_type": "stream",
          "text": [
            "<re.Match object; span=(5, 21), match='Vulnerability: 0'> <re.Match object; span=(22, 44), match='CWE ID: NOT_APPLICABLE'> <re.Match object; span=(45, 69), match='CWE Name: NOT_APPLICABLE'>\n"
          ]
        },
        {
          "name": "stderr",
          "output_type": "stream",
          "text": [
            " 40%|████      | 907/2253 [2:40:40<32:22,  1.44s/it]"
          ]
        },
        {
          "name": "stdout",
          "output_type": "stream",
          "text": [
            "<re.Match object; span=(5, 21), match='Vulnerability: 0'> <re.Match object; span=(22, 44), match='CWE ID: NOT_APPLICABLE'> <re.Match object; span=(45, 69), match='CWE Name: NOT_APPLICABLE'>\n"
          ]
        },
        {
          "name": "stderr",
          "output_type": "stream",
          "text": [
            " 40%|████      | 908/2253 [2:40:41<32:28,  1.45s/it]"
          ]
        },
        {
          "name": "stdout",
          "output_type": "stream",
          "text": [
            "<re.Match object; span=(5, 21), match='Vulnerability: 0'> <re.Match object; span=(22, 44), match='CWE ID: NOT_APPLICABLE'> <re.Match object; span=(45, 69), match='CWE Name: NOT_APPLICABLE'>\n"
          ]
        },
        {
          "name": "stderr",
          "output_type": "stream",
          "text": [
            " 40%|████      | 909/2253 [2:40:43<34:23,  1.54s/it]"
          ]
        },
        {
          "name": "stdout",
          "output_type": "stream",
          "text": [
            "<re.Match object; span=(12, 28), match='Vulnerability: 1'> <re.Match object; span=(29, 44), match='CWE ID: CWE-121'> <re.Match object; span=(45, 82), match='CWE Name: Stack-based Buffer Overflow'>\n"
          ]
        },
        {
          "name": "stderr",
          "output_type": "stream",
          "text": [
            " 40%|████      | 910/2253 [2:40:44<34:26,  1.54s/it]"
          ]
        },
        {
          "name": "stdout",
          "output_type": "stream",
          "text": [
            "<re.Match object; span=(8, 24), match='Vulnerability: 0'> <re.Match object; span=(25, 47), match='CWE ID: NOT_APPLICABLE'> <re.Match object; span=(48, 72), match='CWE Name: NOT_APPLICABLE'>\n"
          ]
        },
        {
          "name": "stderr",
          "output_type": "stream",
          "text": [
            " 40%|████      | 911/2253 [2:40:46<35:40,  1.59s/it]"
          ]
        },
        {
          "name": "stdout",
          "output_type": "stream",
          "text": [
            "<re.Match object; span=(10, 26), match='Vulnerability: 1'> <re.Match object; span=(27, 41), match='CWE ID: CWE-20'> <re.Match object; span=(42, 77), match='CWE Name: Improper Input Validation'>\n"
          ]
        },
        {
          "name": "stderr",
          "output_type": "stream",
          "text": [
            " 40%|████      | 912/2253 [2:40:48<37:24,  1.67s/it]"
          ]
        },
        {
          "name": "stdout",
          "output_type": "stream",
          "text": [
            "<re.Match object; span=(12, 28), match='Vulnerability: 0'> <re.Match object; span=(29, 51), match='CWE ID: NOT_APPLICABLE'> <re.Match object; span=(52, 76), match='CWE Name: NOT_APPLICABLE'>\n"
          ]
        },
        {
          "name": "stderr",
          "output_type": "stream",
          "text": [
            " 41%|████      | 913/2253 [2:40:52<54:01,  2.42s/it]"
          ]
        },
        {
          "name": "stdout",
          "output_type": "stream",
          "text": [
            "<re.Match object; span=(5, 21), match='Vulnerability: 0'> <re.Match object; span=(22, 44), match='CWE ID: NOT_APPLICABLE'> <re.Match object; span=(45, 69), match='CWE Name: NOT_APPLICABLE'>\n"
          ]
        },
        {
          "name": "stderr",
          "output_type": "stream",
          "text": [
            " 41%|████      | 914/2253 [2:40:54<49:38,  2.22s/it]"
          ]
        },
        {
          "name": "stdout",
          "output_type": "stream",
          "text": [
            "<re.Match object; span=(10, 26), match='Vulnerability: 0'> <re.Match object; span=(27, 49), match='CWE ID: NOT_APPLICABLE'> <re.Match object; span=(50, 74), match='CWE Name: NOT_APPLICABLE'>\n"
          ]
        },
        {
          "name": "stderr",
          "output_type": "stream",
          "text": [
            " 41%|████      | 915/2253 [2:40:55<44:15,  1.98s/it]"
          ]
        },
        {
          "name": "stdout",
          "output_type": "stream",
          "text": [
            "<re.Match object; span=(5, 21), match='Vulnerability: 1'> <re.Match object; span=(22, 37), match='CWE ID: CWE-121'> <re.Match object; span=(38, 75), match='CWE Name: Stack-based Buffer Overflow'>\n"
          ]
        },
        {
          "name": "stderr",
          "output_type": "stream",
          "text": [
            " 41%|████      | 916/2253 [2:40:57<40:38,  1.82s/it]"
          ]
        },
        {
          "name": "stdout",
          "output_type": "stream",
          "text": [
            "<re.Match object; span=(5, 23), match='Vulnerability: 1.0'> <re.Match object; span=(24, 39), match='CWE ID: CWE-200'> <re.Match object; span=(40, 108), match='CWE Name: Exposure of Sensitive Information to an>\n"
          ]
        },
        {
          "name": "stderr",
          "output_type": "stream",
          "text": [
            " 41%|████      | 917/2253 [2:40:58<38:39,  1.74s/it]"
          ]
        },
        {
          "name": "stdout",
          "output_type": "stream",
          "text": [
            "<re.Match object; span=(10, 26), match='Vulnerability: 1'> <re.Match object; span=(27, 42), match='CWE ID: CWE-131'> <re.Match object; span=(43, 89), match='CWE Name: Incorrect Calculation of Buffer Size'>\n"
          ]
        },
        {
          "name": "stderr",
          "output_type": "stream",
          "text": [
            " 41%|████      | 918/2253 [2:41:00<36:27,  1.64s/it]"
          ]
        },
        {
          "name": "stdout",
          "output_type": "stream",
          "text": [
            "<re.Match object; span=(5, 21), match='Vulnerability: 0'> <re.Match object; span=(22, 44), match='CWE ID: NOT_APPLICABLE'> <re.Match object; span=(45, 69), match='CWE Name: NOT_APPLICABLE'>\n"
          ]
        },
        {
          "name": "stderr",
          "output_type": "stream",
          "text": [
            " 41%|████      | 919/2253 [2:41:02<38:42,  1.74s/it]"
          ]
        },
        {
          "name": "stdout",
          "output_type": "stream",
          "text": [
            "<re.Match object; span=(5, 21), match='Vulnerability: 0'> <re.Match object; span=(22, 44), match='CWE ID: NOT_APPLICABLE'> <re.Match object; span=(45, 69), match='CWE Name: NOT_APPLICABLE'>\n"
          ]
        },
        {
          "name": "stderr",
          "output_type": "stream",
          "text": [
            " 41%|████      | 920/2253 [2:41:03<35:58,  1.62s/it]"
          ]
        },
        {
          "name": "stdout",
          "output_type": "stream",
          "text": [
            "<re.Match object; span=(8, 24), match='Vulnerability: 0'> <re.Match object; span=(25, 47), match='CWE ID: NOT_APPLICABLE'> <re.Match object; span=(48, 72), match='CWE Name: NOT_APPLICABLE'>\n"
          ]
        },
        {
          "name": "stderr",
          "output_type": "stream",
          "text": [
            " 41%|████      | 921/2253 [2:41:04<34:43,  1.56s/it]"
          ]
        },
        {
          "name": "stdout",
          "output_type": "stream",
          "text": [
            "<re.Match object; span=(5, 21), match='Vulnerability: 0'> <re.Match object; span=(22, 44), match='CWE ID: NOT_APPLICABLE'> <re.Match object; span=(45, 69), match='CWE Name: NOT_APPLICABLE'>\n"
          ]
        },
        {
          "name": "stderr",
          "output_type": "stream",
          "text": [
            " 41%|████      | 922/2253 [2:41:06<33:45,  1.52s/it]"
          ]
        },
        {
          "name": "stdout",
          "output_type": "stream",
          "text": [
            "<re.Match object; span=(5, 21), match='Vulnerability: 0'> <re.Match object; span=(22, 44), match='CWE ID: NOT_APPLICABLE'> <re.Match object; span=(45, 69), match='CWE Name: NOT_APPLICABLE'>\n"
          ]
        },
        {
          "name": "stderr",
          "output_type": "stream",
          "text": [
            " 41%|████      | 923/2253 [2:41:08<35:11,  1.59s/it]"
          ]
        },
        {
          "name": "stdout",
          "output_type": "stream",
          "text": [
            "<re.Match object; span=(12, 28), match='Vulnerability: 1'> <re.Match object; span=(29, 44), match='CWE ID: CWE-125'> <re.Match object; span=(45, 73), match='CWE Name: Out-of-bounds Read'>\n"
          ]
        },
        {
          "name": "stderr",
          "output_type": "stream",
          "text": [
            " 41%|████      | 924/2253 [2:41:09<35:26,  1.60s/it]"
          ]
        },
        {
          "name": "stdout",
          "output_type": "stream",
          "text": [
            "<re.Match object; span=(10, 26), match='Vulnerability: 0'> <re.Match object; span=(27, 49), match='CWE ID: NOT_APPLICABLE'> <re.Match object; span=(50, 74), match='CWE Name: NOT_APPLICABLE'>\n"
          ]
        },
        {
          "name": "stderr",
          "output_type": "stream",
          "text": [
            " 41%|████      | 925/2253 [2:41:11<34:18,  1.55s/it]"
          ]
        },
        {
          "name": "stdout",
          "output_type": "stream",
          "text": [
            "<re.Match object; span=(5, 21), match='Vulnerability: 0'> <re.Match object; span=(22, 44), match='CWE ID: NOT_APPLICABLE'> <re.Match object; span=(45, 69), match='CWE Name: NOT_APPLICABLE'>\n"
          ]
        },
        {
          "name": "stderr",
          "output_type": "stream",
          "text": [
            " 41%|████      | 926/2253 [2:41:12<33:33,  1.52s/it]"
          ]
        },
        {
          "name": "stdout",
          "output_type": "stream",
          "text": [
            "<re.Match object; span=(5, 21), match='Vulnerability: 0'> <re.Match object; span=(22, 44), match='CWE ID: NOT_APPLICABLE'> <re.Match object; span=(45, 69), match='CWE Name: NOT_APPLICABLE'>\n"
          ]
        },
        {
          "name": "stderr",
          "output_type": "stream",
          "text": [
            " 41%|████      | 927/2253 [2:41:14<33:31,  1.52s/it]"
          ]
        },
        {
          "name": "stdout",
          "output_type": "stream",
          "text": [
            "<re.Match object; span=(10, 26), match='Vulnerability: 0'> <re.Match object; span=(27, 49), match='CWE ID: NOT_APPLICABLE'> <re.Match object; span=(50, 74), match='CWE Name: NOT_APPLICABLE'>\n"
          ]
        },
        {
          "name": "stderr",
          "output_type": "stream",
          "text": [
            " 41%|████      | 928/2253 [2:41:15<32:20,  1.46s/it]"
          ]
        },
        {
          "name": "stdout",
          "output_type": "stream",
          "text": [
            "<re.Match object; span=(5, 21), match='Vulnerability: 1'> <re.Match object; span=(22, 37), match='CWE ID: CWE-119'> <re.Match object; span=(38, 119), match='CWE Name: Improper Restriction of Operations with>\n"
          ]
        },
        {
          "name": "stderr",
          "output_type": "stream",
          "text": [
            " 41%|████      | 929/2253 [2:41:17<36:12,  1.64s/it]"
          ]
        },
        {
          "name": "stdout",
          "output_type": "stream",
          "text": [
            "<re.Match object; span=(5, 21), match='Vulnerability: 0'> <re.Match object; span=(22, 44), match='CWE ID: NOT_APPLICABLE'> <re.Match object; span=(45, 69), match='CWE Name: NOT_APPLICABLE'>\n"
          ]
        },
        {
          "name": "stderr",
          "output_type": "stream",
          "text": [
            " 41%|████▏     | 930/2253 [2:41:19<37:22,  1.69s/it]"
          ]
        },
        {
          "name": "stdout",
          "output_type": "stream",
          "text": [
            "<re.Match object; span=(5, 21), match='Vulnerability: 0'> <re.Match object; span=(22, 44), match='CWE ID: NOT_APPLICABLE'> <re.Match object; span=(45, 69), match='CWE Name: NOT_APPLICABLE'>\n"
          ]
        },
        {
          "name": "stderr",
          "output_type": "stream",
          "text": [
            " 41%|████▏     | 931/2253 [2:41:20<35:07,  1.59s/it]"
          ]
        },
        {
          "name": "stdout",
          "output_type": "stream",
          "text": [
            "<re.Match object; span=(5, 21), match='Vulnerability: 1'> <re.Match object; span=(22, 37), match='CWE ID: CWE-476'> <re.Match object; span=(38, 72), match='CWE Name: NULL Pointer Dereference'>\n"
          ]
        },
        {
          "name": "stderr",
          "output_type": "stream",
          "text": [
            " 41%|████▏     | 932/2253 [2:41:22<36:13,  1.65s/it]"
          ]
        },
        {
          "name": "stdout",
          "output_type": "stream",
          "text": [
            "<re.Match object; span=(5, 21), match='Vulnerability: 0'> <re.Match object; span=(22, 44), match='CWE ID: NOT_APPLICABLE'> <re.Match object; span=(45, 69), match='CWE Name: NOT_APPLICABLE'>\n"
          ]
        },
        {
          "name": "stderr",
          "output_type": "stream",
          "text": [
            " 41%|████▏     | 933/2253 [2:41:24<38:57,  1.77s/it]"
          ]
        },
        {
          "name": "stdout",
          "output_type": "stream",
          "text": [
            "<re.Match object; span=(10, 26), match='Vulnerability: 0'> <re.Match object; span=(27, 49), match='CWE ID: NOT_APPLICABLE'> <re.Match object; span=(50, 74), match='CWE Name: NOT_APPLICABLE'>\n"
          ]
        },
        {
          "name": "stderr",
          "output_type": "stream",
          "text": [
            " 41%|████▏     | 934/2253 [2:41:25<36:15,  1.65s/it]"
          ]
        },
        {
          "name": "stdout",
          "output_type": "stream",
          "text": [
            "<re.Match object; span=(5, 21), match='Vulnerability: 0'> <re.Match object; span=(22, 44), match='CWE ID: NOT_APPLICABLE'> <re.Match object; span=(45, 69), match='CWE Name: NOT_APPLICABLE'>\n"
          ]
        },
        {
          "name": "stderr",
          "output_type": "stream",
          "text": [
            " 42%|████▏     | 935/2253 [2:41:27<34:01,  1.55s/it]"
          ]
        },
        {
          "name": "stdout",
          "output_type": "stream",
          "text": [
            "<re.Match object; span=(5, 21), match='Vulnerability: 1'> <re.Match object; span=(22, 37), match='CWE ID: CWE-119'> <re.Match object; span=(38, 119), match='CWE Name: Improper Restriction of Operations with>\n"
          ]
        },
        {
          "name": "stderr",
          "output_type": "stream",
          "text": [
            " 42%|████▏     | 936/2253 [2:41:29<42:24,  1.93s/it]"
          ]
        },
        {
          "name": "stdout",
          "output_type": "stream",
          "text": [
            "<re.Match object; span=(5, 21), match='Vulnerability: 0'> <re.Match object; span=(22, 44), match='CWE ID: NOT_APPLICABLE'> <re.Match object; span=(45, 69), match='CWE Name: NOT_APPLICABLE'>\n"
          ]
        },
        {
          "name": "stderr",
          "output_type": "stream",
          "text": [
            " 42%|████▏     | 937/2253 [2:41:31<39:39,  1.81s/it]"
          ]
        },
        {
          "name": "stdout",
          "output_type": "stream",
          "text": [
            "<re.Match object; span=(5, 21), match='Vulnerability: 0'> <re.Match object; span=(22, 44), match='CWE ID: NOT_APPLICABLE'> <re.Match object; span=(45, 69), match='CWE Name: NOT_APPLICABLE'>\n"
          ]
        },
        {
          "name": "stderr",
          "output_type": "stream",
          "text": [
            " 42%|████▏     | 938/2253 [2:41:33<37:49,  1.73s/it]"
          ]
        },
        {
          "name": "stdout",
          "output_type": "stream",
          "text": [
            "<re.Match object; span=(5, 21), match='Vulnerability: 1'> <re.Match object; span=(22, 36), match='CWE ID: CWE-20'> <re.Match object; span=(37, 72), match='CWE Name: Improper Input Validation'>\n"
          ]
        },
        {
          "name": "stderr",
          "output_type": "stream",
          "text": [
            " 42%|████▏     | 939/2253 [2:41:34<36:31,  1.67s/it]"
          ]
        },
        {
          "name": "stdout",
          "output_type": "stream",
          "text": [
            "<re.Match object; span=(12, 28), match='Vulnerability: 0'> <re.Match object; span=(29, 51), match='CWE ID: NOT_APPLICABLE'> <re.Match object; span=(52, 76), match='CWE Name: NOT_APPLICABLE'>\n"
          ]
        },
        {
          "name": "stderr",
          "output_type": "stream",
          "text": [
            " 42%|████▏     | 940/2253 [2:41:36<35:37,  1.63s/it]"
          ]
        },
        {
          "name": "stdout",
          "output_type": "stream",
          "text": [
            "<re.Match object; span=(5, 21), match='Vulnerability: 1'> <re.Match object; span=(22, 36), match='CWE ID: CWE-20'> <re.Match object; span=(37, 72), match='CWE Name: Improper Input Validation'>\n"
          ]
        },
        {
          "name": "stderr",
          "output_type": "stream",
          "text": [
            " 42%|████▏     | 941/2253 [2:41:38<41:03,  1.88s/it]"
          ]
        },
        {
          "name": "stdout",
          "output_type": "stream",
          "text": [
            "<re.Match object; span=(5, 21), match='Vulnerability: 0'> <re.Match object; span=(22, 44), match='CWE ID: NOT_APPLICABLE'> <re.Match object; span=(45, 69), match='CWE Name: NOT_APPLICABLE'>\n"
          ]
        },
        {
          "name": "stderr",
          "output_type": "stream",
          "text": [
            " 42%|████▏     | 942/2253 [2:41:40<38:53,  1.78s/it]"
          ]
        },
        {
          "name": "stdout",
          "output_type": "stream",
          "text": [
            "<re.Match object; span=(5, 21), match='Vulnerability: 1'> <re.Match object; span=(22, 36), match='CWE ID: CWE-20'> <re.Match object; span=(37, 72), match='CWE Name: Improper Input Validation'>\n"
          ]
        },
        {
          "name": "stderr",
          "output_type": "stream",
          "text": [
            " 42%|████▏     | 943/2253 [2:41:41<37:50,  1.73s/it]"
          ]
        },
        {
          "name": "stdout",
          "output_type": "stream",
          "text": [
            "<re.Match object; span=(8, 24), match='Vulnerability: 1'> <re.Match object; span=(25, 40), match='CWE ID: CWE-416'> <re.Match object; span=(41, 65), match='CWE Name: Use After Free'>\n"
          ]
        },
        {
          "name": "stderr",
          "output_type": "stream",
          "text": [
            " 42%|████▏     | 944/2253 [2:41:43<35:24,  1.62s/it]"
          ]
        },
        {
          "name": "stdout",
          "output_type": "stream",
          "text": [
            "<re.Match object; span=(5, 21), match='Vulnerability: 0'> <re.Match object; span=(22, 44), match='CWE ID: NOT_APPLICABLE'> <re.Match object; span=(45, 69), match='CWE Name: NOT_APPLICABLE'>\n"
          ]
        },
        {
          "name": "stderr",
          "output_type": "stream",
          "text": [
            " 42%|████▏     | 945/2253 [2:41:44<35:17,  1.62s/it]"
          ]
        },
        {
          "name": "stdout",
          "output_type": "stream",
          "text": [
            "<re.Match object; span=(5, 21), match='Vulnerability: 0'> <re.Match object; span=(22, 44), match='CWE ID: NOT_APPLICABLE'> <re.Match object; span=(45, 69), match='CWE Name: NOT_APPLICABLE'>\n"
          ]
        },
        {
          "name": "stderr",
          "output_type": "stream",
          "text": [
            " 42%|████▏     | 946/2253 [2:41:46<34:40,  1.59s/it]"
          ]
        },
        {
          "name": "stdout",
          "output_type": "stream",
          "text": [
            "<re.Match object; span=(10, 26), match='Vulnerability: 1'> <re.Match object; span=(27, 42), match='CWE ID: CWE-119'> <re.Match object; span=(43, 124), match='CWE Name: Improper Restriction of Operations with>\n"
          ]
        },
        {
          "name": "stderr",
          "output_type": "stream",
          "text": [
            " 42%|████▏     | 947/2253 [2:41:48<36:17,  1.67s/it]"
          ]
        },
        {
          "name": "stdout",
          "output_type": "stream",
          "text": [
            "<re.Match object; span=(5, 21), match='Vulnerability: 1'> <re.Match object; span=(22, 37), match='CWE ID: CWE-121'> <re.Match object; span=(38, 75), match='CWE Name: Stack-based Buffer Overflow'>\n"
          ]
        },
        {
          "name": "stderr",
          "output_type": "stream",
          "text": [
            " 42%|████▏     | 948/2253 [2:41:49<35:23,  1.63s/it]"
          ]
        },
        {
          "name": "stdout",
          "output_type": "stream",
          "text": [
            "<re.Match object; span=(5, 21), match='Vulnerability: 0'> <re.Match object; span=(22, 44), match='CWE ID: NOT_APPLICABLE'> <re.Match object; span=(45, 69), match='CWE Name: NOT_APPLICABLE'>\n"
          ]
        },
        {
          "name": "stderr",
          "output_type": "stream",
          "text": [
            " 42%|████▏     | 949/2253 [2:41:51<34:48,  1.60s/it]"
          ]
        },
        {
          "name": "stdout",
          "output_type": "stream",
          "text": [
            "<re.Match object; span=(10, 26), match='Vulnerability: 0'> <re.Match object; span=(27, 49), match='CWE ID: NOT_APPLICABLE'> <re.Match object; span=(50, 74), match='CWE Name: NOT_APPLICABLE'>\n"
          ]
        },
        {
          "name": "stderr",
          "output_type": "stream",
          "text": [
            " 42%|████▏     | 950/2253 [2:41:52<34:20,  1.58s/it]"
          ]
        },
        {
          "name": "stdout",
          "output_type": "stream",
          "text": [
            "<re.Match object; span=(8, 24), match='Vulnerability: 0'> <re.Match object; span=(25, 47), match='CWE ID: NOT_APPLICABLE'> <re.Match object; span=(48, 72), match='CWE Name: NOT_APPLICABLE'>\n"
          ]
        },
        {
          "name": "stderr",
          "output_type": "stream",
          "text": [
            " 42%|████▏     | 951/2253 [2:41:55<45:23,  2.09s/it]"
          ]
        },
        {
          "name": "stdout",
          "output_type": "stream",
          "text": [
            "<re.Match object; span=(4, 20), match='Vulnerability: 0'> <re.Match object; span=(21, 43), match='CWE ID: NOT_APPLICABLE'> <re.Match object; span=(44, 68), match='CWE Name: NOT_APPLICABLE'>\n"
          ]
        },
        {
          "name": "stderr",
          "output_type": "stream",
          "text": [
            " 42%|████▏     | 952/2253 [2:41:58<48:22,  2.23s/it]"
          ]
        },
        {
          "name": "stdout",
          "output_type": "stream",
          "text": [
            "<re.Match object; span=(10, 26), match='Vulnerability: 1'> <re.Match object; span=(27, 42), match='CWE ID: CWE-125'> <re.Match object; span=(43, 71), match='CWE Name: Out-of-bounds Read'>\n"
          ]
        },
        {
          "name": "stderr",
          "output_type": "stream",
          "text": [
            " 42%|████▏     | 953/2253 [2:41:59<43:05,  1.99s/it]"
          ]
        },
        {
          "name": "stdout",
          "output_type": "stream",
          "text": [
            "<re.Match object; span=(5, 21), match='Vulnerability: 0'> <re.Match object; span=(22, 44), match='CWE ID: NOT_APPLICABLE'> <re.Match object; span=(45, 69), match='CWE Name: NOT_APPLICABLE'>\n"
          ]
        },
        {
          "name": "stderr",
          "output_type": "stream",
          "text": [
            " 42%|████▏     | 954/2253 [2:42:01<39:32,  1.83s/it]"
          ]
        },
        {
          "name": "stdout",
          "output_type": "stream",
          "text": [
            "<re.Match object; span=(5, 21), match='Vulnerability: 0'> <re.Match object; span=(22, 44), match='CWE ID: NOT_APPLICABLE'> <re.Match object; span=(45, 69), match='CWE Name: NOT_APPLICABLE'>\n"
          ]
        },
        {
          "name": "stderr",
          "output_type": "stream",
          "text": [
            " 42%|████▏     | 955/2253 [2:42:02<36:37,  1.69s/it]"
          ]
        },
        {
          "name": "stdout",
          "output_type": "stream",
          "text": [
            "<re.Match object; span=(8, 26), match='Vulnerability: 0.0'> <re.Match object; span=(27, 49), match='CWE ID: NOT_APPLICABLE'> <re.Match object; span=(50, 74), match='CWE Name: NOT_APPLICABLE'>\n"
          ]
        },
        {
          "name": "stderr",
          "output_type": "stream",
          "text": [
            " 42%|████▏     | 956/2253 [2:42:04<34:31,  1.60s/it]"
          ]
        },
        {
          "name": "stdout",
          "output_type": "stream",
          "text": [
            "<re.Match object; span=(12, 28), match='Vulnerability: 0'> <re.Match object; span=(29, 51), match='CWE ID: NOT_APPLICABLE'> <re.Match object; span=(52, 76), match='CWE Name: NOT_APPLICABLE'>\n"
          ]
        },
        {
          "name": "stderr",
          "output_type": "stream",
          "text": [
            " 42%|████▏     | 957/2253 [2:42:05<35:26,  1.64s/it]"
          ]
        },
        {
          "name": "stdout",
          "output_type": "stream",
          "text": [
            "<re.Match object; span=(5, 21), match='Vulnerability: 1'> <re.Match object; span=(22, 37), match='CWE ID: CWE-125'> <re.Match object; span=(38, 66), match='CWE Name: Out-of-bounds Read'>\n"
          ]
        },
        {
          "name": "stderr",
          "output_type": "stream",
          "text": [
            " 43%|████▎     | 958/2253 [2:42:07<34:43,  1.61s/it]"
          ]
        },
        {
          "name": "stdout",
          "output_type": "stream",
          "text": [
            "<re.Match object; span=(10, 26), match='Vulnerability: 0'> <re.Match object; span=(27, 49), match='CWE ID: NOT_APPLICABLE'> <re.Match object; span=(50, 74), match='CWE Name: NOT_APPLICABLE'>\n"
          ]
        },
        {
          "name": "stderr",
          "output_type": "stream",
          "text": [
            " 43%|████▎     | 959/2253 [2:42:08<33:31,  1.55s/it]"
          ]
        },
        {
          "name": "stdout",
          "output_type": "stream",
          "text": [
            "<re.Match object; span=(10, 26), match='Vulnerability: 1'> <re.Match object; span=(27, 42), match='CWE ID: CWE-125'> <re.Match object; span=(43, 71), match='CWE Name: Out-of-bounds Read'>\n"
          ]
        },
        {
          "name": "stderr",
          "output_type": "stream",
          "text": [
            " 43%|████▎     | 960/2253 [2:42:10<33:21,  1.55s/it]"
          ]
        },
        {
          "name": "stdout",
          "output_type": "stream",
          "text": [
            "<re.Match object; span=(5, 21), match='Vulnerability: 1'> <re.Match object; span=(22, 37), match='CWE ID: CWE-119'> <re.Match object; span=(38, 119), match='CWE Name: Improper Restriction of Operations with>\n"
          ]
        },
        {
          "name": "stderr",
          "output_type": "stream",
          "text": [
            " 43%|████▎     | 961/2253 [2:42:11<33:20,  1.55s/it]"
          ]
        },
        {
          "name": "stdout",
          "output_type": "stream",
          "text": [
            "<re.Match object; span=(8, 24), match='Vulnerability: 0'> <re.Match object; span=(25, 47), match='CWE ID: NOT_APPLICABLE'> <re.Match object; span=(48, 72), match='CWE Name: NOT_APPLICABLE'>\n"
          ]
        },
        {
          "name": "stderr",
          "output_type": "stream",
          "text": [
            " 43%|████▎     | 962/2253 [2:42:13<33:12,  1.54s/it]"
          ]
        },
        {
          "name": "stdout",
          "output_type": "stream",
          "text": [
            "<re.Match object; span=(5, 21), match='Vulnerability: 1'> <re.Match object; span=(22, 36), match='CWE ID: CWE-20'> <re.Match object; span=(37, 72), match='CWE Name: Improper Input Validation'>\n"
          ]
        },
        {
          "name": "stderr",
          "output_type": "stream",
          "text": [
            " 43%|████▎     | 963/2253 [2:42:15<36:27,  1.70s/it]"
          ]
        },
        {
          "name": "stdout",
          "output_type": "stream",
          "text": [
            "<re.Match object; span=(5, 21), match='Vulnerability: 1'> <re.Match object; span=(22, 37), match='CWE ID: CWE-190'> <re.Match object; span=(38, 78), match='CWE Name: Integer Overflow or Wraparound'>\n"
          ]
        },
        {
          "name": "stderr",
          "output_type": "stream",
          "text": [
            " 43%|████▎     | 964/2253 [2:42:17<36:04,  1.68s/it]"
          ]
        },
        {
          "name": "stdout",
          "output_type": "stream",
          "text": [
            "<re.Match object; span=(5, 21), match='Vulnerability: 1'> <re.Match object; span=(22, 37), match='CWE ID: CWE-362'> <re.Match object; span=(38, 139), match=\"CWE Name: Concurrent Execution using Shared Resou>\n"
          ]
        },
        {
          "name": "stderr",
          "output_type": "stream",
          "text": [
            " 43%|████▎     | 965/2253 [2:42:18<35:06,  1.64s/it]"
          ]
        },
        {
          "name": "stdout",
          "output_type": "stream",
          "text": [
            "<re.Match object; span=(5, 21), match='Vulnerability: 0'> <re.Match object; span=(22, 44), match='CWE ID: NOT_APPLICABLE'> <re.Match object; span=(45, 69), match='CWE Name: NOT_APPLICABLE'>\n"
          ]
        },
        {
          "name": "stderr",
          "output_type": "stream",
          "text": [
            " 43%|████▎     | 966/2253 [2:42:20<35:07,  1.64s/it]"
          ]
        },
        {
          "name": "stdout",
          "output_type": "stream",
          "text": [
            "<re.Match object; span=(8, 24), match='Vulnerability: 0'> <re.Match object; span=(25, 47), match='CWE ID: NOT_APPLICABLE'> <re.Match object; span=(48, 72), match='CWE Name: NOT_APPLICABLE'>\n"
          ]
        },
        {
          "name": "stderr",
          "output_type": "stream",
          "text": [
            " 43%|████▎     | 967/2253 [2:42:21<33:08,  1.55s/it]"
          ]
        },
        {
          "name": "stdout",
          "output_type": "stream",
          "text": [
            "<re.Match object; span=(5, 21), match='Vulnerability: 0'> <re.Match object; span=(22, 44), match='CWE ID: NOT_APPLICABLE'> <re.Match object; span=(45, 69), match='CWE Name: NOT_APPLICABLE'>\n"
          ]
        },
        {
          "name": "stderr",
          "output_type": "stream",
          "text": [
            " 43%|████▎     | 968/2253 [2:42:24<38:16,  1.79s/it]"
          ]
        },
        {
          "name": "stdout",
          "output_type": "stream",
          "text": [
            "<re.Match object; span=(5, 21), match='Vulnerability: 1'> <re.Match object; span=(22, 37), match='CWE ID: CWE-119'> <re.Match object; span=(38, 119), match='CWE Name: Improper Restriction of Operations with>\n"
          ]
        },
        {
          "name": "stderr",
          "output_type": "stream",
          "text": [
            " 43%|████▎     | 969/2253 [2:42:25<37:54,  1.77s/it]"
          ]
        },
        {
          "name": "stdout",
          "output_type": "stream",
          "text": [
            "<re.Match object; span=(12, 28), match='Vulnerability: 1'> <re.Match object; span=(29, 44), match='CWE ID: CWE-119'> <re.Match object; span=(45, 126), match='CWE Name: Improper Restriction of Operations with>\n"
          ]
        },
        {
          "name": "stderr",
          "output_type": "stream",
          "text": [
            " 43%|████▎     | 970/2253 [2:42:27<36:51,  1.72s/it]"
          ]
        },
        {
          "name": "stdout",
          "output_type": "stream",
          "text": [
            "<re.Match object; span=(10, 26), match='Vulnerability: 0'> <re.Match object; span=(27, 49), match='CWE ID: NOT_APPLICABLE'> <re.Match object; span=(50, 74), match='CWE Name: NOT_APPLICABLE'>\n"
          ]
        },
        {
          "name": "stderr",
          "output_type": "stream",
          "text": [
            " 43%|████▎     | 971/2253 [2:42:28<35:10,  1.65s/it]"
          ]
        },
        {
          "name": "stdout",
          "output_type": "stream",
          "text": [
            "<re.Match object; span=(5, 21), match='Vulnerability: 1'> <re.Match object; span=(22, 37), match='CWE ID: CWE-119'> <re.Match object; span=(38, 119), match='CWE Name: Improper Restriction of Operations with>\n"
          ]
        },
        {
          "name": "stderr",
          "output_type": "stream",
          "text": [
            " 43%|████▎     | 972/2253 [2:42:30<35:06,  1.64s/it]"
          ]
        },
        {
          "name": "stdout",
          "output_type": "stream",
          "text": [
            "<re.Match object; span=(5, 21), match='Vulnerability: 1'> <re.Match object; span=(22, 37), match='CWE ID: CWE-119'> <re.Match object; span=(38, 119), match='CWE Name: Improper Restriction of Operations with>\n"
          ]
        },
        {
          "name": "stderr",
          "output_type": "stream",
          "text": [
            " 43%|████▎     | 973/2253 [2:42:31<34:15,  1.61s/it]"
          ]
        },
        {
          "name": "stdout",
          "output_type": "stream",
          "text": [
            "<re.Match object; span=(5, 21), match='Vulnerability: 1'> <re.Match object; span=(22, 37), match='CWE ID: CWE-401'> <re.Match object; span=(38, 59), match='CWE Name: Memory Leak'>\n"
          ]
        },
        {
          "name": "stderr",
          "output_type": "stream",
          "text": [
            " 43%|████▎     | 974/2253 [2:42:33<33:12,  1.56s/it]"
          ]
        },
        {
          "name": "stdout",
          "output_type": "stream",
          "text": [
            "<re.Match object; span=(5, 21), match='Vulnerability: 0'> <re.Match object; span=(22, 44), match='CWE ID: NOT_APPLICABLE'> <re.Match object; span=(45, 69), match='CWE Name: NOT_APPLICABLE'>\n"
          ]
        },
        {
          "name": "stderr",
          "output_type": "stream",
          "text": [
            " 43%|████▎     | 975/2253 [2:42:34<33:03,  1.55s/it]"
          ]
        },
        {
          "name": "stdout",
          "output_type": "stream",
          "text": [
            "<re.Match object; span=(14, 30), match='Vulnerability: 0'> <re.Match object; span=(31, 53), match='CWE ID: NOT_APPLICABLE'> <re.Match object; span=(54, 78), match='CWE Name: NOT_APPLICABLE'>\n"
          ]
        },
        {
          "name": "stderr",
          "output_type": "stream",
          "text": [
            " 43%|████▎     | 976/2253 [2:42:36<32:58,  1.55s/it]"
          ]
        },
        {
          "name": "stdout",
          "output_type": "stream",
          "text": [
            "<re.Match object; span=(5, 21), match='Vulnerability: 1'> <re.Match object; span=(22, 37), match='CWE ID: CWE-190'> <re.Match object; span=(38, 78), match='CWE Name: Integer Overflow or Wraparound'>\n"
          ]
        },
        {
          "name": "stderr",
          "output_type": "stream",
          "text": [
            " 43%|████▎     | 977/2253 [2:42:38<35:23,  1.66s/it]"
          ]
        },
        {
          "name": "stdout",
          "output_type": "stream",
          "text": [
            "<re.Match object; span=(5, 21), match='Vulnerability: 0'> <re.Match object; span=(22, 44), match='CWE ID: NOT_APPLICABLE'> <re.Match object; span=(45, 69), match='CWE Name: NOT_APPLICABLE'>\n"
          ]
        },
        {
          "name": "stderr",
          "output_type": "stream",
          "text": [
            " 43%|████▎     | 978/2253 [2:42:39<33:19,  1.57s/it]"
          ]
        },
        {
          "name": "stdout",
          "output_type": "stream",
          "text": [
            "<re.Match object; span=(5, 21), match='Vulnerability: 0'> <re.Match object; span=(22, 44), match='CWE ID: NOT_APPLICABLE'> <re.Match object; span=(45, 69), match='CWE Name: NOT_APPLICABLE'>\n"
          ]
        },
        {
          "name": "stderr",
          "output_type": "stream",
          "text": [
            " 43%|████▎     | 979/2253 [2:42:41<33:06,  1.56s/it]"
          ]
        },
        {
          "name": "stdout",
          "output_type": "stream",
          "text": [
            "<re.Match object; span=(5, 21), match='Vulnerability: 0'> <re.Match object; span=(22, 44), match='CWE ID: NOT_APPLICABLE'> <re.Match object; span=(45, 69), match='CWE Name: NOT_APPLICABLE'>\n"
          ]
        },
        {
          "name": "stderr",
          "output_type": "stream",
          "text": [
            " 43%|████▎     | 980/2253 [2:42:42<33:32,  1.58s/it]"
          ]
        },
        {
          "name": "stdout",
          "output_type": "stream",
          "text": [
            "<re.Match object; span=(6, 22), match='Vulnerability: 0'> <re.Match object; span=(23, 45), match='CWE ID: NOT_APPLICABLE'> <re.Match object; span=(46, 70), match='CWE Name: NOT_APPLICABLE'>\n"
          ]
        },
        {
          "name": "stderr",
          "output_type": "stream",
          "text": [
            " 44%|████▎     | 981/2253 [2:42:44<35:11,  1.66s/it]"
          ]
        },
        {
          "name": "stdout",
          "output_type": "stream",
          "text": [
            "<re.Match object; span=(10, 26), match='Vulnerability: 0'> <re.Match object; span=(27, 49), match='CWE ID: NOT_APPLICABLE'> <re.Match object; span=(50, 74), match='CWE Name: NOT_APPLICABLE'>\n"
          ]
        },
        {
          "name": "stderr",
          "output_type": "stream",
          "text": [
            " 44%|████▎     | 982/2253 [2:42:46<33:45,  1.59s/it]"
          ]
        },
        {
          "name": "stdout",
          "output_type": "stream",
          "text": [
            "<re.Match object; span=(5, 21), match='Vulnerability: 0'> <re.Match object; span=(22, 44), match='CWE ID: NOT_APPLICABLE'> <re.Match object; span=(45, 69), match='CWE Name: NOT_APPLICABLE'>\n"
          ]
        },
        {
          "name": "stderr",
          "output_type": "stream",
          "text": [
            " 44%|████▎     | 983/2253 [2:42:47<34:36,  1.64s/it]"
          ]
        },
        {
          "name": "stdout",
          "output_type": "stream",
          "text": [
            "<re.Match object; span=(8, 24), match='Vulnerability: 0'> <re.Match object; span=(25, 47), match='CWE ID: NOT_APPLICABLE'> <re.Match object; span=(48, 72), match='CWE Name: NOT_APPLICABLE'>\n"
          ]
        },
        {
          "name": "stderr",
          "output_type": "stream",
          "text": [
            " 44%|████▎     | 984/2253 [2:42:49<36:30,  1.73s/it]"
          ]
        },
        {
          "name": "stdout",
          "output_type": "stream",
          "text": [
            "<re.Match object; span=(8, 24), match='Vulnerability: 0'> <re.Match object; span=(25, 47), match='CWE ID: NOT_APPLICABLE'> <re.Match object; span=(48, 72), match='CWE Name: NOT_APPLICABLE'>\n"
          ]
        },
        {
          "name": "stderr",
          "output_type": "stream",
          "text": [
            " 44%|████▎     | 985/2253 [2:42:51<35:15,  1.67s/it]"
          ]
        },
        {
          "name": "stdout",
          "output_type": "stream",
          "text": [
            "<re.Match object; span=(5, 21), match='Vulnerability: 0'> <re.Match object; span=(22, 44), match='CWE ID: NOT_APPLICABLE'> <re.Match object; span=(45, 69), match='CWE Name: NOT_APPLICABLE'>\n"
          ]
        },
        {
          "name": "stderr",
          "output_type": "stream",
          "text": [
            " 44%|████▍     | 986/2253 [2:42:53<36:23,  1.72s/it]"
          ]
        },
        {
          "name": "stdout",
          "output_type": "stream",
          "text": [
            "<re.Match object; span=(5, 21), match='Vulnerability: 0'> <re.Match object; span=(22, 44), match='CWE ID: NOT_APPLICABLE'> <re.Match object; span=(45, 69), match='CWE Name: NOT_APPLICABLE'>\n"
          ]
        },
        {
          "name": "stderr",
          "output_type": "stream",
          "text": [
            " 44%|████▍     | 987/2253 [2:42:54<35:12,  1.67s/it]"
          ]
        },
        {
          "name": "stdout",
          "output_type": "stream",
          "text": [
            "<re.Match object; span=(5, 21), match='Vulnerability: 0'> <re.Match object; span=(22, 44), match='CWE ID: NOT_APPLICABLE'> <re.Match object; span=(45, 69), match='CWE Name: NOT_APPLICABLE'>\n"
          ]
        },
        {
          "name": "stderr",
          "output_type": "stream",
          "text": [
            " 44%|████▍     | 988/2253 [2:42:56<34:16,  1.63s/it]"
          ]
        },
        {
          "name": "stdout",
          "output_type": "stream",
          "text": [
            "<re.Match object; span=(5, 21), match='Vulnerability: 1'> <re.Match object; span=(22, 33), match='CWE ID: 121'> <re.Match object; span=(34, 71), match='CWE Name: Stack-based Buffer Overflow'>\n"
          ]
        },
        {
          "name": "stderr",
          "output_type": "stream",
          "text": [
            " 44%|████▍     | 989/2253 [2:42:58<35:05,  1.67s/it]"
          ]
        },
        {
          "name": "stdout",
          "output_type": "stream",
          "text": [
            "<re.Match object; span=(8, 24), match='Vulnerability: 0'> <re.Match object; span=(25, 47), match='CWE ID: NOT_APPLICABLE'> <re.Match object; span=(48, 72), match='CWE Name: NOT_APPLICABLE'>\n"
          ]
        },
        {
          "name": "stderr",
          "output_type": "stream",
          "text": [
            " 44%|████▍     | 990/2253 [2:42:59<35:26,  1.68s/it]"
          ]
        },
        {
          "name": "stdout",
          "output_type": "stream",
          "text": [
            "<re.Match object; span=(5, 21), match='Vulnerability: 0'> <re.Match object; span=(22, 44), match='CWE ID: NOT_APPLICABLE'> <re.Match object; span=(45, 69), match='CWE Name: NOT_APPLICABLE'>\n"
          ]
        },
        {
          "name": "stderr",
          "output_type": "stream",
          "text": [
            " 44%|████▍     | 991/2253 [2:43:01<34:31,  1.64s/it]"
          ]
        },
        {
          "name": "stdout",
          "output_type": "stream",
          "text": [
            "<re.Match object; span=(5, 21), match='Vulnerability: 1'> <re.Match object; span=(22, 37), match='CWE ID: CWE-200'> <re.Match object; span=(38, 106), match='CWE Name: Exposure of Sensitive Information to an>\n"
          ]
        },
        {
          "name": "stderr",
          "output_type": "stream",
          "text": [
            " 44%|████▍     | 992/2253 [2:43:03<34:28,  1.64s/it]"
          ]
        },
        {
          "name": "stdout",
          "output_type": "stream",
          "text": [
            "<re.Match object; span=(5, 21), match='Vulnerability: 0'> <re.Match object; span=(22, 44), match='CWE ID: NOT_APPLICABLE'> <re.Match object; span=(45, 69), match='CWE Name: NOT_APPLICABLE'>\n"
          ]
        },
        {
          "name": "stderr",
          "output_type": "stream",
          "text": [
            " 44%|████▍     | 993/2253 [2:43:04<33:12,  1.58s/it]"
          ]
        },
        {
          "name": "stdout",
          "output_type": "stream",
          "text": [
            "<re.Match object; span=(5, 21), match='Vulnerability: 1'> <re.Match object; span=(22, 37), match='CWE ID: CWE-122'> <re.Match object; span=(38, 74), match='CWE Name: Heap-based Buffer Overflow'>\n"
          ]
        },
        {
          "name": "stderr",
          "output_type": "stream",
          "text": [
            " 44%|████▍     | 994/2253 [2:43:06<34:07,  1.63s/it]"
          ]
        },
        {
          "name": "stdout",
          "output_type": "stream",
          "text": [
            "<re.Match object; span=(8, 24), match='Vulnerability: 1'> <re.Match object; span=(25, 40), match='CWE ID: CWE-119'> <re.Match object; span=(41, 122), match='CWE Name: Improper Restriction of Operations with>\n"
          ]
        },
        {
          "name": "stderr",
          "output_type": "stream",
          "text": [
            " 44%|████▍     | 995/2253 [2:43:07<33:30,  1.60s/it]"
          ]
        },
        {
          "name": "stdout",
          "output_type": "stream",
          "text": [
            "<re.Match object; span=(14, 30), match='Vulnerability: 1'> <re.Match object; span=(31, 46), match='CWE ID: CWE-119'> <re.Match object; span=(47, 128), match='CWE Name: Improper Restriction of Operations with>\n"
          ]
        },
        {
          "name": "stderr",
          "output_type": "stream",
          "text": [
            " 44%|████▍     | 996/2253 [2:43:09<31:55,  1.52s/it]"
          ]
        },
        {
          "name": "stdout",
          "output_type": "stream",
          "text": [
            "<re.Match object; span=(10, 26), match='Vulnerability: 0'> <re.Match object; span=(27, 49), match='CWE ID: NOT_APPLICABLE'> <re.Match object; span=(50, 74), match='CWE Name: NOT_APPLICABLE'>\n"
          ]
        },
        {
          "name": "stderr",
          "output_type": "stream",
          "text": [
            " 44%|████▍     | 997/2253 [2:43:10<31:13,  1.49s/it]"
          ]
        },
        {
          "name": "stdout",
          "output_type": "stream",
          "text": [
            "<re.Match object; span=(8, 24), match='Vulnerability: 0'> <re.Match object; span=(25, 47), match='CWE ID: NOT_APPLICABLE'> <re.Match object; span=(48, 72), match='CWE Name: NOT_APPLICABLE'>\n"
          ]
        },
        {
          "name": "stderr",
          "output_type": "stream",
          "text": [
            " 44%|████▍     | 998/2253 [2:43:11<30:48,  1.47s/it]"
          ]
        },
        {
          "name": "stdout",
          "output_type": "stream",
          "text": [
            "<re.Match object; span=(5, 21), match='Vulnerability: 0'> <re.Match object; span=(22, 44), match='CWE ID: NOT_APPLICABLE'> <re.Match object; span=(45, 69), match='CWE Name: NOT_APPLICABLE'>\n"
          ]
        },
        {
          "name": "stderr",
          "output_type": "stream",
          "text": [
            " 44%|████▍     | 999/2253 [2:43:13<33:49,  1.62s/it]"
          ]
        },
        {
          "name": "stdout",
          "output_type": "stream",
          "text": [
            "<re.Match object; span=(8, 24), match='Vulnerability: 1'> <re.Match object; span=(25, 40), match='CWE ID: CWE-126'> <re.Match object; span=(41, 67), match='CWE Name: Buffer Over-read'>\n"
          ]
        },
        {
          "name": "stderr",
          "output_type": "stream",
          "text": [
            " 44%|████▍     | 1000/2253 [2:43:15<35:39,  1.71s/it]"
          ]
        },
        {
          "name": "stdout",
          "output_type": "stream",
          "text": [
            "<re.Match object; span=(5, 21), match='Vulnerability: 0'> <re.Match object; span=(22, 44), match='CWE ID: NOT_APPLICABLE'> <re.Match object; span=(45, 69), match='CWE Name: NOT_APPLICABLE'>\n"
          ]
        },
        {
          "name": "stderr",
          "output_type": "stream",
          "text": [
            " 44%|████▍     | 1001/2253 [2:43:17<35:21,  1.69s/it]"
          ]
        },
        {
          "name": "stdout",
          "output_type": "stream",
          "text": [
            "<re.Match object; span=(5, 21), match='Vulnerability: 0'> <re.Match object; span=(22, 44), match='CWE ID: NOT_APPLICABLE'> <re.Match object; span=(45, 69), match='CWE Name: NOT_APPLICABLE'>\n"
          ]
        },
        {
          "name": "stderr",
          "output_type": "stream",
          "text": [
            " 44%|████▍     | 1002/2253 [2:43:18<34:19,  1.65s/it]"
          ]
        },
        {
          "name": "stdout",
          "output_type": "stream",
          "text": [
            "<re.Match object; span=(5, 21), match='Vulnerability: 0'> <re.Match object; span=(22, 44), match='CWE ID: NOT_APPLICABLE'> <re.Match object; span=(45, 69), match='CWE Name: NOT_APPLICABLE'>\n"
          ]
        },
        {
          "name": "stderr",
          "output_type": "stream",
          "text": [
            " 45%|████▍     | 1003/2253 [2:43:20<36:08,  1.73s/it]"
          ]
        },
        {
          "name": "stdout",
          "output_type": "stream",
          "text": [
            "<re.Match object; span=(5, 21), match='Vulnerability: 1'> <re.Match object; span=(22, 36), match='CWE ID: CWE-22'> <re.Match object; span=(37, 125), match=\"CWE Name: Improper Limitation of a Pathname to a >\n"
          ]
        },
        {
          "name": "stderr",
          "output_type": "stream",
          "text": [
            " 45%|████▍     | 1004/2253 [2:43:22<34:17,  1.65s/it]"
          ]
        },
        {
          "name": "stdout",
          "output_type": "stream",
          "text": [
            "<re.Match object; span=(8, 24), match='Vulnerability: 0'> <re.Match object; span=(25, 47), match='CWE ID: NOT_APPLICABLE'> <re.Match object; span=(48, 72), match='CWE Name: NOT_APPLICABLE'>\n"
          ]
        },
        {
          "name": "stderr",
          "output_type": "stream",
          "text": [
            " 45%|████▍     | 1005/2253 [2:43:23<32:54,  1.58s/it]"
          ]
        },
        {
          "name": "stdout",
          "output_type": "stream",
          "text": [
            "<re.Match object; span=(10, 26), match='Vulnerability: 0'> <re.Match object; span=(27, 49), match='CWE ID: NOT_APPLICABLE'> <re.Match object; span=(50, 74), match='CWE Name: NOT_APPLICABLE'>\n"
          ]
        },
        {
          "name": "stderr",
          "output_type": "stream",
          "text": [
            " 45%|████▍     | 1006/2253 [2:43:25<33:14,  1.60s/it]"
          ]
        },
        {
          "name": "stdout",
          "output_type": "stream",
          "text": [
            "<re.Match object; span=(5, 21), match='Vulnerability: 0'> <re.Match object; span=(22, 44), match='CWE ID: NOT_APPLICABLE'> <re.Match object; span=(45, 69), match='CWE Name: NOT_APPLICABLE'>\n"
          ]
        },
        {
          "name": "stderr",
          "output_type": "stream",
          "text": [
            " 45%|████▍     | 1007/2253 [2:43:28<41:42,  2.01s/it]"
          ]
        },
        {
          "name": "stdout",
          "output_type": "stream",
          "text": [
            "<re.Match object; span=(10, 26), match='Vulnerability: 1'> <re.Match object; span=(27, 42), match='CWE ID: CWE-122'> <re.Match object; span=(43, 79), match='CWE Name: Heap-based Buffer Overflow'>\n"
          ]
        },
        {
          "name": "stderr",
          "output_type": "stream",
          "text": [
            " 45%|████▍     | 1008/2253 [2:43:29<38:46,  1.87s/it]"
          ]
        },
        {
          "name": "stdout",
          "output_type": "stream",
          "text": [
            "<re.Match object; span=(5, 21), match='Vulnerability: 1'> <re.Match object; span=(22, 37), match='CWE ID: CWE-119'> <re.Match object; span=(38, 119), match='CWE Name: Improper Restriction of Operations with>\n"
          ]
        },
        {
          "name": "stderr",
          "output_type": "stream",
          "text": [
            " 45%|████▍     | 1009/2253 [2:43:31<36:01,  1.74s/it]"
          ]
        },
        {
          "name": "stdout",
          "output_type": "stream",
          "text": [
            "<re.Match object; span=(5, 21), match='Vulnerability: 0'> <re.Match object; span=(22, 44), match='CWE ID: NOT_APPLICABLE'> <re.Match object; span=(45, 69), match='CWE Name: NOT_APPLICABLE'>\n"
          ]
        },
        {
          "name": "stderr",
          "output_type": "stream",
          "text": [
            " 45%|████▍     | 1010/2253 [2:43:32<34:46,  1.68s/it]"
          ]
        },
        {
          "name": "stdout",
          "output_type": "stream",
          "text": [
            "<re.Match object; span=(8, 24), match='Vulnerability: 1'> <re.Match object; span=(25, 39), match='CWE ID: CWE-20'> <re.Match object; span=(40, 75), match='CWE Name: Improper Input Validation'>\n"
          ]
        },
        {
          "name": "stderr",
          "output_type": "stream",
          "text": [
            " 45%|████▍     | 1011/2253 [2:43:34<35:48,  1.73s/it]"
          ]
        },
        {
          "name": "stdout",
          "output_type": "stream",
          "text": [
            "<re.Match object; span=(5, 21), match='Vulnerability: 1'> <re.Match object; span=(22, 37), match='CWE ID: CWE-121'> <re.Match object; span=(38, 75), match='CWE Name: Stack-based Buffer Overflow'>\n"
          ]
        },
        {
          "name": "stderr",
          "output_type": "stream",
          "text": [
            " 45%|████▍     | 1012/2253 [2:43:36<37:40,  1.82s/it]"
          ]
        },
        {
          "name": "stdout",
          "output_type": "stream",
          "text": [
            "<re.Match object; span=(5, 21), match='Vulnerability: 1'> <re.Match object; span=(22, 37), match='CWE ID: CWE-134'> <re.Match object; span=(38, 90), match='CWE Name: Use of Externally Controlled Format Str>\n"
          ]
        },
        {
          "name": "stderr",
          "output_type": "stream",
          "text": [
            " 45%|████▍     | 1013/2253 [2:43:40<48:31,  2.35s/it]"
          ]
        },
        {
          "name": "stdout",
          "output_type": "stream",
          "text": [
            "<re.Match object; span=(5, 21), match='Vulnerability: 0'> <re.Match object; span=(22, 44), match='CWE ID: NOT_APPLICABLE'> <re.Match object; span=(45, 69), match='CWE Name: NOT_APPLICABLE'>\n"
          ]
        },
        {
          "name": "stderr",
          "output_type": "stream",
          "text": [
            " 45%|████▌     | 1014/2253 [2:43:41<42:02,  2.04s/it]"
          ]
        },
        {
          "name": "stdout",
          "output_type": "stream",
          "text": [
            "<re.Match object; span=(5, 21), match='Vulnerability: 0'> <re.Match object; span=(22, 44), match='CWE ID: NOT_APPLICABLE'> <re.Match object; span=(45, 69), match='CWE Name: NOT_APPLICABLE'>\n"
          ]
        },
        {
          "name": "stderr",
          "output_type": "stream",
          "text": [
            " 45%|████▌     | 1015/2253 [2:43:43<39:04,  1.89s/it]"
          ]
        },
        {
          "name": "stdout",
          "output_type": "stream",
          "text": [
            "<re.Match object; span=(5, 21), match='Vulnerability: 0'> <re.Match object; span=(22, 44), match='CWE ID: NOT_APPLICABLE'> <re.Match object; span=(45, 69), match='CWE Name: NOT_APPLICABLE'>\n"
          ]
        },
        {
          "name": "stderr",
          "output_type": "stream",
          "text": [
            " 45%|████▌     | 1016/2253 [2:43:44<37:33,  1.82s/it]"
          ]
        },
        {
          "name": "stdout",
          "output_type": "stream",
          "text": [
            "<re.Match object; span=(14, 30), match='Vulnerability: 0'> <re.Match object; span=(31, 53), match='CWE ID: NOT_APPLICABLE'> <re.Match object; span=(54, 78), match='CWE Name: NOT_APPLICABLE'>\n"
          ]
        },
        {
          "name": "stderr",
          "output_type": "stream",
          "text": [
            " 45%|████▌     | 1017/2253 [2:43:46<36:23,  1.77s/it]"
          ]
        },
        {
          "name": "stdout",
          "output_type": "stream",
          "text": [
            "<re.Match object; span=(8, 24), match='Vulnerability: 0'> <re.Match object; span=(25, 47), match='CWE ID: NOT_APPLICABLE'> <re.Match object; span=(48, 72), match='CWE Name: NOT_APPLICABLE'>\n"
          ]
        },
        {
          "name": "stderr",
          "output_type": "stream",
          "text": [
            " 45%|████▌     | 1018/2253 [2:43:48<34:53,  1.70s/it]"
          ]
        },
        {
          "name": "stdout",
          "output_type": "stream",
          "text": [
            "<re.Match object; span=(5, 21), match='Vulnerability: 1'> <re.Match object; span=(22, 37), match='CWE ID: CWE-416'> <re.Match object; span=(38, 62), match='CWE Name: Use After Free'>\n"
          ]
        },
        {
          "name": "stderr",
          "output_type": "stream",
          "text": [
            " 45%|████▌     | 1019/2253 [2:43:49<33:54,  1.65s/it]"
          ]
        },
        {
          "name": "stdout",
          "output_type": "stream",
          "text": [
            "<re.Match object; span=(5, 21), match='Vulnerability: 1'> <re.Match object; span=(22, 37), match='CWE ID: CWE-119'> <re.Match object; span=(38, 119), match='CWE Name: Improper Restriction of Operations with>\n"
          ]
        },
        {
          "name": "stderr",
          "output_type": "stream",
          "text": [
            " 45%|████▌     | 1020/2253 [2:43:50<32:08,  1.56s/it]"
          ]
        },
        {
          "name": "stdout",
          "output_type": "stream",
          "text": [
            "<re.Match object; span=(5, 21), match='Vulnerability: 0'> <re.Match object; span=(22, 44), match='CWE ID: NOT_APPLICABLE'> <re.Match object; span=(45, 69), match='CWE Name: NOT_APPLICABLE'>\n"
          ]
        },
        {
          "name": "stderr",
          "output_type": "stream",
          "text": [
            " 45%|████▌     | 1021/2253 [2:43:52<31:42,  1.54s/it]"
          ]
        },
        {
          "name": "stdout",
          "output_type": "stream",
          "text": [
            "<re.Match object; span=(5, 21), match='Vulnerability: 1'> <re.Match object; span=(22, 33), match='CWE ID: 125'> <re.Match object; span=(34, 62), match='CWE Name: Out-of-bounds Read'>\n"
          ]
        },
        {
          "name": "stderr",
          "output_type": "stream",
          "text": [
            " 45%|████▌     | 1022/2253 [2:43:54<31:36,  1.54s/it]"
          ]
        },
        {
          "name": "stdout",
          "output_type": "stream",
          "text": [
            "<re.Match object; span=(5, 21), match='Vulnerability: 0'> <re.Match object; span=(22, 44), match='CWE ID: NOT_APPLICABLE'> <re.Match object; span=(45, 69), match='CWE Name: NOT_APPLICABLE'>\n"
          ]
        },
        {
          "name": "stderr",
          "output_type": "stream",
          "text": [
            " 45%|████▌     | 1023/2253 [2:43:55<32:49,  1.60s/it]"
          ]
        },
        {
          "name": "stdout",
          "output_type": "stream",
          "text": [
            "<re.Match object; span=(5, 21), match='Vulnerability: 1'> <re.Match object; span=(22, 37), match='CWE ID: CWE-170'> <re.Match object; span=(38, 73), match='CWE Name: Improper Null Termination'>\n"
          ]
        },
        {
          "name": "stderr",
          "output_type": "stream",
          "text": [
            " 45%|████▌     | 1024/2253 [2:43:57<33:39,  1.64s/it]"
          ]
        },
        {
          "name": "stdout",
          "output_type": "stream",
          "text": [
            "<re.Match object; span=(5, 21), match='Vulnerability: 1'> <re.Match object; span=(22, 37), match='CWE ID: CWE-119'> <re.Match object; span=(38, 119), match='CWE Name: Improper Restriction of Operations with>\n"
          ]
        },
        {
          "name": "stderr",
          "output_type": "stream",
          "text": [
            " 45%|████▌     | 1025/2253 [2:43:59<32:56,  1.61s/it]"
          ]
        },
        {
          "name": "stdout",
          "output_type": "stream",
          "text": [
            "<re.Match object; span=(5, 21), match='Vulnerability: 0'> <re.Match object; span=(22, 44), match='CWE ID: NOT_APPLICABLE'> <re.Match object; span=(45, 69), match='CWE Name: NOT_APPLICABLE'>\n"
          ]
        },
        {
          "name": "stderr",
          "output_type": "stream",
          "text": [
            " 46%|████▌     | 1026/2253 [2:44:00<33:43,  1.65s/it]"
          ]
        },
        {
          "name": "stdout",
          "output_type": "stream",
          "text": [
            "<re.Match object; span=(5, 21), match='Vulnerability: 1'> <re.Match object; span=(22, 37), match='CWE ID: CWE-119'> <re.Match object; span=(38, 119), match='CWE Name: Improper Restriction of Operations with>\n"
          ]
        },
        {
          "name": "stderr",
          "output_type": "stream",
          "text": [
            " 46%|████▌     | 1027/2253 [2:44:02<33:38,  1.65s/it]"
          ]
        },
        {
          "name": "stdout",
          "output_type": "stream",
          "text": [
            "<re.Match object; span=(5, 21), match='Vulnerability: 0'> <re.Match object; span=(22, 44), match='CWE ID: NOT_APPLICABLE'> <re.Match object; span=(45, 69), match='CWE Name: NOT_APPLICABLE'>\n"
          ]
        },
        {
          "name": "stderr",
          "output_type": "stream",
          "text": [
            " 46%|████▌     | 1028/2253 [2:44:04<34:20,  1.68s/it]"
          ]
        },
        {
          "name": "stdout",
          "output_type": "stream",
          "text": [
            "<re.Match object; span=(5, 21), match='Vulnerability: 0'> <re.Match object; span=(22, 44), match='CWE ID: NOT_APPLICABLE'> <re.Match object; span=(45, 69), match='CWE Name: NOT_APPLICABLE'>\n"
          ]
        },
        {
          "name": "stderr",
          "output_type": "stream",
          "text": [
            " 46%|████▌     | 1029/2253 [2:44:05<33:15,  1.63s/it]"
          ]
        },
        {
          "name": "stdout",
          "output_type": "stream",
          "text": [
            "<re.Match object; span=(10, 26), match='Vulnerability: 1'> <re.Match object; span=(27, 41), match='CWE ID: CWE-20'> <re.Match object; span=(42, 77), match='CWE Name: Improper Input Validation'>\n"
          ]
        },
        {
          "name": "stderr",
          "output_type": "stream",
          "text": [
            " 46%|████▌     | 1030/2253 [2:44:07<32:02,  1.57s/it]"
          ]
        },
        {
          "name": "stdout",
          "output_type": "stream",
          "text": [
            "<re.Match object; span=(8, 24), match='Vulnerability: 1'> <re.Match object; span=(25, 40), match='CWE ID: CWE-119'> <re.Match object; span=(41, 122), match='CWE Name: Improper Restriction of Operations with>\n"
          ]
        },
        {
          "name": "stderr",
          "output_type": "stream",
          "text": [
            " 46%|████▌     | 1031/2253 [2:44:10<40:12,  1.97s/it]"
          ]
        },
        {
          "name": "stdout",
          "output_type": "stream",
          "text": [
            "<re.Match object; span=(5, 21), match='Vulnerability: 0'> <re.Match object; span=(22, 44), match='CWE ID: NOT_APPLICABLE'> <re.Match object; span=(45, 69), match='CWE Name: NOT_APPLICABLE'>\n"
          ]
        },
        {
          "name": "stderr",
          "output_type": "stream",
          "text": [
            " 46%|████▌     | 1032/2253 [2:44:12<41:37,  2.05s/it]"
          ]
        },
        {
          "name": "stdout",
          "output_type": "stream",
          "text": [
            "<re.Match object; span=(5, 21), match='Vulnerability: 0'> <re.Match object; span=(22, 44), match='CWE ID: NOT_APPLICABLE'> <re.Match object; span=(45, 69), match='CWE Name: NOT_APPLICABLE'>\n"
          ]
        },
        {
          "name": "stderr",
          "output_type": "stream",
          "text": [
            " 46%|████▌     | 1033/2253 [2:44:14<43:30,  2.14s/it]"
          ]
        },
        {
          "name": "stdout",
          "output_type": "stream",
          "text": [
            "<re.Match object; span=(8, 24), match='Vulnerability: 0'> <re.Match object; span=(25, 47), match='CWE ID: NOT_APPLICABLE'> <re.Match object; span=(48, 72), match='CWE Name: NOT_APPLICABLE'>\n"
          ]
        },
        {
          "name": "stderr",
          "output_type": "stream",
          "text": [
            " 46%|████▌     | 1034/2253 [2:44:16<39:43,  1.96s/it]"
          ]
        },
        {
          "name": "stdout",
          "output_type": "stream",
          "text": [
            "<re.Match object; span=(5, 21), match='Vulnerability: 0'> <re.Match object; span=(22, 44), match='CWE ID: NOT_APPLICABLE'> <re.Match object; span=(45, 69), match='CWE Name: NOT_APPLICABLE'>\n"
          ]
        },
        {
          "name": "stderr",
          "output_type": "stream",
          "text": [
            " 46%|████▌     | 1035/2253 [2:44:18<39:40,  1.95s/it]"
          ]
        },
        {
          "name": "stdout",
          "output_type": "stream",
          "text": [
            "<re.Match object; span=(5, 21), match='Vulnerability: 0'> <re.Match object; span=(22, 44), match='CWE ID: NOT_APPLICABLE'> <re.Match object; span=(45, 69), match='CWE Name: NOT_APPLICABLE'>\n"
          ]
        },
        {
          "name": "stderr",
          "output_type": "stream",
          "text": [
            " 46%|████▌     | 1036/2253 [2:44:20<39:34,  1.95s/it]"
          ]
        },
        {
          "name": "stdout",
          "output_type": "stream",
          "text": [
            "<re.Match object; span=(10, 26), match='Vulnerability: 0'> <re.Match object; span=(27, 49), match='CWE ID: NOT_APPLICABLE'> <re.Match object; span=(50, 74), match='CWE Name: NOT_APPLICABLE'>\n"
          ]
        },
        {
          "name": "stderr",
          "output_type": "stream",
          "text": [
            " 46%|████▌     | 1037/2253 [2:44:22<44:53,  2.22s/it]"
          ]
        },
        {
          "name": "stdout",
          "output_type": "stream",
          "text": [
            "<re.Match object; span=(5, 21), match='Vulnerability: 1'> <re.Match object; span=(22, 37), match='CWE ID: CWE-787'> <re.Match object; span=(38, 67), match='CWE Name: Out-of-bounds Write'>\n"
          ]
        },
        {
          "name": "stderr",
          "output_type": "stream",
          "text": [
            " 46%|████▌     | 1038/2253 [2:44:24<40:39,  2.01s/it]"
          ]
        },
        {
          "name": "stdout",
          "output_type": "stream",
          "text": [
            "<re.Match object; span=(10, 26), match='Vulnerability: 0'> <re.Match object; span=(27, 49), match='CWE ID: NOT_APPLICABLE'> <re.Match object; span=(50, 74), match='CWE Name: NOT_APPLICABLE'>\n"
          ]
        },
        {
          "name": "stderr",
          "output_type": "stream",
          "text": [
            " 46%|████▌     | 1039/2253 [2:44:25<36:48,  1.82s/it]"
          ]
        },
        {
          "name": "stdout",
          "output_type": "stream",
          "text": [
            "<re.Match object; span=(5, 21), match='Vulnerability: 0'> <re.Match object; span=(22, 44), match='CWE ID: NOT_APPLICABLE'> <re.Match object; span=(45, 69), match='CWE Name: NOT_APPLICABLE'>\n"
          ]
        },
        {
          "name": "stderr",
          "output_type": "stream",
          "text": [
            " 46%|████▌     | 1040/2253 [2:44:27<34:15,  1.69s/it]"
          ]
        },
        {
          "name": "stdout",
          "output_type": "stream",
          "text": [
            "<re.Match object; span=(10, 26), match='Vulnerability: 0'> <re.Match object; span=(27, 49), match='CWE ID: NOT_APPLICABLE'> <re.Match object; span=(50, 74), match='CWE Name: NOT_APPLICABLE'>\n"
          ]
        },
        {
          "name": "stderr",
          "output_type": "stream",
          "text": [
            " 46%|████▌     | 1041/2253 [2:44:29<35:58,  1.78s/it]"
          ]
        },
        {
          "name": "stdout",
          "output_type": "stream",
          "text": [
            "<re.Match object; span=(5, 21), match='Vulnerability: 0'> <re.Match object; span=(22, 44), match='CWE ID: NOT_APPLICABLE'> <re.Match object; span=(45, 69), match='CWE Name: NOT_APPLICABLE'>\n"
          ]
        },
        {
          "name": "stderr",
          "output_type": "stream",
          "text": [
            " 46%|████▌     | 1042/2253 [2:44:30<34:26,  1.71s/it]"
          ]
        },
        {
          "name": "stdout",
          "output_type": "stream",
          "text": [
            "<re.Match object; span=(5, 21), match='Vulnerability: 1'> <re.Match object; span=(22, 36), match='CWE ID: CWE-20'> <re.Match object; span=(37, 72), match='CWE Name: Improper Input Validation'>\n"
          ]
        },
        {
          "name": "stderr",
          "output_type": "stream",
          "text": [
            " 46%|████▋     | 1043/2253 [2:44:32<32:44,  1.62s/it]"
          ]
        },
        {
          "name": "stdout",
          "output_type": "stream",
          "text": [
            "<re.Match object; span=(10, 26), match='Vulnerability: 1'> <re.Match object; span=(27, 42), match='CWE ID: CWE-189'> <re.Match object; span=(43, 67), match='CWE Name: Numeric Errors'>\n"
          ]
        },
        {
          "name": "stderr",
          "output_type": "stream",
          "text": [
            " 46%|████▋     | 1044/2253 [2:44:33<31:03,  1.54s/it]"
          ]
        },
        {
          "name": "stdout",
          "output_type": "stream",
          "text": [
            "<re.Match object; span=(9, 25), match='Vulnerability: 0'> <re.Match object; span=(26, 48), match='CWE ID: NOT_APPLICABLE'> <re.Match object; span=(49, 73), match='CWE Name: NOT_APPLICABLE'>\n"
          ]
        },
        {
          "name": "stderr",
          "output_type": "stream",
          "text": [
            " 46%|████▋     | 1045/2253 [2:44:35<32:06,  1.59s/it]"
          ]
        },
        {
          "name": "stdout",
          "output_type": "stream",
          "text": [
            "<re.Match object; span=(5, 21), match='Vulnerability: 0'> <re.Match object; span=(22, 44), match='CWE ID: NOT_APPLICABLE'> <re.Match object; span=(45, 69), match='CWE Name: NOT_APPLICABLE'>\n"
          ]
        },
        {
          "name": "stderr",
          "output_type": "stream",
          "text": [
            " 46%|████▋     | 1046/2253 [2:44:36<32:58,  1.64s/it]"
          ]
        },
        {
          "name": "stdout",
          "output_type": "stream",
          "text": [
            "<re.Match object; span=(5, 21), match='Vulnerability: 1'> <re.Match object; span=(22, 37), match='CWE ID: CWE-119'> <re.Match object; span=(38, 119), match='CWE Name: Improper Restriction of Operations with>\n"
          ]
        },
        {
          "name": "stderr",
          "output_type": "stream",
          "text": [
            " 46%|████▋     | 1047/2253 [2:44:38<31:19,  1.56s/it]"
          ]
        },
        {
          "name": "stdout",
          "output_type": "stream",
          "text": [
            "<re.Match object; span=(5, 21), match='Vulnerability: 0'> <re.Match object; span=(22, 44), match='CWE ID: NOT_APPLICABLE'> <re.Match object; span=(45, 69), match='CWE Name: NOT_APPLICABLE'>\n"
          ]
        },
        {
          "name": "stderr",
          "output_type": "stream",
          "text": [
            " 47%|████▋     | 1048/2253 [2:44:39<30:39,  1.53s/it]"
          ]
        },
        {
          "name": "stdout",
          "output_type": "stream",
          "text": [
            "<re.Match object; span=(5, 21), match='Vulnerability: 0'> <re.Match object; span=(22, 44), match='CWE ID: NOT_APPLICABLE'> <re.Match object; span=(45, 69), match='CWE Name: NOT_APPLICABLE'>\n"
          ]
        },
        {
          "name": "stderr",
          "output_type": "stream",
          "text": [
            " 47%|████▋     | 1049/2253 [2:44:41<31:24,  1.57s/it]"
          ]
        },
        {
          "name": "stdout",
          "output_type": "stream",
          "text": [
            "<re.Match object; span=(8, 24), match='Vulnerability: 0'> <re.Match object; span=(25, 47), match='CWE ID: NOT_APPLICABLE'> <re.Match object; span=(48, 72), match='CWE Name: NOT_APPLICABLE'>\n"
          ]
        },
        {
          "name": "stderr",
          "output_type": "stream",
          "text": [
            " 47%|████▋     | 1050/2253 [2:44:42<30:46,  1.53s/it]"
          ]
        },
        {
          "name": "stdout",
          "output_type": "stream",
          "text": [
            "<re.Match object; span=(10, 26), match='Vulnerability: 0'> <re.Match object; span=(27, 49), match='CWE ID: NOT_APPLICABLE'> <re.Match object; span=(50, 74), match='CWE Name: NOT_APPLICABLE'>\n"
          ]
        },
        {
          "name": "stderr",
          "output_type": "stream",
          "text": [
            " 47%|████▋     | 1051/2253 [2:44:44<29:39,  1.48s/it]"
          ]
        },
        {
          "name": "stdout",
          "output_type": "stream",
          "text": [
            "<re.Match object; span=(5, 21), match='Vulnerability: 0'> <re.Match object; span=(22, 44), match='CWE ID: NOT_APPLICABLE'> <re.Match object; span=(45, 69), match='CWE Name: NOT_APPLICABLE'>\n"
          ]
        },
        {
          "name": "stderr",
          "output_type": "stream",
          "text": [
            " 47%|████▋     | 1052/2253 [2:44:45<31:00,  1.55s/it]"
          ]
        },
        {
          "name": "stdout",
          "output_type": "stream",
          "text": [
            "<re.Match object; span=(10, 26), match='Vulnerability: 1'> <re.Match object; span=(27, 42), match='CWE ID: CWE-787'> <re.Match object; span=(43, 72), match='CWE Name: Out-of-bounds Write'>\n"
          ]
        },
        {
          "name": "stderr",
          "output_type": "stream",
          "text": [
            " 47%|████▋     | 1053/2253 [2:44:47<29:55,  1.50s/it]"
          ]
        },
        {
          "name": "stdout",
          "output_type": "stream",
          "text": [
            "<re.Match object; span=(5, 21), match='Vulnerability: 0'> <re.Match object; span=(22, 44), match='CWE ID: NOT_APPLICABLE'> <re.Match object; span=(45, 69), match='CWE Name: NOT_APPLICABLE'>\n"
          ]
        },
        {
          "name": "stderr",
          "output_type": "stream",
          "text": [
            " 47%|████▋     | 1054/2253 [2:44:48<30:28,  1.53s/it]"
          ]
        },
        {
          "name": "stdout",
          "output_type": "stream",
          "text": [
            "<re.Match object; span=(5, 21), match='Vulnerability: 1'> <re.Match object; span=(22, 37), match='CWE ID: CWE-119'> <re.Match object; span=(38, 119), match='CWE Name: Improper Restriction of Operations with>\n"
          ]
        },
        {
          "name": "stderr",
          "output_type": "stream",
          "text": [
            " 47%|████▋     | 1055/2253 [2:44:50<32:20,  1.62s/it]"
          ]
        },
        {
          "name": "stdout",
          "output_type": "stream",
          "text": [
            "<re.Match object; span=(5, 21), match='Vulnerability: 1'> <re.Match object; span=(22, 36), match='CWE ID: CWE-20'> <re.Match object; span=(37, 72), match='CWE Name: Improper Input Validation'>\n"
          ]
        },
        {
          "name": "stderr",
          "output_type": "stream",
          "text": [
            " 47%|████▋     | 1056/2253 [2:44:52<31:51,  1.60s/it]"
          ]
        },
        {
          "name": "stdout",
          "output_type": "stream",
          "text": [
            "<re.Match object; span=(8, 24), match='Vulnerability: 1'> <re.Match object; span=(25, 40), match='CWE ID: CWE-190'> <re.Match object; span=(41, 81), match='CWE Name: Integer Overflow or Wraparound'>\n"
          ]
        },
        {
          "name": "stderr",
          "output_type": "stream",
          "text": [
            " 47%|████▋     | 1057/2253 [2:44:53<30:55,  1.55s/it]"
          ]
        },
        {
          "name": "stdout",
          "output_type": "stream",
          "text": [
            "<re.Match object; span=(5, 21), match='Vulnerability: 1'> <re.Match object; span=(22, 37), match='CWE ID: CWE-119'> <re.Match object; span=(38, 119), match='CWE Name: Improper Restriction of Operations with>\n"
          ]
        },
        {
          "name": "stderr",
          "output_type": "stream",
          "text": [
            " 47%|████▋     | 1058/2253 [2:44:55<32:39,  1.64s/it]"
          ]
        },
        {
          "name": "stdout",
          "output_type": "stream",
          "text": [
            "<re.Match object; span=(5, 21), match='Vulnerability: 1'> <re.Match object; span=(22, 37), match='CWE ID: CWE-125'> <re.Match object; span=(38, 66), match='CWE Name: Out-of-bounds Read'>\n"
          ]
        },
        {
          "name": "stderr",
          "output_type": "stream",
          "text": [
            " 47%|████▋     | 1059/2253 [2:44:57<31:57,  1.61s/it]"
          ]
        },
        {
          "name": "stdout",
          "output_type": "stream",
          "text": [
            "<re.Match object; span=(5, 21), match='Vulnerability: 1'> <re.Match object; span=(22, 37), match='CWE ID: CWE-264'> <re.Match object; span=(38, 92), match='CWE Name: Permissions, Privileges, and Access Con>\n"
          ]
        },
        {
          "name": "stderr",
          "output_type": "stream",
          "text": [
            " 47%|████▋     | 1060/2253 [2:44:58<31:28,  1.58s/it]"
          ]
        },
        {
          "name": "stdout",
          "output_type": "stream",
          "text": [
            "<re.Match object; span=(5, 21), match='Vulnerability: 1'> <re.Match object; span=(22, 37), match='CWE ID: CWE-125'> <re.Match object; span=(38, 66), match='CWE Name: Out-of-bounds Read'>\n"
          ]
        },
        {
          "name": "stderr",
          "output_type": "stream",
          "text": [
            " 47%|████▋     | 1061/2253 [2:45:02<45:27,  2.29s/it]"
          ]
        },
        {
          "name": "stdout",
          "output_type": "stream",
          "text": [
            "<re.Match object; span=(10, 26), match='Vulnerability: 0'> <re.Match object; span=(27, 49), match='CWE ID: NOT_APPLICABLE'> <re.Match object; span=(50, 74), match='CWE Name: NOT_APPLICABLE'>\n"
          ]
        },
        {
          "name": "stderr",
          "output_type": "stream",
          "text": [
            " 47%|████▋     | 1062/2253 [2:45:05<50:35,  2.55s/it]"
          ]
        },
        {
          "name": "stdout",
          "output_type": "stream",
          "text": [
            "<re.Match object; span=(5, 21), match='Vulnerability: 0'> <re.Match object; span=(22, 44), match='CWE ID: NOT_APPLICABLE'> <re.Match object; span=(45, 69), match='CWE Name: NOT_APPLICABLE'>\n"
          ]
        },
        {
          "name": "stderr",
          "output_type": "stream",
          "text": [
            " 47%|████▋     | 1063/2253 [2:45:07<45:31,  2.30s/it]"
          ]
        },
        {
          "name": "stdout",
          "output_type": "stream",
          "text": [
            "<re.Match object; span=(5, 21), match='Vulnerability: 0'> <re.Match object; span=(22, 44), match='CWE ID: NOT_APPLICABLE'> <re.Match object; span=(45, 69), match='CWE Name: NOT_APPLICABLE'>\n"
          ]
        },
        {
          "name": "stderr",
          "output_type": "stream",
          "text": [
            " 47%|████▋     | 1064/2253 [2:45:09<41:42,  2.10s/it]"
          ]
        },
        {
          "name": "stdout",
          "output_type": "stream",
          "text": [
            "<re.Match object; span=(5, 21), match='Vulnerability: 1'> <re.Match object; span=(22, 37), match='CWE ID: CWE-119'> <re.Match object; span=(38, 119), match='CWE Name: Improper Restriction of Operations with>\n"
          ]
        },
        {
          "name": "stderr",
          "output_type": "stream",
          "text": [
            " 47%|████▋     | 1065/2253 [2:45:10<40:03,  2.02s/it]"
          ]
        },
        {
          "name": "stdout",
          "output_type": "stream",
          "text": [
            "<re.Match object; span=(5, 21), match='Vulnerability: 0'> <re.Match object; span=(22, 44), match='CWE ID: NOT_APPLICABLE'> <re.Match object; span=(45, 69), match='CWE Name: NOT_APPLICABLE'>\n"
          ]
        },
        {
          "name": "stderr",
          "output_type": "stream",
          "text": [
            " 47%|████▋     | 1066/2253 [2:45:12<40:15,  2.03s/it]"
          ]
        },
        {
          "name": "stdout",
          "output_type": "stream",
          "text": [
            "<re.Match object; span=(12, 28), match='Vulnerability: 0'> <re.Match object; span=(29, 51), match='CWE ID: NOT_APPLICABLE'> <re.Match object; span=(52, 76), match='CWE Name: NOT_APPLICABLE'>\n"
          ]
        },
        {
          "name": "stderr",
          "output_type": "stream",
          "text": [
            " 47%|████▋     | 1067/2253 [2:45:14<36:38,  1.85s/it]"
          ]
        },
        {
          "name": "stdout",
          "output_type": "stream",
          "text": [
            "<re.Match object; span=(5, 21), match='Vulnerability: 1'> <re.Match object; span=(22, 37), match='CWE ID: CWE-125'> <re.Match object; span=(38, 66), match='CWE Name: Out-of-bounds Read'>\n"
          ]
        },
        {
          "name": "stderr",
          "output_type": "stream",
          "text": [
            " 47%|████▋     | 1068/2253 [2:45:16<36:31,  1.85s/it]"
          ]
        },
        {
          "name": "stdout",
          "output_type": "stream",
          "text": [
            "<re.Match object; span=(5, 21), match='Vulnerability: 1'> <re.Match object; span=(22, 37), match='CWE ID: CWE-787'> <re.Match object; span=(38, 67), match='CWE Name: Out-of-bounds Write'>\n"
          ]
        },
        {
          "name": "stderr",
          "output_type": "stream",
          "text": [
            " 47%|████▋     | 1069/2253 [2:45:17<35:51,  1.82s/it]"
          ]
        },
        {
          "name": "stdout",
          "output_type": "stream",
          "text": [
            "<re.Match object; span=(5, 21), match='Vulnerability: 0'> <re.Match object; span=(22, 44), match='CWE ID: NOT_APPLICABLE'> <re.Match object; span=(45, 69), match='CWE Name: NOT_APPLICABLE'>\n"
          ]
        },
        {
          "name": "stderr",
          "output_type": "stream",
          "text": [
            " 47%|████▋     | 1070/2253 [2:45:19<34:13,  1.74s/it]"
          ]
        },
        {
          "name": "stdout",
          "output_type": "stream",
          "text": [
            "<re.Match object; span=(10, 26), match='Vulnerability: 0'> <re.Match object; span=(27, 49), match='CWE ID: NOT_APPLICABLE'> <re.Match object; span=(50, 74), match='CWE Name: NOT_APPLICABLE'>\n"
          ]
        },
        {
          "name": "stderr",
          "output_type": "stream",
          "text": [
            " 48%|████▊     | 1071/2253 [2:45:21<32:56,  1.67s/it]"
          ]
        },
        {
          "name": "stdout",
          "output_type": "stream",
          "text": [
            "<re.Match object; span=(5, 21), match='Vulnerability: 0'> <re.Match object; span=(22, 44), match='CWE ID: NOT_APPLICABLE'> <re.Match object; span=(45, 69), match='CWE Name: NOT_APPLICABLE'>\n"
          ]
        },
        {
          "name": "stderr",
          "output_type": "stream",
          "text": [
            " 48%|████▊     | 1072/2253 [2:45:22<33:57,  1.73s/it]"
          ]
        },
        {
          "name": "stdout",
          "output_type": "stream",
          "text": [
            "<re.Match object; span=(5, 21), match='Vulnerability: 0'> <re.Match object; span=(22, 44), match='CWE ID: NOT_APPLICABLE'> <re.Match object; span=(45, 69), match='CWE Name: NOT_APPLICABLE'>\n"
          ]
        },
        {
          "name": "stderr",
          "output_type": "stream",
          "text": [
            " 48%|████▊     | 1073/2253 [2:45:24<35:15,  1.79s/it]"
          ]
        },
        {
          "name": "stdout",
          "output_type": "stream",
          "text": [
            "<re.Match object; span=(5, 21), match='Vulnerability: 0'> <re.Match object; span=(22, 44), match='CWE ID: NOT_APPLICABLE'> <re.Match object; span=(45, 69), match='CWE Name: NOT_APPLICABLE'>\n"
          ]
        },
        {
          "name": "stderr",
          "output_type": "stream",
          "text": [
            " 48%|████▊     | 1074/2253 [2:45:26<33:36,  1.71s/it]"
          ]
        },
        {
          "name": "stdout",
          "output_type": "stream",
          "text": [
            "<re.Match object; span=(5, 21), match='Vulnerability: 1'> <re.Match object; span=(22, 37), match='CWE ID: CWE-119'> <re.Match object; span=(38, 119), match='CWE Name: Improper Restriction of Operations with>\n"
          ]
        },
        {
          "name": "stderr",
          "output_type": "stream",
          "text": [
            " 48%|████▊     | 1075/2253 [2:45:28<33:12,  1.69s/it]"
          ]
        },
        {
          "name": "stdout",
          "output_type": "stream",
          "text": [
            "<re.Match object; span=(5, 21), match='Vulnerability: 1'> <re.Match object; span=(22, 37), match='CWE ID: CWE-125'> <re.Match object; span=(38, 66), match='CWE Name: Out-of-bounds Read'>\n"
          ]
        },
        {
          "name": "stderr",
          "output_type": "stream",
          "text": [
            " 48%|████▊     | 1076/2253 [2:45:29<32:19,  1.65s/it]"
          ]
        },
        {
          "name": "stdout",
          "output_type": "stream",
          "text": [
            "<re.Match object; span=(5, 21), match='Vulnerability: 0'> <re.Match object; span=(22, 44), match='CWE ID: NOT_APPLICABLE'> <re.Match object; span=(45, 69), match='CWE Name: NOT_APPLICABLE'>\n"
          ]
        },
        {
          "name": "stderr",
          "output_type": "stream",
          "text": [
            " 48%|████▊     | 1077/2253 [2:45:31<31:36,  1.61s/it]"
          ]
        },
        {
          "name": "stdout",
          "output_type": "stream",
          "text": [
            "<re.Match object; span=(8, 24), match='Vulnerability: 0'> <re.Match object; span=(25, 47), match='CWE ID: NOT_APPLICABLE'> <re.Match object; span=(48, 72), match='CWE Name: NOT_APPLICABLE'>\n"
          ]
        },
        {
          "name": "stderr",
          "output_type": "stream",
          "text": [
            " 48%|████▊     | 1078/2253 [2:45:32<31:09,  1.59s/it]"
          ]
        },
        {
          "name": "stdout",
          "output_type": "stream",
          "text": [
            "<re.Match object; span=(5, 21), match='Vulnerability: 0'> <re.Match object; span=(22, 44), match='CWE ID: NOT_APPLICABLE'> <re.Match object; span=(45, 69), match='CWE Name: NOT_APPLICABLE'>\n"
          ]
        },
        {
          "name": "stderr",
          "output_type": "stream",
          "text": [
            " 48%|████▊     | 1079/2253 [2:45:34<30:07,  1.54s/it]"
          ]
        },
        {
          "name": "stdout",
          "output_type": "stream",
          "text": [
            "<re.Match object; span=(8, 24), match='Vulnerability: 0'> <re.Match object; span=(25, 47), match='CWE ID: NOT_APPLICABLE'> <re.Match object; span=(48, 72), match='CWE Name: NOT_APPLICABLE'>\n"
          ]
        },
        {
          "name": "stderr",
          "output_type": "stream",
          "text": [
            " 48%|████▊     | 1080/2253 [2:45:36<35:35,  1.82s/it]"
          ]
        },
        {
          "name": "stdout",
          "output_type": "stream",
          "text": [
            "<re.Match object; span=(10, 26), match='Vulnerability: 0'> <re.Match object; span=(27, 49), match='CWE ID: NOT_APPLICABLE'> <re.Match object; span=(50, 74), match='CWE Name: NOT_APPLICABLE'>\n"
          ]
        },
        {
          "name": "stderr",
          "output_type": "stream",
          "text": [
            " 48%|████▊     | 1081/2253 [2:45:38<33:49,  1.73s/it]"
          ]
        },
        {
          "name": "stdout",
          "output_type": "stream",
          "text": [
            "<re.Match object; span=(10, 26), match='Vulnerability: 0'> <re.Match object; span=(27, 49), match='CWE ID: NOT_APPLICABLE'> <re.Match object; span=(50, 74), match='CWE Name: NOT_APPLICABLE'>\n"
          ]
        },
        {
          "name": "stderr",
          "output_type": "stream",
          "text": [
            " 48%|████▊     | 1082/2253 [2:45:39<32:02,  1.64s/it]"
          ]
        },
        {
          "name": "stdout",
          "output_type": "stream",
          "text": [
            "<re.Match object; span=(10, 26), match='Vulnerability: 1'> <re.Match object; span=(27, 42), match='CWE ID: CWE-264'> <re.Match object; span=(43, 97), match='CWE Name: Permissions, Privileges, and Access Con>\n"
          ]
        },
        {
          "name": "stderr",
          "output_type": "stream",
          "text": [
            " 48%|████▊     | 1083/2253 [2:45:41<31:25,  1.61s/it]"
          ]
        },
        {
          "name": "stdout",
          "output_type": "stream",
          "text": [
            "<re.Match object; span=(8, 24), match='Vulnerability: 0'> <re.Match object; span=(25, 47), match='CWE ID: NOT_APPLICABLE'> <re.Match object; span=(48, 72), match='CWE Name: NOT_APPLICABLE'>\n"
          ]
        },
        {
          "name": "stderr",
          "output_type": "stream",
          "text": [
            " 48%|████▊     | 1084/2253 [2:45:42<30:57,  1.59s/it]"
          ]
        },
        {
          "name": "stdout",
          "output_type": "stream",
          "text": [
            "<re.Match object; span=(5, 21), match='Vulnerability: 0'> <re.Match object; span=(22, 44), match='CWE ID: NOT_APPLICABLE'> <re.Match object; span=(45, 69), match='CWE Name: NOT_APPLICABLE'>\n"
          ]
        },
        {
          "name": "stderr",
          "output_type": "stream",
          "text": [
            " 48%|████▊     | 1085/2253 [2:45:43<30:01,  1.54s/it]"
          ]
        },
        {
          "name": "stdout",
          "output_type": "stream",
          "text": [
            "<re.Match object; span=(5, 21), match='Vulnerability: 0'> <re.Match object; span=(22, 44), match='CWE ID: NOT_APPLICABLE'> <re.Match object; span=(45, 69), match='CWE Name: NOT_APPLICABLE'>\n"
          ]
        },
        {
          "name": "stderr",
          "output_type": "stream",
          "text": [
            " 48%|████▊     | 1086/2253 [2:45:45<30:33,  1.57s/it]"
          ]
        },
        {
          "name": "stdout",
          "output_type": "stream",
          "text": [
            "<re.Match object; span=(5, 21), match='Vulnerability: 0'> <re.Match object; span=(22, 44), match='CWE ID: NOT_APPLICABLE'> <re.Match object; span=(45, 69), match='CWE Name: NOT_APPLICABLE'>\n"
          ]
        },
        {
          "name": "stderr",
          "output_type": "stream",
          "text": [
            " 48%|████▊     | 1087/2253 [2:45:47<32:44,  1.68s/it]"
          ]
        },
        {
          "name": "stdout",
          "output_type": "stream",
          "text": [
            "<re.Match object; span=(5, 21), match='Vulnerability: 1'> <re.Match object; span=(22, 37), match='CWE ID: CWE-119'> <re.Match object; span=(38, 119), match='CWE Name: Improper Restriction of Operations with>\n"
          ]
        },
        {
          "name": "stderr",
          "output_type": "stream",
          "text": [
            " 48%|████▊     | 1088/2253 [2:45:49<31:46,  1.64s/it]"
          ]
        },
        {
          "name": "stdout",
          "output_type": "stream",
          "text": [
            "<re.Match object; span=(10, 26), match='Vulnerability: 1'> <re.Match object; span=(27, 42), match='CWE ID: CWE-125'> <re.Match object; span=(43, 71), match='CWE Name: Out-of-bounds Read'>\n"
          ]
        },
        {
          "name": "stderr",
          "output_type": "stream",
          "text": [
            " 48%|████▊     | 1089/2253 [2:45:50<30:34,  1.58s/it]"
          ]
        },
        {
          "name": "stdout",
          "output_type": "stream",
          "text": [
            "<re.Match object; span=(8, 24), match='Vulnerability: 0'> <re.Match object; span=(25, 47), match='CWE ID: NOT_APPLICABLE'> <re.Match object; span=(48, 72), match='CWE Name: NOT_APPLICABLE'>\n"
          ]
        },
        {
          "name": "stderr",
          "output_type": "stream",
          "text": [
            " 48%|████▊     | 1090/2253 [2:45:52<33:04,  1.71s/it]"
          ]
        },
        {
          "name": "stdout",
          "output_type": "stream",
          "text": [
            "<re.Match object; span=(10, 26), match='Vulnerability: 0'> <re.Match object; span=(27, 49), match='CWE ID: NOT_APPLICABLE'> <re.Match object; span=(50, 74), match='CWE Name: NOT_APPLICABLE'>\n"
          ]
        },
        {
          "name": "stderr",
          "output_type": "stream",
          "text": [
            " 48%|████▊     | 1091/2253 [2:45:54<34:19,  1.77s/it]"
          ]
        },
        {
          "name": "stdout",
          "output_type": "stream",
          "text": [
            "<re.Match object; span=(5, 21), match='Vulnerability: 0'> <re.Match object; span=(22, 44), match='CWE ID: NOT_APPLICABLE'> <re.Match object; span=(45, 69), match='CWE Name: NOT_APPLICABLE'>\n"
          ]
        },
        {
          "name": "stderr",
          "output_type": "stream",
          "text": [
            " 48%|████▊     | 1092/2253 [2:45:55<32:40,  1.69s/it]"
          ]
        },
        {
          "name": "stdout",
          "output_type": "stream",
          "text": [
            "<re.Match object; span=(4, 20), match='Vulnerability: 1'> <re.Match object; span=(21, 36), match='CWE ID: CWE-125'> <re.Match object; span=(37, 65), match='CWE Name: Out-of-bounds Read'>\n"
          ]
        },
        {
          "name": "stderr",
          "output_type": "stream",
          "text": [
            " 49%|████▊     | 1093/2253 [2:45:57<30:54,  1.60s/it]"
          ]
        },
        {
          "name": "stdout",
          "output_type": "stream",
          "text": [
            "<re.Match object; span=(8, 24), match='Vulnerability: 0'> <re.Match object; span=(25, 47), match='CWE ID: NOT_APPLICABLE'> <re.Match object; span=(48, 72), match='CWE Name: NOT_APPLICABLE'>\n"
          ]
        },
        {
          "name": "stderr",
          "output_type": "stream",
          "text": [
            " 49%|████▊     | 1094/2253 [2:45:59<31:22,  1.62s/it]"
          ]
        },
        {
          "name": "stdout",
          "output_type": "stream",
          "text": [
            "<re.Match object; span=(8, 24), match='Vulnerability: 1'> <re.Match object; span=(25, 36), match='CWE ID: 131'> <re.Match object; span=(37, 83), match='CWE Name: Incorrect Calculation of Buffer Size'>\n"
          ]
        },
        {
          "name": "stderr",
          "output_type": "stream",
          "text": [
            " 49%|████▊     | 1095/2253 [2:46:00<30:48,  1.60s/it]"
          ]
        },
        {
          "name": "stdout",
          "output_type": "stream",
          "text": [
            "<re.Match object; span=(10, 26), match='Vulnerability: 0'> <re.Match object; span=(27, 49), match='CWE ID: NOT_APPLICABLE'> <re.Match object; span=(50, 74), match='CWE Name: NOT_APPLICABLE'>\n"
          ]
        },
        {
          "name": "stderr",
          "output_type": "stream",
          "text": [
            " 49%|████▊     | 1096/2253 [3:13:21<158:32:11, 493.29s/it]"
          ]
        },
        {
          "name": "stdout",
          "output_type": "stream",
          "text": [
            "<re.Match object; span=(14, 30), match='Vulnerability: 1'> <re.Match object; span=(31, 45), match='CWE ID: CWE-20'> <re.Match object; span=(46, 81), match='CWE Name: Improper Input Validation'>\n"
          ]
        },
        {
          "name": "stderr",
          "output_type": "stream",
          "text": [
            " 49%|████▊     | 1097/2253 [3:13:22<111:03:09, 345.84s/it]"
          ]
        },
        {
          "name": "stdout",
          "output_type": "stream",
          "text": [
            "<re.Match object; span=(10, 26), match='Vulnerability: 0'> <re.Match object; span=(27, 49), match='CWE ID: NOT_APPLICABLE'> <re.Match object; span=(50, 74), match='CWE Name: NOT_APPLICABLE'>\n"
          ]
        },
        {
          "name": "stderr",
          "output_type": "stream",
          "text": [
            " 49%|████▊     | 1098/2253 [3:13:24<77:50:17, 242.61s/it] "
          ]
        },
        {
          "name": "stdout",
          "output_type": "stream",
          "text": [
            "<re.Match object; span=(8, 24), match='Vulnerability: 1'> <re.Match object; span=(25, 40), match='CWE ID: CWE-416'> <re.Match object; span=(41, 65), match='CWE Name: Use After Free'>\n"
          ]
        },
        {
          "name": "stderr",
          "output_type": "stream",
          "text": [
            " 49%|████▉     | 1099/2253 [3:13:26<54:34:34, 170.26s/it]"
          ]
        },
        {
          "name": "stdout",
          "output_type": "stream",
          "text": [
            "<re.Match object; span=(5, 21), match='Vulnerability: 0'> <re.Match object; span=(22, 44), match='CWE ID: NOT_APPLICABLE'> <re.Match object; span=(45, 69), match='CWE Name: NOT_APPLICABLE'>\n"
          ]
        },
        {
          "name": "stderr",
          "output_type": "stream",
          "text": [
            " 49%|████▉     | 1100/2253 [3:13:27<38:18:52, 119.63s/it]"
          ]
        },
        {
          "name": "stdout",
          "output_type": "stream",
          "text": [
            "<re.Match object; span=(5, 21), match='Vulnerability: 0'> <re.Match object; span=(22, 44), match='CWE ID: NOT_APPLICABLE'> <re.Match object; span=(45, 69), match='CWE Name: NOT_APPLICABLE'>\n"
          ]
        },
        {
          "name": "stderr",
          "output_type": "stream",
          "text": [
            " 49%|████▉     | 1101/2253 [3:13:31<27:09:18, 84.86s/it] "
          ]
        },
        {
          "name": "stdout",
          "output_type": "stream",
          "text": [
            "<re.Match object; span=(5, 21), match='Vulnerability: 0'> <re.Match object; span=(22, 44), match='CWE ID: NOT_APPLICABLE'> <re.Match object; span=(45, 69), match='CWE Name: NOT_APPLICABLE'>\n"
          ]
        },
        {
          "name": "stderr",
          "output_type": "stream",
          "text": [
            " 49%|████▉     | 1102/2253 [3:13:32<19:07:55, 59.84s/it]"
          ]
        },
        {
          "name": "stdout",
          "output_type": "stream",
          "text": [
            "<re.Match object; span=(5, 21), match='Vulnerability: 1'> <re.Match object; span=(22, 37), match='CWE ID: CWE-399'> <re.Match object; span=(38, 74), match='CWE Name: Resource Management Errors'>\n"
          ]
        },
        {
          "name": "stderr",
          "output_type": "stream",
          "text": [
            " 49%|████▉     | 1103/2253 [3:13:34<13:31:16, 42.33s/it]"
          ]
        },
        {
          "name": "stdout",
          "output_type": "stream",
          "text": [
            "<re.Match object; span=(5, 21), match='Vulnerability: 0'> <re.Match object; span=(22, 44), match='CWE ID: NOT_APPLICABLE'> <re.Match object; span=(45, 69), match='CWE Name: NOT_APPLICABLE'>\n"
          ]
        },
        {
          "name": "stderr",
          "output_type": "stream",
          "text": [
            " 49%|████▉     | 1104/2253 [3:13:35<9:36:13, 30.09s/it] "
          ]
        },
        {
          "name": "stdout",
          "output_type": "stream",
          "text": [
            "<re.Match object; span=(10, 26), match='Vulnerability: 0'> <re.Match object; span=(27, 49), match='CWE ID: NOT_APPLICABLE'> <re.Match object; span=(50, 74), match='CWE Name: NOT_APPLICABLE'>\n"
          ]
        },
        {
          "name": "stderr",
          "output_type": "stream",
          "text": [
            " 49%|████▉     | 1105/2253 [3:13:37<6:51:10, 21.49s/it]"
          ]
        },
        {
          "name": "stdout",
          "output_type": "stream",
          "text": [
            "<re.Match object; span=(10, 26), match='Vulnerability: 0'> <re.Match object; span=(27, 49), match='CWE ID: NOT_APPLICABLE'> <re.Match object; span=(50, 74), match='CWE Name: NOT_APPLICABLE'>\n"
          ]
        },
        {
          "name": "stderr",
          "output_type": "stream",
          "text": [
            " 49%|████▉     | 1106/2253 [3:13:38<4:55:25, 15.45s/it]"
          ]
        },
        {
          "name": "stdout",
          "output_type": "stream",
          "text": [
            "<re.Match object; span=(5, 21), match='Vulnerability: 1'> <re.Match object; span=(22, 36), match='CWE ID: CWE-20'> <re.Match object; span=(37, 72), match='CWE Name: Improper Input Validation'>\n"
          ]
        },
        {
          "name": "stderr",
          "output_type": "stream",
          "text": [
            " 49%|████▉     | 1107/2253 [3:13:40<3:37:53, 11.41s/it]"
          ]
        },
        {
          "name": "stdout",
          "output_type": "stream",
          "text": [
            "<re.Match object; span=(5, 21), match='Vulnerability: 1'> <re.Match object; span=(22, 37), match='CWE ID: CWE-200'> <re.Match object; span=(38, 106), match='CWE Name: Exposure of Sensitive Information to an>\n"
          ]
        },
        {
          "name": "stderr",
          "output_type": "stream",
          "text": [
            " 49%|████▉     | 1108/2253 [3:13:42<2:43:15,  8.56s/it]"
          ]
        },
        {
          "name": "stdout",
          "output_type": "stream",
          "text": [
            "<re.Match object; span=(5, 21), match='Vulnerability: 1'> <re.Match object; span=(22, 37), match='CWE ID: CWE-190'> <re.Match object; span=(38, 78), match='CWE Name: Integer Overflow or Wraparound'>\n"
          ]
        },
        {
          "name": "stderr",
          "output_type": "stream",
          "text": [
            " 49%|████▉     | 1109/2253 [3:13:43<2:02:59,  6.45s/it]"
          ]
        },
        {
          "name": "stdout",
          "output_type": "stream",
          "text": [
            "<re.Match object; span=(5, 21), match='Vulnerability: 0'> <re.Match object; span=(22, 44), match='CWE ID: NOT_APPLICABLE'> <re.Match object; span=(45, 69), match='CWE Name: NOT_APPLICABLE'>\n"
          ]
        },
        {
          "name": "stderr",
          "output_type": "stream",
          "text": [
            " 49%|████▉     | 1110/2253 [3:13:45<1:37:05,  5.10s/it]"
          ]
        },
        {
          "name": "stdout",
          "output_type": "stream",
          "text": [
            "<re.Match object; span=(10, 26), match='Vulnerability: 1'> <re.Match object; span=(27, 42), match='CWE ID: CWE-125'> <re.Match object; span=(43, 71), match='CWE Name: Out-of-bounds Read'>\n"
          ]
        },
        {
          "name": "stderr",
          "output_type": "stream",
          "text": [
            " 49%|████▉     | 1111/2253 [3:13:48<1:23:06,  4.37s/it]"
          ]
        },
        {
          "name": "stdout",
          "output_type": "stream",
          "text": [
            "<re.Match object; span=(10, 26), match='Vulnerability: 1'> <re.Match object; span=(27, 42), match='CWE ID: CWE-119'> <re.Match object; span=(43, 124), match='CWE Name: Improper Restriction of Operations with>\n"
          ]
        },
        {
          "name": "stderr",
          "output_type": "stream",
          "text": [
            " 49%|████▉     | 1112/2253 [3:13:50<1:06:55,  3.52s/it]"
          ]
        },
        {
          "name": "stdout",
          "output_type": "stream",
          "text": [
            "<re.Match object; span=(8, 24), match='Vulnerability: 0'> <re.Match object; span=(25, 47), match='CWE ID: NOT_APPLICABLE'> <re.Match object; span=(48, 72), match='CWE Name: NOT_APPLICABLE'>\n"
          ]
        },
        {
          "name": "stderr",
          "output_type": "stream",
          "text": [
            " 49%|████▉     | 1113/2253 [3:13:51<56:43,  2.99s/it]  "
          ]
        },
        {
          "name": "stdout",
          "output_type": "stream",
          "text": [
            "<re.Match object; span=(5, 21), match='Vulnerability: 1'> <re.Match object; span=(22, 37), match='CWE ID: CWE-362'> <re.Match object; span=(38, 139), match=\"CWE Name: Concurrent Execution using Shared Resou>\n"
          ]
        },
        {
          "name": "stderr",
          "output_type": "stream",
          "text": [
            " 49%|████▉     | 1114/2253 [3:13:53<49:30,  2.61s/it]"
          ]
        },
        {
          "name": "stdout",
          "output_type": "stream",
          "text": [
            "<re.Match object; span=(5, 21), match='Vulnerability: 0'> <re.Match object; span=(22, 44), match='CWE ID: NOT_APPLICABLE'> <re.Match object; span=(45, 69), match='CWE Name: NOT_APPLICABLE'>\n"
          ]
        },
        {
          "name": "stderr",
          "output_type": "stream",
          "text": [
            " 49%|████▉     | 1115/2253 [3:13:55<43:56,  2.32s/it]"
          ]
        },
        {
          "name": "stdout",
          "output_type": "stream",
          "text": [
            "<re.Match object; span=(5, 21), match='Vulnerability: 0'> <re.Match object; span=(22, 44), match='CWE ID: NOT_APPLICABLE'> <re.Match object; span=(45, 69), match='CWE Name: NOT_APPLICABLE'>\n"
          ]
        },
        {
          "name": "stderr",
          "output_type": "stream",
          "text": [
            " 50%|████▉     | 1116/2253 [3:13:57<40:43,  2.15s/it]"
          ]
        },
        {
          "name": "stdout",
          "output_type": "stream",
          "text": [
            "<re.Match object; span=(5, 21), match='Vulnerability: 0'> <re.Match object; span=(22, 44), match='CWE ID: NOT_APPLICABLE'> <re.Match object; span=(45, 69), match='CWE Name: NOT_APPLICABLE'>\n"
          ]
        },
        {
          "name": "stderr",
          "output_type": "stream",
          "text": [
            " 50%|████▉     | 1117/2253 [3:13:58<38:19,  2.02s/it]"
          ]
        },
        {
          "name": "stdout",
          "output_type": "stream",
          "text": [
            "<re.Match object; span=(5, 21), match='Vulnerability: 0'> <re.Match object; span=(22, 44), match='CWE ID: NOT_APPLICABLE'> <re.Match object; span=(45, 69), match='CWE Name: NOT_APPLICABLE'>\n"
          ]
        },
        {
          "name": "stderr",
          "output_type": "stream",
          "text": [
            " 50%|████▉     | 1118/2253 [3:14:00<37:52,  2.00s/it]"
          ]
        },
        {
          "name": "stdout",
          "output_type": "stream",
          "text": [
            "<re.Match object; span=(12, 28), match='Vulnerability: 0'> <re.Match object; span=(29, 51), match='CWE ID: NOT_APPLICABLE'> <re.Match object; span=(52, 76), match='CWE Name: NOT_APPLICABLE'>\n"
          ]
        },
        {
          "name": "stderr",
          "output_type": "stream",
          "text": [
            " 50%|████▉     | 1119/2253 [3:14:02<36:54,  1.95s/it]"
          ]
        },
        {
          "name": "stdout",
          "output_type": "stream",
          "text": [
            "<re.Match object; span=(8, 24), match='Vulnerability: 1'> <re.Match object; span=(25, 40), match='CWE ID: CWE-119'> <re.Match object; span=(41, 122), match='CWE Name: Improper Restriction of Operations with>\n"
          ]
        },
        {
          "name": "stderr",
          "output_type": "stream",
          "text": [
            " 50%|████▉     | 1120/2253 [3:14:04<36:18,  1.92s/it]"
          ]
        },
        {
          "name": "stdout",
          "output_type": "stream",
          "text": [
            "<re.Match object; span=(8, 24), match='Vulnerability: 0'> <re.Match object; span=(25, 47), match='CWE ID: NOT_APPLICABLE'> <re.Match object; span=(48, 72), match='CWE Name: NOT_APPLICABLE'>\n"
          ]
        },
        {
          "name": "stderr",
          "output_type": "stream",
          "text": [
            " 50%|████▉     | 1121/2253 [3:14:05<32:55,  1.75s/it]"
          ]
        },
        {
          "name": "stdout",
          "output_type": "stream",
          "text": [
            "<re.Match object; span=(5, 21), match='Vulnerability: 1'> <re.Match object; span=(22, 37), match='CWE ID: CWE-119'> <re.Match object; span=(38, 119), match='CWE Name: Improper Restriction of Operations with>\n"
          ]
        },
        {
          "name": "stderr",
          "output_type": "stream",
          "text": [
            " 50%|████▉     | 1122/2253 [3:14:07<33:59,  1.80s/it]"
          ]
        },
        {
          "name": "stdout",
          "output_type": "stream",
          "text": [
            "<re.Match object; span=(5, 21), match='Vulnerability: 0'> <re.Match object; span=(22, 44), match='CWE ID: NOT_APPLICABLE'> <re.Match object; span=(45, 69), match='CWE Name: NOT_APPLICABLE'>\n"
          ]
        },
        {
          "name": "stderr",
          "output_type": "stream",
          "text": [
            " 50%|████▉     | 1123/2253 [3:14:08<31:20,  1.66s/it]"
          ]
        },
        {
          "name": "stdout",
          "output_type": "stream",
          "text": [
            "<re.Match object; span=(8, 24), match='Vulnerability: 1'> <re.Match object; span=(25, 40), match='CWE ID: CWE-264'> <re.Match object; span=(41, 95), match='CWE Name: Permissions, Privileges, and Access Con>\n"
          ]
        },
        {
          "name": "stderr",
          "output_type": "stream",
          "text": [
            " 50%|████▉     | 1124/2253 [3:14:10<29:53,  1.59s/it]"
          ]
        },
        {
          "name": "stdout",
          "output_type": "stream",
          "text": [
            "<re.Match object; span=(4, 20), match='Vulnerability: 0'> <re.Match object; span=(21, 43), match='CWE ID: NOT_APPLICABLE'> <re.Match object; span=(44, 68), match='CWE Name: NOT_APPLICABLE'>\n"
          ]
        },
        {
          "name": "stderr",
          "output_type": "stream",
          "text": [
            " 50%|████▉     | 1125/2253 [3:14:12<30:41,  1.63s/it]"
          ]
        },
        {
          "name": "stdout",
          "output_type": "stream",
          "text": [
            "<re.Match object; span=(5, 21), match='Vulnerability: 0'> <re.Match object; span=(22, 44), match='CWE ID: NOT_APPLICABLE'> <re.Match object; span=(45, 69), match='CWE Name: NOT_APPLICABLE'>\n"
          ]
        },
        {
          "name": "stderr",
          "output_type": "stream",
          "text": [
            " 50%|████▉     | 1126/2253 [3:14:14<33:40,  1.79s/it]"
          ]
        },
        {
          "name": "stdout",
          "output_type": "stream",
          "text": [
            "<re.Match object; span=(5, 21), match='Vulnerability: 1'> <re.Match object; span=(22, 37), match='CWE ID: CWE-416'> <re.Match object; span=(38, 62), match='CWE Name: Use After Free'>\n"
          ]
        },
        {
          "name": "stderr",
          "output_type": "stream",
          "text": [
            " 50%|█████     | 1127/2253 [3:14:16<35:04,  1.87s/it]"
          ]
        },
        {
          "name": "stdout",
          "output_type": "stream",
          "text": [
            "<re.Match object; span=(5, 21), match='Vulnerability: 0'> <re.Match object; span=(22, 44), match='CWE ID: NOT_APPLICABLE'> <re.Match object; span=(45, 69), match='CWE Name: NOT_APPLICABLE'>\n"
          ]
        },
        {
          "name": "stderr",
          "output_type": "stream",
          "text": [
            " 50%|█████     | 1128/2253 [3:14:18<37:16,  1.99s/it]"
          ]
        },
        {
          "name": "stdout",
          "output_type": "stream",
          "text": [
            "<re.Match object; span=(5, 21), match='Vulnerability: 1'> <re.Match object; span=(22, 37), match='CWE ID: CWE-787'> <re.Match object; span=(38, 67), match='CWE Name: Out-of-bounds Write'>\n"
          ]
        },
        {
          "name": "stderr",
          "output_type": "stream",
          "text": [
            " 50%|█████     | 1129/2253 [3:14:20<34:35,  1.85s/it]"
          ]
        },
        {
          "name": "stdout",
          "output_type": "stream",
          "text": [
            "<re.Match object; span=(5, 21), match='Vulnerability: 0'> <re.Match object; span=(22, 44), match='CWE ID: NOT_APPLICABLE'> <re.Match object; span=(45, 69), match='CWE Name: NOT_APPLICABLE'>\n"
          ]
        },
        {
          "name": "stderr",
          "output_type": "stream",
          "text": [
            " 50%|█████     | 1130/2253 [3:14:21<32:01,  1.71s/it]"
          ]
        },
        {
          "name": "stdout",
          "output_type": "stream",
          "text": [
            "<re.Match object; span=(10, 26), match='Vulnerability: 1'> <re.Match object; span=(27, 42), match='CWE ID: CWE-362'> <re.Match object; span=(43, 144), match=\"CWE Name: Concurrent Execution using Shared Resou>\n"
          ]
        },
        {
          "name": "stderr",
          "output_type": "stream",
          "text": [
            " 50%|█████     | 1131/2253 [3:14:23<32:27,  1.74s/it]"
          ]
        },
        {
          "name": "stdout",
          "output_type": "stream",
          "text": [
            "<re.Match object; span=(5, 21), match='Vulnerability: 1'> <re.Match object; span=(22, 33), match='CWE ID: 789'> <re.Match object; span=(34, 63), match='CWE Name: Uncontrolled Memcpy'>\n"
          ]
        },
        {
          "name": "stderr",
          "output_type": "stream",
          "text": [
            " 50%|█████     | 1132/2253 [3:14:24<30:42,  1.64s/it]"
          ]
        },
        {
          "name": "stdout",
          "output_type": "stream",
          "text": [
            "<re.Match object; span=(5, 21), match='Vulnerability: 1'> <re.Match object; span=(22, 37), match='CWE ID: CWE-789'> <re.Match object; span=(38, 67), match='CWE Name: Uncontrolled Memcpy'>\n"
          ]
        },
        {
          "name": "stderr",
          "output_type": "stream",
          "text": [
            " 50%|█████     | 1133/2253 [3:14:26<30:07,  1.61s/it]"
          ]
        },
        {
          "name": "stdout",
          "output_type": "stream",
          "text": [
            "<re.Match object; span=(5, 21), match='Vulnerability: 1'> <re.Match object; span=(22, 37), match='CWE ID: CWE-476'> <re.Match object; span=(38, 72), match='CWE Name: NULL Pointer Dereference'>\n"
          ]
        },
        {
          "name": "stderr",
          "output_type": "stream",
          "text": [
            " 50%|█████     | 1134/2253 [3:14:28<30:46,  1.65s/it]"
          ]
        },
        {
          "name": "stdout",
          "output_type": "stream",
          "text": [
            "<re.Match object; span=(10, 26), match='Vulnerability: 0'> <re.Match object; span=(27, 49), match='CWE ID: NOT_APPLICABLE'> <re.Match object; span=(50, 74), match='CWE Name: NOT_APPLICABLE'>\n"
          ]
        },
        {
          "name": "stderr",
          "output_type": "stream",
          "text": [
            " 50%|█████     | 1135/2253 [3:14:30<35:55,  1.93s/it]"
          ]
        },
        {
          "name": "stdout",
          "output_type": "stream",
          "text": [
            "<re.Match object; span=(5, 21), match='Vulnerability: 0'> <re.Match object; span=(22, 44), match='CWE ID: NOT_APPLICABLE'> <re.Match object; span=(45, 69), match='CWE Name: NOT_APPLICABLE'>\n"
          ]
        },
        {
          "name": "stderr",
          "output_type": "stream",
          "text": [
            " 50%|█████     | 1136/2253 [3:14:32<36:42,  1.97s/it]"
          ]
        },
        {
          "name": "stdout",
          "output_type": "stream",
          "text": [
            "<re.Match object; span=(10, 26), match='Vulnerability: 0'> <re.Match object; span=(27, 49), match='CWE ID: NOT_APPLICABLE'> <re.Match object; span=(50, 74), match='CWE Name: NOT_APPLICABLE'>\n"
          ]
        },
        {
          "name": "stderr",
          "output_type": "stream",
          "text": [
            " 50%|█████     | 1137/2253 [3:14:34<33:26,  1.80s/it]"
          ]
        },
        {
          "name": "stdout",
          "output_type": "stream",
          "text": [
            "<re.Match object; span=(5, 21), match='Vulnerability: 0'> <re.Match object; span=(22, 44), match='CWE ID: NOT_APPLICABLE'> <re.Match object; span=(45, 69), match='CWE Name: NOT_APPLICABLE'>\n"
          ]
        },
        {
          "name": "stderr",
          "output_type": "stream",
          "text": [
            " 51%|█████     | 1138/2253 [3:14:35<31:19,  1.69s/it]"
          ]
        },
        {
          "name": "stdout",
          "output_type": "stream",
          "text": [
            "<re.Match object; span=(5, 21), match='Vulnerability: 0'> <re.Match object; span=(22, 44), match='CWE ID: NOT_APPLICABLE'> <re.Match object; span=(45, 69), match='CWE Name: NOT_APPLICABLE'>\n"
          ]
        },
        {
          "name": "stderr",
          "output_type": "stream",
          "text": [
            " 51%|█████     | 1139/2253 [3:14:36<29:25,  1.58s/it]"
          ]
        },
        {
          "name": "stdout",
          "output_type": "stream",
          "text": [
            "<re.Match object; span=(5, 21), match='Vulnerability: 0'> <re.Match object; span=(22, 44), match='CWE ID: NOT_APPLICABLE'> <re.Match object; span=(45, 69), match='CWE Name: NOT_APPLICABLE'>\n"
          ]
        },
        {
          "name": "stderr",
          "output_type": "stream",
          "text": [
            " 51%|█████     | 1140/2253 [3:14:38<28:32,  1.54s/it]"
          ]
        },
        {
          "name": "stdout",
          "output_type": "stream",
          "text": [
            "<re.Match object; span=(10, 26), match='Vulnerability: 1'> <re.Match object; span=(27, 42), match='CWE ID: CWE-119'> <re.Match object; span=(43, 124), match='CWE Name: Improper Restriction of Operations with>\n"
          ]
        },
        {
          "name": "stderr",
          "output_type": "stream",
          "text": [
            " 51%|█████     | 1141/2253 [3:14:39<28:28,  1.54s/it]"
          ]
        },
        {
          "name": "stdout",
          "output_type": "stream",
          "text": [
            "<re.Match object; span=(5, 21), match='Vulnerability: 0'> <re.Match object; span=(22, 44), match='CWE ID: NOT_APPLICABLE'> <re.Match object; span=(45, 69), match='CWE Name: NOT_APPLICABLE'>\n"
          ]
        },
        {
          "name": "stderr",
          "output_type": "stream",
          "text": [
            " 51%|█████     | 1142/2253 [3:14:41<27:22,  1.48s/it]"
          ]
        },
        {
          "name": "stdout",
          "output_type": "stream",
          "text": [
            "<re.Match object; span=(8, 24), match='Vulnerability: 0'> <re.Match object; span=(25, 47), match='CWE ID: NOT_APPLICABLE'> <re.Match object; span=(48, 72), match='CWE Name: NOT_APPLICABLE'>\n"
          ]
        },
        {
          "name": "stderr",
          "output_type": "stream",
          "text": [
            " 51%|█████     | 1143/2253 [3:14:42<26:48,  1.45s/it]"
          ]
        },
        {
          "name": "stdout",
          "output_type": "stream",
          "text": [
            "<re.Match object; span=(5, 21), match='Vulnerability: 0'> <re.Match object; span=(22, 44), match='CWE ID: NOT_APPLICABLE'> <re.Match object; span=(45, 69), match='CWE Name: NOT_APPLICABLE'>\n"
          ]
        },
        {
          "name": "stderr",
          "output_type": "stream",
          "text": [
            " 51%|█████     | 1144/2253 [3:14:44<28:42,  1.55s/it]"
          ]
        },
        {
          "name": "stdout",
          "output_type": "stream",
          "text": [
            "<re.Match object; span=(4, 22), match='Vulnerability: 1.0'> <re.Match object; span=(23, 38), match='CWE ID: CWE-125'> <re.Match object; span=(39, 67), match='CWE Name: Out-of-bounds Read'>\n"
          ]
        },
        {
          "name": "stderr",
          "output_type": "stream",
          "text": [
            " 51%|█████     | 1145/2253 [3:14:45<28:33,  1.55s/it]"
          ]
        },
        {
          "name": "stdout",
          "output_type": "stream",
          "text": [
            "<re.Match object; span=(5, 21), match='Vulnerability: 1'> <re.Match object; span=(22, 37), match='CWE ID: CWE-125'> <re.Match object; span=(38, 66), match='CWE Name: Out-of-bounds Read'>\n"
          ]
        },
        {
          "name": "stderr",
          "output_type": "stream",
          "text": [
            " 51%|█████     | 1146/2253 [3:14:47<29:03,  1.58s/it]"
          ]
        },
        {
          "name": "stdout",
          "output_type": "stream",
          "text": [
            "<re.Match object; span=(5, 21), match='Vulnerability: 1'> <re.Match object; span=(22, 37), match='CWE ID: CWE-125'> <re.Match object; span=(38, 66), match='CWE Name: Out-of-bounds Read'>\n"
          ]
        },
        {
          "name": "stderr",
          "output_type": "stream",
          "text": [
            " 51%|█████     | 1147/2253 [3:14:48<28:16,  1.53s/it]"
          ]
        },
        {
          "name": "stdout",
          "output_type": "stream",
          "text": [
            "<re.Match object; span=(12, 28), match='Vulnerability: 0'> <re.Match object; span=(29, 51), match='CWE ID: NOT_APPLICABLE'> <re.Match object; span=(52, 76), match='CWE Name: NOT_APPLICABLE'>\n"
          ]
        },
        {
          "name": "stderr",
          "output_type": "stream",
          "text": [
            " 51%|█████     | 1148/2253 [3:14:50<27:44,  1.51s/it]"
          ]
        },
        {
          "name": "stdout",
          "output_type": "stream",
          "text": [
            "<re.Match object; span=(5, 21), match='Vulnerability: 0'> <re.Match object; span=(22, 44), match='CWE ID: NOT_APPLICABLE'> <re.Match object; span=(45, 69), match='CWE Name: NOT_APPLICABLE'>\n"
          ]
        },
        {
          "name": "stderr",
          "output_type": "stream",
          "text": [
            " 51%|█████     | 1149/2253 [3:14:51<28:19,  1.54s/it]"
          ]
        },
        {
          "name": "stdout",
          "output_type": "stream",
          "text": [
            "<re.Match object; span=(5, 21), match='Vulnerability: 1'> <re.Match object; span=(22, 37), match='CWE ID: CWE-121'> <re.Match object; span=(38, 75), match='CWE Name: Stack-based Buffer Overflow'>\n"
          ]
        },
        {
          "name": "stderr",
          "output_type": "stream",
          "text": [
            " 51%|█████     | 1150/2253 [3:14:53<27:23,  1.49s/it]"
          ]
        },
        {
          "name": "stdout",
          "output_type": "stream",
          "text": [
            "<re.Match object; span=(5, 21), match='Vulnerability: 0'> <re.Match object; span=(22, 44), match='CWE ID: NOT_APPLICABLE'> <re.Match object; span=(45, 69), match='CWE Name: NOT_APPLICABLE'>\n"
          ]
        },
        {
          "name": "stderr",
          "output_type": "stream",
          "text": [
            " 51%|█████     | 1151/2253 [3:14:54<27:23,  1.49s/it]"
          ]
        },
        {
          "name": "stdout",
          "output_type": "stream",
          "text": [
            "<re.Match object; span=(5, 21), match='Vulnerability: 0'> <re.Match object; span=(22, 44), match='CWE ID: NOT_APPLICABLE'> <re.Match object; span=(45, 69), match='CWE Name: NOT_APPLICABLE'>\n"
          ]
        },
        {
          "name": "stderr",
          "output_type": "stream",
          "text": [
            " 51%|█████     | 1152/2253 [3:14:56<27:02,  1.47s/it]"
          ]
        },
        {
          "name": "stdout",
          "output_type": "stream",
          "text": [
            "<re.Match object; span=(8, 24), match='Vulnerability: 0'> <re.Match object; span=(25, 47), match='CWE ID: NOT_APPLICABLE'> <re.Match object; span=(48, 72), match='CWE Name: NOT_APPLICABLE'>\n"
          ]
        },
        {
          "name": "stderr",
          "output_type": "stream",
          "text": [
            " 51%|█████     | 1153/2253 [3:14:57<27:59,  1.53s/it]"
          ]
        },
        {
          "name": "stdout",
          "output_type": "stream",
          "text": [
            "<re.Match object; span=(5, 21), match='Vulnerability: 1'> <re.Match object; span=(22, 37), match='CWE ID: CWE-119'> <re.Match object; span=(38, 119), match='CWE Name: Improper Restriction of Operations with>\n"
          ]
        },
        {
          "name": "stderr",
          "output_type": "stream",
          "text": [
            " 51%|█████     | 1154/2253 [3:14:59<27:52,  1.52s/it]"
          ]
        },
        {
          "name": "stdout",
          "output_type": "stream",
          "text": [
            "<re.Match object; span=(5, 23), match='Vulnerability: 0.0'> <re.Match object; span=(24, 46), match='CWE ID: NOT_APPLICABLE'> <re.Match object; span=(47, 71), match='CWE Name: NOT_APPLICABLE'>\n"
          ]
        },
        {
          "name": "stderr",
          "output_type": "stream",
          "text": [
            " 51%|█████▏    | 1155/2253 [3:15:00<27:57,  1.53s/it]"
          ]
        },
        {
          "name": "stdout",
          "output_type": "stream",
          "text": [
            "<re.Match object; span=(5, 21), match='Vulnerability: 0'> <re.Match object; span=(22, 44), match='CWE ID: NOT_APPLICABLE'> <re.Match object; span=(45, 69), match='CWE Name: NOT_APPLICABLE'>\n"
          ]
        },
        {
          "name": "stderr",
          "output_type": "stream",
          "text": [
            " 51%|█████▏    | 1156/2253 [3:15:02<30:17,  1.66s/it]"
          ]
        },
        {
          "name": "stdout",
          "output_type": "stream",
          "text": [
            "<re.Match object; span=(5, 21), match='Vulnerability: 0'> <re.Match object; span=(22, 44), match='CWE ID: NOT_APPLICABLE'> <re.Match object; span=(45, 69), match='CWE Name: NOT_APPLICABLE'>\n"
          ]
        },
        {
          "name": "stderr",
          "output_type": "stream",
          "text": [
            " 51%|█████▏    | 1157/2253 [3:15:04<29:34,  1.62s/it]"
          ]
        },
        {
          "name": "stdout",
          "output_type": "stream",
          "text": [
            "<re.Match object; span=(5, 21), match='Vulnerability: 1'> <re.Match object; span=(22, 37), match='CWE ID: CWE-362'> <re.Match object; span=(38, 139), match=\"CWE Name: Concurrent Execution using Shared Resou>\n"
          ]
        },
        {
          "name": "stderr",
          "output_type": "stream",
          "text": [
            " 51%|█████▏    | 1158/2253 [3:15:06<29:04,  1.59s/it]"
          ]
        },
        {
          "name": "stdout",
          "output_type": "stream",
          "text": [
            "<re.Match object; span=(8, 24), match='Vulnerability: 1'> <re.Match object; span=(25, 40), match='CWE ID: CWE-127'> <re.Match object; span=(41, 67), match='CWE Name: Buffer Underread'>\n"
          ]
        },
        {
          "name": "stderr",
          "output_type": "stream",
          "text": [
            " 51%|█████▏    | 1159/2253 [3:15:07<28:47,  1.58s/it]"
          ]
        },
        {
          "name": "stdout",
          "output_type": "stream",
          "text": [
            "<re.Match object; span=(5, 21), match='Vulnerability: 0'> <re.Match object; span=(22, 44), match='CWE ID: NOT_APPLICABLE'> <re.Match object; span=(45, 69), match='CWE Name: NOT_APPLICABLE'>\n"
          ]
        },
        {
          "name": "stderr",
          "output_type": "stream",
          "text": [
            " 51%|█████▏    | 1160/2253 [3:15:09<29:00,  1.59s/it]"
          ]
        },
        {
          "name": "stdout",
          "output_type": "stream",
          "text": [
            "<re.Match object; span=(8, 24), match='Vulnerability: 0'> <re.Match object; span=(25, 47), match='CWE ID: NOT_APPLICABLE'> <re.Match object; span=(48, 72), match='CWE Name: NOT_APPLICABLE'>\n"
          ]
        },
        {
          "name": "stderr",
          "output_type": "stream",
          "text": [
            " 52%|█████▏    | 1161/2253 [3:15:10<28:43,  1.58s/it]"
          ]
        },
        {
          "name": "stdout",
          "output_type": "stream",
          "text": [
            "<re.Match object; span=(10, 26), match='Vulnerability: 0'> <re.Match object; span=(27, 49), match='CWE ID: NOT_APPLICABLE'> <re.Match object; span=(50, 74), match='CWE Name: NOT_APPLICABLE'>\n"
          ]
        },
        {
          "name": "stderr",
          "output_type": "stream",
          "text": [
            " 52%|█████▏    | 1162/2253 [3:15:12<30:02,  1.65s/it]"
          ]
        },
        {
          "name": "stdout",
          "output_type": "stream",
          "text": [
            "<re.Match object; span=(5, 21), match='Vulnerability: 0'> <re.Match object; span=(22, 44), match='CWE ID: NOT_APPLICABLE'> <re.Match object; span=(45, 69), match='CWE Name: NOT_APPLICABLE'>\n"
          ]
        },
        {
          "name": "stderr",
          "output_type": "stream",
          "text": [
            " 52%|█████▏    | 1163/2253 [3:15:14<29:23,  1.62s/it]"
          ]
        },
        {
          "name": "stdout",
          "output_type": "stream",
          "text": [
            "<re.Match object; span=(5, 21), match='Vulnerability: 0'> <re.Match object; span=(22, 44), match='CWE ID: NOT_APPLICABLE'> <re.Match object; span=(45, 69), match='CWE Name: NOT_APPLICABLE'>\n"
          ]
        },
        {
          "name": "stderr",
          "output_type": "stream",
          "text": [
            " 52%|█████▏    | 1164/2253 [3:15:15<28:26,  1.57s/it]"
          ]
        },
        {
          "name": "stdout",
          "output_type": "stream",
          "text": [
            "<re.Match object; span=(5, 21), match='Vulnerability: 0'> <re.Match object; span=(22, 44), match='CWE ID: NOT_APPLICABLE'> <re.Match object; span=(45, 69), match='CWE Name: NOT_APPLICABLE'>\n"
          ]
        },
        {
          "name": "stderr",
          "output_type": "stream",
          "text": [
            " 52%|█████▏    | 1165/2253 [3:15:17<31:23,  1.73s/it]"
          ]
        },
        {
          "name": "stdout",
          "output_type": "stream",
          "text": [
            "<re.Match object; span=(8, 24), match='Vulnerability: 1'> <re.Match object; span=(25, 40), match='CWE ID: CWE-127'> <re.Match object; span=(41, 67), match='CWE Name: Buffer Underread'>\n"
          ]
        },
        {
          "name": "stderr",
          "output_type": "stream",
          "text": [
            " 52%|█████▏    | 1166/2253 [3:15:20<35:31,  1.96s/it]"
          ]
        },
        {
          "name": "stdout",
          "output_type": "stream",
          "text": [
            "<re.Match object; span=(10, 26), match='Vulnerability: 0'> <re.Match object; span=(27, 49), match='CWE ID: NOT_APPLICABLE'> <re.Match object; span=(50, 74), match='CWE Name: NOT_APPLICABLE'>\n"
          ]
        },
        {
          "name": "stderr",
          "output_type": "stream",
          "text": [
            " 52%|█████▏    | 1167/2253 [3:15:23<41:33,  2.30s/it]"
          ]
        },
        {
          "name": "stdout",
          "output_type": "stream",
          "text": [
            "<re.Match object; span=(4, 20), match='Vulnerability: 0'> <re.Match object; span=(21, 43), match='CWE ID: NOT_APPLICABLE'> <re.Match object; span=(44, 68), match='CWE Name: NOT_APPLICABLE'>\n"
          ]
        },
        {
          "name": "stderr",
          "output_type": "stream",
          "text": [
            " 52%|█████▏    | 1168/2253 [3:15:25<39:36,  2.19s/it]"
          ]
        },
        {
          "name": "stdout",
          "output_type": "stream",
          "text": [
            "<re.Match object; span=(5, 21), match='Vulnerability: 1'> <re.Match object; span=(22, 37), match='CWE ID: CWE-119'> <re.Match object; span=(38, 119), match='CWE Name: Improper Restriction of Operations with>\n"
          ]
        },
        {
          "name": "stderr",
          "output_type": "stream",
          "text": [
            " 52%|█████▏    | 1169/2253 [3:15:26<35:57,  1.99s/it]"
          ]
        },
        {
          "name": "stdout",
          "output_type": "stream",
          "text": [
            "<re.Match object; span=(5, 21), match='Vulnerability: 0'> <re.Match object; span=(22, 44), match='CWE ID: NOT_APPLICABLE'> <re.Match object; span=(45, 69), match='CWE Name: NOT_APPLICABLE'>\n"
          ]
        },
        {
          "name": "stderr",
          "output_type": "stream",
          "text": [
            " 52%|█████▏    | 1170/2253 [3:15:28<33:25,  1.85s/it]"
          ]
        },
        {
          "name": "stdout",
          "output_type": "stream",
          "text": [
            "<re.Match object; span=(5, 21), match='Vulnerability: 0'> <re.Match object; span=(22, 44), match='CWE ID: NOT_APPLICABLE'> <re.Match object; span=(45, 69), match='CWE Name: NOT_APPLICABLE'>\n"
          ]
        },
        {
          "name": "stderr",
          "output_type": "stream",
          "text": [
            " 52%|█████▏    | 1171/2253 [3:15:30<33:25,  1.85s/it]"
          ]
        },
        {
          "name": "stdout",
          "output_type": "stream",
          "text": [
            "<re.Match object; span=(8, 24), match='Vulnerability: 0'> <re.Match object; span=(25, 47), match='CWE ID: NOT_APPLICABLE'> <re.Match object; span=(48, 72), match='CWE Name: NOT_APPLICABLE'>\n"
          ]
        },
        {
          "name": "stderr",
          "output_type": "stream",
          "text": [
            " 52%|█████▏    | 1172/2253 [3:15:32<34:22,  1.91s/it]"
          ]
        },
        {
          "name": "stdout",
          "output_type": "stream",
          "text": [
            "<re.Match object; span=(5, 21), match='Vulnerability: 1'> <re.Match object; span=(22, 37), match='CWE ID: CWE-329'> <re.Match object; span=(38, 76), match='CWE Name: Protection Mechanism Failure'>\n"
          ]
        },
        {
          "name": "stderr",
          "output_type": "stream",
          "text": [
            " 52%|█████▏    | 1173/2253 [3:15:33<31:31,  1.75s/it]"
          ]
        },
        {
          "name": "stdout",
          "output_type": "stream",
          "text": [
            "<re.Match object; span=(10, 26), match='Vulnerability: 1'> <re.Match object; span=(27, 42), match='CWE ID: CWE-200'> <re.Match object; span=(43, 111), match='CWE Name: Exposure of Sensitive Information to an>\n"
          ]
        },
        {
          "name": "stderr",
          "output_type": "stream",
          "text": [
            " 52%|█████▏    | 1174/2253 [3:15:35<30:06,  1.67s/it]"
          ]
        },
        {
          "name": "stdout",
          "output_type": "stream",
          "text": [
            "<re.Match object; span=(5, 21), match='Vulnerability: 1'> <re.Match object; span=(22, 37), match='CWE ID: CWE-119'> <re.Match object; span=(38, 119), match='CWE Name: Improper Restriction of Operations with>\n"
          ]
        },
        {
          "name": "stderr",
          "output_type": "stream",
          "text": [
            " 52%|█████▏    | 1175/2253 [3:15:36<28:35,  1.59s/it]"
          ]
        },
        {
          "name": "stdout",
          "output_type": "stream",
          "text": [
            "<re.Match object; span=(5, 21), match='Vulnerability: 1'> <re.Match object; span=(22, 37), match='CWE ID: CWE-119'> <re.Match object; span=(38, 119), match='CWE Name: Improper Restriction of Operations with>\n"
          ]
        },
        {
          "name": "stderr",
          "output_type": "stream",
          "text": [
            " 52%|█████▏    | 1176/2253 [3:15:37<28:13,  1.57s/it]"
          ]
        },
        {
          "name": "stdout",
          "output_type": "stream",
          "text": [
            "<re.Match object; span=(4, 20), match='Vulnerability: 0'> <re.Match object; span=(21, 43), match='CWE ID: NOT_APPLICABLE'> <re.Match object; span=(44, 68), match='CWE Name: NOT_APPLICABLE'>\n"
          ]
        },
        {
          "name": "stderr",
          "output_type": "stream",
          "text": [
            " 52%|█████▏    | 1177/2253 [3:15:40<32:15,  1.80s/it]"
          ]
        },
        {
          "name": "stdout",
          "output_type": "stream",
          "text": [
            "<re.Match object; span=(5, 21), match='Vulnerability: 1'> <re.Match object; span=(22, 37), match='CWE ID: CWE-131'> <re.Match object; span=(38, 84), match='CWE Name: Incorrect Calculation of Buffer Size'>\n"
          ]
        },
        {
          "name": "stderr",
          "output_type": "stream",
          "text": [
            " 52%|█████▏    | 1178/2253 [3:15:41<30:38,  1.71s/it]"
          ]
        },
        {
          "name": "stdout",
          "output_type": "stream",
          "text": [
            "<re.Match object; span=(12, 28), match='Vulnerability: 1'> <re.Match object; span=(29, 44), match='CWE ID: CWE-399'> <re.Match object; span=(45, 81), match='CWE Name: Resource Management Errors'>\n"
          ]
        },
        {
          "name": "stderr",
          "output_type": "stream",
          "text": [
            " 52%|█████▏    | 1179/2253 [3:15:43<32:23,  1.81s/it]"
          ]
        },
        {
          "name": "stdout",
          "output_type": "stream",
          "text": [
            "<re.Match object; span=(8, 24), match='Vulnerability: 1'> <re.Match object; span=(25, 39), match='CWE ID: CWE-20'> <re.Match object; span=(40, 75), match='CWE Name: Improper Input Validation'>\n"
          ]
        },
        {
          "name": "stderr",
          "output_type": "stream",
          "text": [
            " 52%|█████▏    | 1180/2253 [3:15:45<30:57,  1.73s/it]"
          ]
        },
        {
          "name": "stdout",
          "output_type": "stream",
          "text": [
            "<re.Match object; span=(10, 26), match='Vulnerability: 0'> <re.Match object; span=(27, 49), match='CWE ID: NOT_APPLICABLE'> <re.Match object; span=(50, 74), match='CWE Name: NOT_APPLICABLE'>\n"
          ]
        },
        {
          "name": "stderr",
          "output_type": "stream",
          "text": [
            " 52%|█████▏    | 1181/2253 [3:15:46<29:34,  1.66s/it]"
          ]
        },
        {
          "name": "stdout",
          "output_type": "stream",
          "text": [
            "<re.Match object; span=(5, 21), match='Vulnerability: 0'> <re.Match object; span=(22, 44), match='CWE ID: NOT_APPLICABLE'> <re.Match object; span=(45, 69), match='CWE Name: NOT_APPLICABLE'>\n"
          ]
        },
        {
          "name": "stderr",
          "output_type": "stream",
          "text": [
            " 52%|█████▏    | 1182/2253 [3:15:48<29:41,  1.66s/it]"
          ]
        },
        {
          "name": "stdout",
          "output_type": "stream",
          "text": [
            "<re.Match object; span=(12, 28), match='Vulnerability: 0'> <re.Match object; span=(29, 51), match='CWE ID: NOT_APPLICABLE'> <re.Match object; span=(52, 76), match='CWE Name: NOT_APPLICABLE'>\n"
          ]
        },
        {
          "name": "stderr",
          "output_type": "stream",
          "text": [
            " 53%|█████▎    | 1183/2253 [3:15:50<30:44,  1.72s/it]"
          ]
        },
        {
          "name": "stdout",
          "output_type": "stream",
          "text": [
            "<re.Match object; span=(5, 21), match='Vulnerability: 1'> <re.Match object; span=(22, 37), match='CWE ID: CWE-476'> <re.Match object; span=(38, 72), match='CWE Name: NULL Pointer Dereference'>\n"
          ]
        },
        {
          "name": "stderr",
          "output_type": "stream",
          "text": [
            " 53%|█████▎    | 1184/2253 [3:15:52<32:20,  1.82s/it]"
          ]
        },
        {
          "name": "stdout",
          "output_type": "stream",
          "text": [
            "<re.Match object; span=(5, 21), match='Vulnerability: 0'> <re.Match object; span=(22, 44), match='CWE ID: NOT_APPLICABLE'> <re.Match object; span=(45, 69), match='CWE Name: NOT_APPLICABLE'>\n"
          ]
        },
        {
          "name": "stderr",
          "output_type": "stream",
          "text": [
            " 53%|█████▎    | 1185/2253 [3:15:54<33:35,  1.89s/it]"
          ]
        },
        {
          "name": "stdout",
          "output_type": "stream",
          "text": [
            "<re.Match object; span=(5, 21), match='Vulnerability: 0'> <re.Match object; span=(22, 44), match='CWE ID: NOT_APPLICABLE'> <re.Match object; span=(45, 69), match='CWE Name: NOT_APPLICABLE'>\n"
          ]
        },
        {
          "name": "stderr",
          "output_type": "stream",
          "text": [
            " 53%|█████▎    | 1186/2253 [3:15:56<33:10,  1.87s/it]"
          ]
        },
        {
          "name": "stdout",
          "output_type": "stream",
          "text": [
            "<re.Match object; span=(4, 20), match='Vulnerability: 0'> <re.Match object; span=(21, 43), match='CWE ID: NOT_APPLICABLE'> <re.Match object; span=(44, 68), match='CWE Name: NOT_APPLICABLE'>\n"
          ]
        },
        {
          "name": "stderr",
          "output_type": "stream",
          "text": [
            " 53%|█████▎    | 1187/2253 [3:15:57<30:59,  1.74s/it]"
          ]
        },
        {
          "name": "stdout",
          "output_type": "stream",
          "text": [
            "<re.Match object; span=(5, 21), match='Vulnerability: 1'> <re.Match object; span=(22, 37), match='CWE ID: CWE-399'> <re.Match object; span=(38, 74), match='CWE Name: Resource Management Errors'>\n"
          ]
        },
        {
          "name": "stderr",
          "output_type": "stream",
          "text": [
            " 53%|█████▎    | 1188/2253 [3:15:59<28:52,  1.63s/it]"
          ]
        },
        {
          "name": "stdout",
          "output_type": "stream",
          "text": [
            "<re.Match object; span=(8, 24), match='Vulnerability: 1'> <re.Match object; span=(25, 40), match='CWE ID: CWE-125'> <re.Match object; span=(41, 69), match='CWE Name: Out-of-bounds Read'>\n"
          ]
        },
        {
          "name": "stderr",
          "output_type": "stream",
          "text": [
            " 53%|█████▎    | 1189/2253 [3:16:03<46:11,  2.60s/it]"
          ]
        },
        {
          "name": "stdout",
          "output_type": "stream",
          "text": [
            "<re.Match object; span=(5, 21), match='Vulnerability: 0'> <re.Match object; span=(22, 44), match='CWE ID: NOT_APPLICABLE'> <re.Match object; span=(45, 69), match='CWE Name: NOT_APPLICABLE'>\n"
          ]
        },
        {
          "name": "stderr",
          "output_type": "stream",
          "text": [
            " 53%|█████▎    | 1190/2253 [3:16:05<39:57,  2.26s/it]"
          ]
        },
        {
          "name": "stdout",
          "output_type": "stream",
          "text": [
            "<re.Match object; span=(5, 21), match='Vulnerability: 0'> <re.Match object; span=(22, 44), match='CWE ID: NOT_APPLICABLE'> <re.Match object; span=(45, 69), match='CWE Name: NOT_APPLICABLE'>\n"
          ]
        },
        {
          "name": "stderr",
          "output_type": "stream",
          "text": [
            " 53%|█████▎    | 1191/2253 [3:16:07<40:26,  2.28s/it]"
          ]
        },
        {
          "name": "stdout",
          "output_type": "stream",
          "text": [
            "<re.Match object; span=(8, 24), match='Vulnerability: 1'> <re.Match object; span=(25, 39), match='CWE ID: CWE-20'> <re.Match object; span=(40, 75), match='CWE Name: Improper Input Validation'>\n"
          ]
        },
        {
          "name": "stderr",
          "output_type": "stream",
          "text": [
            " 53%|█████▎    | 1192/2253 [3:16:09<35:55,  2.03s/it]"
          ]
        },
        {
          "name": "stdout",
          "output_type": "stream",
          "text": [
            "<re.Match object; span=(12, 28), match='Vulnerability: 1'> <re.Match object; span=(29, 44), match='CWE ID: CWE-125'> <re.Match object; span=(45, 73), match='CWE Name: Out-of-bounds Read'>\n"
          ]
        },
        {
          "name": "stderr",
          "output_type": "stream",
          "text": [
            " 53%|█████▎    | 1193/2253 [3:16:10<33:12,  1.88s/it]"
          ]
        },
        {
          "name": "stdout",
          "output_type": "stream",
          "text": [
            "<re.Match object; span=(5, 21), match='Vulnerability: 0'> <re.Match object; span=(22, 44), match='CWE ID: NOT_APPLICABLE'> <re.Match object; span=(45, 69), match='CWE Name: NOT_APPLICABLE'>\n"
          ]
        },
        {
          "name": "stderr",
          "output_type": "stream",
          "text": [
            " 53%|█████▎    | 1194/2253 [3:16:12<31:21,  1.78s/it]"
          ]
        },
        {
          "name": "stdout",
          "output_type": "stream",
          "text": [
            "<re.Match object; span=(8, 24), match='Vulnerability: 1'> <re.Match object; span=(25, 40), match='CWE ID: CWE-127'> <re.Match object; span=(41, 67), match='CWE Name: Buffer Underread'>\n"
          ]
        },
        {
          "name": "stderr",
          "output_type": "stream",
          "text": [
            " 53%|█████▎    | 1195/2253 [3:16:13<30:06,  1.71s/it]"
          ]
        },
        {
          "name": "stdout",
          "output_type": "stream",
          "text": [
            "<re.Match object; span=(5, 21), match='Vulnerability: 1'> <re.Match object; span=(22, 37), match='CWE ID: CWE-399'> <re.Match object; span=(38, 74), match='CWE Name: Resource Management Errors'>\n"
          ]
        },
        {
          "name": "stderr",
          "output_type": "stream",
          "text": [
            " 53%|█████▎    | 1196/2253 [3:16:15<31:51,  1.81s/it]"
          ]
        },
        {
          "name": "stdout",
          "output_type": "stream",
          "text": [
            "<re.Match object; span=(10, 26), match='Vulnerability: 1'> <re.Match object; span=(27, 42), match='CWE ID: CWE-190'> <re.Match object; span=(43, 83), match='CWE Name: Integer Overflow or Wraparound'>\n"
          ]
        },
        {
          "name": "stderr",
          "output_type": "stream",
          "text": [
            " 53%|█████▎    | 1197/2253 [3:16:17<30:23,  1.73s/it]"
          ]
        },
        {
          "name": "stdout",
          "output_type": "stream",
          "text": [
            "<re.Match object; span=(5, 21), match='Vulnerability: 0'> <re.Match object; span=(22, 44), match='CWE ID: NOT_APPLICABLE'> <re.Match object; span=(45, 69), match='CWE Name: NOT_APPLICABLE'>\n"
          ]
        },
        {
          "name": "stderr",
          "output_type": "stream",
          "text": [
            " 53%|█████▎    | 1198/2253 [3:16:18<28:55,  1.64s/it]"
          ]
        },
        {
          "name": "stdout",
          "output_type": "stream",
          "text": [
            "<re.Match object; span=(10, 26), match='Vulnerability: 1'> <re.Match object; span=(27, 42), match='CWE ID: CWE-121'> <re.Match object; span=(43, 80), match='CWE Name: Stack-based Buffer Overflow'>\n"
          ]
        },
        {
          "name": "stderr",
          "output_type": "stream",
          "text": [
            " 53%|█████▎    | 1199/2253 [3:16:20<29:41,  1.69s/it]"
          ]
        },
        {
          "name": "stdout",
          "output_type": "stream",
          "text": [
            "<re.Match object; span=(10, 26), match='Vulnerability: 1'> <re.Match object; span=(27, 41), match='CWE ID: CWE-79'> <re.Match object; span=(42, 136), match=\"CWE Name: Improper Neutralization of Input During>\n"
          ]
        },
        {
          "name": "stderr",
          "output_type": "stream",
          "text": [
            " 53%|█████▎    | 1200/2253 [3:16:22<30:25,  1.73s/it]"
          ]
        },
        {
          "name": "stdout",
          "output_type": "stream",
          "text": [
            "<re.Match object; span=(4, 20), match='Vulnerability: 0'> <re.Match object; span=(21, 43), match='CWE ID: NOT_APPLICABLE'> <re.Match object; span=(44, 68), match='CWE Name: NOT_APPLICABLE'>\n"
          ]
        },
        {
          "name": "stderr",
          "output_type": "stream",
          "text": [
            " 53%|█████▎    | 1201/2253 [3:16:23<28:58,  1.65s/it]"
          ]
        },
        {
          "name": "stdout",
          "output_type": "stream",
          "text": [
            "<re.Match object; span=(5, 21), match='Vulnerability: 1'> <re.Match object; span=(22, 37), match='CWE ID: CWE-119'> <re.Match object; span=(38, 119), match='CWE Name: Improper Restriction of Operations with>\n"
          ]
        },
        {
          "name": "stderr",
          "output_type": "stream",
          "text": [
            " 53%|█████▎    | 1202/2253 [3:16:25<29:58,  1.71s/it]"
          ]
        },
        {
          "name": "stdout",
          "output_type": "stream",
          "text": [
            "<re.Match object; span=(5, 21), match='Vulnerability: 1'> <re.Match object; span=(22, 37), match='CWE ID: CWE-125'> <re.Match object; span=(38, 66), match='CWE Name: Out-of-bounds Read'>\n"
          ]
        },
        {
          "name": "stderr",
          "output_type": "stream",
          "text": [
            " 53%|█████▎    | 1203/2253 [3:16:27<29:12,  1.67s/it]"
          ]
        },
        {
          "name": "stdout",
          "output_type": "stream",
          "text": [
            "<re.Match object; span=(5, 21), match='Vulnerability: 0'> <re.Match object; span=(22, 44), match='CWE ID: NOT_APPLICABLE'> <re.Match object; span=(45, 69), match='CWE Name: NOT_APPLICABLE'>\n"
          ]
        },
        {
          "name": "stderr",
          "output_type": "stream",
          "text": [
            " 53%|█████▎    | 1204/2253 [3:16:28<28:52,  1.65s/it]"
          ]
        },
        {
          "name": "stdout",
          "output_type": "stream",
          "text": [
            "<re.Match object; span=(8, 24), match='Vulnerability: 1'> <re.Match object; span=(25, 40), match='CWE ID: CWE-416'> <re.Match object; span=(41, 65), match='CWE Name: Use After Free'>\n"
          ]
        },
        {
          "name": "stderr",
          "output_type": "stream",
          "text": [
            " 53%|█████▎    | 1205/2253 [3:16:30<28:14,  1.62s/it]"
          ]
        },
        {
          "name": "stdout",
          "output_type": "stream",
          "text": [
            "<re.Match object; span=(12, 28), match='Vulnerability: 0'> <re.Match object; span=(29, 51), match='CWE ID: NOT_APPLICABLE'> <re.Match object; span=(52, 76), match='CWE Name: NOT_APPLICABLE'>\n"
          ]
        },
        {
          "name": "stderr",
          "output_type": "stream",
          "text": [
            " 54%|█████▎    | 1206/2253 [3:16:32<29:52,  1.71s/it]"
          ]
        },
        {
          "name": "stdout",
          "output_type": "stream",
          "text": [
            "<re.Match object; span=(8, 24), match='Vulnerability: 1'> <re.Match object; span=(25, 40), match='CWE ID: CWE-264'> <re.Match object; span=(41, 95), match='CWE Name: Permissions, Privileges, and Access Con>\n"
          ]
        },
        {
          "name": "stderr",
          "output_type": "stream",
          "text": [
            " 54%|█████▎    | 1207/2253 [3:16:34<30:30,  1.75s/it]"
          ]
        },
        {
          "name": "stdout",
          "output_type": "stream",
          "text": [
            "<re.Match object; span=(5, 21), match='Vulnerability: 1'> <re.Match object; span=(22, 36), match='CWE ID: CWE-20'> <re.Match object; span=(37, 72), match='CWE Name: Improper Input Validation'>\n"
          ]
        },
        {
          "name": "stderr",
          "output_type": "stream",
          "text": [
            " 54%|█████▎    | 1208/2253 [3:16:35<29:25,  1.69s/it]"
          ]
        },
        {
          "name": "stdout",
          "output_type": "stream",
          "text": [
            "<re.Match object; span=(8, 24), match='Vulnerability: 1'> <re.Match object; span=(25, 39), match='CWE ID: CWE-22'> <re.Match object; span=(40, 128), match=\"CWE Name: Improper Limitation of a Pathname to a >\n"
          ]
        },
        {
          "name": "stderr",
          "output_type": "stream",
          "text": [
            " 54%|█████▎    | 1209/2253 [3:16:37<27:40,  1.59s/it]"
          ]
        },
        {
          "name": "stdout",
          "output_type": "stream",
          "text": [
            "<re.Match object; span=(5, 21), match='Vulnerability: 0'> <re.Match object; span=(22, 44), match='CWE ID: NOT_APPLICABLE'> <re.Match object; span=(45, 69), match='CWE Name: NOT_APPLICABLE'>\n"
          ]
        },
        {
          "name": "stderr",
          "output_type": "stream",
          "text": [
            " 54%|█████▎    | 1210/2253 [3:16:38<27:42,  1.59s/it]"
          ]
        },
        {
          "name": "stdout",
          "output_type": "stream",
          "text": [
            "<re.Match object; span=(10, 26), match='Vulnerability: 1'> <re.Match object; span=(27, 42), match='CWE ID: CWE-119'> <re.Match object; span=(43, 124), match='CWE Name: Improper Restriction of Operations with>\n"
          ]
        },
        {
          "name": "stderr",
          "output_type": "stream",
          "text": [
            " 54%|█████▍    | 1211/2253 [3:16:40<27:25,  1.58s/it]"
          ]
        },
        {
          "name": "stdout",
          "output_type": "stream",
          "text": [
            "<re.Match object; span=(5, 21), match='Vulnerability: 1'> <re.Match object; span=(22, 37), match='CWE ID: CWE-401'> <re.Match object; span=(38, 59), match='CWE Name: Memory Leak'>\n"
          ]
        },
        {
          "name": "stderr",
          "output_type": "stream",
          "text": [
            " 54%|█████▍    | 1212/2253 [3:16:42<28:43,  1.66s/it]"
          ]
        },
        {
          "name": "stdout",
          "output_type": "stream",
          "text": [
            "<re.Match object; span=(5, 21), match='Vulnerability: 1'> <re.Match object; span=(22, 37), match='CWE ID: CWE-119'> <re.Match object; span=(38, 119), match='CWE Name: Improper Restriction of Operations with>\n"
          ]
        },
        {
          "name": "stderr",
          "output_type": "stream",
          "text": [
            " 54%|█████▍    | 1213/2253 [3:16:44<30:13,  1.74s/it]"
          ]
        },
        {
          "name": "stdout",
          "output_type": "stream",
          "text": [
            "<re.Match object; span=(5, 21), match='Vulnerability: 0'> <re.Match object; span=(22, 44), match='CWE ID: NOT_APPLICABLE'> <re.Match object; span=(45, 69), match='CWE Name: NOT_APPLICABLE'>\n"
          ]
        },
        {
          "name": "stderr",
          "output_type": "stream",
          "text": [
            " 54%|█████▍    | 1214/2253 [3:16:45<29:05,  1.68s/it]"
          ]
        },
        {
          "name": "stdout",
          "output_type": "stream",
          "text": [
            "<re.Match object; span=(5, 21), match='Vulnerability: 0'> <re.Match object; span=(22, 44), match='CWE ID: NOT_APPLICABLE'> <re.Match object; span=(45, 69), match='CWE Name: NOT_APPLICABLE'>\n"
          ]
        },
        {
          "name": "stderr",
          "output_type": "stream",
          "text": [
            " 54%|█████▍    | 1215/2253 [3:16:47<28:50,  1.67s/it]"
          ]
        },
        {
          "name": "stdout",
          "output_type": "stream",
          "text": [
            "<re.Match object; span=(5, 21), match='Vulnerability: 1'> <re.Match object; span=(22, 37), match='CWE ID: CWE-416'> <re.Match object; span=(38, 62), match='CWE Name: Use After Free'>\n"
          ]
        },
        {
          "name": "stderr",
          "output_type": "stream",
          "text": [
            " 54%|█████▍    | 1216/2253 [3:16:49<30:17,  1.75s/it]"
          ]
        },
        {
          "name": "stdout",
          "output_type": "stream",
          "text": [
            "<re.Match object; span=(5, 21), match='Vulnerability: 1'> <re.Match object; span=(22, 33), match='CWE ID: 316'> <re.Match object; span=(34, 86), match='CWE Name: Cleartext Storage of Sensitive Informat>\n"
          ]
        },
        {
          "name": "stderr",
          "output_type": "stream",
          "text": [
            " 54%|█████▍    | 1217/2253 [3:16:50<29:41,  1.72s/it]"
          ]
        },
        {
          "name": "stdout",
          "output_type": "stream",
          "text": [
            "<re.Match object; span=(5, 21), match='Vulnerability: 1'> <re.Match object; span=(22, 37), match='CWE ID: CWE-119'> <re.Match object; span=(38, 119), match='CWE Name: Improper Restriction of Operations with>\n"
          ]
        },
        {
          "name": "stderr",
          "output_type": "stream",
          "text": [
            " 54%|█████▍    | 1218/2253 [3:16:52<30:49,  1.79s/it]"
          ]
        },
        {
          "name": "stdout",
          "output_type": "stream",
          "text": [
            "<re.Match object; span=(4, 20), match='Vulnerability: 0'> <re.Match object; span=(21, 43), match='CWE ID: NOT_APPLICABLE'> <re.Match object; span=(44, 68), match='CWE Name: NOT_APPLICABLE'>\n"
          ]
        },
        {
          "name": "stderr",
          "output_type": "stream",
          "text": [
            " 54%|█████▍    | 1219/2253 [3:16:54<30:04,  1.75s/it]"
          ]
        },
        {
          "name": "stdout",
          "output_type": "stream",
          "text": [
            "<re.Match object; span=(5, 21), match='Vulnerability: 0'> <re.Match object; span=(22, 44), match='CWE ID: NOT_APPLICABLE'> <re.Match object; span=(45, 69), match='CWE Name: NOT_APPLICABLE'>\n"
          ]
        },
        {
          "name": "stderr",
          "output_type": "stream",
          "text": [
            " 54%|█████▍    | 1220/2253 [3:16:56<29:56,  1.74s/it]"
          ]
        },
        {
          "name": "stdout",
          "output_type": "stream",
          "text": [
            "<re.Match object; span=(5, 21), match='Vulnerability: 1'> <re.Match object; span=(22, 37), match='CWE ID: CWE-119'> <re.Match object; span=(38, 119), match='CWE Name: Improper Restriction of Operations with>\n"
          ]
        },
        {
          "name": "stderr",
          "output_type": "stream",
          "text": [
            " 54%|█████▍    | 1221/2253 [3:16:58<30:58,  1.80s/it]"
          ]
        },
        {
          "name": "stdout",
          "output_type": "stream",
          "text": [
            "<re.Match object; span=(12, 28), match='Vulnerability: 0'> <re.Match object; span=(29, 51), match='CWE ID: NOT_APPLICABLE'> <re.Match object; span=(52, 76), match='CWE Name: NOT_APPLICABLE'>\n"
          ]
        },
        {
          "name": "stderr",
          "output_type": "stream",
          "text": [
            " 54%|█████▍    | 1222/2253 [3:16:59<30:09,  1.75s/it]"
          ]
        },
        {
          "name": "stdout",
          "output_type": "stream",
          "text": [
            "<re.Match object; span=(5, 21), match='Vulnerability: 0'> <re.Match object; span=(22, 44), match='CWE ID: NOT_APPLICABLE'> <re.Match object; span=(45, 69), match='CWE Name: NOT_APPLICABLE'>\n"
          ]
        },
        {
          "name": "stderr",
          "output_type": "stream",
          "text": [
            " 54%|█████▍    | 1223/2253 [3:17:01<28:55,  1.69s/it]"
          ]
        },
        {
          "name": "stdout",
          "output_type": "stream",
          "text": [
            "<re.Match object; span=(5, 21), match='Vulnerability: 0'> <re.Match object; span=(22, 44), match='CWE ID: NOT_APPLICABLE'> <re.Match object; span=(45, 69), match='CWE Name: NOT_APPLICABLE'>\n"
          ]
        },
        {
          "name": "stderr",
          "output_type": "stream",
          "text": [
            " 54%|█████▍    | 1224/2253 [3:17:02<28:11,  1.64s/it]"
          ]
        },
        {
          "name": "stdout",
          "output_type": "stream",
          "text": [
            "<re.Match object; span=(4, 20), match='Vulnerability: 1'> <re.Match object; span=(21, 35), match='CWE ID: CWE-20'> <re.Match object; span=(36, 71), match='CWE Name: Improper Input Validation'>\n"
          ]
        },
        {
          "name": "stderr",
          "output_type": "stream",
          "text": [
            " 54%|█████▍    | 1225/2253 [3:17:04<28:05,  1.64s/it]"
          ]
        },
        {
          "name": "stdout",
          "output_type": "stream",
          "text": [
            "<re.Match object; span=(5, 21), match='Vulnerability: 1'> <re.Match object; span=(22, 37), match='CWE ID: CWE-824'> <re.Match object; span=(38, 79), match='CWE Name: Access of Uninitialized Pointer'>\n"
          ]
        },
        {
          "name": "stderr",
          "output_type": "stream",
          "text": [
            " 54%|█████▍    | 1226/2253 [3:17:05<27:01,  1.58s/it]"
          ]
        },
        {
          "name": "stdout",
          "output_type": "stream",
          "text": [
            "<re.Match object; span=(4, 20), match='Vulnerability: 0'> <re.Match object; span=(21, 43), match='CWE ID: NOT_APPLICABLE'> <re.Match object; span=(44, 68), match='CWE Name: NOT_APPLICABLE'>\n"
          ]
        },
        {
          "name": "stderr",
          "output_type": "stream",
          "text": [
            " 54%|█████▍    | 1227/2253 [3:17:07<26:15,  1.54s/it]"
          ]
        },
        {
          "name": "stdout",
          "output_type": "stream",
          "text": [
            "<re.Match object; span=(5, 21), match='Vulnerability: 0'> <re.Match object; span=(22, 44), match='CWE ID: NOT_APPLICABLE'> <re.Match object; span=(45, 69), match='CWE Name: NOT_APPLICABLE'>\n"
          ]
        },
        {
          "name": "stderr",
          "output_type": "stream",
          "text": [
            " 55%|█████▍    | 1228/2253 [3:17:08<26:16,  1.54s/it]"
          ]
        },
        {
          "name": "stdout",
          "output_type": "stream",
          "text": [
            "<re.Match object; span=(10, 26), match='Vulnerability: 1'> <re.Match object; span=(27, 38), match='CWE ID: 295'> <re.Match object; span=(39, 80), match='CWE Name: Improper Certificate Validation'>\n"
          ]
        },
        {
          "name": "stderr",
          "output_type": "stream",
          "text": [
            " 55%|█████▍    | 1229/2253 [3:17:10<26:12,  1.54s/it]"
          ]
        },
        {
          "name": "stdout",
          "output_type": "stream",
          "text": [
            "<re.Match object; span=(5, 21), match='Vulnerability: 1'> <re.Match object; span=(22, 37), match='CWE ID: CWE-476'> <re.Match object; span=(38, 72), match='CWE Name: NULL Pointer Dereference'>\n"
          ]
        },
        {
          "name": "stderr",
          "output_type": "stream",
          "text": [
            " 55%|█████▍    | 1230/2253 [3:17:11<26:12,  1.54s/it]"
          ]
        },
        {
          "name": "stdout",
          "output_type": "stream",
          "text": [
            "<re.Match object; span=(5, 21), match='Vulnerability: 1'> <re.Match object; span=(22, 37), match='CWE ID: CWE-119'> <re.Match object; span=(38, 119), match='CWE Name: Improper Restriction of Operations with>\n"
          ]
        },
        {
          "name": "stderr",
          "output_type": "stream",
          "text": [
            " 55%|█████▍    | 1231/2253 [3:17:13<25:23,  1.49s/it]"
          ]
        },
        {
          "name": "stdout",
          "output_type": "stream",
          "text": [
            "<re.Match object; span=(5, 23), match='Vulnerability: 0.0'> <re.Match object; span=(24, 46), match='CWE ID: NOT_APPLICABLE'> <re.Match object; span=(47, 71), match='CWE Name: NOT_APPLICABLE'>\n"
          ]
        },
        {
          "name": "stderr",
          "output_type": "stream",
          "text": [
            " 55%|█████▍    | 1232/2253 [3:17:15<26:20,  1.55s/it]"
          ]
        },
        {
          "name": "stdout",
          "output_type": "stream",
          "text": [
            "<re.Match object; span=(5, 21), match='Vulnerability: 1'> <re.Match object; span=(22, 37), match='CWE ID: CWE-125'> <re.Match object; span=(38, 66), match='CWE Name: Out-of-bounds Read'>\n"
          ]
        },
        {
          "name": "stderr",
          "output_type": "stream",
          "text": [
            " 55%|█████▍    | 1233/2253 [3:17:16<26:16,  1.55s/it]"
          ]
        },
        {
          "name": "stdout",
          "output_type": "stream",
          "text": [
            "<re.Match object; span=(5, 21), match='Vulnerability: 1'> <re.Match object; span=(22, 36), match='CWE ID: CWE-94'> <re.Match object; span=(37, 104), match=\"CWE Name: Improper Control of Generation of Code >\n"
          ]
        },
        {
          "name": "stderr",
          "output_type": "stream",
          "text": [
            " 55%|█████▍    | 1234/2253 [3:17:18<26:13,  1.54s/it]"
          ]
        },
        {
          "name": "stdout",
          "output_type": "stream",
          "text": [
            "<re.Match object; span=(5, 21), match='Vulnerability: 1'> <re.Match object; span=(22, 37), match='CWE ID: CWE-284'> <re.Match object; span=(38, 71), match='CWE Name: Improper Access Control'>\n"
          ]
        },
        {
          "name": "stderr",
          "output_type": "stream",
          "text": [
            " 55%|█████▍    | 1235/2253 [3:17:19<25:34,  1.51s/it]"
          ]
        },
        {
          "name": "stdout",
          "output_type": "stream",
          "text": [
            "<re.Match object; span=(5, 21), match='Vulnerability: 0'> <re.Match object; span=(22, 44), match='CWE ID: NOT_APPLICABLE'> <re.Match object; span=(45, 69), match='CWE Name: NOT_APPLICABLE'>\n"
          ]
        },
        {
          "name": "stderr",
          "output_type": "stream",
          "text": [
            " 55%|█████▍    | 1236/2253 [3:17:21<25:33,  1.51s/it]"
          ]
        },
        {
          "name": "stdout",
          "output_type": "stream",
          "text": [
            "<re.Match object; span=(12, 28), match='Vulnerability: 1'> <re.Match object; span=(29, 44), match='CWE ID: CWE-119'> <re.Match object; span=(45, 126), match='CWE Name: Improper Restriction of Operations with>\n"
          ]
        },
        {
          "name": "stderr",
          "output_type": "stream",
          "text": [
            " 55%|█████▍    | 1237/2253 [3:17:22<26:28,  1.56s/it]"
          ]
        },
        {
          "name": "stdout",
          "output_type": "stream",
          "text": [
            "<re.Match object; span=(14, 30), match='Vulnerability: 1'> <re.Match object; span=(31, 46), match='CWE ID: CWE-787'> <re.Match object; span=(47, 76), match='CWE Name: Out-of-bounds Write'>\n"
          ]
        },
        {
          "name": "stderr",
          "output_type": "stream",
          "text": [
            " 55%|█████▍    | 1238/2253 [3:17:24<25:42,  1.52s/it]"
          ]
        },
        {
          "name": "stdout",
          "output_type": "stream",
          "text": [
            "<re.Match object; span=(5, 21), match='Vulnerability: 1'> <re.Match object; span=(22, 37), match='CWE ID: CWE-119'> <re.Match object; span=(38, 119), match='CWE Name: Improper Restriction of Operations with>\n"
          ]
        },
        {
          "name": "stderr",
          "output_type": "stream",
          "text": [
            " 55%|█████▍    | 1239/2253 [3:17:25<25:46,  1.53s/it]"
          ]
        },
        {
          "name": "stdout",
          "output_type": "stream",
          "text": [
            "<re.Match object; span=(5, 21), match='Vulnerability: 0'> <re.Match object; span=(22, 44), match='CWE ID: NOT_APPLICABLE'> <re.Match object; span=(45, 69), match='CWE Name: NOT_APPLICABLE'>\n"
          ]
        },
        {
          "name": "stderr",
          "output_type": "stream",
          "text": [
            " 55%|█████▌    | 1240/2253 [3:17:27<26:17,  1.56s/it]"
          ]
        },
        {
          "name": "stdout",
          "output_type": "stream",
          "text": [
            "<re.Match object; span=(8, 24), match='Vulnerability: 1'> <re.Match object; span=(25, 40), match='CWE ID: CWE-476'> <re.Match object; span=(41, 75), match='CWE Name: NULL Pointer Dereference'>\n"
          ]
        },
        {
          "name": "stderr",
          "output_type": "stream",
          "text": [
            " 55%|█████▌    | 1241/2253 [3:17:28<25:40,  1.52s/it]"
          ]
        },
        {
          "name": "stdout",
          "output_type": "stream",
          "text": [
            "<re.Match object; span=(12, 28), match='Vulnerability: 0'> <re.Match object; span=(29, 51), match='CWE ID: NOT_APPLICABLE'> <re.Match object; span=(52, 76), match='CWE Name: NOT_APPLICABLE'>\n"
          ]
        },
        {
          "name": "stderr",
          "output_type": "stream",
          "text": [
            " 55%|█████▌    | 1242/2253 [3:17:30<27:08,  1.61s/it]"
          ]
        },
        {
          "name": "stdout",
          "output_type": "stream",
          "text": [
            "<re.Match object; span=(5, 21), match='Vulnerability: 0'> <re.Match object; span=(22, 44), match='CWE ID: NOT_APPLICABLE'> <re.Match object; span=(45, 69), match='CWE Name: NOT_APPLICABLE'>\n"
          ]
        },
        {
          "name": "stderr",
          "output_type": "stream",
          "text": [
            " 55%|█████▌    | 1243/2253 [3:17:32<28:51,  1.71s/it]"
          ]
        },
        {
          "name": "stdout",
          "output_type": "stream",
          "text": [
            "<re.Match object; span=(14, 30), match='Vulnerability: 1'> <re.Match object; span=(31, 46), match='CWE ID: CWE-125'> <re.Match object; span=(47, 75), match='CWE Name: Out-of-bounds Read'>\n"
          ]
        },
        {
          "name": "stderr",
          "output_type": "stream",
          "text": [
            " 55%|█████▌    | 1244/2253 [3:17:34<28:30,  1.70s/it]"
          ]
        },
        {
          "name": "stdout",
          "output_type": "stream",
          "text": [
            "<re.Match object; span=(10, 26), match='Vulnerability: 1'> <re.Match object; span=(27, 42), match='CWE ID: CWE-127'> <re.Match object; span=(43, 70), match='CWE Name: Buffer Underwrite'>\n"
          ]
        },
        {
          "name": "stderr",
          "output_type": "stream",
          "text": [
            " 55%|█████▌    | 1245/2253 [3:17:35<27:09,  1.62s/it]"
          ]
        },
        {
          "name": "stdout",
          "output_type": "stream",
          "text": [
            "<re.Match object; span=(12, 28), match='Vulnerability: 1'> <re.Match object; span=(29, 43), match='CWE ID: CWE-20'> <re.Match object; span=(44, 79), match='CWE Name: Improper Input Validation'>\n"
          ]
        },
        {
          "name": "stderr",
          "output_type": "stream",
          "text": [
            " 55%|█████▌    | 1246/2253 [3:17:37<26:44,  1.59s/it]"
          ]
        },
        {
          "name": "stdout",
          "output_type": "stream",
          "text": [
            "<re.Match object; span=(5, 21), match='Vulnerability: 0'> <re.Match object; span=(22, 44), match='CWE ID: NOT_APPLICABLE'> <re.Match object; span=(45, 69), match='CWE Name: NOT_APPLICABLE'>\n"
          ]
        },
        {
          "name": "stderr",
          "output_type": "stream",
          "text": [
            " 55%|█████▌    | 1247/2253 [3:17:39<27:55,  1.67s/it]"
          ]
        },
        {
          "name": "stdout",
          "output_type": "stream",
          "text": [
            "<re.Match object; span=(8, 24), match='Vulnerability: 1'> <re.Match object; span=(25, 40), match='CWE ID: CWE-125'> <re.Match object; span=(41, 69), match='CWE Name: Out-of-bounds Read'>\n"
          ]
        },
        {
          "name": "stderr",
          "output_type": "stream",
          "text": [
            " 55%|█████▌    | 1248/2253 [3:17:40<27:15,  1.63s/it]"
          ]
        },
        {
          "name": "stdout",
          "output_type": "stream",
          "text": [
            "<re.Match object; span=(4, 20), match='Vulnerability: 0'> <re.Match object; span=(21, 43), match='CWE ID: NOT_APPLICABLE'> <re.Match object; span=(44, 68), match='CWE Name: NOT_APPLICABLE'>\n"
          ]
        },
        {
          "name": "stderr",
          "output_type": "stream",
          "text": [
            " 55%|█████▌    | 1249/2253 [3:17:42<26:47,  1.60s/it]"
          ]
        },
        {
          "name": "stdout",
          "output_type": "stream",
          "text": [
            "<re.Match object; span=(8, 24), match='Vulnerability: 1'> <re.Match object; span=(25, 40), match='CWE ID: CWE-476'> <re.Match object; span=(41, 75), match='CWE Name: NULL Pointer Dereference'>\n"
          ]
        },
        {
          "name": "stderr",
          "output_type": "stream",
          "text": [
            " 55%|█████▌    | 1250/2253 [3:17:43<25:54,  1.55s/it]"
          ]
        },
        {
          "name": "stdout",
          "output_type": "stream",
          "text": [
            "<re.Match object; span=(5, 21), match='Vulnerability: 1'> <re.Match object; span=(22, 37), match='CWE ID: CWE-190'> <re.Match object; span=(38, 78), match='CWE Name: Integer Overflow or Wraparound'>\n"
          ]
        },
        {
          "name": "stderr",
          "output_type": "stream",
          "text": [
            " 56%|█████▌    | 1251/2253 [3:17:45<25:50,  1.55s/it]"
          ]
        },
        {
          "name": "stdout",
          "output_type": "stream",
          "text": [
            "<re.Match object; span=(14, 30), match='Vulnerability: 0'> <re.Match object; span=(31, 53), match='CWE ID: NOT_APPLICABLE'> <re.Match object; span=(54, 78), match='CWE Name: NOT_APPLICABLE'>\n"
          ]
        },
        {
          "name": "stderr",
          "output_type": "stream",
          "text": [
            " 56%|█████▌    | 1252/2253 [3:17:46<27:20,  1.64s/it]"
          ]
        },
        {
          "name": "stdout",
          "output_type": "stream",
          "text": [
            "<re.Match object; span=(5, 21), match='Vulnerability: 1'> <re.Match object; span=(22, 37), match='CWE ID: CWE-125'> <re.Match object; span=(38, 66), match='CWE Name: Out-of-bounds Read'>\n"
          ]
        },
        {
          "name": "stderr",
          "output_type": "stream",
          "text": [
            " 56%|█████▌    | 1253/2253 [3:17:48<27:44,  1.66s/it]"
          ]
        },
        {
          "name": "stdout",
          "output_type": "stream",
          "text": [
            "<re.Match object; span=(14, 30), match='Vulnerability: 1'> <re.Match object; span=(31, 46), match='CWE ID: CWE-125'> <re.Match object; span=(47, 75), match='CWE Name: Out-of-bounds Read'>\n"
          ]
        },
        {
          "name": "stderr",
          "output_type": "stream",
          "text": [
            " 56%|█████▌    | 1254/2253 [3:17:50<29:40,  1.78s/it]"
          ]
        },
        {
          "name": "stdout",
          "output_type": "stream",
          "text": [
            "<re.Match object; span=(5, 21), match='Vulnerability: 0'> <re.Match object; span=(22, 44), match='CWE ID: NOT_APPLICABLE'> <re.Match object; span=(45, 69), match='CWE Name: NOT_APPLICABLE'>\n"
          ]
        },
        {
          "name": "stderr",
          "output_type": "stream",
          "text": [
            " 56%|█████▌    | 1255/2253 [3:17:53<35:04,  2.11s/it]"
          ]
        },
        {
          "name": "stdout",
          "output_type": "stream",
          "text": [
            "<re.Match object; span=(5, 21), match='Vulnerability: 1'> <re.Match object; span=(22, 37), match='CWE ID: CWE-787'> <re.Match object; span=(38, 67), match='CWE Name: Out-of-bounds Write'>\n"
          ]
        },
        {
          "name": "stderr",
          "output_type": "stream",
          "text": [
            " 56%|█████▌    | 1256/2253 [3:17:55<34:11,  2.06s/it]"
          ]
        },
        {
          "name": "stdout",
          "output_type": "stream",
          "text": [
            "<re.Match object; span=(5, 21), match='Vulnerability: 1'> <re.Match object; span=(22, 37), match='CWE ID: CWE-119'> <re.Match object; span=(38, 119), match='CWE Name: Improper Restriction of Operations with>\n"
          ]
        },
        {
          "name": "stderr",
          "output_type": "stream",
          "text": [
            " 56%|█████▌    | 1257/2253 [3:17:56<30:46,  1.85s/it]"
          ]
        },
        {
          "name": "stdout",
          "output_type": "stream",
          "text": [
            "<re.Match object; span=(5, 21), match='Vulnerability: 0'> <re.Match object; span=(22, 44), match='CWE ID: NOT_APPLICABLE'> <re.Match object; span=(45, 69), match='CWE Name: NOT_APPLICABLE'>\n"
          ]
        },
        {
          "name": "stderr",
          "output_type": "stream",
          "text": [
            " 56%|█████▌    | 1258/2253 [3:17:58<31:27,  1.90s/it]"
          ]
        },
        {
          "name": "stdout",
          "output_type": "stream",
          "text": [
            "<re.Match object; span=(10, 26), match='Vulnerability: 0'> <re.Match object; span=(27, 49), match='CWE ID: NOT_APPLICABLE'> <re.Match object; span=(50, 74), match='CWE Name: NOT_APPLICABLE'>\n"
          ]
        },
        {
          "name": "stderr",
          "output_type": "stream",
          "text": [
            " 56%|█████▌    | 1259/2253 [3:18:00<29:05,  1.76s/it]"
          ]
        },
        {
          "name": "stdout",
          "output_type": "stream",
          "text": [
            "<re.Match object; span=(5, 21), match='Vulnerability: 0'> <re.Match object; span=(22, 44), match='CWE ID: NOT_APPLICABLE'> <re.Match object; span=(45, 69), match='CWE Name: NOT_APPLICABLE'>\n"
          ]
        },
        {
          "name": "stderr",
          "output_type": "stream",
          "text": [
            " 56%|█████▌    | 1260/2253 [3:18:01<28:00,  1.69s/it]"
          ]
        },
        {
          "name": "stdout",
          "output_type": "stream",
          "text": [
            "<re.Match object; span=(10, 26), match='Vulnerability: 1'> <re.Match object; span=(27, 42), match='CWE ID: CWE-119'> <re.Match object; span=(43, 124), match='CWE Name: Improper Restriction of Operations with>\n"
          ]
        },
        {
          "name": "stderr",
          "output_type": "stream",
          "text": [
            " 56%|█████▌    | 1261/2253 [3:18:03<27:40,  1.67s/it]"
          ]
        },
        {
          "name": "stdout",
          "output_type": "stream",
          "text": [
            "<re.Match object; span=(5, 21), match='Vulnerability: 0'> <re.Match object; span=(22, 44), match='CWE ID: NOT_APPLICABLE'> <re.Match object; span=(45, 69), match='CWE Name: NOT_APPLICABLE'>\n"
          ]
        },
        {
          "name": "stderr",
          "output_type": "stream",
          "text": [
            " 56%|█████▌    | 1262/2253 [3:18:04<26:32,  1.61s/it]"
          ]
        },
        {
          "name": "stdout",
          "output_type": "stream",
          "text": [
            "<re.Match object; span=(5, 21), match='Vulnerability: 0'> <re.Match object; span=(22, 44), match='CWE ID: NOT_APPLICABLE'> <re.Match object; span=(45, 69), match='CWE Name: NOT_APPLICABLE'>\n"
          ]
        },
        {
          "name": "stderr",
          "output_type": "stream",
          "text": [
            " 56%|█████▌    | 1263/2253 [3:18:06<26:39,  1.62s/it]"
          ]
        },
        {
          "name": "stdout",
          "output_type": "stream",
          "text": [
            "<re.Match object; span=(5, 21), match='Vulnerability: 1'> <re.Match object; span=(22, 37), match='CWE ID: CWE-787'> <re.Match object; span=(38, 67), match='CWE Name: Out-of-bounds Write'>\n"
          ]
        },
        {
          "name": "stderr",
          "output_type": "stream",
          "text": [
            " 56%|█████▌    | 1264/2253 [3:18:08<26:01,  1.58s/it]"
          ]
        },
        {
          "name": "stdout",
          "output_type": "stream",
          "text": [
            "<re.Match object; span=(4, 20), match='Vulnerability: 1'> <re.Match object; span=(21, 36), match='CWE ID: CWE-787'> <re.Match object; span=(37, 66), match='CWE Name: Out-of-bounds Write'>\n"
          ]
        },
        {
          "name": "stderr",
          "output_type": "stream",
          "text": [
            " 56%|█████▌    | 1265/2253 [3:18:09<25:25,  1.54s/it]"
          ]
        },
        {
          "name": "stdout",
          "output_type": "stream",
          "text": [
            "<re.Match object; span=(8, 24), match='Vulnerability: 0'> <re.Match object; span=(25, 47), match='CWE ID: NOT_APPLICABLE'> <re.Match object; span=(48, 72), match='CWE Name: NOT_APPLICABLE'>\n"
          ]
        },
        {
          "name": "stderr",
          "output_type": "stream",
          "text": [
            " 56%|█████▌    | 1266/2253 [3:18:11<25:54,  1.57s/it]"
          ]
        },
        {
          "name": "stdout",
          "output_type": "stream",
          "text": [
            "<re.Match object; span=(5, 21), match='Vulnerability: 1'> <re.Match object; span=(22, 37), match='CWE ID: CWE-329'> <re.Match object; span=(38, 108), match='CWE Name: Not Using PBKDF2 or a Password-Based Ke>\n"
          ]
        },
        {
          "name": "stderr",
          "output_type": "stream",
          "text": [
            " 56%|█████▌    | 1267/2253 [3:18:12<26:12,  1.59s/it]"
          ]
        },
        {
          "name": "stdout",
          "output_type": "stream",
          "text": [
            "<re.Match object; span=(5, 21), match='Vulnerability: 0'> <re.Match object; span=(22, 44), match='CWE ID: NOT_APPLICABLE'> <re.Match object; span=(45, 69), match='CWE Name: NOT_APPLICABLE'>\n"
          ]
        },
        {
          "name": "stderr",
          "output_type": "stream",
          "text": [
            " 56%|█████▋    | 1268/2253 [3:18:14<28:24,  1.73s/it]"
          ]
        },
        {
          "name": "stdout",
          "output_type": "stream",
          "text": [
            "<re.Match object; span=(5, 21), match='Vulnerability: 0'> <re.Match object; span=(22, 44), match='CWE ID: NOT_APPLICABLE'> <re.Match object; span=(45, 69), match='CWE Name: NOT_APPLICABLE'>\n"
          ]
        },
        {
          "name": "stderr",
          "output_type": "stream",
          "text": [
            " 56%|█████▋    | 1269/2253 [3:18:16<27:20,  1.67s/it]"
          ]
        },
        {
          "name": "stdout",
          "output_type": "stream",
          "text": [
            "<re.Match object; span=(5, 21), match='Vulnerability: 0'> <re.Match object; span=(22, 44), match='CWE ID: NOT_APPLICABLE'> <re.Match object; span=(45, 69), match='CWE Name: NOT_APPLICABLE'>\n"
          ]
        },
        {
          "name": "stderr",
          "output_type": "stream",
          "text": [
            " 56%|█████▋    | 1270/2253 [3:18:18<27:15,  1.66s/it]"
          ]
        },
        {
          "name": "stdout",
          "output_type": "stream",
          "text": [
            "<re.Match object; span=(8, 24), match='Vulnerability: 1'> <re.Match object; span=(25, 39), match='CWE ID: CWE-20'> <re.Match object; span=(40, 75), match='CWE Name: Improper Input Validation'>\n"
          ]
        },
        {
          "name": "stderr",
          "output_type": "stream",
          "text": [
            " 56%|█████▋    | 1271/2253 [3:18:19<26:35,  1.62s/it]"
          ]
        },
        {
          "name": "stdout",
          "output_type": "stream",
          "text": [
            "<re.Match object; span=(5, 21), match='Vulnerability: 1'> <re.Match object; span=(22, 37), match='CWE ID: CWE-134'> <re.Match object; span=(38, 90), match='CWE Name: Use of Externally Controlled Format Str>\n"
          ]
        },
        {
          "name": "stderr",
          "output_type": "stream",
          "text": [
            " 56%|█████▋    | 1272/2253 [3:18:20<25:36,  1.57s/it]"
          ]
        },
        {
          "name": "stdout",
          "output_type": "stream",
          "text": [
            "<re.Match object; span=(8, 24), match='Vulnerability: 0'> <re.Match object; span=(25, 47), match='CWE ID: NOT_APPLICABLE'> <re.Match object; span=(48, 72), match='CWE Name: NOT_APPLICABLE'>\n"
          ]
        },
        {
          "name": "stderr",
          "output_type": "stream",
          "text": [
            " 57%|█████▋    | 1273/2253 [3:18:22<26:56,  1.65s/it]"
          ]
        },
        {
          "name": "stdout",
          "output_type": "stream",
          "text": [
            "<re.Match object; span=(10, 26), match='Vulnerability: 1'> <re.Match object; span=(27, 42), match='CWE ID: CWE-416'> <re.Match object; span=(43, 67), match='CWE Name: Use After Free'>\n"
          ]
        },
        {
          "name": "stderr",
          "output_type": "stream",
          "text": [
            " 57%|█████▋    | 1274/2253 [3:18:25<29:53,  1.83s/it]"
          ]
        },
        {
          "name": "stdout",
          "output_type": "stream",
          "text": [
            "<re.Match object; span=(5, 21), match='Vulnerability: 0'> <re.Match object; span=(22, 44), match='CWE ID: NOT_APPLICABLE'> <re.Match object; span=(45, 69), match='CWE Name: NOT_APPLICABLE'>\n"
          ]
        },
        {
          "name": "stderr",
          "output_type": "stream",
          "text": [
            " 57%|█████▋    | 1275/2253 [3:18:26<27:38,  1.70s/it]"
          ]
        },
        {
          "name": "stdout",
          "output_type": "stream",
          "text": [
            "<re.Match object; span=(5, 21), match='Vulnerability: 0'> <re.Match object; span=(22, 44), match='CWE ID: NOT_APPLICABLE'> <re.Match object; span=(45, 69), match='CWE Name: NOT_APPLICABLE'>\n"
          ]
        },
        {
          "name": "stderr",
          "output_type": "stream",
          "text": [
            " 57%|█████▋    | 1276/2253 [3:18:27<26:37,  1.63s/it]"
          ]
        },
        {
          "name": "stdout",
          "output_type": "stream",
          "text": [
            "<re.Match object; span=(5, 21), match='Vulnerability: 1'> <re.Match object; span=(22, 37), match='CWE ID: CWE-119'> <re.Match object; span=(38, 119), match='CWE Name: Improper Restriction of Operations with>\n"
          ]
        },
        {
          "name": "stderr",
          "output_type": "stream",
          "text": [
            " 57%|█████▋    | 1277/2253 [3:18:30<32:03,  1.97s/it]"
          ]
        },
        {
          "name": "stdout",
          "output_type": "stream",
          "text": [
            "<re.Match object; span=(10, 26), match='Vulnerability: 1'> <re.Match object; span=(27, 42), match='CWE ID: CWE-264'> <re.Match object; span=(43, 96), match='CWE Name: Permissions, Privileges, and Access Con>\n"
          ]
        },
        {
          "name": "stderr",
          "output_type": "stream",
          "text": [
            " 57%|█████▋    | 1278/2253 [3:18:32<28:57,  1.78s/it]"
          ]
        },
        {
          "name": "stdout",
          "output_type": "stream",
          "text": [
            "<re.Match object; span=(5, 21), match='Vulnerability: 0'> <re.Match object; span=(22, 44), match='CWE ID: NOT_APPLICABLE'> <re.Match object; span=(45, 69), match='CWE Name: NOT_APPLICABLE'>\n"
          ]
        },
        {
          "name": "stderr",
          "output_type": "stream",
          "text": [
            " 57%|█████▋    | 1279/2253 [3:18:33<29:41,  1.83s/it]"
          ]
        },
        {
          "name": "stdout",
          "output_type": "stream",
          "text": [
            "<re.Match object; span=(4, 20), match='Vulnerability: 0'> <re.Match object; span=(21, 43), match='CWE ID: NOT_APPLICABLE'> <re.Match object; span=(44, 68), match='CWE Name: NOT_APPLICABLE'>\n"
          ]
        },
        {
          "name": "stderr",
          "output_type": "stream",
          "text": [
            " 57%|█████▋    | 1280/2253 [3:18:35<27:44,  1.71s/it]"
          ]
        },
        {
          "name": "stdout",
          "output_type": "stream",
          "text": [
            "<re.Match object; span=(7, 23), match='Vulnerability: 1'> <re.Match object; span=(24, 38), match='CWE ID: CWE-20'> <re.Match object; span=(39, 74), match='CWE Name: Improper Input Validation'>\n"
          ]
        },
        {
          "name": "stderr",
          "output_type": "stream",
          "text": [
            " 57%|█████▋    | 1281/2253 [3:18:37<28:19,  1.75s/it]"
          ]
        },
        {
          "name": "stdout",
          "output_type": "stream",
          "text": [
            "<re.Match object; span=(5, 21), match='Vulnerability: 1'> <re.Match object; span=(22, 37), match='CWE ID: CWE-119'> <re.Match object; span=(38, 119), match='CWE Name: Improper Restriction of Operations with>\n"
          ]
        },
        {
          "name": "stderr",
          "output_type": "stream",
          "text": [
            " 57%|█████▋    | 1282/2253 [3:18:38<26:48,  1.66s/it]"
          ]
        },
        {
          "name": "stdout",
          "output_type": "stream",
          "text": [
            "<re.Match object; span=(5, 21), match='Vulnerability: 1'> <re.Match object; span=(22, 33), match='CWE ID: 121'> <re.Match object; span=(34, 71), match='CWE Name: Stack-based Buffer Overflow'>\n"
          ]
        },
        {
          "name": "stderr",
          "output_type": "stream",
          "text": [
            " 57%|█████▋    | 1283/2253 [3:18:40<25:27,  1.58s/it]"
          ]
        },
        {
          "name": "stdout",
          "output_type": "stream",
          "text": [
            "<re.Match object; span=(14, 32), match='Vulnerability: 0.0'> <re.Match object; span=(33, 55), match='CWE ID: NOT_APPLICABLE'> <re.Match object; span=(56, 80), match='CWE Name: NOT_APPLICABLE'>\n"
          ]
        },
        {
          "name": "stderr",
          "output_type": "stream",
          "text": [
            " 57%|█████▋    | 1284/2253 [3:18:41<26:26,  1.64s/it]"
          ]
        },
        {
          "name": "stdout",
          "output_type": "stream",
          "text": [
            "<re.Match object; span=(10, 26), match='Vulnerability: 1'> <re.Match object; span=(27, 42), match='CWE ID: CWE-125'> <re.Match object; span=(43, 71), match='CWE Name: Out-of-bounds Read'>\n"
          ]
        },
        {
          "name": "stderr",
          "output_type": "stream",
          "text": [
            " 57%|█████▋    | 1285/2253 [3:18:43<25:57,  1.61s/it]"
          ]
        },
        {
          "name": "stdout",
          "output_type": "stream",
          "text": [
            "<re.Match object; span=(10, 26), match='Vulnerability: 1'> <re.Match object; span=(27, 42), match='CWE ID: CWE-394'> <re.Match object; span=(43, 79), match='CWE Name: Predictable Temporary File'>\n"
          ]
        },
        {
          "name": "stderr",
          "output_type": "stream",
          "text": [
            " 57%|█████▋    | 1286/2253 [3:18:44<25:33,  1.59s/it]"
          ]
        },
        {
          "name": "stdout",
          "output_type": "stream",
          "text": [
            "<re.Match object; span=(5, 21), match='Vulnerability: 1'> <re.Match object; span=(22, 37), match='CWE ID: CWE-787'> <re.Match object; span=(38, 67), match='CWE Name: Out-of-bounds Write'>\n"
          ]
        },
        {
          "name": "stderr",
          "output_type": "stream",
          "text": [
            " 57%|█████▋    | 1287/2253 [3:18:46<25:46,  1.60s/it]"
          ]
        },
        {
          "name": "stdout",
          "output_type": "stream",
          "text": [
            "<re.Match object; span=(5, 21), match='Vulnerability: 1'> <re.Match object; span=(22, 36), match='CWE ID: CWE-20'> <re.Match object; span=(37, 72), match='CWE Name: Improper Input Validation'>\n"
          ]
        },
        {
          "name": "stderr",
          "output_type": "stream",
          "text": [
            " 57%|█████▋    | 1288/2253 [3:18:48<25:25,  1.58s/it]"
          ]
        },
        {
          "name": "stdout",
          "output_type": "stream",
          "text": [
            "<re.Match object; span=(5, 21), match='Vulnerability: 0'> <re.Match object; span=(22, 44), match='CWE ID: NOT_APPLICABLE'> <re.Match object; span=(45, 69), match='CWE Name: NOT_APPLICABLE'>\n"
          ]
        },
        {
          "name": "stderr",
          "output_type": "stream",
          "text": [
            " 57%|█████▋    | 1289/2253 [3:18:49<26:11,  1.63s/it]"
          ]
        },
        {
          "name": "stdout",
          "output_type": "stream",
          "text": [
            "<re.Match object; span=(5, 21), match='Vulnerability: 1'> <re.Match object; span=(22, 37), match='CWE ID: CWE-125'> <re.Match object; span=(38, 66), match='CWE Name: Out-of-bounds Read'>\n"
          ]
        },
        {
          "name": "stderr",
          "output_type": "stream",
          "text": [
            " 57%|█████▋    | 1290/2253 [3:18:51<24:59,  1.56s/it]"
          ]
        },
        {
          "name": "stdout",
          "output_type": "stream",
          "text": [
            "<re.Match object; span=(5, 21), match='Vulnerability: 1'> <re.Match object; span=(22, 37), match='CWE ID: CWE-787'> <re.Match object; span=(38, 67), match='CWE Name: Out-of-bounds Write'>\n"
          ]
        },
        {
          "name": "stderr",
          "output_type": "stream",
          "text": [
            " 57%|█████▋    | 1291/2253 [3:18:52<25:08,  1.57s/it]"
          ]
        },
        {
          "name": "stdout",
          "output_type": "stream",
          "text": [
            "<re.Match object; span=(10, 26), match='Vulnerability: 1'> <re.Match object; span=(27, 42), match='CWE ID: CWE-125'> <re.Match object; span=(43, 71), match='CWE Name: Out-of-bounds Read'>\n"
          ]
        },
        {
          "name": "stderr",
          "output_type": "stream",
          "text": [
            " 57%|█████▋    | 1292/2253 [3:18:54<24:56,  1.56s/it]"
          ]
        },
        {
          "name": "stdout",
          "output_type": "stream",
          "text": [
            "<re.Match object; span=(5, 21), match='Vulnerability: 1'> <re.Match object; span=(22, 37), match='CWE ID: CWE-476'> <re.Match object; span=(38, 72), match='CWE Name: NULL Pointer Dereference'>\n"
          ]
        },
        {
          "name": "stderr",
          "output_type": "stream",
          "text": [
            " 57%|█████▋    | 1293/2253 [3:18:56<25:15,  1.58s/it]"
          ]
        },
        {
          "name": "stdout",
          "output_type": "stream",
          "text": [
            "<re.Match object; span=(12, 28), match='Vulnerability: 0'> <re.Match object; span=(29, 51), match='CWE ID: NOT_APPLICABLE'> <re.Match object; span=(52, 76), match='CWE Name: NOT_APPLICABLE'>\n"
          ]
        },
        {
          "name": "stderr",
          "output_type": "stream",
          "text": [
            " 57%|█████▋    | 1294/2253 [3:18:57<27:02,  1.69s/it]"
          ]
        },
        {
          "name": "stdout",
          "output_type": "stream",
          "text": [
            "<re.Match object; span=(10, 26), match='Vulnerability: 1'> <re.Match object; span=(27, 42), match='CWE ID: CWE-399'> <re.Match object; span=(43, 79), match='CWE Name: Resource Management Errors'>\n"
          ]
        },
        {
          "name": "stderr",
          "output_type": "stream",
          "text": [
            " 57%|█████▋    | 1295/2253 [3:19:00<28:44,  1.80s/it]"
          ]
        },
        {
          "name": "stdout",
          "output_type": "stream",
          "text": [
            "<re.Match object; span=(10, 26), match='Vulnerability: 0'> <re.Match object; span=(27, 49), match='CWE ID: NOT_APPLICABLE'> <re.Match object; span=(50, 74), match='CWE Name: NOT_APPLICABLE'>\n"
          ]
        },
        {
          "name": "stderr",
          "output_type": "stream",
          "text": [
            " 58%|█████▊    | 1296/2253 [3:19:01<26:57,  1.69s/it]"
          ]
        },
        {
          "name": "stdout",
          "output_type": "stream",
          "text": [
            "<re.Match object; span=(5, 21), match='Vulnerability: 1'> <re.Match object; span=(22, 32), match='CWE ID: 73'> <re.Match object; span=(33, 80), match='CWE Name: External Control of File Name or Path'>\n"
          ]
        },
        {
          "name": "stderr",
          "output_type": "stream",
          "text": [
            " 58%|█████▊    | 1297/2253 [3:19:02<25:40,  1.61s/it]"
          ]
        },
        {
          "name": "stdout",
          "output_type": "stream",
          "text": [
            "<re.Match object; span=(5, 21), match='Vulnerability: 0'> <re.Match object; span=(22, 44), match='CWE ID: NOT_APPLICABLE'> <re.Match object; span=(45, 69), match='CWE Name: NOT_APPLICABLE'>\n"
          ]
        },
        {
          "name": "stderr",
          "output_type": "stream",
          "text": [
            " 58%|█████▊    | 1298/2253 [3:19:04<25:48,  1.62s/it]"
          ]
        },
        {
          "name": "stdout",
          "output_type": "stream",
          "text": [
            "<re.Match object; span=(5, 21), match='Vulnerability: 1'> <re.Match object; span=(22, 33), match='CWE ID: 121'> <re.Match object; span=(34, 71), match='CWE Name: Stack-based Buffer Overflow'>\n"
          ]
        },
        {
          "name": "stderr",
          "output_type": "stream",
          "text": [
            " 58%|█████▊    | 1299/2253 [3:19:06<28:21,  1.78s/it]"
          ]
        },
        {
          "name": "stdout",
          "output_type": "stream",
          "text": [
            "<re.Match object; span=(6, 22), match='Vulnerability: 1'> <re.Match object; span=(23, 38), match='CWE ID: CWE-119'> <re.Match object; span=(39, 120), match='CWE Name: Improper Restriction of Operations with>\n"
          ]
        },
        {
          "name": "stderr",
          "output_type": "stream",
          "text": [
            " 58%|█████▊    | 1300/2253 [3:19:08<29:35,  1.86s/it]"
          ]
        },
        {
          "name": "stdout",
          "output_type": "stream",
          "text": [
            "<re.Match object; span=(5, 21), match='Vulnerability: 0'> <re.Match object; span=(22, 44), match='CWE ID: NOT_APPLICABLE'> <re.Match object; span=(45, 69), match='CWE Name: NOT_APPLICABLE'>\n"
          ]
        },
        {
          "name": "stderr",
          "output_type": "stream",
          "text": [
            " 58%|█████▊    | 1301/2253 [3:19:10<28:55,  1.82s/it]"
          ]
        },
        {
          "name": "stdout",
          "output_type": "stream",
          "text": [
            "<re.Match object; span=(5, 21), match='Vulnerability: 0'> <re.Match object; span=(22, 44), match='CWE ID: NOT_APPLICABLE'> <re.Match object; span=(45, 69), match='CWE Name: NOT_APPLICABLE'>\n"
          ]
        },
        {
          "name": "stderr",
          "output_type": "stream",
          "text": [
            " 58%|█████▊    | 1302/2253 [3:19:12<28:58,  1.83s/it]"
          ]
        },
        {
          "name": "stdout",
          "output_type": "stream",
          "text": [
            "<re.Match object; span=(5, 21), match='Vulnerability: 0'> <re.Match object; span=(22, 44), match='CWE ID: NOT_APPLICABLE'> <re.Match object; span=(45, 69), match='CWE Name: NOT_APPLICABLE'>\n"
          ]
        },
        {
          "name": "stderr",
          "output_type": "stream",
          "text": [
            " 58%|█████▊    | 1303/2253 [3:19:14<31:15,  1.97s/it]"
          ]
        },
        {
          "name": "stdout",
          "output_type": "stream",
          "text": [
            "<re.Match object; span=(5, 21), match='Vulnerability: 1'> <re.Match object; span=(22, 37), match='CWE ID: CWE-399'> <re.Match object; span=(38, 74), match='CWE Name: Resource Management Errors'>\n"
          ]
        },
        {
          "name": "stderr",
          "output_type": "stream",
          "text": [
            " 58%|█████▊    | 1304/2253 [3:19:16<31:18,  1.98s/it]"
          ]
        },
        {
          "name": "stdout",
          "output_type": "stream",
          "text": [
            "<re.Match object; span=(5, 21), match='Vulnerability: 0'> <re.Match object; span=(22, 44), match='CWE ID: NOT_APPLICABLE'> <re.Match object; span=(45, 69), match='CWE Name: NOT_APPLICABLE'>\n"
          ]
        },
        {
          "name": "stderr",
          "output_type": "stream",
          "text": [
            " 58%|█████▊    | 1305/2253 [3:19:18<30:04,  1.90s/it]"
          ]
        },
        {
          "name": "stdout",
          "output_type": "stream",
          "text": [
            "<re.Match object; span=(8, 24), match='Vulnerability: 0'> <re.Match object; span=(25, 47), match='CWE ID: NOT_APPLICABLE'> <re.Match object; span=(48, 72), match='CWE Name: NOT_APPLICABLE'>\n"
          ]
        },
        {
          "name": "stderr",
          "output_type": "stream",
          "text": [
            " 58%|█████▊    | 1306/2253 [3:19:20<30:13,  1.92s/it]"
          ]
        },
        {
          "name": "stdout",
          "output_type": "stream",
          "text": [
            "<re.Match object; span=(5, 21), match='Vulnerability: 0'> <re.Match object; span=(22, 44), match='CWE ID: NOT_APPLICABLE'> <re.Match object; span=(45, 69), match='CWE Name: NOT_APPLICABLE'>\n"
          ]
        },
        {
          "name": "stderr",
          "output_type": "stream",
          "text": [
            " 58%|█████▊    | 1307/2253 [3:19:22<30:35,  1.94s/it]"
          ]
        },
        {
          "name": "stdout",
          "output_type": "stream",
          "text": [
            "<re.Match object; span=(5, 21), match='Vulnerability: 0'> <re.Match object; span=(22, 44), match='CWE ID: NOT_APPLICABLE'> <re.Match object; span=(45, 69), match='CWE Name: NOT_APPLICABLE'>\n"
          ]
        },
        {
          "name": "stderr",
          "output_type": "stream",
          "text": [
            " 58%|█████▊    | 1308/2253 [3:19:23<28:56,  1.84s/it]"
          ]
        },
        {
          "name": "stdout",
          "output_type": "stream",
          "text": [
            "<re.Match object; span=(5, 21), match='Vulnerability: 1'> <re.Match object; span=(22, 37), match='CWE ID: CWE-119'> <re.Match object; span=(38, 119), match='CWE Name: Improper Restriction of Operations with>\n"
          ]
        },
        {
          "name": "stderr",
          "output_type": "stream",
          "text": [
            " 58%|█████▊    | 1309/2253 [3:19:25<29:35,  1.88s/it]"
          ]
        },
        {
          "name": "stdout",
          "output_type": "stream",
          "text": [
            "<re.Match object; span=(5, 21), match='Vulnerability: 1'> <re.Match object; span=(22, 37), match='CWE ID: CWE-119'> <re.Match object; span=(38, 119), match='CWE Name: Improper Restriction of Operations with>\n"
          ]
        },
        {
          "name": "stderr",
          "output_type": "stream",
          "text": [
            " 58%|█████▊    | 1310/2253 [3:19:27<28:10,  1.79s/it]"
          ]
        },
        {
          "name": "stdout",
          "output_type": "stream",
          "text": [
            "<re.Match object; span=(10, 26), match='Vulnerability: 1'> <re.Match object; span=(27, 42), match='CWE ID: CWE-119'> <re.Match object; span=(43, 124), match='CWE Name: Improper Restriction of Operations with>\n"
          ]
        },
        {
          "name": "stderr",
          "output_type": "stream",
          "text": [
            " 58%|█████▊    | 1311/2253 [3:19:29<28:26,  1.81s/it]"
          ]
        },
        {
          "name": "stdout",
          "output_type": "stream",
          "text": [
            "<re.Match object; span=(5, 21), match='Vulnerability: 1'> <re.Match object; span=(22, 37), match='CWE ID: CWE-119'> <re.Match object; span=(38, 119), match='CWE Name: Improper Restriction of Operations with>\n"
          ]
        },
        {
          "name": "stderr",
          "output_type": "stream",
          "text": [
            " 58%|█████▊    | 1312/2253 [3:19:31<29:28,  1.88s/it]"
          ]
        },
        {
          "name": "stdout",
          "output_type": "stream",
          "text": [
            "<re.Match object; span=(5, 21), match='Vulnerability: 0'> <re.Match object; span=(22, 44), match='CWE ID: NOT_APPLICABLE'> <re.Match object; span=(45, 69), match='CWE Name: NOT_APPLICABLE'>\n"
          ]
        },
        {
          "name": "stderr",
          "output_type": "stream",
          "text": [
            " 58%|█████▊    | 1313/2253 [3:19:32<27:51,  1.78s/it]"
          ]
        },
        {
          "name": "stdout",
          "output_type": "stream",
          "text": [
            "<re.Match object; span=(5, 21), match='Vulnerability: 0'> <re.Match object; span=(22, 44), match='CWE ID: NOT_APPLICABLE'> <re.Match object; span=(45, 69), match='CWE Name: NOT_APPLICABLE'>\n"
          ]
        },
        {
          "name": "stderr",
          "output_type": "stream",
          "text": [
            " 58%|█████▊    | 1314/2253 [3:19:34<26:43,  1.71s/it]"
          ]
        },
        {
          "name": "stdout",
          "output_type": "stream",
          "text": [
            "<re.Match object; span=(5, 21), match='Vulnerability: 0'> <re.Match object; span=(22, 44), match='CWE ID: NOT_APPLICABLE'> <re.Match object; span=(45, 69), match='CWE Name: NOT_APPLICABLE'>\n"
          ]
        },
        {
          "name": "stderr",
          "output_type": "stream",
          "text": [
            " 58%|█████▊    | 1315/2253 [3:19:35<25:50,  1.65s/it]"
          ]
        },
        {
          "name": "stdout",
          "output_type": "stream",
          "text": [
            "<re.Match object; span=(5, 21), match='Vulnerability: 0'> <re.Match object; span=(22, 44), match='CWE ID: NOT_APPLICABLE'> <re.Match object; span=(45, 69), match='CWE Name: NOT_APPLICABLE'>\n"
          ]
        },
        {
          "name": "stderr",
          "output_type": "stream",
          "text": [
            " 58%|█████▊    | 1316/2253 [3:19:37<24:52,  1.59s/it]"
          ]
        },
        {
          "name": "stdout",
          "output_type": "stream",
          "text": [
            "<re.Match object; span=(12, 28), match='Vulnerability: 1'> <re.Match object; span=(29, 44), match='CWE ID: CWE-119'> <re.Match object; span=(45, 126), match='CWE Name: Improper Restriction of Operations with>\n"
          ]
        },
        {
          "name": "stderr",
          "output_type": "stream",
          "text": [
            " 58%|█████▊    | 1317/2253 [3:19:38<24:01,  1.54s/it]"
          ]
        },
        {
          "name": "stdout",
          "output_type": "stream",
          "text": [
            "<re.Match object; span=(5, 21), match='Vulnerability: 1'> <re.Match object; span=(22, 37), match='CWE ID: CWE-119'> <re.Match object; span=(38, 119), match='CWE Name: Improper Restriction of Operations with>\n"
          ]
        },
        {
          "name": "stderr",
          "output_type": "stream",
          "text": [
            " 58%|█████▊    | 1318/2253 [3:19:40<23:32,  1.51s/it]"
          ]
        },
        {
          "name": "stdout",
          "output_type": "stream",
          "text": [
            "<re.Match object; span=(5, 21), match='Vulnerability: 0'> <re.Match object; span=(22, 44), match='CWE ID: NOT_APPLICABLE'> <re.Match object; span=(45, 69), match='CWE Name: NOT_APPLICABLE'>\n"
          ]
        },
        {
          "name": "stderr",
          "output_type": "stream",
          "text": [
            " 59%|█████▊    | 1319/2253 [3:19:41<23:38,  1.52s/it]"
          ]
        },
        {
          "name": "stdout",
          "output_type": "stream",
          "text": [
            "<re.Match object; span=(5, 21), match='Vulnerability: 1'> <re.Match object; span=(22, 37), match='CWE ID: CWE-119'> <re.Match object; span=(38, 119), match='CWE Name: Improper Restriction of Operations with>\n"
          ]
        },
        {
          "name": "stderr",
          "output_type": "stream",
          "text": [
            " 59%|█████▊    | 1320/2253 [3:19:43<23:40,  1.52s/it]"
          ]
        },
        {
          "name": "stdout",
          "output_type": "stream",
          "text": [
            "<re.Match object; span=(5, 21), match='Vulnerability: 0'> <re.Match object; span=(22, 44), match='CWE ID: NOT_APPLICABLE'> <re.Match object; span=(45, 69), match='CWE Name: NOT_APPLICABLE'>\n"
          ]
        },
        {
          "name": "stderr",
          "output_type": "stream",
          "text": [
            " 59%|█████▊    | 1321/2253 [3:19:45<26:04,  1.68s/it]"
          ]
        },
        {
          "name": "stdout",
          "output_type": "stream",
          "text": [
            "<re.Match object; span=(5, 21), match='Vulnerability: 0'> <re.Match object; span=(22, 44), match='CWE ID: NOT_APPLICABLE'> <re.Match object; span=(45, 69), match='CWE Name: NOT_APPLICABLE'>\n"
          ]
        },
        {
          "name": "stderr",
          "output_type": "stream",
          "text": [
            " 59%|█████▊    | 1322/2253 [3:19:47<25:53,  1.67s/it]"
          ]
        },
        {
          "name": "stdout",
          "output_type": "stream",
          "text": [
            "<re.Match object; span=(14, 30), match='Vulnerability: 0'> <re.Match object; span=(31, 53), match='CWE ID: NOT_APPLICABLE'> <re.Match object; span=(54, 78), match='CWE Name: NOT_APPLICABLE'>\n"
          ]
        },
        {
          "name": "stderr",
          "output_type": "stream",
          "text": [
            " 59%|█████▊    | 1323/2253 [3:19:48<24:31,  1.58s/it]"
          ]
        },
        {
          "name": "stdout",
          "output_type": "stream",
          "text": [
            "<re.Match object; span=(8, 24), match='Vulnerability: 0'> <re.Match object; span=(25, 47), match='CWE ID: NOT_APPLICABLE'> <re.Match object; span=(48, 72), match='CWE Name: NOT_APPLICABLE'>\n"
          ]
        },
        {
          "name": "stderr",
          "output_type": "stream",
          "text": [
            " 59%|█████▉    | 1324/2253 [3:19:49<24:30,  1.58s/it]"
          ]
        },
        {
          "name": "stdout",
          "output_type": "stream",
          "text": [
            "<re.Match object; span=(5, 21), match='Vulnerability: 0'> <re.Match object; span=(22, 44), match='CWE ID: NOT_APPLICABLE'> <re.Match object; span=(45, 69), match='CWE Name: NOT_APPLICABLE'>\n"
          ]
        },
        {
          "name": "stderr",
          "output_type": "stream",
          "text": [
            " 59%|█████▉    | 1325/2253 [3:19:52<27:34,  1.78s/it]"
          ]
        },
        {
          "name": "stdout",
          "output_type": "stream",
          "text": [
            "<re.Match object; span=(5, 21), match='Vulnerability: 0'> <re.Match object; span=(22, 44), match='CWE ID: NOT_APPLICABLE'> <re.Match object; span=(45, 69), match='CWE Name: NOT_APPLICABLE'>\n"
          ]
        },
        {
          "name": "stderr",
          "output_type": "stream",
          "text": [
            " 59%|█████▉    | 1326/2253 [3:19:54<27:49,  1.80s/it]"
          ]
        },
        {
          "name": "stdout",
          "output_type": "stream",
          "text": [
            "<re.Match object; span=(5, 21), match='Vulnerability: 0'> <re.Match object; span=(22, 44), match='CWE ID: NOT_APPLICABLE'> <re.Match object; span=(45, 69), match='CWE Name: NOT_APPLICABLE'>\n"
          ]
        },
        {
          "name": "stderr",
          "output_type": "stream",
          "text": [
            " 59%|█████▉    | 1327/2253 [3:19:55<26:35,  1.72s/it]"
          ]
        },
        {
          "name": "stdout",
          "output_type": "stream",
          "text": [
            "<re.Match object; span=(5, 21), match='Vulnerability: 0'> <re.Match object; span=(22, 44), match='CWE ID: NOT_APPLICABLE'> <re.Match object; span=(45, 69), match='CWE Name: NOT_APPLICABLE'>\n"
          ]
        },
        {
          "name": "stderr",
          "output_type": "stream",
          "text": [
            " 59%|█████▉    | 1328/2253 [3:19:57<25:39,  1.66s/it]"
          ]
        },
        {
          "name": "stdout",
          "output_type": "stream",
          "text": [
            "<re.Match object; span=(10, 26), match='Vulnerability: 1'> <re.Match object; span=(27, 41), match='CWE ID: CWE-20'> <re.Match object; span=(42, 77), match='CWE Name: Improper Input Validation'>\n"
          ]
        },
        {
          "name": "stderr",
          "output_type": "stream",
          "text": [
            " 59%|█████▉    | 1329/2253 [3:19:58<24:37,  1.60s/it]"
          ]
        },
        {
          "name": "stdout",
          "output_type": "stream",
          "text": [
            "<re.Match object; span=(10, 26), match='Vulnerability: 0'> <re.Match object; span=(27, 49), match='CWE ID: NOT_APPLICABLE'> <re.Match object; span=(50, 74), match='CWE Name: NOT_APPLICABLE'>\n"
          ]
        },
        {
          "name": "stderr",
          "output_type": "stream",
          "text": [
            " 59%|█████▉    | 1330/2253 [3:20:00<23:49,  1.55s/it]"
          ]
        },
        {
          "name": "stdout",
          "output_type": "stream",
          "text": [
            "<re.Match object; span=(5, 21), match='Vulnerability: 1'> <re.Match object; span=(22, 36), match='CWE ID: CWE-20'> <re.Match object; span=(37, 72), match='CWE Name: Improper Input Validation'>\n"
          ]
        },
        {
          "name": "stderr",
          "output_type": "stream",
          "text": [
            " 59%|█████▉    | 1331/2253 [3:20:01<25:11,  1.64s/it]"
          ]
        },
        {
          "name": "stdout",
          "output_type": "stream",
          "text": [
            "<re.Match object; span=(12, 28), match='Vulnerability: 1'> <re.Match object; span=(29, 44), match='CWE ID: CWE-125'> <re.Match object; span=(45, 73), match='CWE Name: Out-of-bounds Read'>\n"
          ]
        },
        {
          "name": "stderr",
          "output_type": "stream",
          "text": [
            " 59%|█████▉    | 1332/2253 [3:20:04<28:25,  1.85s/it]"
          ]
        },
        {
          "name": "stdout",
          "output_type": "stream",
          "text": [
            "<re.Match object; span=(10, 26), match='Vulnerability: 1'> <re.Match object; span=(27, 42), match='CWE ID: CWE-125'> <re.Match object; span=(43, 71), match='CWE Name: Out-of-bounds Read'>\n"
          ]
        },
        {
          "name": "stderr",
          "output_type": "stream",
          "text": [
            " 59%|█████▉    | 1333/2253 [3:20:05<26:14,  1.71s/it]"
          ]
        },
        {
          "name": "stdout",
          "output_type": "stream",
          "text": [
            "<re.Match object; span=(5, 21), match='Vulnerability: 0'> <re.Match object; span=(22, 44), match='CWE ID: NOT_APPLICABLE'> <re.Match object; span=(45, 69), match='CWE Name: NOT_APPLICABLE'>\n"
          ]
        },
        {
          "name": "stderr",
          "output_type": "stream",
          "text": [
            " 59%|█████▉    | 1334/2253 [3:20:06<24:36,  1.61s/it]"
          ]
        },
        {
          "name": "stdout",
          "output_type": "stream",
          "text": [
            "<re.Match object; span=(5, 21), match='Vulnerability: 0'> <re.Match object; span=(22, 44), match='CWE ID: NOT_APPLICABLE'> <re.Match object; span=(45, 69), match='CWE Name: NOT_APPLICABLE'>\n"
          ]
        },
        {
          "name": "stderr",
          "output_type": "stream",
          "text": [
            " 59%|█████▉    | 1335/2253 [3:20:08<24:22,  1.59s/it]"
          ]
        },
        {
          "name": "stdout",
          "output_type": "stream",
          "text": [
            "<re.Match object; span=(5, 21), match='Vulnerability: 0'> <re.Match object; span=(22, 44), match='CWE ID: NOT_APPLICABLE'> <re.Match object; span=(45, 69), match='CWE Name: NOT_APPLICABLE'>\n"
          ]
        },
        {
          "name": "stderr",
          "output_type": "stream",
          "text": [
            " 59%|█████▉    | 1336/2253 [3:20:09<23:17,  1.52s/it]"
          ]
        },
        {
          "name": "stdout",
          "output_type": "stream",
          "text": [
            "<re.Match object; span=(5, 21), match='Vulnerability: 0'> <re.Match object; span=(22, 44), match='CWE ID: NOT_APPLICABLE'> <re.Match object; span=(45, 69), match='CWE Name: NOT_APPLICABLE'>\n"
          ]
        },
        {
          "name": "stderr",
          "output_type": "stream",
          "text": [
            " 59%|█████▉    | 1337/2253 [3:20:11<23:38,  1.55s/it]"
          ]
        },
        {
          "name": "stdout",
          "output_type": "stream",
          "text": [
            "<re.Match object; span=(4, 20), match='Vulnerability: 1'> <re.Match object; span=(21, 36), match='CWE ID: CWE-119'> <re.Match object; span=(37, 118), match='CWE Name: Improper Restriction of Operations with>\n"
          ]
        },
        {
          "name": "stderr",
          "output_type": "stream",
          "text": [
            " 59%|█████▉    | 1338/2253 [3:20:13<23:59,  1.57s/it]"
          ]
        },
        {
          "name": "stdout",
          "output_type": "stream",
          "text": [
            "<re.Match object; span=(5, 21), match='Vulnerability: 0'> <re.Match object; span=(22, 44), match='CWE ID: NOT_APPLICABLE'> <re.Match object; span=(45, 69), match='CWE Name: NOT_APPLICABLE'>\n"
          ]
        },
        {
          "name": "stderr",
          "output_type": "stream",
          "text": [
            " 59%|█████▉    | 1339/2253 [3:20:14<24:15,  1.59s/it]"
          ]
        },
        {
          "name": "stdout",
          "output_type": "stream",
          "text": [
            "<re.Match object; span=(10, 26), match='Vulnerability: 1'> <re.Match object; span=(27, 42), match='CWE ID: CWE-121'> <re.Match object; span=(43, 80), match='CWE Name: Stack-based Buffer Overflow'>\n"
          ]
        },
        {
          "name": "stderr",
          "output_type": "stream",
          "text": [
            " 59%|█████▉    | 1340/2253 [3:20:16<24:00,  1.58s/it]"
          ]
        },
        {
          "name": "stdout",
          "output_type": "stream",
          "text": [
            "<re.Match object; span=(7, 23), match='Vulnerability: 0'> <re.Match object; span=(24, 46), match='CWE ID: NOT_APPLICABLE'> <re.Match object; span=(47, 71), match='CWE Name: NOT_APPLICABLE'>\n"
          ]
        },
        {
          "name": "stderr",
          "output_type": "stream",
          "text": [
            " 60%|█████▉    | 1341/2253 [3:20:18<24:44,  1.63s/it]"
          ]
        },
        {
          "name": "stdout",
          "output_type": "stream",
          "text": [
            "<re.Match object; span=(5, 21), match='Vulnerability: 0'> <re.Match object; span=(22, 44), match='CWE ID: NOT_APPLICABLE'> <re.Match object; span=(45, 69), match='CWE Name: NOT_APPLICABLE'>\n"
          ]
        },
        {
          "name": "stderr",
          "output_type": "stream",
          "text": [
            " 60%|█████▉    | 1342/2253 [3:20:19<25:39,  1.69s/it]"
          ]
        },
        {
          "name": "stdout",
          "output_type": "stream",
          "text": [
            "<re.Match object; span=(5, 21), match='Vulnerability: 1'> <re.Match object; span=(22, 37), match='CWE ID: CWE-119'> <re.Match object; span=(38, 119), match='CWE Name: Improper Restriction of Operations with>\n"
          ]
        },
        {
          "name": "stderr",
          "output_type": "stream",
          "text": [
            " 60%|█████▉    | 1343/2253 [3:20:21<26:19,  1.74s/it]"
          ]
        },
        {
          "name": "stdout",
          "output_type": "stream",
          "text": [
            "<re.Match object; span=(5, 21), match='Vulnerability: 0'> <re.Match object; span=(22, 44), match='CWE ID: NOT_APPLICABLE'> <re.Match object; span=(45, 69), match='CWE Name: NOT_APPLICABLE'>\n"
          ]
        },
        {
          "name": "stderr",
          "output_type": "stream",
          "text": [
            " 60%|█████▉    | 1344/2253 [3:20:23<24:55,  1.65s/it]"
          ]
        },
        {
          "name": "stdout",
          "output_type": "stream",
          "text": [
            "<re.Match object; span=(5, 21), match='Vulnerability: 1'> <re.Match object; span=(22, 37), match='CWE ID: CWE-119'> <re.Match object; span=(38, 119), match='CWE Name: Improper Restriction of Operations with>\n"
          ]
        },
        {
          "name": "stderr",
          "output_type": "stream",
          "text": [
            " 60%|█████▉    | 1345/2253 [3:20:24<24:09,  1.60s/it]"
          ]
        },
        {
          "name": "stdout",
          "output_type": "stream",
          "text": [
            "<re.Match object; span=(5, 21), match='Vulnerability: 0'> <re.Match object; span=(22, 44), match='CWE ID: NOT_APPLICABLE'> <re.Match object; span=(45, 69), match='CWE Name: NOT_APPLICABLE'>\n"
          ]
        },
        {
          "name": "stderr",
          "output_type": "stream",
          "text": [
            " 60%|█████▉    | 1346/2253 [3:20:26<23:36,  1.56s/it]"
          ]
        },
        {
          "name": "stdout",
          "output_type": "stream",
          "text": [
            "<re.Match object; span=(8, 24), match='Vulnerability: 1'> <re.Match object; span=(25, 39), match='CWE ID: CWE-20'> <re.Match object; span=(40, 75), match='CWE Name: Improper Input Validation'>\n"
          ]
        },
        {
          "name": "stderr",
          "output_type": "stream",
          "text": [
            " 60%|█████▉    | 1347/2253 [3:20:27<22:34,  1.50s/it]"
          ]
        },
        {
          "name": "stdout",
          "output_type": "stream",
          "text": [
            "<re.Match object; span=(5, 21), match='Vulnerability: 1'> <re.Match object; span=(22, 37), match='CWE ID: CWE-125'> <re.Match object; span=(38, 66), match='CWE Name: Out-of-bounds Read'>\n"
          ]
        },
        {
          "name": "stderr",
          "output_type": "stream",
          "text": [
            " 60%|█████▉    | 1348/2253 [3:20:30<28:19,  1.88s/it]"
          ]
        },
        {
          "name": "stdout",
          "output_type": "stream",
          "text": [
            "<re.Match object; span=(5, 21), match='Vulnerability: 1'> <re.Match object; span=(22, 37), match='CWE ID: CWE-189'> <re.Match object; span=(38, 62), match='CWE Name: Numeric Errors'>\n"
          ]
        },
        {
          "name": "stderr",
          "output_type": "stream",
          "text": [
            " 60%|█████▉    | 1349/2253 [3:20:32<28:04,  1.86s/it]"
          ]
        },
        {
          "name": "stdout",
          "output_type": "stream",
          "text": [
            "<re.Match object; span=(5, 21), match='Vulnerability: 1'> <re.Match object; span=(22, 36), match='CWE ID: CWE-20'> <re.Match object; span=(37, 72), match='CWE Name: Improper Input Validation'>\n"
          ]
        },
        {
          "name": "stderr",
          "output_type": "stream",
          "text": [
            " 60%|█████▉    | 1350/2253 [3:20:33<26:05,  1.73s/it]"
          ]
        },
        {
          "name": "stdout",
          "output_type": "stream",
          "text": [
            "<re.Match object; span=(5, 21), match='Vulnerability: 0'> <re.Match object; span=(22, 44), match='CWE ID: NOT_APPLICABLE'> <re.Match object; span=(45, 69), match='CWE Name: NOT_APPLICABLE'>\n"
          ]
        },
        {
          "name": "stderr",
          "output_type": "stream",
          "text": [
            " 60%|█████▉    | 1351/2253 [3:20:35<26:10,  1.74s/it]"
          ]
        },
        {
          "name": "stdout",
          "output_type": "stream",
          "text": [
            "<re.Match object; span=(8, 24), match='Vulnerability: 0'> <re.Match object; span=(25, 47), match='CWE ID: NOT_APPLICABLE'> <re.Match object; span=(48, 72), match='CWE Name: NOT_APPLICABLE'>\n"
          ]
        },
        {
          "name": "stderr",
          "output_type": "stream",
          "text": [
            " 60%|██████    | 1352/2253 [3:20:37<27:30,  1.83s/it]"
          ]
        },
        {
          "name": "stdout",
          "output_type": "stream",
          "text": [
            "<re.Match object; span=(5, 21), match='Vulnerability: 1'> <re.Match object; span=(22, 36), match='CWE ID: CWE-20'> <re.Match object; span=(37, 72), match='CWE Name: Improper Input Validation'>\n"
          ]
        },
        {
          "name": "stderr",
          "output_type": "stream",
          "text": [
            " 60%|██████    | 1353/2253 [3:20:38<26:38,  1.78s/it]"
          ]
        },
        {
          "name": "stdout",
          "output_type": "stream",
          "text": [
            "<re.Match object; span=(8, 24), match='Vulnerability: 1'> <re.Match object; span=(25, 40), match='CWE ID: CWE-190'> <re.Match object; span=(41, 81), match='CWE Name: Integer Overflow or Wraparound'>\n"
          ]
        },
        {
          "name": "stderr",
          "output_type": "stream",
          "text": [
            " 60%|██████    | 1354/2253 [3:20:41<28:42,  1.92s/it]"
          ]
        },
        {
          "name": "stdout",
          "output_type": "stream",
          "text": [
            "<re.Match object; span=(4, 20), match='Vulnerability: 0'> <re.Match object; span=(21, 43), match='CWE ID: NOT_APPLICABLE'> <re.Match object; span=(44, 68), match='CWE Name: NOT_APPLICABLE'>\n"
          ]
        },
        {
          "name": "stderr",
          "output_type": "stream",
          "text": [
            " 60%|██████    | 1355/2253 [3:20:43<30:38,  2.05s/it]"
          ]
        },
        {
          "name": "stdout",
          "output_type": "stream",
          "text": [
            "<re.Match object; span=(5, 21), match='Vulnerability: 1'> <re.Match object; span=(22, 37), match='CWE ID: CWE-119'> <re.Match object; span=(38, 119), match='CWE Name: Improper Restriction of Operations with>\n"
          ]
        },
        {
          "name": "stderr",
          "output_type": "stream",
          "text": [
            " 60%|██████    | 1356/2253 [3:20:45<28:47,  1.93s/it]"
          ]
        },
        {
          "name": "stdout",
          "output_type": "stream",
          "text": [
            "<re.Match object; span=(5, 21), match='Vulnerability: 0'> <re.Match object; span=(22, 44), match='CWE ID: NOT_APPLICABLE'> <re.Match object; span=(45, 69), match='CWE Name: NOT_APPLICABLE'>\n"
          ]
        },
        {
          "name": "stderr",
          "output_type": "stream",
          "text": [
            " 60%|██████    | 1357/2253 [3:20:47<29:08,  1.95s/it]"
          ]
        },
        {
          "name": "stdout",
          "output_type": "stream",
          "text": [
            "<re.Match object; span=(8, 24), match='Vulnerability: 0'> <re.Match object; span=(25, 47), match='CWE ID: NOT_APPLICABLE'> <re.Match object; span=(48, 72), match='CWE Name: NOT_APPLICABLE'>\n"
          ]
        },
        {
          "name": "stderr",
          "output_type": "stream",
          "text": [
            " 60%|██████    | 1358/2253 [3:20:48<27:23,  1.84s/it]"
          ]
        },
        {
          "name": "stdout",
          "output_type": "stream",
          "text": [
            "<re.Match object; span=(5, 21), match='Vulnerability: 0'> <re.Match object; span=(22, 44), match='CWE ID: NOT_APPLICABLE'> <re.Match object; span=(45, 69), match='CWE Name: NOT_APPLICABLE'>\n"
          ]
        },
        {
          "name": "stderr",
          "output_type": "stream",
          "text": [
            " 60%|██████    | 1359/2253 [3:20:50<26:27,  1.78s/it]"
          ]
        },
        {
          "name": "stdout",
          "output_type": "stream",
          "text": [
            "<re.Match object; span=(5, 21), match='Vulnerability: 1'> <re.Match object; span=(22, 37), match='CWE ID: CWE-125'> <re.Match object; span=(38, 66), match='CWE Name: Out-of-bounds Read'>\n"
          ]
        },
        {
          "name": "stderr",
          "output_type": "stream",
          "text": [
            " 60%|██████    | 1360/2253 [3:20:51<25:20,  1.70s/it]"
          ]
        },
        {
          "name": "stdout",
          "output_type": "stream",
          "text": [
            "<re.Match object; span=(5, 21), match='Vulnerability: 1'> <re.Match object; span=(22, 37), match='CWE ID: CWE-787'> <re.Match object; span=(38, 67), match='CWE Name: Out-of-bounds Write'>\n"
          ]
        },
        {
          "name": "stderr",
          "output_type": "stream",
          "text": [
            " 60%|██████    | 1361/2253 [3:20:54<27:47,  1.87s/it]"
          ]
        },
        {
          "name": "stdout",
          "output_type": "stream",
          "text": [
            "<re.Match object; span=(5, 21), match='Vulnerability: 1'> <re.Match object; span=(22, 37), match='CWE ID: CWE-125'> <re.Match object; span=(38, 66), match='CWE Name: Out-of-bounds Read'>\n"
          ]
        },
        {
          "name": "stderr",
          "output_type": "stream",
          "text": [
            " 60%|██████    | 1362/2253 [3:20:55<26:18,  1.77s/it]"
          ]
        },
        {
          "name": "stdout",
          "output_type": "stream",
          "text": [
            "<re.Match object; span=(10, 26), match='Vulnerability: 0'> <re.Match object; span=(27, 49), match='CWE ID: NOT_APPLICABLE'> <re.Match object; span=(50, 74), match='CWE Name: NOT_APPLICABLE'>\n"
          ]
        },
        {
          "name": "stderr",
          "output_type": "stream",
          "text": [
            " 60%|██████    | 1363/2253 [3:20:57<25:12,  1.70s/it]"
          ]
        },
        {
          "name": "stdout",
          "output_type": "stream",
          "text": [
            "<re.Match object; span=(5, 21), match='Vulnerability: 1'> <re.Match object; span=(22, 36), match='CWE ID: CWE-20'> <re.Match object; span=(37, 72), match='CWE Name: Improper Input Validation'>\n"
          ]
        },
        {
          "name": "stderr",
          "output_type": "stream",
          "text": [
            " 61%|██████    | 1364/2253 [3:20:59<26:14,  1.77s/it]"
          ]
        },
        {
          "name": "stdout",
          "output_type": "stream",
          "text": [
            "<re.Match object; span=(5, 21), match='Vulnerability: 0'> <re.Match object; span=(22, 44), match='CWE ID: NOT_APPLICABLE'> <re.Match object; span=(45, 69), match='CWE Name: NOT_APPLICABLE'>\n"
          ]
        },
        {
          "name": "stderr",
          "output_type": "stream",
          "text": [
            " 61%|██████    | 1365/2253 [3:21:01<28:51,  1.95s/it]"
          ]
        },
        {
          "name": "stdout",
          "output_type": "stream",
          "text": [
            "<re.Match object; span=(5, 21), match='Vulnerability: 1'> <re.Match object; span=(22, 36), match='CWE ID: CWE-20'> <re.Match object; span=(37, 72), match='CWE Name: Improper Input Validation'>\n"
          ]
        },
        {
          "name": "stderr",
          "output_type": "stream",
          "text": [
            " 61%|██████    | 1366/2253 [3:21:03<27:51,  1.88s/it]"
          ]
        },
        {
          "name": "stdout",
          "output_type": "stream",
          "text": [
            "<re.Match object; span=(5, 21), match='Vulnerability: 0'> <re.Match object; span=(22, 44), match='CWE ID: NOT_APPLICABLE'> <re.Match object; span=(45, 69), match='CWE Name: NOT_APPLICABLE'>\n"
          ]
        },
        {
          "name": "stderr",
          "output_type": "stream",
          "text": [
            " 61%|██████    | 1367/2253 [3:21:04<26:10,  1.77s/it]"
          ]
        },
        {
          "name": "stdout",
          "output_type": "stream",
          "text": [
            "<re.Match object; span=(5, 21), match='Vulnerability: 1'> <re.Match object; span=(22, 37), match='CWE ID: CWE-190'> <re.Match object; span=(38, 64), match='CWE Name: Integer Overflow'>\n"
          ]
        },
        {
          "name": "stderr",
          "output_type": "stream",
          "text": [
            " 61%|██████    | 1368/2253 [3:21:06<25:11,  1.71s/it]"
          ]
        },
        {
          "name": "stdout",
          "output_type": "stream",
          "text": [
            "<re.Match object; span=(4, 20), match='Vulnerability: 0'> <re.Match object; span=(21, 43), match='CWE ID: NOT_APPLICABLE'> <re.Match object; span=(44, 68), match='CWE Name: NOT_APPLICABLE'>\n"
          ]
        },
        {
          "name": "stderr",
          "output_type": "stream",
          "text": [
            " 61%|██████    | 1369/2253 [3:21:07<23:56,  1.63s/it]"
          ]
        },
        {
          "name": "stdout",
          "output_type": "stream",
          "text": [
            "<re.Match object; span=(5, 23), match='Vulnerability: 1.0'> <re.Match object; span=(24, 39), match='CWE ID: CWE-264'> <re.Match object; span=(40, 94), match='CWE Name: Permissions, Privileges, and Access Con>\n"
          ]
        },
        {
          "name": "stderr",
          "output_type": "stream",
          "text": [
            " 61%|██████    | 1370/2253 [3:21:11<32:11,  2.19s/it]"
          ]
        },
        {
          "name": "stdout",
          "output_type": "stream",
          "text": [
            "<re.Match object; span=(7, 23), match='Vulnerability: 1'> <re.Match object; span=(24, 39), match='CWE ID: CWE-121'> <re.Match object; span=(40, 77), match='CWE Name: Stack-based Buffer Overflow'>\n"
          ]
        },
        {
          "name": "stderr",
          "output_type": "stream",
          "text": [
            " 61%|██████    | 1371/2253 [3:21:13<30:38,  2.08s/it]"
          ]
        },
        {
          "name": "stdout",
          "output_type": "stream",
          "text": [
            "<re.Match object; span=(13, 29), match='Vulnerability: 1'> <re.Match object; span=(30, 44), match='CWE ID: CWE-20'> <re.Match object; span=(45, 80), match='CWE Name: Improper Input Validation'>\n"
          ]
        },
        {
          "name": "stderr",
          "output_type": "stream",
          "text": [
            " 61%|██████    | 1372/2253 [3:21:14<28:49,  1.96s/it]"
          ]
        },
        {
          "name": "stdout",
          "output_type": "stream",
          "text": [
            "<re.Match object; span=(14, 30), match='Vulnerability: 0'> <re.Match object; span=(31, 53), match='CWE ID: NOT_APPLICABLE'> <re.Match object; span=(54, 78), match='CWE Name: NOT_APPLICABLE'>\n"
          ]
        },
        {
          "name": "stderr",
          "output_type": "stream",
          "text": [
            " 61%|██████    | 1373/2253 [3:21:16<28:16,  1.93s/it]"
          ]
        },
        {
          "name": "stdout",
          "output_type": "stream",
          "text": [
            "<re.Match object; span=(10, 26), match='Vulnerability: 0'> <re.Match object; span=(27, 49), match='CWE ID: NOT_APPLICABLE'> <re.Match object; span=(50, 74), match='CWE Name: NOT_APPLICABLE'>\n"
          ]
        },
        {
          "name": "stderr",
          "output_type": "stream",
          "text": [
            " 61%|██████    | 1374/2253 [3:21:18<29:00,  1.98s/it]"
          ]
        },
        {
          "name": "stdout",
          "output_type": "stream",
          "text": [
            "<re.Match object; span=(5, 21), match='Vulnerability: 0'> <re.Match object; span=(22, 44), match='CWE ID: NOT_APPLICABLE'> <re.Match object; span=(45, 69), match='CWE Name: NOT_APPLICABLE'>\n"
          ]
        },
        {
          "name": "stderr",
          "output_type": "stream",
          "text": [
            " 61%|██████    | 1375/2253 [3:21:20<27:10,  1.86s/it]"
          ]
        },
        {
          "name": "stdout",
          "output_type": "stream",
          "text": [
            "<re.Match object; span=(13, 29), match='Vulnerability: 1'> <re.Match object; span=(30, 45), match='CWE ID: CWE-119'> <re.Match object; span=(46, 127), match='CWE Name: Improper Restriction of Operations with>\n"
          ]
        },
        {
          "name": "stderr",
          "output_type": "stream",
          "text": [
            " 61%|██████    | 1376/2253 [3:21:21<25:32,  1.75s/it]"
          ]
        },
        {
          "name": "stdout",
          "output_type": "stream",
          "text": [
            "<re.Match object; span=(4, 20), match='Vulnerability: 0'> <re.Match object; span=(21, 43), match='CWE ID: NOT_APPLICABLE'> <re.Match object; span=(44, 68), match='CWE Name: NOT_APPLICABLE'>\n"
          ]
        },
        {
          "name": "stderr",
          "output_type": "stream",
          "text": [
            " 61%|██████    | 1377/2253 [3:21:23<27:18,  1.87s/it]"
          ]
        },
        {
          "name": "stdout",
          "output_type": "stream",
          "text": [
            "<re.Match object; span=(5, 21), match='Vulnerability: 0'> <re.Match object; span=(22, 44), match='CWE ID: NOT_APPLICABLE'> <re.Match object; span=(45, 69), match='CWE Name: NOT_APPLICABLE'>\n"
          ]
        },
        {
          "name": "stderr",
          "output_type": "stream",
          "text": [
            " 61%|██████    | 1378/2253 [3:21:25<25:49,  1.77s/it]"
          ]
        },
        {
          "name": "stdout",
          "output_type": "stream",
          "text": [
            "<re.Match object; span=(14, 30), match='Vulnerability: 1'> <re.Match object; span=(31, 46), match='CWE ID: CWE-119'> <re.Match object; span=(47, 128), match='CWE Name: Improper Restriction of Operations with>\n"
          ]
        },
        {
          "name": "stderr",
          "output_type": "stream",
          "text": [
            " 61%|██████    | 1379/2253 [3:21:27<26:07,  1.79s/it]"
          ]
        },
        {
          "name": "stdout",
          "output_type": "stream",
          "text": [
            "<re.Match object; span=(6, 22), match='Vulnerability: 1'> <re.Match object; span=(23, 38), match='CWE ID: CWE-399'> <re.Match object; span=(39, 75), match='CWE Name: Resource Management Errors'>\n"
          ]
        },
        {
          "name": "stderr",
          "output_type": "stream",
          "text": [
            " 61%|██████▏   | 1380/2253 [3:21:28<24:56,  1.71s/it]"
          ]
        },
        {
          "name": "stdout",
          "output_type": "stream",
          "text": [
            "<re.Match object; span=(4, 20), match='Vulnerability: 1'> <re.Match object; span=(21, 36), match='CWE ID: CWE-123'> <re.Match object; span=(37, 73), match='CWE Name: Write-what-where Condition'>\n"
          ]
        },
        {
          "name": "stderr",
          "output_type": "stream",
          "text": [
            " 61%|██████▏   | 1381/2253 [3:21:30<25:02,  1.72s/it]"
          ]
        },
        {
          "name": "stdout",
          "output_type": "stream",
          "text": [
            "<re.Match object; span=(5, 21), match='Vulnerability: 1'> <re.Match object; span=(22, 37), match='CWE ID: CWE-125'> <re.Match object; span=(38, 66), match='CWE Name: Out-of-bounds Read'>\n"
          ]
        },
        {
          "name": "stderr",
          "output_type": "stream",
          "text": [
            " 61%|██████▏   | 1382/2253 [3:21:32<23:47,  1.64s/it]"
          ]
        },
        {
          "name": "stdout",
          "output_type": "stream",
          "text": [
            "<re.Match object; span=(5, 21), match='Vulnerability: 0'> <re.Match object; span=(22, 44), match='CWE ID: NOT_APPLICABLE'> <re.Match object; span=(45, 69), match='CWE Name: NOT_APPLICABLE'>\n"
          ]
        },
        {
          "name": "stderr",
          "output_type": "stream",
          "text": [
            " 61%|██████▏   | 1383/2253 [3:21:33<23:43,  1.64s/it]"
          ]
        },
        {
          "name": "stdout",
          "output_type": "stream",
          "text": [
            "<re.Match object; span=(5, 21), match='Vulnerability: 1'> <re.Match object; span=(22, 37), match='CWE ID: CWE-662'> <re.Match object; span=(38, 82), match='CWE Name: Incorrect Fetch of Remote Resource'>\n"
          ]
        },
        {
          "name": "stderr",
          "output_type": "stream",
          "text": [
            " 61%|██████▏   | 1384/2253 [3:21:35<26:23,  1.82s/it]"
          ]
        },
        {
          "name": "stdout",
          "output_type": "stream",
          "text": [
            "<re.Match object; span=(5, 21), match='Vulnerability: 0'> <re.Match object; span=(22, 44), match='CWE ID: NOT_APPLICABLE'> <re.Match object; span=(45, 69), match='CWE Name: NOT_APPLICABLE'>\n"
          ]
        },
        {
          "name": "stderr",
          "output_type": "stream",
          "text": [
            " 61%|██████▏   | 1385/2253 [3:21:37<25:36,  1.77s/it]"
          ]
        },
        {
          "name": "stdout",
          "output_type": "stream",
          "text": [
            "<re.Match object; span=(8, 24), match='Vulnerability: 0'> <re.Match object; span=(25, 47), match='CWE ID: NOT_APPLICABLE'> <re.Match object; span=(48, 72), match='CWE Name: NOT_APPLICABLE'>\n"
          ]
        },
        {
          "name": "stderr",
          "output_type": "stream",
          "text": [
            " 62%|██████▏   | 1386/2253 [3:21:39<25:24,  1.76s/it]"
          ]
        },
        {
          "name": "stdout",
          "output_type": "stream",
          "text": [
            "<re.Match object; span=(5, 21), match='Vulnerability: 1'> <re.Match object; span=(22, 32), match='CWE ID: 89'> <re.Match object; span=(33, 127), match=\"CWE Name: Improper Neutralization of Special Elem>\n"
          ]
        },
        {
          "name": "stderr",
          "output_type": "stream",
          "text": [
            " 62%|██████▏   | 1387/2253 [3:21:41<25:16,  1.75s/it]"
          ]
        },
        {
          "name": "stdout",
          "output_type": "stream",
          "text": [
            "<re.Match object; span=(10, 26), match='Vulnerability: 0'> <re.Match object; span=(27, 49), match='CWE ID: NOT_APPLICABLE'> <re.Match object; span=(50, 74), match='CWE Name: NOT_APPLICABLE'>\n"
          ]
        },
        {
          "name": "stderr",
          "output_type": "stream",
          "text": [
            " 62%|██████▏   | 1388/2253 [3:21:42<24:06,  1.67s/it]"
          ]
        },
        {
          "name": "stdout",
          "output_type": "stream",
          "text": [
            "<re.Match object; span=(5, 21), match='Vulnerability: 1'> <re.Match object; span=(22, 37), match='CWE ID: CWE-476'> <re.Match object; span=(38, 72), match='CWE Name: NULL Pointer Dereference'>\n"
          ]
        },
        {
          "name": "stderr",
          "output_type": "stream",
          "text": [
            " 62%|██████▏   | 1389/2253 [3:21:44<23:42,  1.65s/it]"
          ]
        },
        {
          "name": "stdout",
          "output_type": "stream",
          "text": [
            "<re.Match object; span=(5, 21), match='Vulnerability: 0'> <re.Match object; span=(22, 44), match='CWE ID: NOT_APPLICABLE'> <re.Match object; span=(45, 69), match='CWE Name: NOT_APPLICABLE'>\n"
          ]
        },
        {
          "name": "stderr",
          "output_type": "stream",
          "text": [
            " 62%|██████▏   | 1390/2253 [3:21:45<23:06,  1.61s/it]"
          ]
        },
        {
          "name": "stdout",
          "output_type": "stream",
          "text": [
            "<re.Match object; span=(5, 21), match='Vulnerability: 0'> <re.Match object; span=(22, 44), match='CWE ID: NOT_APPLICABLE'> <re.Match object; span=(45, 69), match='CWE Name: NOT_APPLICABLE'>\n"
          ]
        },
        {
          "name": "stderr",
          "output_type": "stream",
          "text": [
            " 62%|██████▏   | 1391/2253 [3:21:47<22:53,  1.59s/it]"
          ]
        },
        {
          "name": "stdout",
          "output_type": "stream",
          "text": [
            "<re.Match object; span=(5, 21), match='Vulnerability: 0'> <re.Match object; span=(22, 44), match='CWE ID: NOT_APPLICABLE'> <re.Match object; span=(45, 69), match='CWE Name: NOT_APPLICABLE'>\n"
          ]
        },
        {
          "name": "stderr",
          "output_type": "stream",
          "text": [
            " 62%|██████▏   | 1392/2253 [3:21:48<22:56,  1.60s/it]"
          ]
        },
        {
          "name": "stdout",
          "output_type": "stream",
          "text": [
            "<re.Match object; span=(5, 21), match='Vulnerability: 0'> <re.Match object; span=(22, 44), match='CWE ID: NOT_APPLICABLE'> <re.Match object; span=(45, 69), match='CWE Name: NOT_APPLICABLE'>\n"
          ]
        },
        {
          "name": "stderr",
          "output_type": "stream",
          "text": [
            " 62%|██████▏   | 1393/2253 [3:21:50<24:31,  1.71s/it]"
          ]
        },
        {
          "name": "stdout",
          "output_type": "stream",
          "text": [
            "<re.Match object; span=(5, 21), match='Vulnerability: 0'> <re.Match object; span=(22, 44), match='CWE ID: NOT_APPLICABLE'> <re.Match object; span=(45, 69), match='CWE Name: NOT_APPLICABLE'>\n"
          ]
        },
        {
          "name": "stderr",
          "output_type": "stream",
          "text": [
            " 62%|██████▏   | 1394/2253 [3:21:52<23:45,  1.66s/it]"
          ]
        },
        {
          "name": "stdout",
          "output_type": "stream",
          "text": [
            "<re.Match object; span=(5, 21), match='Vulnerability: 0'> <re.Match object; span=(22, 44), match='CWE ID: NOT_APPLICABLE'> <re.Match object; span=(45, 69), match='CWE Name: NOT_APPLICABLE'>\n"
          ]
        },
        {
          "name": "stderr",
          "output_type": "stream",
          "text": [
            " 62%|██████▏   | 1395/2253 [3:21:54<24:03,  1.68s/it]"
          ]
        },
        {
          "name": "stdout",
          "output_type": "stream",
          "text": [
            "<re.Match object; span=(5, 21), match='Vulnerability: 0'> <re.Match object; span=(22, 44), match='CWE ID: NOT_APPLICABLE'> <re.Match object; span=(45, 69), match='CWE Name: NOT_APPLICABLE'>\n"
          ]
        },
        {
          "name": "stderr",
          "output_type": "stream",
          "text": [
            " 62%|██████▏   | 1396/2253 [3:21:55<23:24,  1.64s/it]"
          ]
        },
        {
          "name": "stdout",
          "output_type": "stream",
          "text": [
            "<re.Match object; span=(5, 21), match='Vulnerability: 0'> <re.Match object; span=(22, 44), match='CWE ID: NOT_APPLICABLE'> <re.Match object; span=(45, 69), match='CWE Name: NOT_APPLICABLE'>\n"
          ]
        },
        {
          "name": "stderr",
          "output_type": "stream",
          "text": [
            " 62%|██████▏   | 1397/2253 [3:21:57<24:12,  1.70s/it]"
          ]
        },
        {
          "name": "stdout",
          "output_type": "stream",
          "text": [
            "<re.Match object; span=(5, 21), match='Vulnerability: 0'> <re.Match object; span=(22, 44), match='CWE ID: NOT_APPLICABLE'> <re.Match object; span=(45, 69), match='CWE Name: NOT_APPLICABLE'>\n"
          ]
        },
        {
          "name": "stderr",
          "output_type": "stream",
          "text": [
            " 62%|██████▏   | 1398/2253 [3:21:58<23:02,  1.62s/it]"
          ]
        },
        {
          "name": "stdout",
          "output_type": "stream",
          "text": [
            "<re.Match object; span=(10, 26), match='Vulnerability: 0'> <re.Match object; span=(27, 49), match='CWE ID: NOT_APPLICABLE'> <re.Match object; span=(50, 74), match='CWE Name: NOT_APPLICABLE'>\n"
          ]
        },
        {
          "name": "stderr",
          "output_type": "stream",
          "text": [
            " 62%|██████▏   | 1399/2253 [3:22:00<22:42,  1.60s/it]"
          ]
        },
        {
          "name": "stdout",
          "output_type": "stream",
          "text": [
            "<re.Match object; span=(12, 28), match='Vulnerability: 0'> <re.Match object; span=(29, 51), match='CWE ID: NOT_APPLICABLE'> <re.Match object; span=(52, 76), match='CWE Name: NOT_APPLICABLE'>\n"
          ]
        },
        {
          "name": "stderr",
          "output_type": "stream",
          "text": [
            " 62%|██████▏   | 1400/2253 [3:22:01<22:25,  1.58s/it]"
          ]
        },
        {
          "name": "stdout",
          "output_type": "stream",
          "text": [
            "<re.Match object; span=(10, 26), match='Vulnerability: 1'> <re.Match object; span=(27, 41), match='CWE ID: CWE-20'> <re.Match object; span=(42, 77), match='CWE Name: Improper Input Validation'>\n"
          ]
        },
        {
          "name": "stderr",
          "output_type": "stream",
          "text": [
            " 62%|██████▏   | 1401/2253 [3:22:04<24:50,  1.75s/it]"
          ]
        },
        {
          "name": "stdout",
          "output_type": "stream",
          "text": [
            "<re.Match object; span=(5, 21), match='Vulnerability: 1'> <re.Match object; span=(22, 37), match='CWE ID: CWE-362'> <re.Match object; span=(38, 139), match=\"CWE Name: Concurrent Execution using Shared Resou>\n"
          ]
        },
        {
          "name": "stderr",
          "output_type": "stream",
          "text": [
            " 62%|██████▏   | 1402/2253 [3:22:05<23:27,  1.65s/it]"
          ]
        },
        {
          "name": "stdout",
          "output_type": "stream",
          "text": [
            "<re.Match object; span=(8, 24), match='Vulnerability: 0'> <re.Match object; span=(25, 47), match='CWE ID: NOT_APPLICABLE'> <re.Match object; span=(48, 72), match='CWE Name: NOT_APPLICABLE'>\n"
          ]
        },
        {
          "name": "stderr",
          "output_type": "stream",
          "text": [
            " 62%|██████▏   | 1403/2253 [3:22:07<23:20,  1.65s/it]"
          ]
        },
        {
          "name": "stdout",
          "output_type": "stream",
          "text": [
            "<re.Match object; span=(5, 21), match='Vulnerability: 1'> <re.Match object; span=(22, 37), match='CWE ID: CWE-264'> <re.Match object; span=(38, 91), match='CWE Name: Permissions, Privileges, and Access Con>\n"
          ]
        },
        {
          "name": "stderr",
          "output_type": "stream",
          "text": [
            " 62%|██████▏   | 1404/2253 [3:22:08<22:26,  1.59s/it]"
          ]
        },
        {
          "name": "stdout",
          "output_type": "stream",
          "text": [
            "<re.Match object; span=(5, 21), match='Vulnerability: 0'> <re.Match object; span=(22, 44), match='CWE ID: NOT_APPLICABLE'> <re.Match object; span=(45, 69), match='CWE Name: NOT_APPLICABLE'>\n"
          ]
        },
        {
          "name": "stderr",
          "output_type": "stream",
          "text": [
            " 62%|██████▏   | 1405/2253 [3:22:10<21:30,  1.52s/it]"
          ]
        },
        {
          "name": "stdout",
          "output_type": "stream",
          "text": [
            "<re.Match object; span=(4, 20), match='Vulnerability: 0'> <re.Match object; span=(21, 43), match='CWE ID: NOT_APPLICABLE'> <re.Match object; span=(44, 68), match='CWE Name: NOT_APPLICABLE'>\n"
          ]
        },
        {
          "name": "stderr",
          "output_type": "stream",
          "text": [
            " 62%|██████▏   | 1406/2253 [3:22:11<20:54,  1.48s/it]"
          ]
        },
        {
          "name": "stdout",
          "output_type": "stream",
          "text": [
            "<re.Match object; span=(8, 24), match='Vulnerability: 0'> <re.Match object; span=(25, 47), match='CWE ID: NOT_APPLICABLE'> <re.Match object; span=(48, 72), match='CWE Name: NOT_APPLICABLE'>\n"
          ]
        },
        {
          "name": "stderr",
          "output_type": "stream",
          "text": [
            " 62%|██████▏   | 1407/2253 [3:22:13<24:37,  1.75s/it]"
          ]
        },
        {
          "name": "stdout",
          "output_type": "stream",
          "text": [
            "<re.Match object; span=(5, 21), match='Vulnerability: 0'> <re.Match object; span=(22, 44), match='CWE ID: NOT_APPLICABLE'> <re.Match object; span=(45, 69), match='CWE Name: NOT_APPLICABLE'>\n"
          ]
        },
        {
          "name": "stderr",
          "output_type": "stream",
          "text": [
            " 62%|██████▏   | 1408/2253 [3:22:15<24:34,  1.75s/it]"
          ]
        },
        {
          "name": "stdout",
          "output_type": "stream",
          "text": [
            "<re.Match object; span=(7, 23), match='Vulnerability: 0'> <re.Match object; span=(24, 46), match='CWE ID: NOT_APPLICABLE'> <re.Match object; span=(47, 71), match='CWE Name: NOT_APPLICABLE'>\n"
          ]
        },
        {
          "name": "stderr",
          "output_type": "stream",
          "text": [
            " 63%|██████▎   | 1409/2253 [3:22:16<23:01,  1.64s/it]"
          ]
        },
        {
          "name": "stdout",
          "output_type": "stream",
          "text": [
            "<re.Match object; span=(12, 28), match='Vulnerability: 0'> <re.Match object; span=(29, 51), match='CWE ID: NOT_APPLICABLE'> <re.Match object; span=(52, 76), match='CWE Name: NOT_APPLICABLE'>\n"
          ]
        },
        {
          "name": "stderr",
          "output_type": "stream",
          "text": [
            " 63%|██████▎   | 1410/2253 [3:22:18<23:12,  1.65s/it]"
          ]
        },
        {
          "name": "stdout",
          "output_type": "stream",
          "text": [
            "<re.Match object; span=(5, 21), match='Vulnerability: 1'> <re.Match object; span=(22, 37), match='CWE ID: CWE-200'> <re.Match object; span=(38, 106), match='CWE Name: Exposure of Sensitive Information to an>\n"
          ]
        },
        {
          "name": "stderr",
          "output_type": "stream",
          "text": [
            " 63%|██████▎   | 1411/2253 [3:22:20<22:43,  1.62s/it]"
          ]
        },
        {
          "name": "stdout",
          "output_type": "stream",
          "text": [
            "<re.Match object; span=(5, 21), match='Vulnerability: 0'> <re.Match object; span=(22, 44), match='CWE ID: NOT_APPLICABLE'> <re.Match object; span=(45, 69), match='CWE Name: NOT_APPLICABLE'>\n"
          ]
        },
        {
          "name": "stderr",
          "output_type": "stream",
          "text": [
            " 63%|██████▎   | 1412/2253 [3:22:21<22:19,  1.59s/it]"
          ]
        },
        {
          "name": "stdout",
          "output_type": "stream",
          "text": [
            "<re.Match object; span=(5, 21), match='Vulnerability: 0'> <re.Match object; span=(22, 44), match='CWE ID: NOT_APPLICABLE'> <re.Match object; span=(45, 69), match='CWE Name: NOT_APPLICABLE'>\n"
          ]
        },
        {
          "name": "stderr",
          "output_type": "stream",
          "text": [
            " 63%|██████▎   | 1413/2253 [3:22:23<24:11,  1.73s/it]"
          ]
        },
        {
          "name": "stdout",
          "output_type": "stream",
          "text": [
            "<re.Match object; span=(5, 21), match='Vulnerability: 0'> <re.Match object; span=(22, 44), match='CWE ID: NOT_APPLICABLE'> <re.Match object; span=(45, 69), match='CWE Name: NOT_APPLICABLE'>\n"
          ]
        },
        {
          "name": "stderr",
          "output_type": "stream",
          "text": [
            " 63%|██████▎   | 1414/2253 [3:22:25<26:22,  1.89s/it]"
          ]
        },
        {
          "name": "stdout",
          "output_type": "stream",
          "text": [
            "<re.Match object; span=(8, 24), match='Vulnerability: 1'> <re.Match object; span=(25, 40), match='CWE ID: CWE-125'> <re.Match object; span=(41, 69), match='CWE Name: Out-of-bounds Read'>\n"
          ]
        },
        {
          "name": "stderr",
          "output_type": "stream",
          "text": [
            " 63%|██████▎   | 1415/2253 [3:22:27<24:53,  1.78s/it]"
          ]
        },
        {
          "name": "stdout",
          "output_type": "stream",
          "text": [
            "<re.Match object; span=(5, 21), match='Vulnerability: 1'> <re.Match object; span=(22, 37), match='CWE ID: CWE-125'> <re.Match object; span=(38, 66), match='CWE Name: Out-of-bounds Read'>\n"
          ]
        },
        {
          "name": "stderr",
          "output_type": "stream",
          "text": [
            " 63%|██████▎   | 1416/2253 [3:22:29<25:55,  1.86s/it]"
          ]
        },
        {
          "name": "stdout",
          "output_type": "stream",
          "text": [
            "<re.Match object; span=(10, 26), match='Vulnerability: 1'> <re.Match object; span=(27, 42), match='CWE ID: CWE-190'> <re.Match object; span=(43, 83), match='CWE Name: Integer Overflow or Wraparound'>\n"
          ]
        },
        {
          "name": "stderr",
          "output_type": "stream",
          "text": [
            " 63%|██████▎   | 1417/2253 [3:22:31<24:38,  1.77s/it]"
          ]
        },
        {
          "name": "stdout",
          "output_type": "stream",
          "text": [
            "<re.Match object; span=(5, 21), match='Vulnerability: 0'> <re.Match object; span=(22, 44), match='CWE ID: NOT_APPLICABLE'> <re.Match object; span=(45, 69), match='CWE Name: NOT_APPLICABLE'>\n"
          ]
        },
        {
          "name": "stderr",
          "output_type": "stream",
          "text": [
            " 63%|██████▎   | 1418/2253 [3:22:33<25:18,  1.82s/it]"
          ]
        },
        {
          "name": "stdout",
          "output_type": "stream",
          "text": [
            "<re.Match object; span=(5, 21), match='Vulnerability: 0'> <re.Match object; span=(22, 44), match='CWE ID: NOT_APPLICABLE'> <re.Match object; span=(45, 69), match='CWE Name: NOT_APPLICABLE'>\n"
          ]
        },
        {
          "name": "stderr",
          "output_type": "stream",
          "text": [
            " 63%|██████▎   | 1419/2253 [3:22:34<24:30,  1.76s/it]"
          ]
        },
        {
          "name": "stdout",
          "output_type": "stream",
          "text": [
            "<re.Match object; span=(5, 21), match='Vulnerability: 0'> <re.Match object; span=(22, 44), match='CWE ID: NOT_APPLICABLE'> <re.Match object; span=(45, 69), match='CWE Name: NOT_APPLICABLE'>\n"
          ]
        },
        {
          "name": "stderr",
          "output_type": "stream",
          "text": [
            " 63%|██████▎   | 1420/2253 [3:22:36<22:48,  1.64s/it]"
          ]
        },
        {
          "name": "stdout",
          "output_type": "stream",
          "text": [
            "<re.Match object; span=(14, 30), match='Vulnerability: 0'> <re.Match object; span=(31, 53), match='CWE ID: NOT_APPLICABLE'> <re.Match object; span=(54, 78), match='CWE Name: NOT_APPLICABLE'>\n"
          ]
        },
        {
          "name": "stderr",
          "output_type": "stream",
          "text": [
            " 63%|██████▎   | 1421/2253 [3:22:37<21:48,  1.57s/it]"
          ]
        },
        {
          "name": "stdout",
          "output_type": "stream",
          "text": [
            "<re.Match object; span=(5, 21), match='Vulnerability: 0'> <re.Match object; span=(22, 44), match='CWE ID: NOT_APPLICABLE'> <re.Match object; span=(45, 69), match='CWE Name: NOT_APPLICABLE'>\n"
          ]
        },
        {
          "name": "stderr",
          "output_type": "stream",
          "text": [
            " 63%|██████▎   | 1422/2253 [3:22:38<21:36,  1.56s/it]"
          ]
        },
        {
          "name": "stdout",
          "output_type": "stream",
          "text": [
            "<re.Match object; span=(5, 21), match='Vulnerability: 0'> <re.Match object; span=(22, 44), match='CWE ID: NOT_APPLICABLE'> <re.Match object; span=(45, 69), match='CWE Name: NOT_APPLICABLE'>\n"
          ]
        },
        {
          "name": "stderr",
          "output_type": "stream",
          "text": [
            " 63%|██████▎   | 1423/2253 [3:22:40<22:43,  1.64s/it]"
          ]
        },
        {
          "name": "stdout",
          "output_type": "stream",
          "text": [
            "<re.Match object; span=(5, 21), match='Vulnerability: 0'> <re.Match object; span=(22, 44), match='CWE ID: NOT_APPLICABLE'> <re.Match object; span=(45, 69), match='CWE Name: NOT_APPLICABLE'>\n"
          ]
        },
        {
          "name": "stderr",
          "output_type": "stream",
          "text": [
            " 63%|██████▎   | 1424/2253 [3:22:42<22:15,  1.61s/it]"
          ]
        },
        {
          "name": "stdout",
          "output_type": "stream",
          "text": [
            "<re.Match object; span=(5, 21), match='Vulnerability: 0'> <re.Match object; span=(22, 44), match='CWE ID: NOT_APPLICABLE'> <re.Match object; span=(45, 69), match='CWE Name: NOT_APPLICABLE'>\n"
          ]
        },
        {
          "name": "stderr",
          "output_type": "stream",
          "text": [
            " 63%|██████▎   | 1425/2253 [3:22:43<21:55,  1.59s/it]"
          ]
        },
        {
          "name": "stdout",
          "output_type": "stream",
          "text": [
            "<re.Match object; span=(5, 21), match='Vulnerability: 1'> <re.Match object; span=(22, 37), match='CWE ID: CWE-190'> <re.Match object; span=(38, 78), match='CWE Name: Integer Overflow or Wraparound'>\n"
          ]
        },
        {
          "name": "stderr",
          "output_type": "stream",
          "text": [
            " 63%|██████▎   | 1426/2253 [3:22:45<22:08,  1.61s/it]"
          ]
        },
        {
          "name": "stdout",
          "output_type": "stream",
          "text": [
            "<re.Match object; span=(5, 21), match='Vulnerability: 0'> <re.Match object; span=(22, 44), match='CWE ID: NOT_APPLICABLE'> <re.Match object; span=(45, 69), match='CWE Name: NOT_APPLICABLE'>\n"
          ]
        },
        {
          "name": "stderr",
          "output_type": "stream",
          "text": [
            " 63%|██████▎   | 1427/2253 [3:22:47<22:54,  1.66s/it]"
          ]
        },
        {
          "name": "stdout",
          "output_type": "stream",
          "text": [
            "<re.Match object; span=(5, 21), match='Vulnerability: 0'> <re.Match object; span=(22, 44), match='CWE ID: NOT_APPLICABLE'> <re.Match object; span=(45, 69), match='CWE Name: NOT_APPLICABLE'>\n"
          ]
        },
        {
          "name": "stderr",
          "output_type": "stream",
          "text": [
            " 63%|██████▎   | 1428/2253 [3:22:49<23:25,  1.70s/it]"
          ]
        },
        {
          "name": "stdout",
          "output_type": "stream",
          "text": [
            "<re.Match object; span=(5, 21), match='Vulnerability: 1'> <re.Match object; span=(22, 36), match='CWE ID: CWE-20'> <re.Match object; span=(37, 72), match='CWE Name: Improper Input Validation'>\n"
          ]
        },
        {
          "name": "stderr",
          "output_type": "stream",
          "text": [
            " 63%|██████▎   | 1429/2253 [3:22:50<23:52,  1.74s/it]"
          ]
        },
        {
          "name": "stdout",
          "output_type": "stream",
          "text": [
            "<re.Match object; span=(5, 21), match='Vulnerability: 0'> <re.Match object; span=(22, 44), match='CWE ID: NOT_APPLICABLE'> <re.Match object; span=(45, 69), match='CWE Name: NOT_APPLICABLE'>\n"
          ]
        },
        {
          "name": "stderr",
          "output_type": "stream",
          "text": [
            " 63%|██████▎   | 1430/2253 [3:22:52<23:02,  1.68s/it]"
          ]
        },
        {
          "name": "stdout",
          "output_type": "stream",
          "text": [
            "<re.Match object; span=(5, 21), match='Vulnerability: 0'> <re.Match object; span=(22, 44), match='CWE ID: NOT_APPLICABLE'> <re.Match object; span=(45, 69), match='CWE Name: NOT_APPLICABLE'>\n"
          ]
        },
        {
          "name": "stderr",
          "output_type": "stream",
          "text": [
            " 64%|██████▎   | 1431/2253 [3:22:54<23:39,  1.73s/it]"
          ]
        },
        {
          "name": "stdout",
          "output_type": "stream",
          "text": [
            "<re.Match object; span=(7, 23), match='Vulnerability: 1'> <re.Match object; span=(24, 39), match='CWE ID: CWE-134'> <re.Match object; span=(40, 92), match='CWE Name: Use of Externally-Controlled Format Str>\n"
          ]
        },
        {
          "name": "stderr",
          "output_type": "stream",
          "text": [
            " 64%|██████▎   | 1432/2253 [3:22:55<22:26,  1.64s/it]"
          ]
        },
        {
          "name": "stdout",
          "output_type": "stream",
          "text": [
            "<re.Match object; span=(5, 21), match='Vulnerability: 1'> <re.Match object; span=(22, 37), match='CWE ID: CWE-416'> <re.Match object; span=(38, 62), match='CWE Name: Use After Free'>\n"
          ]
        },
        {
          "name": "stderr",
          "output_type": "stream",
          "text": [
            " 64%|██████▎   | 1433/2253 [3:22:57<24:04,  1.76s/it]"
          ]
        },
        {
          "name": "stdout",
          "output_type": "stream",
          "text": [
            "<re.Match object; span=(5, 21), match='Vulnerability: 1'> <re.Match object; span=(22, 37), match='CWE ID: CWE-119'> <re.Match object; span=(38, 119), match='CWE Name: Improper Restriction of Operations with>\n"
          ]
        },
        {
          "name": "stderr",
          "output_type": "stream",
          "text": [
            " 64%|██████▎   | 1434/2253 [3:22:59<22:19,  1.64s/it]"
          ]
        },
        {
          "name": "stdout",
          "output_type": "stream",
          "text": [
            "<re.Match object; span=(5, 21), match='Vulnerability: 0'> <re.Match object; span=(22, 44), match='CWE ID: NOT_APPLICABLE'> <re.Match object; span=(45, 69), match='CWE Name: NOT_APPLICABLE'>\n"
          ]
        },
        {
          "name": "stderr",
          "output_type": "stream",
          "text": [
            " 64%|██████▎   | 1435/2253 [3:23:00<22:42,  1.67s/it]"
          ]
        },
        {
          "name": "stdout",
          "output_type": "stream",
          "text": [
            "<re.Match object; span=(5, 21), match='Vulnerability: 0'> <re.Match object; span=(22, 44), match='CWE ID: NOT_APPLICABLE'> <re.Match object; span=(45, 69), match='CWE Name: NOT_APPLICABLE'>\n"
          ]
        },
        {
          "name": "stderr",
          "output_type": "stream",
          "text": [
            " 64%|██████▎   | 1436/2253 [3:23:02<24:13,  1.78s/it]"
          ]
        },
        {
          "name": "stdout",
          "output_type": "stream",
          "text": [
            "<re.Match object; span=(5, 21), match='Vulnerability: 0'> <re.Match object; span=(22, 44), match='CWE ID: NOT_APPLICABLE'> <re.Match object; span=(45, 69), match='CWE Name: NOT_APPLICABLE'>\n"
          ]
        },
        {
          "name": "stderr",
          "output_type": "stream",
          "text": [
            " 64%|██████▍   | 1437/2253 [3:23:04<22:48,  1.68s/it]"
          ]
        },
        {
          "name": "stdout",
          "output_type": "stream",
          "text": [
            "<re.Match object; span=(5, 21), match='Vulnerability: 1'> <re.Match object; span=(22, 37), match='CWE ID: CWE-294'> <re.Match object; span=(38, 87), match='CWE Name: Authentication Bypass by Capture-replay>\n"
          ]
        },
        {
          "name": "stderr",
          "output_type": "stream",
          "text": [
            " 64%|██████▍   | 1438/2253 [3:23:05<21:46,  1.60s/it]"
          ]
        },
        {
          "name": "stdout",
          "output_type": "stream",
          "text": [
            "<re.Match object; span=(10, 26), match='Vulnerability: 0'> <re.Match object; span=(27, 49), match='CWE ID: NOT_APPLICABLE'> <re.Match object; span=(50, 74), match='CWE Name: NOT_APPLICABLE'>\n"
          ]
        },
        {
          "name": "stderr",
          "output_type": "stream",
          "text": [
            " 64%|██████▍   | 1439/2253 [3:23:07<23:13,  1.71s/it]"
          ]
        },
        {
          "name": "stdout",
          "output_type": "stream",
          "text": [
            "<re.Match object; span=(14, 30), match='Vulnerability: 1'> <re.Match object; span=(31, 46), match='CWE ID: CWE-125'> <re.Match object; span=(47, 75), match='CWE Name: Out-of-bounds Read'>\n"
          ]
        },
        {
          "name": "stderr",
          "output_type": "stream",
          "text": [
            " 64%|██████▍   | 1440/2253 [3:23:09<22:49,  1.68s/it]"
          ]
        },
        {
          "name": "stdout",
          "output_type": "stream",
          "text": [
            "<re.Match object; span=(5, 21), match='Vulnerability: 0'> <re.Match object; span=(22, 44), match='CWE ID: NOT_APPLICABLE'> <re.Match object; span=(45, 69), match='CWE Name: NOT_APPLICABLE'>\n"
          ]
        },
        {
          "name": "stderr",
          "output_type": "stream",
          "text": [
            " 64%|██████▍   | 1441/2253 [3:23:10<21:38,  1.60s/it]"
          ]
        },
        {
          "name": "stdout",
          "output_type": "stream",
          "text": [
            "<re.Match object; span=(5, 21), match='Vulnerability: 1'> <re.Match object; span=(22, 37), match='CWE ID: CWE-125'> <re.Match object; span=(38, 66), match='CWE Name: Out-of-bounds Read'>\n"
          ]
        },
        {
          "name": "stderr",
          "output_type": "stream",
          "text": [
            " 64%|██████▍   | 1442/2253 [3:23:13<24:24,  1.81s/it]"
          ]
        },
        {
          "name": "stdout",
          "output_type": "stream",
          "text": [
            "<re.Match object; span=(10, 26), match='Vulnerability: 0'> <re.Match object; span=(27, 49), match='CWE ID: NOT_APPLICABLE'> <re.Match object; span=(50, 74), match='CWE Name: NOT_APPLICABLE'>\n"
          ]
        },
        {
          "name": "stderr",
          "output_type": "stream",
          "text": [
            " 64%|██████▍   | 1443/2253 [3:23:14<22:50,  1.69s/it]"
          ]
        },
        {
          "name": "stdout",
          "output_type": "stream",
          "text": [
            "<re.Match object; span=(5, 21), match='Vulnerability: 0'> <re.Match object; span=(22, 44), match='CWE ID: NOT_APPLICABLE'> <re.Match object; span=(45, 69), match='CWE Name: NOT_APPLICABLE'>\n"
          ]
        },
        {
          "name": "stderr",
          "output_type": "stream",
          "text": [
            " 64%|██████▍   | 1444/2253 [3:23:16<22:36,  1.68s/it]"
          ]
        },
        {
          "name": "stdout",
          "output_type": "stream",
          "text": [
            "<re.Match object; span=(5, 21), match='Vulnerability: 0'> <re.Match object; span=(22, 44), match='CWE ID: NOT_APPLICABLE'> <re.Match object; span=(45, 69), match='CWE Name: NOT_APPLICABLE'>\n"
          ]
        },
        {
          "name": "stderr",
          "output_type": "stream",
          "text": [
            " 64%|██████▍   | 1445/2253 [3:23:17<22:01,  1.63s/it]"
          ]
        },
        {
          "name": "stdout",
          "output_type": "stream",
          "text": [
            "<re.Match object; span=(5, 21), match='Vulnerability: 0'> <re.Match object; span=(22, 44), match='CWE ID: NOT_APPLICABLE'> <re.Match object; span=(45, 69), match='CWE Name: NOT_APPLICABLE'>\n"
          ]
        },
        {
          "name": "stderr",
          "output_type": "stream",
          "text": [
            " 64%|██████▍   | 1446/2253 [3:23:19<22:22,  1.66s/it]"
          ]
        },
        {
          "name": "stdout",
          "output_type": "stream",
          "text": [
            "<re.Match object; span=(5, 21), match='Vulnerability: 0'> <re.Match object; span=(22, 44), match='CWE ID: NOT_APPLICABLE'> <re.Match object; span=(45, 69), match='CWE Name: NOT_APPLICABLE'>\n"
          ]
        },
        {
          "name": "stderr",
          "output_type": "stream",
          "text": [
            " 64%|██████▍   | 1447/2253 [3:23:20<21:17,  1.58s/it]"
          ]
        },
        {
          "name": "stdout",
          "output_type": "stream",
          "text": [
            "<re.Match object; span=(10, 26), match='Vulnerability: 1'> <re.Match object; span=(27, 42), match='CWE ID: CWE-399'> <re.Match object; span=(43, 79), match='CWE Name: Resource Management Errors'>\n"
          ]
        },
        {
          "name": "stderr",
          "output_type": "stream",
          "text": [
            " 64%|██████▍   | 1448/2253 [3:23:22<20:49,  1.55s/it]"
          ]
        },
        {
          "name": "stdout",
          "output_type": "stream",
          "text": [
            "<re.Match object; span=(10, 26), match='Vulnerability: 0'> <re.Match object; span=(27, 49), match='CWE ID: NOT_APPLICABLE'> <re.Match object; span=(50, 74), match='CWE Name: NOT_APPLICABLE'>\n"
          ]
        },
        {
          "name": "stderr",
          "output_type": "stream",
          "text": [
            " 64%|██████▍   | 1449/2253 [3:23:24<21:41,  1.62s/it]"
          ]
        },
        {
          "name": "stdout",
          "output_type": "stream",
          "text": [
            "<re.Match object; span=(5, 21), match='Vulnerability: 0'> <re.Match object; span=(22, 44), match='CWE ID: NOT_APPLICABLE'> <re.Match object; span=(45, 69), match='CWE Name: NOT_APPLICABLE'>\n"
          ]
        },
        {
          "name": "stderr",
          "output_type": "stream",
          "text": [
            " 64%|██████▍   | 1450/2253 [3:23:25<21:37,  1.62s/it]"
          ]
        },
        {
          "name": "stdout",
          "output_type": "stream",
          "text": [
            "<re.Match object; span=(5, 21), match='Vulnerability: 0'> <re.Match object; span=(22, 44), match='CWE ID: NOT_APPLICABLE'> <re.Match object; span=(45, 69), match='CWE Name: NOT_APPLICABLE'>\n"
          ]
        },
        {
          "name": "stderr",
          "output_type": "stream",
          "text": [
            " 64%|██████▍   | 1451/2253 [3:23:27<22:16,  1.67s/it]"
          ]
        },
        {
          "name": "stdout",
          "output_type": "stream",
          "text": [
            "<re.Match object; span=(5, 21), match='Vulnerability: 1'> <re.Match object; span=(22, 36), match='CWE ID: CWE-20'> <re.Match object; span=(37, 72), match='CWE Name: Improper Input Validation'>\n"
          ]
        },
        {
          "name": "stderr",
          "output_type": "stream",
          "text": [
            " 64%|██████▍   | 1452/2253 [3:23:30<26:28,  1.98s/it]"
          ]
        },
        {
          "name": "stdout",
          "output_type": "stream",
          "text": [
            "<re.Match object; span=(5, 21), match='Vulnerability: 1'> <re.Match object; span=(22, 36), match='CWE ID: CWE-20'> <re.Match object; span=(37, 72), match='CWE Name: Improper Input Validation'>\n"
          ]
        },
        {
          "name": "stderr",
          "output_type": "stream",
          "text": [
            " 64%|██████▍   | 1453/2253 [3:23:32<27:54,  2.09s/it]"
          ]
        },
        {
          "name": "stdout",
          "output_type": "stream",
          "text": [
            "<re.Match object; span=(5, 21), match='Vulnerability: 1'> <re.Match object; span=(22, 37), match='CWE ID: CWE-119'> <re.Match object; span=(38, 119), match='CWE Name: Improper Restriction of Operations with>\n"
          ]
        },
        {
          "name": "stderr",
          "output_type": "stream",
          "text": [
            " 65%|██████▍   | 1454/2253 [3:23:34<25:40,  1.93s/it]"
          ]
        },
        {
          "name": "stdout",
          "output_type": "stream",
          "text": [
            "<re.Match object; span=(5, 21), match='Vulnerability: 0'> <re.Match object; span=(22, 44), match='CWE ID: NOT_APPLICABLE'> <re.Match object; span=(45, 69), match='CWE Name: NOT_APPLICABLE'>\n"
          ]
        },
        {
          "name": "stderr",
          "output_type": "stream",
          "text": [
            " 65%|██████▍   | 1455/2253 [3:23:35<23:37,  1.78s/it]"
          ]
        },
        {
          "name": "stdout",
          "output_type": "stream",
          "text": [
            "<re.Match object; span=(5, 21), match='Vulnerability: 1'> <re.Match object; span=(22, 37), match='CWE ID: CWE-125'> <re.Match object; span=(38, 66), match='CWE Name: Out-of-bounds Read'>\n"
          ]
        },
        {
          "name": "stderr",
          "output_type": "stream",
          "text": [
            " 65%|██████▍   | 1456/2253 [3:23:37<22:37,  1.70s/it]"
          ]
        },
        {
          "name": "stdout",
          "output_type": "stream",
          "text": [
            "<re.Match object; span=(5, 21), match='Vulnerability: 0'> <re.Match object; span=(22, 44), match='CWE ID: NOT_APPLICABLE'> <re.Match object; span=(45, 69), match='CWE Name: NOT_APPLICABLE'>\n"
          ]
        },
        {
          "name": "stderr",
          "output_type": "stream",
          "text": [
            " 65%|██████▍   | 1457/2253 [3:23:38<21:57,  1.66s/it]"
          ]
        },
        {
          "name": "stdout",
          "output_type": "stream",
          "text": [
            "<re.Match object; span=(5, 21), match='Vulnerability: 0'> <re.Match object; span=(22, 44), match='CWE ID: NOT_APPLICABLE'> <re.Match object; span=(45, 69), match='CWE Name: NOT_APPLICABLE'>\n"
          ]
        },
        {
          "name": "stderr",
          "output_type": "stream",
          "text": [
            " 65%|██████▍   | 1458/2253 [3:23:40<21:52,  1.65s/it]"
          ]
        },
        {
          "name": "stdout",
          "output_type": "stream",
          "text": [
            "<re.Match object; span=(5, 21), match='Vulnerability: 1'> <re.Match object; span=(22, 37), match='CWE ID: CWE-200'> <re.Match object; span=(38, 106), match='CWE Name: Exposure of Sensitive Information to an>\n"
          ]
        },
        {
          "name": "stderr",
          "output_type": "stream",
          "text": [
            " 65%|██████▍   | 1459/2253 [3:23:41<21:45,  1.64s/it]"
          ]
        },
        {
          "name": "stdout",
          "output_type": "stream",
          "text": [
            "<re.Match object; span=(5, 21), match='Vulnerability: 0'> <re.Match object; span=(22, 44), match='CWE ID: NOT_APPLICABLE'> <re.Match object; span=(45, 69), match='CWE Name: NOT_APPLICABLE'>\n"
          ]
        },
        {
          "name": "stderr",
          "output_type": "stream",
          "text": [
            " 65%|██████▍   | 1460/2253 [3:23:43<22:28,  1.70s/it]"
          ]
        },
        {
          "name": "stdout",
          "output_type": "stream",
          "text": [
            "<re.Match object; span=(5, 21), match='Vulnerability: 0'> <re.Match object; span=(22, 44), match='CWE ID: NOT_APPLICABLE'> <re.Match object; span=(45, 69), match='CWE Name: NOT_APPLICABLE'>\n"
          ]
        },
        {
          "name": "stderr",
          "output_type": "stream",
          "text": [
            " 65%|██████▍   | 1461/2253 [3:23:45<21:04,  1.60s/it]"
          ]
        },
        {
          "name": "stdout",
          "output_type": "stream",
          "text": [
            "<re.Match object; span=(5, 21), match='Vulnerability: 0'> <re.Match object; span=(22, 44), match='CWE ID: NOT_APPLICABLE'> <re.Match object; span=(45, 69), match='CWE Name: NOT_APPLICABLE'>\n"
          ]
        },
        {
          "name": "stderr",
          "output_type": "stream",
          "text": [
            " 65%|██████▍   | 1462/2253 [3:23:46<21:34,  1.64s/it]"
          ]
        },
        {
          "name": "stdout",
          "output_type": "stream",
          "text": [
            "<re.Match object; span=(4, 20), match='Vulnerability: 1'> <re.Match object; span=(21, 35), match='CWE ID: CWE-20'> <re.Match object; span=(36, 71), match='CWE Name: Improper Input Validation'>\n"
          ]
        },
        {
          "name": "stderr",
          "output_type": "stream",
          "text": [
            " 65%|██████▍   | 1463/2253 [3:23:48<21:12,  1.61s/it]"
          ]
        },
        {
          "name": "stdout",
          "output_type": "stream",
          "text": [
            "<re.Match object; span=(10, 26), match='Vulnerability: 1'> <re.Match object; span=(27, 42), match='CWE ID: CWE-125'> <re.Match object; span=(43, 71), match='CWE Name: Out-of-bounds Read'>\n"
          ]
        },
        {
          "name": "stderr",
          "output_type": "stream",
          "text": [
            " 65%|██████▍   | 1464/2253 [3:23:49<20:14,  1.54s/it]"
          ]
        },
        {
          "name": "stdout",
          "output_type": "stream",
          "text": [
            "<re.Match object; span=(5, 21), match='Vulnerability: 0'> <re.Match object; span=(22, 44), match='CWE ID: NOT_APPLICABLE'> <re.Match object; span=(45, 69), match='CWE Name: NOT_APPLICABLE'>\n"
          ]
        },
        {
          "name": "stderr",
          "output_type": "stream",
          "text": [
            " 65%|██████▌   | 1465/2253 [3:23:51<20:23,  1.55s/it]"
          ]
        },
        {
          "name": "stdout",
          "output_type": "stream",
          "text": [
            "<re.Match object; span=(5, 21), match='Vulnerability: 0'> <re.Match object; span=(22, 44), match='CWE ID: NOT_APPLICABLE'> <re.Match object; span=(45, 69), match='CWE Name: NOT_APPLICABLE'>\n"
          ]
        },
        {
          "name": "stderr",
          "output_type": "stream",
          "text": [
            " 65%|██████▌   | 1466/2253 [3:23:53<21:44,  1.66s/it]"
          ]
        },
        {
          "name": "stdout",
          "output_type": "stream",
          "text": [
            "<re.Match object; span=(5, 21), match='Vulnerability: 0'> <re.Match object; span=(22, 44), match='CWE ID: NOT_APPLICABLE'> <re.Match object; span=(45, 69), match='CWE Name: NOT_APPLICABLE'>\n"
          ]
        },
        {
          "name": "stderr",
          "output_type": "stream",
          "text": [
            " 65%|██████▌   | 1467/2253 [3:23:54<22:20,  1.71s/it]"
          ]
        },
        {
          "name": "stdout",
          "output_type": "stream",
          "text": [
            "<re.Match object; span=(7, 23), match='Vulnerability: 1'> <re.Match object; span=(24, 39), match='CWE ID: CWE-125'> <re.Match object; span=(40, 68), match='CWE Name: Out-of-bounds Read'>\n"
          ]
        },
        {
          "name": "stderr",
          "output_type": "stream",
          "text": [
            " 65%|██████▌   | 1468/2253 [3:23:56<22:30,  1.72s/it]"
          ]
        },
        {
          "name": "stdout",
          "output_type": "stream",
          "text": [
            "<re.Match object; span=(12, 28), match='Vulnerability: 0'> <re.Match object; span=(29, 51), match='CWE ID: NOT_APPLICABLE'> <re.Match object; span=(52, 76), match='CWE Name: NOT_APPLICABLE'>\n"
          ]
        },
        {
          "name": "stderr",
          "output_type": "stream",
          "text": [
            " 65%|██████▌   | 1469/2253 [3:23:58<21:34,  1.65s/it]"
          ]
        },
        {
          "name": "stdout",
          "output_type": "stream",
          "text": [
            "<re.Match object; span=(8, 24), match='Vulnerability: 0'> <re.Match object; span=(25, 47), match='CWE ID: NOT_APPLICABLE'> <re.Match object; span=(48, 72), match='CWE Name: NOT_APPLICABLE'>\n"
          ]
        },
        {
          "name": "stderr",
          "output_type": "stream",
          "text": [
            " 65%|██████▌   | 1470/2253 [3:23:59<21:06,  1.62s/it]"
          ]
        },
        {
          "name": "stdout",
          "output_type": "stream",
          "text": [
            "<re.Match object; span=(5, 21), match='Vulnerability: 1'> <re.Match object; span=(22, 37), match='CWE ID: CWE-189'> <re.Match object; span=(38, 62), match='CWE Name: Numeric Errors'>\n"
          ]
        },
        {
          "name": "stderr",
          "output_type": "stream",
          "text": [
            " 65%|██████▌   | 1471/2253 [3:24:01<21:10,  1.62s/it]"
          ]
        },
        {
          "name": "stdout",
          "output_type": "stream",
          "text": [
            "<re.Match object; span=(10, 26), match='Vulnerability: 1'> <re.Match object; span=(27, 41), match='CWE ID: CWE-20'> <re.Match object; span=(42, 77), match='CWE Name: Improper Input Validation'>\n"
          ]
        },
        {
          "name": "stderr",
          "output_type": "stream",
          "text": [
            " 65%|██████▌   | 1472/2253 [3:24:03<21:35,  1.66s/it]"
          ]
        },
        {
          "name": "stdout",
          "output_type": "stream",
          "text": [
            "<re.Match object; span=(5, 21), match='Vulnerability: 0'> <re.Match object; span=(22, 44), match='CWE ID: NOT_APPLICABLE'> <re.Match object; span=(45, 69), match='CWE Name: NOT_APPLICABLE'>\n"
          ]
        },
        {
          "name": "stderr",
          "output_type": "stream",
          "text": [
            " 65%|██████▌   | 1473/2253 [3:24:04<21:04,  1.62s/it]"
          ]
        },
        {
          "name": "stdout",
          "output_type": "stream",
          "text": [
            "<re.Match object; span=(5, 21), match='Vulnerability: 0'> <re.Match object; span=(22, 44), match='CWE ID: NOT_APPLICABLE'> <re.Match object; span=(45, 69), match='CWE Name: NOT_APPLICABLE'>\n"
          ]
        },
        {
          "name": "stderr",
          "output_type": "stream",
          "text": [
            " 65%|██████▌   | 1474/2253 [3:24:06<20:44,  1.60s/it]"
          ]
        },
        {
          "name": "stdout",
          "output_type": "stream",
          "text": [
            "<re.Match object; span=(12, 28), match='Vulnerability: 0'> <re.Match object; span=(29, 51), match='CWE ID: NOT_APPLICABLE'> <re.Match object; span=(52, 76), match='CWE Name: NOT_APPLICABLE'>\n"
          ]
        },
        {
          "name": "stderr",
          "output_type": "stream",
          "text": [
            " 65%|██████▌   | 1475/2253 [3:24:07<20:06,  1.55s/it]"
          ]
        },
        {
          "name": "stdout",
          "output_type": "stream",
          "text": [
            "<re.Match object; span=(10, 26), match='Vulnerability: 1'> <re.Match object; span=(27, 42), match='CWE ID: CWE-125'> <re.Match object; span=(43, 71), match='CWE Name: Out-of-bounds Read'>\n"
          ]
        },
        {
          "name": "stderr",
          "output_type": "stream",
          "text": [
            " 66%|██████▌   | 1476/2253 [3:24:09<20:22,  1.57s/it]"
          ]
        },
        {
          "name": "stdout",
          "output_type": "stream",
          "text": [
            "<re.Match object; span=(5, 21), match='Vulnerability: 0'> <re.Match object; span=(22, 44), match='CWE ID: NOT_APPLICABLE'> <re.Match object; span=(45, 69), match='CWE Name: NOT_APPLICABLE'>\n"
          ]
        },
        {
          "name": "stderr",
          "output_type": "stream",
          "text": [
            " 66%|██████▌   | 1477/2253 [3:24:10<20:24,  1.58s/it]"
          ]
        },
        {
          "name": "stdout",
          "output_type": "stream",
          "text": [
            "<re.Match object; span=(5, 21), match='Vulnerability: 1'> <re.Match object; span=(22, 37), match='CWE ID: CWE-119'> <re.Match object; span=(38, 119), match='CWE Name: Improper Restriction of Operations with>\n"
          ]
        },
        {
          "name": "stderr",
          "output_type": "stream",
          "text": [
            " 66%|██████▌   | 1478/2253 [3:24:14<27:56,  2.16s/it]"
          ]
        },
        {
          "name": "stdout",
          "output_type": "stream",
          "text": [
            "<re.Match object; span=(5, 21), match='Vulnerability: 0'> <re.Match object; span=(22, 44), match='CWE ID: NOT_APPLICABLE'> <re.Match object; span=(45, 69), match='CWE Name: NOT_APPLICABLE'>\n"
          ]
        },
        {
          "name": "stderr",
          "output_type": "stream",
          "text": [
            " 66%|██████▌   | 1479/2253 [3:24:15<25:05,  1.94s/it]"
          ]
        },
        {
          "name": "stdout",
          "output_type": "stream",
          "text": [
            "<re.Match object; span=(10, 26), match='Vulnerability: 0'> <re.Match object; span=(27, 49), match='CWE ID: NOT_APPLICABLE'> <re.Match object; span=(50, 74), match='CWE Name: NOT_APPLICABLE'>\n"
          ]
        },
        {
          "name": "stderr",
          "output_type": "stream",
          "text": [
            " 66%|██████▌   | 1480/2253 [3:24:17<23:04,  1.79s/it]"
          ]
        },
        {
          "name": "stdout",
          "output_type": "stream",
          "text": [
            "<re.Match object; span=(5, 21), match='Vulnerability: 0'> <re.Match object; span=(22, 44), match='CWE ID: NOT_APPLICABLE'> <re.Match object; span=(45, 69), match='CWE Name: NOT_APPLICABLE'>\n"
          ]
        },
        {
          "name": "stderr",
          "output_type": "stream",
          "text": [
            " 66%|██████▌   | 1481/2253 [3:24:18<21:40,  1.68s/it]"
          ]
        },
        {
          "name": "stdout",
          "output_type": "stream",
          "text": [
            "<re.Match object; span=(5, 21), match='Vulnerability: 1'> <re.Match object; span=(22, 37), match='CWE ID: CWE-189'> <re.Match object; span=(38, 62), match='CWE Name: Numeric Errors'>\n"
          ]
        },
        {
          "name": "stderr",
          "output_type": "stream",
          "text": [
            " 66%|██████▌   | 1482/2253 [3:24:20<22:29,  1.75s/it]"
          ]
        },
        {
          "name": "stdout",
          "output_type": "stream",
          "text": [
            "<re.Match object; span=(8, 24), match='Vulnerability: 1'> <re.Match object; span=(25, 40), match='CWE ID: CWE-119'> <re.Match object; span=(41, 122), match='CWE Name: Improper Restriction of Operations with>\n"
          ]
        },
        {
          "name": "stderr",
          "output_type": "stream",
          "text": [
            " 66%|██████▌   | 1483/2253 [3:24:22<21:49,  1.70s/it]"
          ]
        },
        {
          "name": "stdout",
          "output_type": "stream",
          "text": [
            "<re.Match object; span=(5, 21), match='Vulnerability: 0'> <re.Match object; span=(22, 44), match='CWE ID: NOT_APPLICABLE'> <re.Match object; span=(45, 69), match='CWE Name: NOT_APPLICABLE'>\n"
          ]
        },
        {
          "name": "stderr",
          "output_type": "stream",
          "text": [
            " 66%|██████▌   | 1484/2253 [3:24:25<28:17,  2.21s/it]"
          ]
        },
        {
          "name": "stdout",
          "output_type": "stream",
          "text": [
            "<re.Match object; span=(5, 21), match='Vulnerability: 0'> <re.Match object; span=(22, 44), match='CWE ID: NOT_APPLICABLE'> <re.Match object; span=(45, 69), match='CWE Name: NOT_APPLICABLE'>\n"
          ]
        },
        {
          "name": "stderr",
          "output_type": "stream",
          "text": [
            " 66%|██████▌   | 1485/2253 [3:24:27<27:33,  2.15s/it]"
          ]
        },
        {
          "name": "stdout",
          "output_type": "stream",
          "text": [
            "<re.Match object; span=(10, 26), match='Vulnerability: 0'> <re.Match object; span=(27, 49), match='CWE ID: NOT_APPLICABLE'> <re.Match object; span=(50, 74), match='CWE Name: NOT_APPLICABLE'>\n"
          ]
        },
        {
          "name": "stderr",
          "output_type": "stream",
          "text": [
            " 66%|██████▌   | 1486/2253 [3:24:29<25:33,  2.00s/it]"
          ]
        },
        {
          "name": "stdout",
          "output_type": "stream",
          "text": [
            "<re.Match object; span=(8, 24), match='Vulnerability: 0'> <re.Match object; span=(25, 47), match='CWE ID: NOT_APPLICABLE'> <re.Match object; span=(48, 72), match='CWE Name: NOT_APPLICABLE'>\n"
          ]
        },
        {
          "name": "stderr",
          "output_type": "stream",
          "text": [
            " 66%|██████▌   | 1487/2253 [3:24:30<23:43,  1.86s/it]"
          ]
        },
        {
          "name": "stdout",
          "output_type": "stream",
          "text": [
            "<re.Match object; span=(5, 21), match='Vulnerability: 0'> <re.Match object; span=(22, 44), match='CWE ID: NOT_APPLICABLE'> <re.Match object; span=(45, 69), match='CWE Name: NOT_APPLICABLE'>\n"
          ]
        },
        {
          "name": "stderr",
          "output_type": "stream",
          "text": [
            " 66%|██████▌   | 1488/2253 [3:24:32<21:55,  1.72s/it]"
          ]
        },
        {
          "name": "stdout",
          "output_type": "stream",
          "text": [
            "<re.Match object; span=(5, 21), match='Vulnerability: 1'> <re.Match object; span=(22, 37), match='CWE ID: CWE-264'> <re.Match object; span=(38, 92), match='CWE Name: Permissions, Privileges, and Access Con>\n"
          ]
        },
        {
          "name": "stderr",
          "output_type": "stream",
          "text": [
            " 66%|██████▌   | 1489/2253 [3:24:33<20:36,  1.62s/it]"
          ]
        },
        {
          "name": "stdout",
          "output_type": "stream",
          "text": [
            "<re.Match object; span=(4, 20), match='Vulnerability: 0'> <re.Match object; span=(21, 43), match='CWE ID: NOT_APPLICABLE'> <re.Match object; span=(44, 68), match='CWE Name: NOT_APPLICABLE'>\n"
          ]
        },
        {
          "name": "stderr",
          "output_type": "stream",
          "text": [
            " 66%|██████▌   | 1490/2253 [3:24:35<21:02,  1.66s/it]"
          ]
        },
        {
          "name": "stdout",
          "output_type": "stream",
          "text": [
            "<re.Match object; span=(5, 21), match='Vulnerability: 0'> <re.Match object; span=(22, 44), match='CWE ID: NOT_APPLICABLE'> <re.Match object; span=(45, 69), match='CWE Name: NOT_APPLICABLE'>\n"
          ]
        },
        {
          "name": "stderr",
          "output_type": "stream",
          "text": [
            " 66%|██████▌   | 1491/2253 [3:24:37<24:46,  1.95s/it]"
          ]
        },
        {
          "name": "stdout",
          "output_type": "stream",
          "text": [
            "<re.Match object; span=(14, 30), match='Vulnerability: 0'> <re.Match object; span=(31, 53), match='CWE ID: NOT_APPLICABLE'> <re.Match object; span=(54, 78), match='CWE Name: NOT_APPLICABLE'>\n"
          ]
        },
        {
          "name": "stderr",
          "output_type": "stream",
          "text": [
            " 66%|██████▌   | 1492/2253 [3:24:40<25:59,  2.05s/it]"
          ]
        },
        {
          "name": "stdout",
          "output_type": "stream",
          "text": [
            "<re.Match object; span=(10, 26), match='Vulnerability: 0'> <re.Match object; span=(27, 49), match='CWE ID: NOT_APPLICABLE'> <re.Match object; span=(50, 74), match='CWE Name: NOT_APPLICABLE'>\n"
          ]
        },
        {
          "name": "stderr",
          "output_type": "stream",
          "text": [
            " 66%|██████▋   | 1493/2253 [3:24:41<24:30,  1.93s/it]"
          ]
        },
        {
          "name": "stdout",
          "output_type": "stream",
          "text": [
            "<re.Match object; span=(5, 21), match='Vulnerability: 1'> <re.Match object; span=(22, 37), match='CWE ID: CWE-264'> <re.Match object; span=(38, 91), match='CWE Name: Permissions, Privileges, and Access Con>\n"
          ]
        },
        {
          "name": "stderr",
          "output_type": "stream",
          "text": [
            " 66%|██████▋   | 1494/2253 [3:24:43<23:37,  1.87s/it]"
          ]
        },
        {
          "name": "stdout",
          "output_type": "stream",
          "text": [
            "<re.Match object; span=(10, 26), match='Vulnerability: 1'> <re.Match object; span=(27, 41), match='CWE ID: CWE-20'> <re.Match object; span=(42, 77), match='CWE Name: Improper Input Validation'>\n"
          ]
        },
        {
          "name": "stderr",
          "output_type": "stream",
          "text": [
            " 66%|██████▋   | 1495/2253 [3:24:45<22:17,  1.76s/it]"
          ]
        },
        {
          "name": "stdout",
          "output_type": "stream",
          "text": [
            "<re.Match object; span=(10, 26), match='Vulnerability: 0'> <re.Match object; span=(27, 49), match='CWE ID: NOT_APPLICABLE'> <re.Match object; span=(50, 74), match='CWE Name: NOT_APPLICABLE'>\n"
          ]
        },
        {
          "name": "stderr",
          "output_type": "stream",
          "text": [
            " 66%|██████▋   | 1496/2253 [3:24:46<20:44,  1.64s/it]"
          ]
        },
        {
          "name": "stdout",
          "output_type": "stream",
          "text": [
            "<re.Match object; span=(8, 24), match='Vulnerability: 1'> <re.Match object; span=(25, 40), match='CWE ID: CWE-264'> <re.Match object; span=(41, 95), match='CWE Name: Permissions, Privileges, and Access Con>\n"
          ]
        },
        {
          "name": "stderr",
          "output_type": "stream",
          "text": [
            " 66%|██████▋   | 1497/2253 [3:24:48<20:58,  1.67s/it]"
          ]
        },
        {
          "name": "stdout",
          "output_type": "stream",
          "text": [
            "<re.Match object; span=(10, 26), match='Vulnerability: 0'> <re.Match object; span=(27, 49), match='CWE ID: NOT_APPLICABLE'> <re.Match object; span=(50, 74), match='CWE Name: NOT_APPLICABLE'>\n"
          ]
        },
        {
          "name": "stderr",
          "output_type": "stream",
          "text": [
            " 66%|██████▋   | 1498/2253 [3:24:49<20:26,  1.62s/it]"
          ]
        },
        {
          "name": "stdout",
          "output_type": "stream",
          "text": [
            "<re.Match object; span=(5, 21), match='Vulnerability: 1'> <re.Match object; span=(22, 36), match='CWE ID: CWE-20'> <re.Match object; span=(37, 72), match='CWE Name: Improper Input Validation'>\n"
          ]
        },
        {
          "name": "stderr",
          "output_type": "stream",
          "text": [
            " 67%|██████▋   | 1499/2253 [3:24:51<19:35,  1.56s/it]"
          ]
        },
        {
          "name": "stdout",
          "output_type": "stream",
          "text": [
            "<re.Match object; span=(14, 30), match='Vulnerability: 1'> <re.Match object; span=(31, 46), match='CWE ID: CWE-119'> <re.Match object; span=(47, 128), match='CWE Name: Improper Restriction of Operations with>\n"
          ]
        },
        {
          "name": "stderr",
          "output_type": "stream",
          "text": [
            " 67%|██████▋   | 1500/2253 [3:24:52<19:36,  1.56s/it]"
          ]
        },
        {
          "name": "stdout",
          "output_type": "stream",
          "text": [
            "<re.Match object; span=(14, 30), match='Vulnerability: 0'> <re.Match object; span=(31, 53), match='CWE ID: NOT_APPLICABLE'> <re.Match object; span=(54, 78), match='CWE Name: NOT_APPLICABLE'>\n"
          ]
        },
        {
          "name": "stderr",
          "output_type": "stream",
          "text": [
            " 67%|██████▋   | 1501/2253 [3:24:54<19:39,  1.57s/it]"
          ]
        },
        {
          "name": "stdout",
          "output_type": "stream",
          "text": [
            "<re.Match object; span=(5, 21), match='Vulnerability: 0'> <re.Match object; span=(22, 44), match='CWE ID: NOT_APPLICABLE'> <re.Match object; span=(45, 69), match='CWE Name: NOT_APPLICABLE'>\n"
          ]
        },
        {
          "name": "stderr",
          "output_type": "stream",
          "text": [
            " 67%|██████▋   | 1502/2253 [3:24:55<19:41,  1.57s/it]"
          ]
        },
        {
          "name": "stdout",
          "output_type": "stream",
          "text": [
            "<re.Match object; span=(5, 21), match='Vulnerability: 0'> <re.Match object; span=(22, 44), match='CWE ID: NOT_APPLICABLE'> <re.Match object; span=(45, 69), match='CWE Name: NOT_APPLICABLE'>\n"
          ]
        },
        {
          "name": "stderr",
          "output_type": "stream",
          "text": [
            " 67%|██████▋   | 1503/2253 [3:24:57<19:34,  1.57s/it]"
          ]
        },
        {
          "name": "stdout",
          "output_type": "stream",
          "text": [
            "<re.Match object; span=(18, 34), match='Vulnerability: 0'> <re.Match object; span=(35, 57), match='CWE ID: NOT_APPLICABLE'> <re.Match object; span=(58, 82), match='CWE Name: NOT_APPLICABLE'>\n"
          ]
        },
        {
          "name": "stderr",
          "output_type": "stream",
          "text": [
            " 67%|██████▋   | 1504/2253 [3:25:01<27:18,  2.19s/it]"
          ]
        },
        {
          "name": "stdout",
          "output_type": "stream",
          "text": [
            "<re.Match object; span=(5, 21), match='Vulnerability: 0'> <re.Match object; span=(22, 44), match='CWE ID: NOT_APPLICABLE'> <re.Match object; span=(45, 69), match='CWE Name: NOT_APPLICABLE'>\n"
          ]
        },
        {
          "name": "stderr",
          "output_type": "stream",
          "text": [
            " 67%|██████▋   | 1505/2253 [3:25:02<25:21,  2.03s/it]"
          ]
        },
        {
          "name": "stdout",
          "output_type": "stream",
          "text": [
            "<re.Match object; span=(4, 20), match='Vulnerability: 1'> <re.Match object; span=(21, 36), match='CWE ID: CWE-399'> <re.Match object; span=(37, 73), match='CWE Name: Resource Management Errors'>\n"
          ]
        },
        {
          "name": "stderr",
          "output_type": "stream",
          "text": [
            " 67%|██████▋   | 1506/2253 [3:25:04<24:38,  1.98s/it]"
          ]
        },
        {
          "name": "stdout",
          "output_type": "stream",
          "text": [
            "<re.Match object; span=(5, 21), match='Vulnerability: 0'> <re.Match object; span=(22, 44), match='CWE ID: NOT_APPLICABLE'> <re.Match object; span=(45, 69), match='CWE Name: NOT_APPLICABLE'>\n"
          ]
        },
        {
          "name": "stderr",
          "output_type": "stream",
          "text": [
            " 67%|██████▋   | 1507/2253 [3:25:06<24:52,  2.00s/it]"
          ]
        },
        {
          "name": "stdout",
          "output_type": "stream",
          "text": [
            "<re.Match object; span=(5, 21), match='Vulnerability: 0'> <re.Match object; span=(22, 44), match='CWE ID: NOT_APPLICABLE'> <re.Match object; span=(45, 69), match='CWE Name: NOT_APPLICABLE'>\n"
          ]
        },
        {
          "name": "stderr",
          "output_type": "stream",
          "text": [
            " 67%|██████▋   | 1508/2253 [3:25:08<23:09,  1.86s/it]"
          ]
        },
        {
          "name": "stdout",
          "output_type": "stream",
          "text": [
            "<re.Match object; span=(5, 21), match='Vulnerability: 0'> <re.Match object; span=(22, 44), match='CWE ID: NOT_APPLICABLE'> <re.Match object; span=(45, 69), match='CWE Name: NOT_APPLICABLE'>\n"
          ]
        },
        {
          "name": "stderr",
          "output_type": "stream",
          "text": [
            " 67%|██████▋   | 1509/2253 [3:25:09<22:11,  1.79s/it]"
          ]
        },
        {
          "name": "stdout",
          "output_type": "stream",
          "text": [
            "<re.Match object; span=(5, 21), match='Vulnerability: 1'> <re.Match object; span=(22, 37), match='CWE ID: CWE-264'> <re.Match object; span=(38, 91), match='CWE Name: Permissions, Privileges, and Access Con>\n"
          ]
        },
        {
          "name": "stderr",
          "output_type": "stream",
          "text": [
            " 67%|██████▋   | 1510/2253 [3:25:11<22:40,  1.83s/it]"
          ]
        },
        {
          "name": "stdout",
          "output_type": "stream",
          "text": [
            "<re.Match object; span=(4, 20), match='Vulnerability: 1'> <re.Match object; span=(21, 32), match='CWE ID: 589'> <re.Match object; span=(33, 66), match='CWE Name: Deferred Memory Release'>\n"
          ]
        },
        {
          "name": "stderr",
          "output_type": "stream",
          "text": [
            " 67%|██████▋   | 1511/2253 [3:25:13<23:32,  1.90s/it]"
          ]
        },
        {
          "name": "stdout",
          "output_type": "stream",
          "text": [
            "<re.Match object; span=(5, 21), match='Vulnerability: 1'> <re.Match object; span=(22, 33), match='CWE ID: 121'> <re.Match object; span=(34, 71), match='CWE Name: Stack-based Buffer Overflow'>\n"
          ]
        },
        {
          "name": "stderr",
          "output_type": "stream",
          "text": [
            " 67%|██████▋   | 1512/2253 [3:25:15<23:26,  1.90s/it]"
          ]
        },
        {
          "name": "stdout",
          "output_type": "stream",
          "text": [
            "<re.Match object; span=(5, 21), match='Vulnerability: 1'> <re.Match object; span=(22, 37), match='CWE ID: CWE-401'> <re.Match object; span=(38, 59), match='CWE Name: Memory Leak'>\n"
          ]
        },
        {
          "name": "stderr",
          "output_type": "stream",
          "text": [
            " 67%|██████▋   | 1513/2253 [3:25:17<23:09,  1.88s/it]"
          ]
        },
        {
          "name": "stdout",
          "output_type": "stream",
          "text": [
            "<re.Match object; span=(5, 21), match='Vulnerability: 0'> <re.Match object; span=(22, 44), match='CWE ID: NOT_APPLICABLE'> <re.Match object; span=(45, 69), match='CWE Name: NOT_APPLICABLE'>\n"
          ]
        },
        {
          "name": "stderr",
          "output_type": "stream",
          "text": [
            " 67%|██████▋   | 1514/2253 [3:25:19<22:58,  1.86s/it]"
          ]
        },
        {
          "name": "stdout",
          "output_type": "stream",
          "text": [
            "<re.Match object; span=(5, 21), match='Vulnerability: 0'> <re.Match object; span=(22, 44), match='CWE ID: NOT_APPLICABLE'> <re.Match object; span=(45, 69), match='CWE Name: NOT_APPLICABLE'>\n"
          ]
        },
        {
          "name": "stderr",
          "output_type": "stream",
          "text": [
            " 67%|██████▋   | 1515/2253 [3:25:20<21:45,  1.77s/it]"
          ]
        },
        {
          "name": "stdout",
          "output_type": "stream",
          "text": [
            "<re.Match object; span=(5, 21), match='Vulnerability: 0'> <re.Match object; span=(22, 44), match='CWE ID: NOT_APPLICABLE'> <re.Match object; span=(45, 69), match='CWE Name: NOT_APPLICABLE'>\n"
          ]
        },
        {
          "name": "stderr",
          "output_type": "stream",
          "text": [
            " 67%|██████▋   | 1516/2253 [3:25:22<21:58,  1.79s/it]"
          ]
        },
        {
          "name": "stdout",
          "output_type": "stream",
          "text": [
            "<re.Match object; span=(10, 26), match='Vulnerability: 0'> <re.Match object; span=(27, 49), match='CWE ID: NOT_APPLICABLE'> <re.Match object; span=(50, 74), match='CWE Name: NOT_APPLICABLE'>\n"
          ]
        },
        {
          "name": "stderr",
          "output_type": "stream",
          "text": [
            " 67%|██████▋   | 1517/2253 [3:25:24<21:42,  1.77s/it]"
          ]
        },
        {
          "name": "stdout",
          "output_type": "stream",
          "text": [
            "<re.Match object; span=(10, 26), match='Vulnerability: 0'> <re.Match object; span=(27, 49), match='CWE ID: NOT_APPLICABLE'> <re.Match object; span=(50, 74), match='CWE Name: NOT_APPLICABLE'>\n"
          ]
        },
        {
          "name": "stderr",
          "output_type": "stream",
          "text": [
            " 67%|██████▋   | 1518/2253 [3:25:26<21:32,  1.76s/it]"
          ]
        },
        {
          "name": "stdout",
          "output_type": "stream",
          "text": [
            "<re.Match object; span=(10, 26), match='Vulnerability: 1'> <re.Match object; span=(27, 42), match='CWE ID: CWE-119'> <re.Match object; span=(43, 124), match='CWE Name: Improper Restriction of Operations with>\n"
          ]
        },
        {
          "name": "stderr",
          "output_type": "stream",
          "text": [
            " 67%|██████▋   | 1519/2253 [3:25:27<20:42,  1.69s/it]"
          ]
        },
        {
          "name": "stdout",
          "output_type": "stream",
          "text": [
            "<re.Match object; span=(8, 24), match='Vulnerability: 1'> <re.Match object; span=(25, 40), match='CWE ID: CWE-200'> <re.Match object; span=(41, 109), match='CWE Name: Exposure of Sensitive Information to an>\n"
          ]
        },
        {
          "name": "stderr",
          "output_type": "stream",
          "text": [
            " 67%|██████▋   | 1520/2253 [3:25:29<21:57,  1.80s/it]"
          ]
        },
        {
          "name": "stdout",
          "output_type": "stream",
          "text": [
            "<re.Match object; span=(10, 26), match='Vulnerability: 1'> <re.Match object; span=(27, 41), match='CWE ID: CWE-20'> <re.Match object; span=(42, 77), match='CWE Name: Improper Input Validation'>\n"
          ]
        },
        {
          "name": "stderr",
          "output_type": "stream",
          "text": [
            " 68%|██████▊   | 1521/2253 [3:25:31<20:39,  1.69s/it]"
          ]
        },
        {
          "name": "stdout",
          "output_type": "stream",
          "text": [
            "<re.Match object; span=(10, 26), match='Vulnerability: 0'> <re.Match object; span=(27, 49), match='CWE ID: NOT_APPLICABLE'> <re.Match object; span=(50, 74), match='CWE Name: NOT_APPLICABLE'>\n"
          ]
        },
        {
          "name": "stderr",
          "output_type": "stream",
          "text": [
            " 68%|██████▊   | 1522/2253 [3:25:32<20:06,  1.65s/it]"
          ]
        },
        {
          "name": "stdout",
          "output_type": "stream",
          "text": [
            "<re.Match object; span=(5, 21), match='Vulnerability: 0'> <re.Match object; span=(22, 44), match='CWE ID: NOT_APPLICABLE'> <re.Match object; span=(45, 69), match='CWE Name: NOT_APPLICABLE'>\n"
          ]
        },
        {
          "name": "stderr",
          "output_type": "stream",
          "text": [
            " 68%|██████▊   | 1523/2253 [3:25:34<19:02,  1.57s/it]"
          ]
        },
        {
          "name": "stdout",
          "output_type": "stream",
          "text": [
            "<re.Match object; span=(5, 21), match='Vulnerability: 1'> <re.Match object; span=(22, 37), match='CWE ID: CWE-125'> <re.Match object; span=(38, 66), match='CWE Name: Out-of-bounds Read'>\n"
          ]
        },
        {
          "name": "stderr",
          "output_type": "stream",
          "text": [
            " 68%|██████▊   | 1524/2253 [3:25:35<19:41,  1.62s/it]"
          ]
        },
        {
          "name": "stdout",
          "output_type": "stream",
          "text": [
            "<re.Match object; span=(5, 21), match='Vulnerability: 0'> <re.Match object; span=(22, 44), match='CWE ID: NOT_APPLICABLE'> <re.Match object; span=(45, 69), match='CWE Name: NOT_APPLICABLE'>\n"
          ]
        },
        {
          "name": "stderr",
          "output_type": "stream",
          "text": [
            " 68%|██████▊   | 1525/2253 [3:25:37<20:35,  1.70s/it]"
          ]
        },
        {
          "name": "stdout",
          "output_type": "stream",
          "text": [
            "<re.Match object; span=(8, 24), match='Vulnerability: 1'> <re.Match object; span=(25, 40), match='CWE ID: CWE-787'> <re.Match object; span=(41, 70), match='CWE Name: Out-of-bounds Write'>\n"
          ]
        },
        {
          "name": "stderr",
          "output_type": "stream",
          "text": [
            " 68%|██████▊   | 1526/2253 [3:25:39<20:20,  1.68s/it]"
          ]
        },
        {
          "name": "stdout",
          "output_type": "stream",
          "text": [
            "<re.Match object; span=(14, 30), match='Vulnerability: 1'> <re.Match object; span=(31, 45), match='CWE ID: CWE-89'> <re.Match object; span=(46, 140), match=\"CWE Name: Improper Neutralization of Special Elem>\n"
          ]
        },
        {
          "name": "stderr",
          "output_type": "stream",
          "text": [
            " 68%|██████▊   | 1527/2253 [3:25:41<20:56,  1.73s/it]"
          ]
        },
        {
          "name": "stdout",
          "output_type": "stream",
          "text": [
            "<re.Match object; span=(5, 21), match='Vulnerability: 1'> <re.Match object; span=(22, 37), match='CWE ID: CWE-119'> <re.Match object; span=(38, 119), match='CWE Name: Improper Restriction of Operations with>\n"
          ]
        },
        {
          "name": "stderr",
          "output_type": "stream",
          "text": [
            " 68%|██████▊   | 1528/2253 [3:25:42<20:09,  1.67s/it]"
          ]
        },
        {
          "name": "stdout",
          "output_type": "stream",
          "text": [
            "<re.Match object; span=(8, 24), match='Vulnerability: 1'> <re.Match object; span=(25, 40), match='CWE ID: CWE-787'> <re.Match object; span=(41, 70), match='CWE Name: Out-of-bounds Write'>\n"
          ]
        },
        {
          "name": "stderr",
          "output_type": "stream",
          "text": [
            " 68%|██████▊   | 1529/2253 [3:25:44<20:25,  1.69s/it]"
          ]
        },
        {
          "name": "stdout",
          "output_type": "stream",
          "text": [
            "<re.Match object; span=(5, 21), match='Vulnerability: 0'> <re.Match object; span=(22, 44), match='CWE ID: NOT_APPLICABLE'> <re.Match object; span=(45, 69), match='CWE Name: NOT_APPLICABLE'>\n"
          ]
        },
        {
          "name": "stderr",
          "output_type": "stream",
          "text": [
            " 68%|██████▊   | 1530/2253 [3:25:46<20:33,  1.71s/it]"
          ]
        },
        {
          "name": "stdout",
          "output_type": "stream",
          "text": [
            "<re.Match object; span=(5, 21), match='Vulnerability: 0'> <re.Match object; span=(22, 44), match='CWE ID: NOT_APPLICABLE'> <re.Match object; span=(45, 69), match='CWE Name: NOT_APPLICABLE'>\n"
          ]
        },
        {
          "name": "stderr",
          "output_type": "stream",
          "text": [
            " 68%|██████▊   | 1531/2253 [3:25:47<20:18,  1.69s/it]"
          ]
        },
        {
          "name": "stdout",
          "output_type": "stream",
          "text": [
            "<re.Match object; span=(5, 21), match='Vulnerability: 1'> <re.Match object; span=(22, 37), match='CWE ID: CWE-122'> <re.Match object; span=(38, 74), match='CWE Name: Heap-based Buffer Overflow'>\n"
          ]
        },
        {
          "name": "stderr",
          "output_type": "stream",
          "text": [
            " 68%|██████▊   | 1532/2253 [3:25:49<19:35,  1.63s/it]"
          ]
        },
        {
          "name": "stdout",
          "output_type": "stream",
          "text": [
            "<re.Match object; span=(5, 21), match='Vulnerability: 0'> <re.Match object; span=(22, 44), match='CWE ID: NOT_APPLICABLE'> <re.Match object; span=(45, 69), match='CWE Name: NOT_APPLICABLE'>\n"
          ]
        },
        {
          "name": "stderr",
          "output_type": "stream",
          "text": [
            " 68%|██████▊   | 1533/2253 [3:25:51<21:56,  1.83s/it]"
          ]
        },
        {
          "name": "stdout",
          "output_type": "stream",
          "text": [
            "<re.Match object; span=(5, 21), match='Vulnerability: 1'> <re.Match object; span=(22, 37), match='CWE ID: CWE-119'> <re.Match object; span=(38, 119), match='CWE Name: Improper Restriction of Operations with>\n"
          ]
        },
        {
          "name": "stderr",
          "output_type": "stream",
          "text": [
            " 68%|██████▊   | 1534/2253 [3:25:53<22:20,  1.86s/it]"
          ]
        },
        {
          "name": "stdout",
          "output_type": "stream",
          "text": [
            "<re.Match object; span=(5, 21), match='Vulnerability: 1'> <re.Match object; span=(22, 37), match='CWE ID: CWE-399'> <re.Match object; span=(38, 74), match='CWE Name: Resource Management Errors'>\n"
          ]
        },
        {
          "name": "stderr",
          "output_type": "stream",
          "text": [
            " 68%|██████▊   | 1535/2253 [3:25:55<21:06,  1.76s/it]"
          ]
        },
        {
          "name": "stdout",
          "output_type": "stream",
          "text": [
            "<re.Match object; span=(12, 28), match='Vulnerability: 1'> <re.Match object; span=(29, 44), match='CWE ID: CWE-200'> <re.Match object; span=(45, 113), match='CWE Name: Exposure of Sensitive Information to an>\n"
          ]
        },
        {
          "name": "stderr",
          "output_type": "stream",
          "text": [
            " 68%|██████▊   | 1536/2253 [3:25:57<24:18,  2.03s/it]"
          ]
        },
        {
          "name": "stdout",
          "output_type": "stream",
          "text": [
            "<re.Match object; span=(10, 26), match='Vulnerability: 1'> <re.Match object; span=(27, 42), match='CWE ID: CWE-190'> <re.Match object; span=(43, 83), match='CWE Name: Integer Overflow or Wraparound'>\n"
          ]
        },
        {
          "name": "stderr",
          "output_type": "stream",
          "text": [
            " 68%|██████▊   | 1537/2253 [3:25:59<23:13,  1.95s/it]"
          ]
        },
        {
          "name": "stdout",
          "output_type": "stream",
          "text": [
            "<re.Match object; span=(5, 21), match='Vulnerability: 0'> <re.Match object; span=(22, 44), match='CWE ID: NOT_APPLICABLE'> <re.Match object; span=(45, 69), match='CWE Name: NOT_APPLICABLE'>\n"
          ]
        },
        {
          "name": "stderr",
          "output_type": "stream",
          "text": [
            " 68%|██████▊   | 1538/2253 [3:26:01<21:39,  1.82s/it]"
          ]
        },
        {
          "name": "stdout",
          "output_type": "stream",
          "text": [
            "<re.Match object; span=(5, 21), match='Vulnerability: 1'> <re.Match object; span=(22, 37), match='CWE ID: CWE-119'> <re.Match object; span=(38, 119), match='CWE Name: Improper Restriction of Operations with>\n"
          ]
        },
        {
          "name": "stderr",
          "output_type": "stream",
          "text": [
            " 68%|██████▊   | 1539/2253 [3:26:02<20:10,  1.69s/it]"
          ]
        },
        {
          "name": "stdout",
          "output_type": "stream",
          "text": [
            "<re.Match object; span=(10, 26), match='Vulnerability: 0'> <re.Match object; span=(27, 49), match='CWE ID: NOT_APPLICABLE'> <re.Match object; span=(50, 74), match='CWE Name: NOT_APPLICABLE'>\n"
          ]
        },
        {
          "name": "stderr",
          "output_type": "stream",
          "text": [
            " 68%|██████▊   | 1540/2253 [3:26:03<19:23,  1.63s/it]"
          ]
        },
        {
          "name": "stdout",
          "output_type": "stream",
          "text": [
            "<re.Match object; span=(5, 21), match='Vulnerability: 0'> <re.Match object; span=(22, 44), match='CWE ID: NOT_APPLICABLE'> <re.Match object; span=(45, 69), match='CWE Name: NOT_APPLICABLE'>\n"
          ]
        },
        {
          "name": "stderr",
          "output_type": "stream",
          "text": [
            " 68%|██████▊   | 1541/2253 [3:26:05<18:57,  1.60s/it]"
          ]
        },
        {
          "name": "stdout",
          "output_type": "stream",
          "text": [
            "<re.Match object; span=(8, 24), match='Vulnerability: 1'> <re.Match object; span=(25, 40), match='CWE ID: CWE-672'> <re.Match object; span=(41, 100), match='CWE Name: Operation on Resource After Expiration >\n"
          ]
        },
        {
          "name": "stderr",
          "output_type": "stream",
          "text": [
            " 68%|██████▊   | 1542/2253 [3:26:07<18:44,  1.58s/it]"
          ]
        },
        {
          "name": "stdout",
          "output_type": "stream",
          "text": [
            "<re.Match object; span=(5, 21), match='Vulnerability: 1'> <re.Match object; span=(22, 37), match='CWE ID: CWE-125'> <re.Match object; span=(38, 66), match='CWE Name: Out-of-bounds Read'>\n"
          ]
        },
        {
          "name": "stderr",
          "output_type": "stream",
          "text": [
            " 68%|██████▊   | 1543/2253 [3:26:08<18:14,  1.54s/it]"
          ]
        },
        {
          "name": "stdout",
          "output_type": "stream",
          "text": [
            "<re.Match object; span=(10, 26), match='Vulnerability: 0'> <re.Match object; span=(27, 49), match='CWE ID: NOT_APPLICABLE'> <re.Match object; span=(50, 74), match='CWE Name: NOT_APPLICABLE'>\n"
          ]
        },
        {
          "name": "stderr",
          "output_type": "stream",
          "text": [
            " 69%|██████▊   | 1544/2253 [3:26:10<18:08,  1.54s/it]"
          ]
        },
        {
          "name": "stdout",
          "output_type": "stream",
          "text": [
            "<re.Match object; span=(5, 21), match='Vulnerability: 1'> <re.Match object; span=(22, 37), match='CWE ID: CWE-416'> <re.Match object; span=(38, 62), match='CWE Name: Use After Free'>\n"
          ]
        },
        {
          "name": "stderr",
          "output_type": "stream",
          "text": [
            " 69%|██████▊   | 1545/2253 [3:26:11<17:44,  1.50s/it]"
          ]
        },
        {
          "name": "stdout",
          "output_type": "stream",
          "text": [
            "<re.Match object; span=(5, 21), match='Vulnerability: 0'> <re.Match object; span=(22, 44), match='CWE ID: NOT_APPLICABLE'> <re.Match object; span=(45, 69), match='CWE Name: NOT_APPLICABLE'>\n"
          ]
        },
        {
          "name": "stderr",
          "output_type": "stream",
          "text": [
            " 69%|██████▊   | 1546/2253 [3:26:12<17:51,  1.52s/it]"
          ]
        },
        {
          "name": "stdout",
          "output_type": "stream",
          "text": [
            "<re.Match object; span=(5, 22), match='Vulnerability: 1\\r'> <re.Match object; span=(23, 38), match='CWE ID: CWE-20\\r'> <re.Match object; span=(39, 75), match='CWE Name: Improper Input Validation\\r'>\n"
          ]
        },
        {
          "name": "stderr",
          "output_type": "stream",
          "text": [
            " 69%|██████▊   | 1547/2253 [3:26:14<17:31,  1.49s/it]"
          ]
        },
        {
          "name": "stdout",
          "output_type": "stream",
          "text": [
            "<re.Match object; span=(4, 20), match='Vulnerability: 0'> <re.Match object; span=(21, 43), match='CWE ID: NOT_APPLICABLE'> <re.Match object; span=(44, 68), match='CWE Name: NOT_APPLICABLE'>\n"
          ]
        },
        {
          "name": "stderr",
          "output_type": "stream",
          "text": [
            " 69%|██████▊   | 1548/2253 [3:26:15<17:38,  1.50s/it]"
          ]
        },
        {
          "name": "stdout",
          "output_type": "stream",
          "text": [
            "<re.Match object; span=(8, 24), match='Vulnerability: 0'> <re.Match object; span=(25, 47), match='CWE ID: NOT_APPLICABLE'> <re.Match object; span=(48, 72), match='CWE Name: NOT_APPLICABLE'>\n"
          ]
        },
        {
          "name": "stderr",
          "output_type": "stream",
          "text": [
            " 69%|██████▉   | 1549/2253 [3:26:17<17:26,  1.49s/it]"
          ]
        },
        {
          "name": "stdout",
          "output_type": "stream",
          "text": [
            "<re.Match object; span=(5, 21), match='Vulnerability: 0'> <re.Match object; span=(22, 44), match='CWE ID: NOT_APPLICABLE'> <re.Match object; span=(45, 69), match='CWE Name: NOT_APPLICABLE'>\n"
          ]
        },
        {
          "name": "stderr",
          "output_type": "stream",
          "text": [
            " 69%|██████▉   | 1550/2253 [3:26:18<17:32,  1.50s/it]"
          ]
        },
        {
          "name": "stdout",
          "output_type": "stream",
          "text": [
            "<re.Match object; span=(5, 21), match='Vulnerability: 1'> <re.Match object; span=(22, 37), match='CWE ID: CWE-362'> <re.Match object; span=(38, 139), match=\"CWE Name: Concurrent Execution using Shared Resou>\n"
          ]
        },
        {
          "name": "stderr",
          "output_type": "stream",
          "text": [
            " 69%|██████▉   | 1551/2253 [3:26:20<17:37,  1.51s/it]"
          ]
        },
        {
          "name": "stdout",
          "output_type": "stream",
          "text": [
            "<re.Match object; span=(8, 24), match='Vulnerability: 0'> <re.Match object; span=(25, 47), match='CWE ID: NOT_APPLICABLE'> <re.Match object; span=(48, 72), match='CWE Name: NOT_APPLICABLE'>\n"
          ]
        },
        {
          "name": "stderr",
          "output_type": "stream",
          "text": [
            " 69%|██████▉   | 1552/2253 [3:26:22<19:11,  1.64s/it]"
          ]
        },
        {
          "name": "stdout",
          "output_type": "stream",
          "text": [
            "<re.Match object; span=(5, 21), match='Vulnerability: 0'> <re.Match object; span=(22, 44), match='CWE ID: NOT_APPLICABLE'> <re.Match object; span=(45, 69), match='CWE Name: NOT_APPLICABLE'>\n"
          ]
        },
        {
          "name": "stderr",
          "output_type": "stream",
          "text": [
            " 69%|██████▉   | 1553/2253 [3:26:23<18:24,  1.58s/it]"
          ]
        },
        {
          "name": "stdout",
          "output_type": "stream",
          "text": [
            "<re.Match object; span=(5, 21), match='Vulnerability: 0'> <re.Match object; span=(22, 44), match='CWE ID: NOT_APPLICABLE'> <re.Match object; span=(45, 69), match='CWE Name: NOT_APPLICABLE'>\n"
          ]
        },
        {
          "name": "stderr",
          "output_type": "stream",
          "text": [
            " 69%|██████▉   | 1554/2253 [3:26:25<18:59,  1.63s/it]"
          ]
        },
        {
          "name": "stdout",
          "output_type": "stream",
          "text": [
            "<re.Match object; span=(5, 21), match='Vulnerability: 1'> <re.Match object; span=(22, 37), match='CWE ID: CWE-119'> <re.Match object; span=(38, 119), match='CWE Name: Improper Restriction of Operations with>\n"
          ]
        },
        {
          "name": "stderr",
          "output_type": "stream",
          "text": [
            " 69%|██████▉   | 1555/2253 [3:26:27<18:55,  1.63s/it]"
          ]
        },
        {
          "name": "stdout",
          "output_type": "stream",
          "text": [
            "<re.Match object; span=(5, 21), match='Vulnerability: 0'> <re.Match object; span=(22, 44), match='CWE ID: NOT_APPLICABLE'> <re.Match object; span=(45, 69), match='CWE Name: NOT_APPLICABLE'>\n"
          ]
        },
        {
          "name": "stderr",
          "output_type": "stream",
          "text": [
            " 69%|██████▉   | 1556/2253 [3:26:30<24:20,  2.10s/it]"
          ]
        },
        {
          "name": "stdout",
          "output_type": "stream",
          "text": [
            "<re.Match object; span=(5, 21), match='Vulnerability: 1'> <re.Match object; span=(22, 37), match='CWE ID: CWE-120'> <re.Match object; span=(38, 118), match=\"CWE Name: Buffer Copy without Checking Size of In>\n"
          ]
        },
        {
          "name": "stderr",
          "output_type": "stream",
          "text": [
            " 69%|██████▉   | 1557/2253 [3:26:32<23:24,  2.02s/it]"
          ]
        },
        {
          "name": "stdout",
          "output_type": "stream",
          "text": [
            "<re.Match object; span=(8, 24), match='Vulnerability: 1'> <re.Match object; span=(25, 40), match='CWE ID: CWE-200'> <re.Match object; span=(41, 109), match='CWE Name: Exposure of Sensitive Information to an>\n"
          ]
        },
        {
          "name": "stderr",
          "output_type": "stream",
          "text": [
            " 69%|██████▉   | 1558/2253 [3:26:33<22:24,  1.93s/it]"
          ]
        },
        {
          "name": "stdout",
          "output_type": "stream",
          "text": [
            "<re.Match object; span=(5, 21), match='Vulnerability: 1'> <re.Match object; span=(22, 37), match='CWE ID: CWE-121'> <re.Match object; span=(38, 75), match='CWE Name: Stack-based Buffer Overflow'>\n"
          ]
        },
        {
          "name": "stderr",
          "output_type": "stream",
          "text": [
            " 69%|██████▉   | 1559/2253 [3:26:35<22:03,  1.91s/it]"
          ]
        },
        {
          "name": "stdout",
          "output_type": "stream",
          "text": [
            "<re.Match object; span=(8, 24), match='Vulnerability: 1'> <re.Match object; span=(25, 40), match='CWE ID: CWE-125'> <re.Match object; span=(41, 69), match='CWE Name: Out-of-bounds Read'>\n"
          ]
        },
        {
          "name": "stderr",
          "output_type": "stream",
          "text": [
            " 69%|██████▉   | 1560/2253 [3:26:37<21:08,  1.83s/it]"
          ]
        },
        {
          "name": "stdout",
          "output_type": "stream",
          "text": [
            "<re.Match object; span=(5, 21), match='Vulnerability: 0'> <re.Match object; span=(22, 44), match='CWE ID: NOT_APPLICABLE'> <re.Match object; span=(45, 69), match='CWE Name: NOT_APPLICABLE'>\n"
          ]
        },
        {
          "name": "stderr",
          "output_type": "stream",
          "text": [
            " 69%|██████▉   | 1561/2253 [3:26:38<20:03,  1.74s/it]"
          ]
        },
        {
          "name": "stdout",
          "output_type": "stream",
          "text": [
            "<re.Match object; span=(5, 21), match='Vulnerability: 1'> <re.Match object; span=(22, 37), match='CWE ID: CWE-119'> <re.Match object; span=(38, 119), match='CWE Name: Improper Restriction of Operations with>\n"
          ]
        },
        {
          "name": "stderr",
          "output_type": "stream",
          "text": [
            " 69%|██████▉   | 1562/2253 [3:26:40<19:10,  1.66s/it]"
          ]
        },
        {
          "name": "stdout",
          "output_type": "stream",
          "text": [
            "<re.Match object; span=(5, 21), match='Vulnerability: 1'> <re.Match object; span=(22, 37), match='CWE ID: CWE-119'> <re.Match object; span=(38, 119), match='CWE Name: Improper Restriction of Operations with>\n"
          ]
        },
        {
          "name": "stderr",
          "output_type": "stream",
          "text": [
            " 69%|██████▉   | 1563/2253 [3:26:42<19:54,  1.73s/it]"
          ]
        },
        {
          "name": "stdout",
          "output_type": "stream",
          "text": [
            "<re.Match object; span=(5, 21), match='Vulnerability: 1'> <re.Match object; span=(22, 37), match='CWE ID: CWE-264'> <re.Match object; span=(38, 92), match='CWE Name: Permissions, Privileges, and Access Con>\n"
          ]
        },
        {
          "name": "stderr",
          "output_type": "stream",
          "text": [
            " 69%|██████▉   | 1564/2253 [3:26:43<19:12,  1.67s/it]"
          ]
        },
        {
          "name": "stdout",
          "output_type": "stream",
          "text": [
            "<re.Match object; span=(5, 21), match='Vulnerability: 0'> <re.Match object; span=(22, 44), match='CWE ID: NOT_APPLICABLE'> <re.Match object; span=(45, 69), match='CWE Name: NOT_APPLICABLE'>\n"
          ]
        },
        {
          "name": "stderr",
          "output_type": "stream",
          "text": [
            " 69%|██████▉   | 1565/2253 [3:26:45<18:05,  1.58s/it]"
          ]
        },
        {
          "name": "stdout",
          "output_type": "stream",
          "text": [
            "<re.Match object; span=(5, 21), match='Vulnerability: 1'> <re.Match object; span=(22, 37), match='CWE ID: CWE-787'> <re.Match object; span=(38, 67), match='CWE Name: Out-of-bounds Write'>\n"
          ]
        },
        {
          "name": "stderr",
          "output_type": "stream",
          "text": [
            " 70%|██████▉   | 1566/2253 [3:26:46<17:29,  1.53s/it]"
          ]
        },
        {
          "name": "stdout",
          "output_type": "stream",
          "text": [
            "<re.Match object; span=(5, 21), match='Vulnerability: 0'> <re.Match object; span=(22, 44), match='CWE ID: NOT_APPLICABLE'> <re.Match object; span=(45, 69), match='CWE Name: NOT_APPLICABLE'>\n"
          ]
        },
        {
          "name": "stderr",
          "output_type": "stream",
          "text": [
            " 70%|██████▉   | 1567/2253 [3:26:48<17:30,  1.53s/it]"
          ]
        },
        {
          "name": "stdout",
          "output_type": "stream",
          "text": [
            "<re.Match object; span=(14, 30), match='Vulnerability: 1'> <re.Match object; span=(31, 46), match='CWE ID: CWE-119'> <re.Match object; span=(47, 128), match='CWE Name: Improper Restriction of Operations with>\n"
          ]
        },
        {
          "name": "stderr",
          "output_type": "stream",
          "text": [
            " 70%|██████▉   | 1568/2253 [3:26:49<17:28,  1.53s/it]"
          ]
        },
        {
          "name": "stdout",
          "output_type": "stream",
          "text": [
            "<re.Match object; span=(5, 21), match='Vulnerability: 0'> <re.Match object; span=(22, 44), match='CWE ID: NOT_APPLICABLE'> <re.Match object; span=(45, 69), match='CWE Name: NOT_APPLICABLE'>\n"
          ]
        },
        {
          "name": "stderr",
          "output_type": "stream",
          "text": [
            " 70%|██████▉   | 1569/2253 [3:26:51<19:14,  1.69s/it]"
          ]
        },
        {
          "name": "stdout",
          "output_type": "stream",
          "text": [
            "<re.Match object; span=(8, 24), match='Vulnerability: 1'> <re.Match object; span=(25, 40), match='CWE ID: CWE-125'> <re.Match object; span=(41, 69), match='CWE Name: Out-of-bounds Read'>\n"
          ]
        },
        {
          "name": "stderr",
          "output_type": "stream",
          "text": [
            " 70%|██████▉   | 1570/2253 [3:26:53<18:40,  1.64s/it]"
          ]
        },
        {
          "name": "stdout",
          "output_type": "stream",
          "text": [
            "<re.Match object; span=(4, 20), match='Vulnerability: 0'> <re.Match object; span=(21, 43), match='CWE ID: NOT_APPLICABLE'> <re.Match object; span=(44, 68), match='CWE Name: NOT_APPLICABLE'>\n"
          ]
        },
        {
          "name": "stderr",
          "output_type": "stream",
          "text": [
            " 70%|██████▉   | 1571/2253 [3:26:55<21:50,  1.92s/it]"
          ]
        },
        {
          "name": "stdout",
          "output_type": "stream",
          "text": [
            "<re.Match object; span=(5, 21), match='Vulnerability: 1'> <re.Match object; span=(22, 37), match='CWE ID: CWE-190'> <re.Match object; span=(38, 78), match='CWE Name: Integer Overflow or Wraparound'>\n"
          ]
        },
        {
          "name": "stderr",
          "output_type": "stream",
          "text": [
            " 70%|██████▉   | 1572/2253 [3:26:57<20:05,  1.77s/it]"
          ]
        },
        {
          "name": "stdout",
          "output_type": "stream",
          "text": [
            "<re.Match object; span=(5, 21), match='Vulnerability: 0'> <re.Match object; span=(22, 44), match='CWE ID: NOT_APPLICABLE'> <re.Match object; span=(45, 69), match='CWE Name: NOT_APPLICABLE'>\n"
          ]
        },
        {
          "name": "stderr",
          "output_type": "stream",
          "text": [
            " 70%|██████▉   | 1573/2253 [3:26:58<19:36,  1.73s/it]"
          ]
        },
        {
          "name": "stdout",
          "output_type": "stream",
          "text": [
            "<re.Match object; span=(5, 21), match='Vulnerability: 1'> <re.Match object; span=(22, 37), match='CWE ID: CWE-119'> <re.Match object; span=(38, 119), match='CWE Name: Improper Restriction of Operations with>\n"
          ]
        },
        {
          "name": "stderr",
          "output_type": "stream",
          "text": [
            " 70%|██████▉   | 1574/2253 [3:27:00<18:34,  1.64s/it]"
          ]
        },
        {
          "name": "stdout",
          "output_type": "stream",
          "text": [
            "<re.Match object; span=(5, 21), match='Vulnerability: 0'> <re.Match object; span=(22, 44), match='CWE ID: NOT_APPLICABLE'> <re.Match object; span=(45, 69), match='CWE Name: NOT_APPLICABLE'>\n"
          ]
        },
        {
          "name": "stderr",
          "output_type": "stream",
          "text": [
            " 70%|██████▉   | 1575/2253 [3:27:02<18:31,  1.64s/it]"
          ]
        },
        {
          "name": "stdout",
          "output_type": "stream",
          "text": [
            "<re.Match object; span=(5, 21), match='Vulnerability: 1'> <re.Match object; span=(22, 37), match='CWE ID: CWE-119'> <re.Match object; span=(38, 119), match='CWE Name: Improper Restriction of Operations with>\n"
          ]
        },
        {
          "name": "stderr",
          "output_type": "stream",
          "text": [
            " 70%|██████▉   | 1576/2253 [3:27:03<18:10,  1.61s/it]"
          ]
        },
        {
          "name": "stdout",
          "output_type": "stream",
          "text": [
            "<re.Match object; span=(5, 21), match='Vulnerability: 0'> <re.Match object; span=(22, 44), match='CWE ID: NOT_APPLICABLE'> <re.Match object; span=(45, 69), match='CWE Name: NOT_APPLICABLE'>\n"
          ]
        },
        {
          "name": "stderr",
          "output_type": "stream",
          "text": [
            " 70%|██████▉   | 1577/2253 [3:27:05<17:53,  1.59s/it]"
          ]
        },
        {
          "name": "stdout",
          "output_type": "stream",
          "text": [
            "<re.Match object; span=(5, 21), match='Vulnerability: 0'> <re.Match object; span=(22, 44), match='CWE ID: NOT_APPLICABLE'> <re.Match object; span=(45, 69), match='CWE Name: NOT_APPLICABLE'>\n"
          ]
        },
        {
          "name": "stderr",
          "output_type": "stream",
          "text": [
            " 70%|███████   | 1578/2253 [3:27:06<17:42,  1.57s/it]"
          ]
        },
        {
          "name": "stdout",
          "output_type": "stream",
          "text": [
            "<re.Match object; span=(8, 24), match='Vulnerability: 1'> <re.Match object; span=(25, 39), match='CWE ID: CWE-20'> <re.Match object; span=(40, 75), match='CWE Name: Improper Input Validation'>\n"
          ]
        },
        {
          "name": "stderr",
          "output_type": "stream",
          "text": [
            " 70%|███████   | 1579/2253 [3:27:08<17:33,  1.56s/it]"
          ]
        },
        {
          "name": "stdout",
          "output_type": "stream",
          "text": [
            "<re.Match object; span=(10, 26), match='Vulnerability: 1'> <re.Match object; span=(27, 41), match='CWE ID: CWE-20'> <re.Match object; span=(42, 77), match='CWE Name: Improper Input Validation'>\n"
          ]
        },
        {
          "name": "stderr",
          "output_type": "stream",
          "text": [
            " 70%|███████   | 1580/2253 [3:27:09<18:06,  1.61s/it]"
          ]
        },
        {
          "name": "stdout",
          "output_type": "stream",
          "text": [
            "<re.Match object; span=(5, 21), match='Vulnerability: 1'> <re.Match object; span=(22, 37), match='CWE ID: CWE-119'> <re.Match object; span=(38, 119), match='CWE Name: Improper Restriction of Operations with>\n"
          ]
        },
        {
          "name": "stderr",
          "output_type": "stream",
          "text": [
            " 70%|███████   | 1581/2253 [3:27:11<17:49,  1.59s/it]"
          ]
        },
        {
          "name": "stdout",
          "output_type": "stream",
          "text": [
            "<re.Match object; span=(5, 21), match='Vulnerability: 0'> <re.Match object; span=(22, 44), match='CWE ID: NOT_APPLICABLE'> <re.Match object; span=(45, 69), match='CWE Name: NOT_APPLICABLE'>\n"
          ]
        },
        {
          "name": "stderr",
          "output_type": "stream",
          "text": [
            " 70%|███████   | 1582/2253 [3:27:13<17:55,  1.60s/it]"
          ]
        },
        {
          "name": "stdout",
          "output_type": "stream",
          "text": [
            "<re.Match object; span=(5, 21), match='Vulnerability: 1'> <re.Match object; span=(22, 33), match='CWE ID: 129'> <re.Match object; span=(34, 78), match='CWE Name: Improper Validation of Array Index'>\n"
          ]
        },
        {
          "name": "stderr",
          "output_type": "stream",
          "text": [
            " 70%|███████   | 1583/2253 [3:27:14<18:23,  1.65s/it]"
          ]
        },
        {
          "name": "stdout",
          "output_type": "stream",
          "text": [
            "<re.Match object; span=(5, 21), match='Vulnerability: 0'> <re.Match object; span=(22, 44), match='CWE ID: NOT_APPLICABLE'> <re.Match object; span=(45, 69), match='CWE Name: NOT_APPLICABLE'>\n"
          ]
        },
        {
          "name": "stderr",
          "output_type": "stream",
          "text": [
            " 70%|███████   | 1584/2253 [3:27:16<17:56,  1.61s/it]"
          ]
        },
        {
          "name": "stdout",
          "output_type": "stream",
          "text": [
            "<re.Match object; span=(5, 21), match='Vulnerability: 1'> <re.Match object; span=(22, 37), match='CWE ID: CWE-125'> <re.Match object; span=(38, 66), match='CWE Name: Out-of-bounds Read'>\n"
          ]
        },
        {
          "name": "stderr",
          "output_type": "stream",
          "text": [
            " 70%|███████   | 1585/2253 [3:27:17<17:40,  1.59s/it]"
          ]
        },
        {
          "name": "stdout",
          "output_type": "stream",
          "text": [
            "<re.Match object; span=(5, 21), match='Vulnerability: 0'> <re.Match object; span=(22, 44), match='CWE ID: NOT_APPLICABLE'> <re.Match object; span=(45, 69), match='CWE Name: NOT_APPLICABLE'>\n"
          ]
        },
        {
          "name": "stderr",
          "output_type": "stream",
          "text": [
            " 70%|███████   | 1586/2253 [3:27:19<18:12,  1.64s/it]"
          ]
        },
        {
          "name": "stdout",
          "output_type": "stream",
          "text": [
            "<re.Match object; span=(5, 21), match='Vulnerability: 0'> <re.Match object; span=(22, 44), match='CWE ID: NOT_APPLICABLE'> <re.Match object; span=(45, 69), match='CWE Name: NOT_APPLICABLE'>\n"
          ]
        },
        {
          "name": "stderr",
          "output_type": "stream",
          "text": [
            " 70%|███████   | 1587/2253 [3:27:21<17:27,  1.57s/it]"
          ]
        },
        {
          "name": "stdout",
          "output_type": "stream",
          "text": [
            "<re.Match object; span=(10, 26), match='Vulnerability: 0'> <re.Match object; span=(27, 49), match='CWE ID: NOT_APPLICABLE'> <re.Match object; span=(50, 74), match='CWE Name: NOT_APPLICABLE'>\n"
          ]
        },
        {
          "name": "stderr",
          "output_type": "stream",
          "text": [
            " 70%|███████   | 1588/2253 [3:27:22<17:26,  1.57s/it]"
          ]
        },
        {
          "name": "stdout",
          "output_type": "stream",
          "text": [
            "<re.Match object; span=(4, 20), match='Vulnerability: 0'> <re.Match object; span=(21, 43), match='CWE ID: NOT_APPLICABLE'> <re.Match object; span=(44, 68), match='CWE Name: NOT_APPLICABLE'>\n"
          ]
        },
        {
          "name": "stderr",
          "output_type": "stream",
          "text": [
            " 71%|███████   | 1589/2253 [3:27:24<17:11,  1.55s/it]"
          ]
        },
        {
          "name": "stdout",
          "output_type": "stream",
          "text": [
            "<re.Match object; span=(5, 21), match='Vulnerability: 1'> <re.Match object; span=(22, 37), match='CWE ID: CWE-200'> <re.Match object; span=(38, 106), match='CWE Name: Exposure of Sensitive Information to an>\n"
          ]
        },
        {
          "name": "stderr",
          "output_type": "stream",
          "text": [
            " 71%|███████   | 1590/2253 [3:27:25<17:47,  1.61s/it]"
          ]
        },
        {
          "name": "stdout",
          "output_type": "stream",
          "text": [
            "<re.Match object; span=(5, 21), match='Vulnerability: 1'> <re.Match object; span=(22, 37), match='CWE ID: CWE-416'> <re.Match object; span=(38, 62), match='CWE Name: Use After Free'>\n"
          ]
        },
        {
          "name": "stderr",
          "output_type": "stream",
          "text": [
            " 71%|███████   | 1591/2253 [3:27:27<18:31,  1.68s/it]"
          ]
        },
        {
          "name": "stdout",
          "output_type": "stream",
          "text": [
            "<re.Match object; span=(4, 20), match='Vulnerability: 0'> <re.Match object; span=(21, 43), match='CWE ID: NOT_APPLICABLE'> <re.Match object; span=(44, 68), match='CWE Name: NOT_APPLICABLE'>\n"
          ]
        },
        {
          "name": "stderr",
          "output_type": "stream",
          "text": [
            " 71%|███████   | 1592/2253 [3:27:29<19:42,  1.79s/it]"
          ]
        },
        {
          "name": "stdout",
          "output_type": "stream",
          "text": [
            "<re.Match object; span=(5, 21), match='Vulnerability: 0'> <re.Match object; span=(22, 44), match='CWE ID: NOT_APPLICABLE'> <re.Match object; span=(45, 69), match='CWE Name: NOT_APPLICABLE'>\n"
          ]
        },
        {
          "name": "stderr",
          "output_type": "stream",
          "text": [
            " 71%|███████   | 1593/2253 [3:27:31<19:13,  1.75s/it]"
          ]
        },
        {
          "name": "stdout",
          "output_type": "stream",
          "text": [
            "<re.Match object; span=(5, 21), match='Vulnerability: 0'> <re.Match object; span=(22, 44), match='CWE ID: NOT_APPLICABLE'> <re.Match object; span=(45, 69), match='CWE Name: NOT_APPLICABLE'>\n"
          ]
        },
        {
          "name": "stderr",
          "output_type": "stream",
          "text": [
            " 71%|███████   | 1594/2253 [3:27:33<18:48,  1.71s/it]"
          ]
        },
        {
          "name": "stdout",
          "output_type": "stream",
          "text": [
            "<re.Match object; span=(5, 21), match='Vulnerability: 1'> <re.Match object; span=(22, 33), match='CWE ID: 329'> <re.Match object; span=(34, 85), match='CWE Name: Not Using Reversible Protection Mechani>\n"
          ]
        },
        {
          "name": "stderr",
          "output_type": "stream",
          "text": [
            " 71%|███████   | 1595/2253 [3:27:34<18:11,  1.66s/it]"
          ]
        },
        {
          "name": "stdout",
          "output_type": "stream",
          "text": [
            "<re.Match object; span=(10, 26), match='Vulnerability: 1'> <re.Match object; span=(27, 42), match='CWE ID: CWE-125'> <re.Match object; span=(43, 71), match='CWE Name: Out-of-bounds Read'>\n"
          ]
        },
        {
          "name": "stderr",
          "output_type": "stream",
          "text": [
            " 71%|███████   | 1596/2253 [3:27:36<17:47,  1.62s/it]"
          ]
        },
        {
          "name": "stdout",
          "output_type": "stream",
          "text": [
            "<re.Match object; span=(10, 26), match='Vulnerability: 0'> <re.Match object; span=(27, 49), match='CWE ID: NOT_APPLICABLE'> <re.Match object; span=(50, 74), match='CWE Name: NOT_APPLICABLE'>\n"
          ]
        },
        {
          "name": "stderr",
          "output_type": "stream",
          "text": [
            " 71%|███████   | 1597/2253 [3:27:38<20:08,  1.84s/it]"
          ]
        },
        {
          "name": "stdout",
          "output_type": "stream",
          "text": [
            "<re.Match object; span=(10, 26), match='Vulnerability: 1'> <re.Match object; span=(27, 42), match='CWE ID: CWE-121'> <re.Match object; span=(43, 80), match='CWE Name: Stack-based Buffer Overflow'>\n"
          ]
        },
        {
          "name": "stderr",
          "output_type": "stream",
          "text": [
            " 71%|███████   | 1598/2253 [3:27:40<19:07,  1.75s/it]"
          ]
        },
        {
          "name": "stdout",
          "output_type": "stream",
          "text": [
            "<re.Match object; span=(5, 21), match='Vulnerability: 1'> <re.Match object; span=(22, 36), match='CWE ID: CWE-20'> <re.Match object; span=(37, 72), match='CWE Name: Improper Input Validation'>\n"
          ]
        },
        {
          "name": "stderr",
          "output_type": "stream",
          "text": [
            " 71%|███████   | 1599/2253 [3:27:41<19:02,  1.75s/it]"
          ]
        },
        {
          "name": "stdout",
          "output_type": "stream",
          "text": [
            "<re.Match object; span=(5, 21), match='Vulnerability: 0'> <re.Match object; span=(22, 44), match='CWE ID: NOT_APPLICABLE'> <re.Match object; span=(45, 69), match='CWE Name: NOT_APPLICABLE'>\n"
          ]
        },
        {
          "name": "stderr",
          "output_type": "stream",
          "text": [
            " 71%|███████   | 1600/2253 [3:27:43<19:56,  1.83s/it]"
          ]
        },
        {
          "name": "stdout",
          "output_type": "stream",
          "text": [
            "<re.Match object; span=(4, 20), match='Vulnerability: 0'> <re.Match object; span=(21, 43), match='CWE ID: NOT_APPLICABLE'> <re.Match object; span=(44, 68), match='CWE Name: NOT_APPLICABLE'>\n"
          ]
        },
        {
          "name": "stderr",
          "output_type": "stream",
          "text": [
            " 71%|███████   | 1601/2253 [3:27:45<19:34,  1.80s/it]"
          ]
        },
        {
          "name": "stdout",
          "output_type": "stream",
          "text": [
            "<re.Match object; span=(5, 21), match='Vulnerability: 0'> <re.Match object; span=(22, 44), match='CWE ID: NOT_APPLICABLE'> <re.Match object; span=(45, 69), match='CWE Name: NOT_APPLICABLE'>\n"
          ]
        },
        {
          "name": "stderr",
          "output_type": "stream",
          "text": [
            " 71%|███████   | 1602/2253 [3:27:47<18:44,  1.73s/it]"
          ]
        },
        {
          "name": "stdout",
          "output_type": "stream",
          "text": [
            "<re.Match object; span=(10, 26), match='Vulnerability: 1'> <re.Match object; span=(27, 42), match='CWE ID: CWE-119'> <re.Match object; span=(43, 124), match='CWE Name: Improper Restriction of Operations with>\n"
          ]
        },
        {
          "name": "stderr",
          "output_type": "stream",
          "text": [
            " 71%|███████   | 1603/2253 [3:27:48<18:47,  1.73s/it]"
          ]
        },
        {
          "name": "stdout",
          "output_type": "stream",
          "text": [
            "<re.Match object; span=(5, 21), match='Vulnerability: 0'> <re.Match object; span=(22, 44), match='CWE ID: NOT_APPLICABLE'> <re.Match object; span=(45, 69), match='CWE Name: NOT_APPLICABLE'>\n"
          ]
        },
        {
          "name": "stderr",
          "output_type": "stream",
          "text": [
            " 71%|███████   | 1604/2253 [3:27:50<18:07,  1.68s/it]"
          ]
        },
        {
          "name": "stdout",
          "output_type": "stream",
          "text": [
            "<re.Match object; span=(5, 21), match='Vulnerability: 1'> <re.Match object; span=(22, 37), match='CWE ID: CWE-264'> <re.Match object; span=(38, 91), match='CWE Name: Permissions, Privileges, and Access Con>\n"
          ]
        },
        {
          "name": "stderr",
          "output_type": "stream",
          "text": [
            " 71%|███████   | 1605/2253 [3:27:51<17:36,  1.63s/it]"
          ]
        },
        {
          "name": "stdout",
          "output_type": "stream",
          "text": [
            "<re.Match object; span=(5, 21), match='Vulnerability: 1'> <re.Match object; span=(22, 37), match='CWE ID: CWE-788'> <re.Match object; span=(38, 66), match='CWE Name: Out-of-bounds Read'>\n"
          ]
        },
        {
          "name": "stderr",
          "output_type": "stream",
          "text": [
            " 71%|███████▏  | 1606/2253 [3:27:53<16:54,  1.57s/it]"
          ]
        },
        {
          "name": "stdout",
          "output_type": "stream",
          "text": [
            "<re.Match object; span=(5, 21), match='Vulnerability: 1'> <re.Match object; span=(22, 37), match='CWE ID: CWE-399'> <re.Match object; span=(38, 74), match='CWE Name: Resource Management Errors'>\n"
          ]
        },
        {
          "name": "stderr",
          "output_type": "stream",
          "text": [
            " 71%|███████▏  | 1607/2253 [3:27:54<16:49,  1.56s/it]"
          ]
        },
        {
          "name": "stdout",
          "output_type": "stream",
          "text": [
            "<re.Match object; span=(5, 21), match='Vulnerability: 1'> <re.Match object; span=(22, 37), match='CWE ID: CWE-189'> <re.Match object; span=(38, 62), match='CWE Name: Numeric Errors'>\n"
          ]
        },
        {
          "name": "stderr",
          "output_type": "stream",
          "text": [
            " 71%|███████▏  | 1608/2253 [3:27:56<16:20,  1.52s/it]"
          ]
        },
        {
          "name": "stdout",
          "output_type": "stream",
          "text": [
            "<re.Match object; span=(10, 26), match='Vulnerability: 0'> <re.Match object; span=(27, 49), match='CWE ID: NOT_APPLICABLE'> <re.Match object; span=(50, 74), match='CWE Name: NOT_APPLICABLE'>\n"
          ]
        },
        {
          "name": "stderr",
          "output_type": "stream",
          "text": [
            " 71%|███████▏  | 1609/2253 [3:27:58<18:42,  1.74s/it]"
          ]
        },
        {
          "name": "stdout",
          "output_type": "stream",
          "text": [
            "<re.Match object; span=(5, 21), match='Vulnerability: 0'> <re.Match object; span=(22, 44), match='CWE ID: NOT_APPLICABLE'> <re.Match object; span=(45, 69), match='CWE Name: NOT_APPLICABLE'>\n"
          ]
        },
        {
          "name": "stderr",
          "output_type": "stream",
          "text": [
            " 71%|███████▏  | 1610/2253 [3:28:00<18:03,  1.68s/it]"
          ]
        },
        {
          "name": "stdout",
          "output_type": "stream",
          "text": [
            "<re.Match object; span=(5, 21), match='Vulnerability: 0'> <re.Match object; span=(22, 44), match='CWE ID: NOT_APPLICABLE'> <re.Match object; span=(45, 69), match='CWE Name: NOT_APPLICABLE'>\n"
          ]
        },
        {
          "name": "stderr",
          "output_type": "stream",
          "text": [
            " 72%|███████▏  | 1611/2253 [3:28:01<17:52,  1.67s/it]"
          ]
        },
        {
          "name": "stdout",
          "output_type": "stream",
          "text": [
            "<re.Match object; span=(5, 21), match='Vulnerability: 0'> <re.Match object; span=(22, 44), match='CWE ID: NOT_APPLICABLE'> <re.Match object; span=(45, 69), match='CWE Name: NOT_APPLICABLE'>\n"
          ]
        },
        {
          "name": "stderr",
          "output_type": "stream",
          "text": [
            " 72%|███████▏  | 1612/2253 [3:28:03<17:22,  1.63s/it]"
          ]
        },
        {
          "name": "stdout",
          "output_type": "stream",
          "text": [
            "<re.Match object; span=(8, 24), match='Vulnerability: 0'> <re.Match object; span=(25, 47), match='CWE ID: NOT_APPLICABLE'> <re.Match object; span=(48, 72), match='CWE Name: NOT_APPLICABLE'>\n"
          ]
        },
        {
          "name": "stderr",
          "output_type": "stream",
          "text": [
            " 72%|███████▏  | 1613/2253 [3:28:04<16:45,  1.57s/it]"
          ]
        },
        {
          "name": "stdout",
          "output_type": "stream",
          "text": [
            "<re.Match object; span=(5, 21), match='Vulnerability: 1'> <re.Match object; span=(22, 36), match='CWE ID: CWE-20'> <re.Match object; span=(37, 72), match='CWE Name: Improper Input Validation'>\n"
          ]
        },
        {
          "name": "stderr",
          "output_type": "stream",
          "text": [
            " 72%|███████▏  | 1614/2253 [3:28:06<16:37,  1.56s/it]"
          ]
        },
        {
          "name": "stdout",
          "output_type": "stream",
          "text": [
            "<re.Match object; span=(4, 20), match='Vulnerability: 0'> <re.Match object; span=(21, 43), match='CWE ID: NOT_APPLICABLE'> <re.Match object; span=(44, 68), match='CWE Name: NOT_APPLICABLE'>\n"
          ]
        },
        {
          "name": "stderr",
          "output_type": "stream",
          "text": [
            " 72%|███████▏  | 1615/2253 [3:28:08<17:30,  1.65s/it]"
          ]
        },
        {
          "name": "stdout",
          "output_type": "stream",
          "text": [
            "<re.Match object; span=(5, 21), match='Vulnerability: 1'> <re.Match object; span=(22, 37), match='CWE ID: CWE-119'> <re.Match object; span=(38, 119), match='CWE Name: Improper Restriction of Operations with>\n"
          ]
        },
        {
          "name": "stderr",
          "output_type": "stream",
          "text": [
            " 72%|███████▏  | 1616/2253 [3:28:10<18:25,  1.74s/it]"
          ]
        },
        {
          "name": "stdout",
          "output_type": "stream",
          "text": [
            "<re.Match object; span=(4, 20), match='Vulnerability: 1'> <re.Match object; span=(21, 36), match='CWE ID: CWE-119'> <re.Match object; span=(37, 118), match='CWE Name: Improper Restriction of Operations with>\n"
          ]
        },
        {
          "name": "stderr",
          "output_type": "stream",
          "text": [
            " 72%|███████▏  | 1617/2253 [3:28:11<18:05,  1.71s/it]"
          ]
        },
        {
          "name": "stdout",
          "output_type": "stream",
          "text": [
            "<re.Match object; span=(5, 21), match='Vulnerability: 0'> <re.Match object; span=(22, 44), match='CWE ID: NOT_APPLICABLE'> <re.Match object; span=(45, 69), match='CWE Name: NOT_APPLICABLE'>\n"
          ]
        },
        {
          "name": "stderr",
          "output_type": "stream",
          "text": [
            " 72%|███████▏  | 1618/2253 [3:28:13<17:48,  1.68s/it]"
          ]
        },
        {
          "name": "stdout",
          "output_type": "stream",
          "text": [
            "<re.Match object; span=(5, 21), match='Vulnerability: 1'> <re.Match object; span=(22, 37), match='CWE ID: CWE-121'> <re.Match object; span=(38, 75), match='CWE Name: Stack-based Buffer Overflow'>\n"
          ]
        },
        {
          "name": "stderr",
          "output_type": "stream",
          "text": [
            " 72%|███████▏  | 1619/2253 [3:28:14<17:39,  1.67s/it]"
          ]
        },
        {
          "name": "stdout",
          "output_type": "stream",
          "text": [
            "<re.Match object; span=(5, 21), match='Vulnerability: 0'> <re.Match object; span=(22, 44), match='CWE ID: NOT_APPLICABLE'> <re.Match object; span=(45, 69), match='CWE Name: NOT_APPLICABLE'>\n"
          ]
        },
        {
          "name": "stderr",
          "output_type": "stream",
          "text": [
            " 72%|███████▏  | 1620/2253 [3:28:16<18:29,  1.75s/it]"
          ]
        },
        {
          "name": "stdout",
          "output_type": "stream",
          "text": [
            "<re.Match object; span=(5, 21), match='Vulnerability: 0'> <re.Match object; span=(22, 44), match='CWE ID: NOT_APPLICABLE'> <re.Match object; span=(45, 69), match='CWE Name: NOT_APPLICABLE'>\n"
          ]
        },
        {
          "name": "stderr",
          "output_type": "stream",
          "text": [
            " 72%|███████▏  | 1621/2253 [3:28:18<18:06,  1.72s/it]"
          ]
        },
        {
          "name": "stdout",
          "output_type": "stream",
          "text": [
            "<re.Match object; span=(10, 26), match='Vulnerability: 1'> <re.Match object; span=(27, 42), match='CWE ID: CWE-125'> <re.Match object; span=(43, 71), match='CWE Name: Out-of-bounds Read'>\n"
          ]
        },
        {
          "name": "stderr",
          "output_type": "stream",
          "text": [
            " 72%|███████▏  | 1622/2253 [3:28:20<18:08,  1.72s/it]"
          ]
        },
        {
          "name": "stdout",
          "output_type": "stream",
          "text": [
            "<re.Match object; span=(5, 21), match='Vulnerability: 0'> <re.Match object; span=(22, 44), match='CWE ID: NOT_APPLICABLE'> <re.Match object; span=(45, 69), match='CWE Name: NOT_APPLICABLE'>\n"
          ]
        },
        {
          "name": "stderr",
          "output_type": "stream",
          "text": [
            " 72%|███████▏  | 1623/2253 [3:28:21<17:31,  1.67s/it]"
          ]
        },
        {
          "name": "stdout",
          "output_type": "stream",
          "text": [
            "<re.Match object; span=(5, 21), match='Vulnerability: 1'> <re.Match object; span=(22, 37), match='CWE ID: CWE-119'> <re.Match object; span=(38, 119), match='CWE Name: Improper Restriction of Operations with>\n"
          ]
        },
        {
          "name": "stderr",
          "output_type": "stream",
          "text": [
            " 72%|███████▏  | 1624/2253 [3:28:23<18:35,  1.77s/it]"
          ]
        },
        {
          "name": "stdout",
          "output_type": "stream",
          "text": [
            "<re.Match object; span=(5, 21), match='Vulnerability: 0'> <re.Match object; span=(22, 44), match='CWE ID: NOT_APPLICABLE'> <re.Match object; span=(45, 69), match='CWE Name: NOT_APPLICABLE'>\n"
          ]
        },
        {
          "name": "stderr",
          "output_type": "stream",
          "text": [
            " 72%|███████▏  | 1625/2253 [3:28:25<17:17,  1.65s/it]"
          ]
        },
        {
          "name": "stdout",
          "output_type": "stream",
          "text": [
            "<re.Match object; span=(5, 21), match='Vulnerability: 0'> <re.Match object; span=(22, 44), match='CWE ID: NOT_APPLICABLE'> <re.Match object; span=(45, 69), match='CWE Name: NOT_APPLICABLE'>\n"
          ]
        },
        {
          "name": "stderr",
          "output_type": "stream",
          "text": [
            " 72%|███████▏  | 1626/2253 [3:28:26<17:31,  1.68s/it]"
          ]
        },
        {
          "name": "stdout",
          "output_type": "stream",
          "text": [
            "<re.Match object; span=(5, 21), match='Vulnerability: 1'> <re.Match object; span=(22, 37), match='CWE ID: CWE-190'> <re.Match object; span=(38, 78), match='CWE Name: Integer Overflow or Wraparound'>\n"
          ]
        },
        {
          "name": "stderr",
          "output_type": "stream",
          "text": [
            " 72%|███████▏  | 1627/2253 [3:28:28<16:31,  1.58s/it]"
          ]
        },
        {
          "name": "stdout",
          "output_type": "stream",
          "text": [
            "<re.Match object; span=(5, 21), match='Vulnerability: 1'> <re.Match object; span=(22, 37), match='CWE ID: CWE-119'> <re.Match object; span=(38, 119), match='CWE Name: Improper Restriction of Operations with>\n"
          ]
        },
        {
          "name": "stderr",
          "output_type": "stream",
          "text": [
            " 72%|███████▏  | 1628/2253 [4:08:35<125:33:31, 723.22s/it]"
          ]
        },
        {
          "name": "stdout",
          "output_type": "stream",
          "text": [
            "<re.Match object; span=(5, 21), match='Vulnerability: 0'> <re.Match object; span=(22, 44), match='CWE ID: NOT_APPLICABLE'> <re.Match object; span=(45, 69), match='CWE Name: NOT_APPLICABLE'>\n"
          ]
        },
        {
          "name": "stderr",
          "output_type": "stream",
          "text": [
            " 72%|███████▏  | 1629/2253 [4:08:36<87:49:57, 506.73s/it] "
          ]
        },
        {
          "name": "stdout",
          "output_type": "stream",
          "text": [
            "<re.Match object; span=(5, 21), match='Vulnerability: 1'> <re.Match object; span=(22, 37), match='CWE ID: CWE-787'> <re.Match object; span=(38, 67), match='CWE Name: Out-of-bounds Write'>\n"
          ]
        },
        {
          "name": "stderr",
          "output_type": "stream",
          "text": [
            " 72%|███████▏  | 1630/2253 [4:08:39<61:31:25, 355.51s/it]"
          ]
        },
        {
          "name": "stdout",
          "output_type": "stream",
          "text": [
            "<re.Match object; span=(10, 26), match='Vulnerability: 1'> <re.Match object; span=(27, 42), match='CWE ID: CWE-125'> <re.Match object; span=(43, 71), match='CWE Name: Out-of-bounds Read'>\n"
          ]
        },
        {
          "name": "stderr",
          "output_type": "stream",
          "text": [
            " 72%|███████▏  | 1631/2253 [4:08:41<43:05:31, 249.41s/it]"
          ]
        },
        {
          "name": "stdout",
          "output_type": "stream",
          "text": [
            "<re.Match object; span=(5, 21), match='Vulnerability: 0'> <re.Match object; span=(22, 44), match='CWE ID: NOT_APPLICABLE'> <re.Match object; span=(45, 69), match='CWE Name: NOT_APPLICABLE'>\n"
          ]
        },
        {
          "name": "stderr",
          "output_type": "stream",
          "text": [
            " 72%|███████▏  | 1632/2253 [4:08:43<30:12:04, 175.08s/it]"
          ]
        },
        {
          "name": "stdout",
          "output_type": "stream",
          "text": [
            "<re.Match object; span=(5, 21), match='Vulnerability: 0'> <re.Match object; span=(22, 44), match='CWE ID: NOT_APPLICABLE'> <re.Match object; span=(45, 69), match='CWE Name: NOT_APPLICABLE'>\n"
          ]
        },
        {
          "name": "stderr",
          "output_type": "stream",
          "text": [
            " 72%|███████▏  | 1633/2253 [4:08:44<21:10:35, 122.96s/it]"
          ]
        },
        {
          "name": "stdout",
          "output_type": "stream",
          "text": [
            "<re.Match object; span=(5, 21), match='Vulnerability: 0'> <re.Match object; span=(22, 44), match='CWE ID: NOT_APPLICABLE'> <re.Match object; span=(45, 69), match='CWE Name: NOT_APPLICABLE'>\n"
          ]
        },
        {
          "name": "stderr",
          "output_type": "stream",
          "text": [
            " 73%|███████▎  | 1634/2253 [4:08:45<14:52:41, 86.53s/it] "
          ]
        },
        {
          "name": "stdout",
          "output_type": "stream",
          "text": [
            "<re.Match object; span=(8, 24), match='Vulnerability: 1'> <re.Match object; span=(25, 40), match='CWE ID: CWE-189'> <re.Match object; span=(41, 65), match='CWE Name: Numeric Errors'>\n"
          ]
        },
        {
          "name": "stderr",
          "output_type": "stream",
          "text": [
            " 73%|███████▎  | 1635/2253 [4:08:47<10:30:03, 61.17s/it]"
          ]
        },
        {
          "name": "stdout",
          "output_type": "stream",
          "text": [
            "<re.Match object; span=(10, 26), match='Vulnerability: 1'> <re.Match object; span=(27, 38), match='CWE ID: 121'> <re.Match object; span=(39, 76), match='CWE Name: Stack-based Buffer Overflow'>\n"
          ]
        },
        {
          "name": "stderr",
          "output_type": "stream",
          "text": [
            " 73%|███████▎  | 1636/2253 [4:08:49<7:25:22, 43.31s/it] "
          ]
        },
        {
          "name": "stdout",
          "output_type": "stream",
          "text": [
            "<re.Match object; span=(12, 28), match='Vulnerability: 1'> <re.Match object; span=(29, 44), match='CWE ID: CWE-119'> <re.Match object; span=(45, 126), match='CWE Name: Improper Restriction of Operations with>\n"
          ]
        },
        {
          "name": "stderr",
          "output_type": "stream",
          "text": [
            " 73%|███████▎  | 1637/2253 [4:08:51<5:15:56, 30.77s/it]"
          ]
        },
        {
          "name": "stdout",
          "output_type": "stream",
          "text": [
            "<re.Match object; span=(10, 26), match='Vulnerability: 0'> <re.Match object; span=(27, 49), match='CWE ID: NOT_APPLICABLE'> <re.Match object; span=(50, 74), match='CWE Name: NOT_APPLICABLE'>\n"
          ]
        },
        {
          "name": "stderr",
          "output_type": "stream",
          "text": [
            " 73%|███████▎  | 1638/2253 [4:08:52<3:45:07, 21.96s/it]"
          ]
        },
        {
          "name": "stdout",
          "output_type": "stream",
          "text": [
            "<re.Match object; span=(5, 21), match='Vulnerability: 1'> <re.Match object; span=(22, 37), match='CWE ID: CWE-838'> <re.Match object; span=(38, 84), match='CWE Name: Inappropriate Structure Manipulation'>\n"
          ]
        },
        {
          "name": "stderr",
          "output_type": "stream",
          "text": [
            " 73%|███████▎  | 1639/2253 [4:08:53<2:41:50, 15.81s/it]"
          ]
        },
        {
          "name": "stdout",
          "output_type": "stream",
          "text": [
            "<re.Match object; span=(10, 26), match='Vulnerability: 0'> <re.Match object; span=(27, 49), match='CWE ID: NOT_APPLICABLE'> <re.Match object; span=(50, 74), match='CWE Name: NOT_APPLICABLE'>\n"
          ]
        },
        {
          "name": "stderr",
          "output_type": "stream",
          "text": [
            " 73%|███████▎  | 1640/2253 [4:08:55<1:57:49, 11.53s/it]"
          ]
        },
        {
          "name": "stdout",
          "output_type": "stream",
          "text": [
            "<re.Match object; span=(5, 21), match='Vulnerability: 1'> <re.Match object; span=(22, 37), match='CWE ID: CWE-200'> <re.Match object; span=(38, 106), match='CWE Name: Exposure of Sensitive Information to an>\n"
          ]
        },
        {
          "name": "stderr",
          "output_type": "stream",
          "text": [
            " 73%|███████▎  | 1641/2253 [4:08:57<1:27:41,  8.60s/it]"
          ]
        },
        {
          "name": "stdout",
          "output_type": "stream",
          "text": [
            "<re.Match object; span=(5, 21), match='Vulnerability: 0'> <re.Match object; span=(22, 44), match='CWE ID: NOT_APPLICABLE'> <re.Match object; span=(45, 69), match='CWE Name: NOT_APPLICABLE'>\n"
          ]
        },
        {
          "name": "stderr",
          "output_type": "stream",
          "text": [
            " 73%|███████▎  | 1642/2253 [4:08:58<1:05:56,  6.48s/it]"
          ]
        },
        {
          "name": "stdout",
          "output_type": "stream",
          "text": [
            "<re.Match object; span=(5, 21), match='Vulnerability: 0'> <re.Match object; span=(22, 44), match='CWE ID: NOT_APPLICABLE'> <re.Match object; span=(45, 69), match='CWE Name: NOT_APPLICABLE'>\n"
          ]
        },
        {
          "name": "stderr",
          "output_type": "stream",
          "text": [
            " 73%|███████▎  | 1643/2253 [4:09:00<51:42,  5.09s/it]  "
          ]
        },
        {
          "name": "stdout",
          "output_type": "stream",
          "text": [
            "<re.Match object; span=(8, 24), match='Vulnerability: 0'> <re.Match object; span=(25, 47), match='CWE ID: NOT_APPLICABLE'> <re.Match object; span=(48, 72), match='CWE Name: NOT_APPLICABLE'>\n"
          ]
        },
        {
          "name": "stderr",
          "output_type": "stream",
          "text": [
            " 73%|███████▎  | 1644/2253 [4:09:02<41:31,  4.09s/it]"
          ]
        },
        {
          "name": "stdout",
          "output_type": "stream",
          "text": [
            "<re.Match object; span=(5, 21), match='Vulnerability: 0'> <re.Match object; span=(22, 44), match='CWE ID: NOT_APPLICABLE'> <re.Match object; span=(45, 69), match='CWE Name: NOT_APPLICABLE'>\n"
          ]
        },
        {
          "name": "stderr",
          "output_type": "stream",
          "text": [
            " 73%|███████▎  | 1645/2253 [4:09:04<34:32,  3.41s/it]"
          ]
        },
        {
          "name": "stdout",
          "output_type": "stream",
          "text": [
            "<re.Match object; span=(10, 26), match='Vulnerability: 0'> <re.Match object; span=(27, 49), match='CWE ID: NOT_APPLICABLE'> <re.Match object; span=(50, 74), match='CWE Name: NOT_APPLICABLE'>\n"
          ]
        },
        {
          "name": "stderr",
          "output_type": "stream",
          "text": [
            " 73%|███████▎  | 1646/2253 [4:09:05<28:39,  2.83s/it]"
          ]
        },
        {
          "name": "stdout",
          "output_type": "stream",
          "text": [
            "<re.Match object; span=(10, 26), match='Vulnerability: 1'> <re.Match object; span=(27, 42), match='CWE ID: CWE-119'> <re.Match object; span=(43, 124), match='CWE Name: Improper Restriction of Operations with>\n"
          ]
        },
        {
          "name": "stderr",
          "output_type": "stream",
          "text": [
            " 73%|███████▎  | 1647/2253 [4:09:07<24:38,  2.44s/it]"
          ]
        },
        {
          "name": "stdout",
          "output_type": "stream",
          "text": [
            "<re.Match object; span=(10, 26), match='Vulnerability: 0'> <re.Match object; span=(27, 49), match='CWE ID: NOT_APPLICABLE'> <re.Match object; span=(50, 74), match='CWE Name: NOT_APPLICABLE'>\n"
          ]
        },
        {
          "name": "stderr",
          "output_type": "stream",
          "text": [
            " 73%|███████▎  | 1648/2253 [4:09:08<21:45,  2.16s/it]"
          ]
        },
        {
          "name": "stdout",
          "output_type": "stream",
          "text": [
            "<re.Match object; span=(8, 24), match='Vulnerability: 1'> <re.Match object; span=(25, 39), match='CWE ID: CWE-20'> <re.Match object; span=(40, 75), match='CWE Name: Improper Input Validation'>\n"
          ]
        },
        {
          "name": "stderr",
          "output_type": "stream",
          "text": [
            " 73%|███████▎  | 1649/2253 [4:09:10<21:42,  2.16s/it]"
          ]
        },
        {
          "name": "stdout",
          "output_type": "stream",
          "text": [
            "<re.Match object; span=(10, 26), match='Vulnerability: 0'> <re.Match object; span=(27, 49), match='CWE ID: NOT_APPLICABLE'> <re.Match object; span=(50, 74), match='CWE Name: NOT_APPLICABLE'>\n"
          ]
        },
        {
          "name": "stderr",
          "output_type": "stream",
          "text": [
            " 73%|███████▎  | 1650/2253 [4:09:12<19:47,  1.97s/it]"
          ]
        },
        {
          "name": "stdout",
          "output_type": "stream",
          "text": [
            "<re.Match object; span=(4, 20), match='Vulnerability: 0'> <re.Match object; span=(21, 43), match='CWE ID: NOT_APPLICABLE'> <re.Match object; span=(44, 68), match='CWE Name: NOT_APPLICABLE'>\n"
          ]
        },
        {
          "name": "stderr",
          "output_type": "stream",
          "text": [
            " 73%|███████▎  | 1651/2253 [4:09:13<17:59,  1.79s/it]"
          ]
        },
        {
          "name": "stdout",
          "output_type": "stream",
          "text": [
            "<re.Match object; span=(10, 26), match='Vulnerability: 0'> <re.Match object; span=(27, 49), match='CWE ID: NOT_APPLICABLE'> <re.Match object; span=(50, 74), match='CWE Name: NOT_APPLICABLE'>\n"
          ]
        },
        {
          "name": "stderr",
          "output_type": "stream",
          "text": [
            " 73%|███████▎  | 1652/2253 [4:09:15<16:58,  1.69s/it]"
          ]
        },
        {
          "name": "stdout",
          "output_type": "stream",
          "text": [
            "<re.Match object; span=(10, 26), match='Vulnerability: 0'> <re.Match object; span=(27, 49), match='CWE ID: NOT_APPLICABLE'> <re.Match object; span=(50, 74), match='CWE Name: NOT_APPLICABLE'>\n"
          ]
        },
        {
          "name": "stderr",
          "output_type": "stream",
          "text": [
            " 73%|███████▎  | 1653/2253 [4:09:16<16:36,  1.66s/it]"
          ]
        },
        {
          "name": "stdout",
          "output_type": "stream",
          "text": [
            "<re.Match object; span=(5, 21), match='Vulnerability: 0'> <re.Match object; span=(22, 44), match='CWE ID: NOT_APPLICABLE'> <re.Match object; span=(45, 69), match='CWE Name: NOT_APPLICABLE'>\n"
          ]
        },
        {
          "name": "stderr",
          "output_type": "stream",
          "text": [
            " 73%|███████▎  | 1654/2253 [4:09:18<16:06,  1.61s/it]"
          ]
        },
        {
          "name": "stdout",
          "output_type": "stream",
          "text": [
            "<re.Match object; span=(5, 21), match='Vulnerability: 1'> <re.Match object; span=(22, 37), match='CWE ID: CWE-119'> <re.Match object; span=(38, 119), match='CWE Name: Improper Restriction of Operations with>\n"
          ]
        },
        {
          "name": "stderr",
          "output_type": "stream",
          "text": [
            " 73%|███████▎  | 1655/2253 [4:09:19<15:36,  1.57s/it]"
          ]
        },
        {
          "name": "stdout",
          "output_type": "stream",
          "text": [
            "<re.Match object; span=(5, 21), match='Vulnerability: 0'> <re.Match object; span=(22, 44), match='CWE ID: NOT_APPLICABLE'> <re.Match object; span=(45, 69), match='CWE Name: NOT_APPLICABLE'>\n"
          ]
        },
        {
          "name": "stderr",
          "output_type": "stream",
          "text": [
            " 74%|███████▎  | 1656/2253 [4:09:21<16:57,  1.70s/it]"
          ]
        },
        {
          "name": "stdout",
          "output_type": "stream",
          "text": [
            "<re.Match object; span=(12, 28), match='Vulnerability: 0'> <re.Match object; span=(29, 51), match='CWE ID: NOT_APPLICABLE'> <re.Match object; span=(52, 76), match='CWE Name: NOT_APPLICABLE'>\n"
          ]
        },
        {
          "name": "stderr",
          "output_type": "stream",
          "text": [
            " 74%|███████▎  | 1657/2253 [4:09:23<15:59,  1.61s/it]"
          ]
        },
        {
          "name": "stdout",
          "output_type": "stream",
          "text": [
            "<re.Match object; span=(8, 24), match='Vulnerability: 0'> <re.Match object; span=(25, 47), match='CWE ID: NOT_APPLICABLE'> <re.Match object; span=(48, 72), match='CWE Name: NOT_APPLICABLE'>\n"
          ]
        },
        {
          "name": "stderr",
          "output_type": "stream",
          "text": [
            " 74%|███████▎  | 1658/2253 [4:09:25<17:25,  1.76s/it]"
          ]
        },
        {
          "name": "stdout",
          "output_type": "stream",
          "text": [
            "<re.Match object; span=(5, 21), match='Vulnerability: 0'> <re.Match object; span=(22, 44), match='CWE ID: NOT_APPLICABLE'> <re.Match object; span=(45, 69), match='CWE Name: NOT_APPLICABLE'>\n"
          ]
        },
        {
          "name": "stderr",
          "output_type": "stream",
          "text": [
            " 74%|███████▎  | 1659/2253 [4:09:26<16:16,  1.64s/it]"
          ]
        },
        {
          "name": "stdout",
          "output_type": "stream",
          "text": [
            "<re.Match object; span=(5, 21), match='Vulnerability: 0'> <re.Match object; span=(22, 44), match='CWE ID: NOT_APPLICABLE'> <re.Match object; span=(45, 69), match='CWE Name: NOT_APPLICABLE'>\n"
          ]
        },
        {
          "name": "stderr",
          "output_type": "stream",
          "text": [
            " 74%|███████▎  | 1660/2253 [4:09:28<17:17,  1.75s/it]"
          ]
        },
        {
          "name": "stdout",
          "output_type": "stream",
          "text": [
            "<re.Match object; span=(8, 24), match='Vulnerability: 1'> <re.Match object; span=(25, 40), match='CWE ID: CWE-119'> <re.Match object; span=(41, 122), match='CWE Name: Improper Restriction of Operations with>\n"
          ]
        },
        {
          "name": "stderr",
          "output_type": "stream",
          "text": [
            " 74%|███████▎  | 1661/2253 [4:09:30<16:06,  1.63s/it]"
          ]
        },
        {
          "name": "stdout",
          "output_type": "stream",
          "text": [
            "<re.Match object; span=(5, 21), match='Vulnerability: 0'> <re.Match object; span=(22, 44), match='CWE ID: NOT_APPLICABLE'> <re.Match object; span=(45, 69), match='CWE Name: NOT_APPLICABLE'>\n"
          ]
        },
        {
          "name": "stderr",
          "output_type": "stream",
          "text": [
            " 74%|███████▍  | 1662/2253 [4:09:31<15:42,  1.59s/it]"
          ]
        },
        {
          "name": "stdout",
          "output_type": "stream",
          "text": [
            "<re.Match object; span=(5, 21), match='Vulnerability: 1'> <re.Match object; span=(22, 37), match='CWE ID: CWE-264'> <re.Match object; span=(38, 92), match='CWE Name: Permissions, Privileges, and Access Con>\n"
          ]
        },
        {
          "name": "stderr",
          "output_type": "stream",
          "text": [
            " 74%|███████▍  | 1663/2253 [4:09:32<15:11,  1.54s/it]"
          ]
        },
        {
          "name": "stdout",
          "output_type": "stream",
          "text": [
            "<re.Match object; span=(5, 21), match='Vulnerability: 0'> <re.Match object; span=(22, 44), match='CWE ID: NOT_APPLICABLE'> <re.Match object; span=(45, 69), match='CWE Name: NOT_APPLICABLE'>\n"
          ]
        },
        {
          "name": "stderr",
          "output_type": "stream",
          "text": [
            " 74%|███████▍  | 1664/2253 [4:09:34<15:23,  1.57s/it]"
          ]
        },
        {
          "name": "stdout",
          "output_type": "stream",
          "text": [
            "<re.Match object; span=(4, 20), match='Vulnerability: 0'> <re.Match object; span=(21, 43), match='CWE ID: NOT_APPLICABLE'> <re.Match object; span=(44, 68), match='CWE Name: NOT_APPLICABLE'>\n"
          ]
        },
        {
          "name": "stderr",
          "output_type": "stream",
          "text": [
            " 74%|███████▍  | 1665/2253 [4:09:36<15:17,  1.56s/it]"
          ]
        },
        {
          "name": "stdout",
          "output_type": "stream",
          "text": [
            "<re.Match object; span=(8, 24), match='Vulnerability: 0'> <re.Match object; span=(25, 47), match='CWE ID: NOT_APPLICABLE'> <re.Match object; span=(48, 72), match='CWE Name: NOT_APPLICABLE'>\n"
          ]
        },
        {
          "name": "stderr",
          "output_type": "stream",
          "text": [
            " 74%|███████▍  | 1666/2253 [4:09:37<14:55,  1.53s/it]"
          ]
        },
        {
          "name": "stdout",
          "output_type": "stream",
          "text": [
            "<re.Match object; span=(5, 21), match='Vulnerability: 1'> <re.Match object; span=(22, 37), match='CWE ID: CWE-264'> <re.Match object; span=(38, 92), match='CWE Name: Permissions, Privileges, and Access Con>\n"
          ]
        },
        {
          "name": "stderr",
          "output_type": "stream",
          "text": [
            " 74%|███████▍  | 1667/2253 [4:09:39<14:55,  1.53s/it]"
          ]
        },
        {
          "name": "stdout",
          "output_type": "stream",
          "text": [
            "<re.Match object; span=(5, 21), match='Vulnerability: 1'> <re.Match object; span=(22, 37), match='CWE ID: CWE-119'> <re.Match object; span=(38, 119), match='CWE Name: Improper Restriction of Operations with>\n"
          ]
        },
        {
          "name": "stderr",
          "output_type": "stream",
          "text": [
            " 74%|███████▍  | 1668/2253 [4:09:40<14:19,  1.47s/it]"
          ]
        },
        {
          "name": "stdout",
          "output_type": "stream",
          "text": [
            "<re.Match object; span=(5, 21), match='Vulnerability: 1'> <re.Match object; span=(22, 37), match='CWE ID: CWE-190'> <re.Match object; span=(38, 78), match='CWE Name: Integer Overflow or Wraparound'>\n"
          ]
        },
        {
          "name": "stderr",
          "output_type": "stream",
          "text": [
            " 74%|███████▍  | 1669/2253 [4:09:41<14:30,  1.49s/it]"
          ]
        },
        {
          "name": "stdout",
          "output_type": "stream",
          "text": [
            "<re.Match object; span=(5, 21), match='Vulnerability: 0'> <re.Match object; span=(22, 44), match='CWE ID: NOT_APPLICABLE'> <re.Match object; span=(45, 69), match='CWE Name: NOT_APPLICABLE'>\n"
          ]
        },
        {
          "name": "stderr",
          "output_type": "stream",
          "text": [
            " 74%|███████▍  | 1670/2253 [4:09:43<14:53,  1.53s/it]"
          ]
        },
        {
          "name": "stdout",
          "output_type": "stream",
          "text": [
            "<re.Match object; span=(4, 20), match='Vulnerability: 0'> <re.Match object; span=(21, 43), match='CWE ID: NOT_APPLICABLE'> <re.Match object; span=(44, 68), match='CWE Name: NOT_APPLICABLE'>\n"
          ]
        },
        {
          "name": "stderr",
          "output_type": "stream",
          "text": [
            " 74%|███████▍  | 1671/2253 [4:09:45<14:53,  1.54s/it]"
          ]
        },
        {
          "name": "stdout",
          "output_type": "stream",
          "text": [
            "<re.Match object; span=(5, 21), match='Vulnerability: 0'> <re.Match object; span=(22, 44), match='CWE ID: NOT_APPLICABLE'> <re.Match object; span=(45, 69), match='CWE Name: NOT_APPLICABLE'>\n"
          ]
        },
        {
          "name": "stderr",
          "output_type": "stream",
          "text": [
            " 74%|███████▍  | 1672/2253 [4:09:46<14:17,  1.48s/it]"
          ]
        },
        {
          "name": "stdout",
          "output_type": "stream",
          "text": [
            "<re.Match object; span=(5, 21), match='Vulnerability: 0'> <re.Match object; span=(22, 44), match='CWE ID: NOT_APPLICABLE'> <re.Match object; span=(45, 69), match='CWE Name: NOT_APPLICABLE'>\n"
          ]
        },
        {
          "name": "stderr",
          "output_type": "stream",
          "text": [
            " 74%|███████▍  | 1673/2253 [4:09:48<15:56,  1.65s/it]"
          ]
        },
        {
          "name": "stdout",
          "output_type": "stream",
          "text": [
            "<re.Match object; span=(4, 20), match='Vulnerability: 0'> <re.Match object; span=(21, 43), match='CWE ID: NOT_APPLICABLE'> <re.Match object; span=(44, 68), match='CWE Name: NOT_APPLICABLE'>\n"
          ]
        },
        {
          "name": "stderr",
          "output_type": "stream",
          "text": [
            " 74%|███████▍  | 1674/2253 [4:09:49<15:08,  1.57s/it]"
          ]
        },
        {
          "name": "stdout",
          "output_type": "stream",
          "text": [
            "<re.Match object; span=(5, 21), match='Vulnerability: 0'> <re.Match object; span=(22, 44), match='CWE ID: NOT_APPLICABLE'> <re.Match object; span=(45, 69), match='CWE Name: NOT_APPLICABLE'>\n"
          ]
        },
        {
          "name": "stderr",
          "output_type": "stream",
          "text": [
            " 74%|███████▍  | 1675/2253 [4:09:51<14:52,  1.54s/it]"
          ]
        },
        {
          "name": "stdout",
          "output_type": "stream",
          "text": [
            "<re.Match object; span=(5, 21), match='Vulnerability: 0'> <re.Match object; span=(22, 44), match='CWE ID: NOT_APPLICABLE'> <re.Match object; span=(45, 69), match='CWE Name: NOT_APPLICABLE'>\n"
          ]
        },
        {
          "name": "stderr",
          "output_type": "stream",
          "text": [
            " 74%|███████▍  | 1676/2253 [4:09:52<14:48,  1.54s/it]"
          ]
        },
        {
          "name": "stdout",
          "output_type": "stream",
          "text": [
            "<re.Match object; span=(10, 26), match='Vulnerability: 1'> <re.Match object; span=(27, 42), match='CWE ID: CWE-121'> <re.Match object; span=(43, 80), match='CWE Name: Stack-based Buffer Overflow'>\n"
          ]
        },
        {
          "name": "stderr",
          "output_type": "stream",
          "text": [
            " 74%|███████▍  | 1677/2253 [4:09:54<15:38,  1.63s/it]"
          ]
        },
        {
          "name": "stdout",
          "output_type": "stream",
          "text": [
            "<re.Match object; span=(5, 21), match='Vulnerability: 1'> <re.Match object; span=(22, 37), match='CWE ID: CWE-294'> <re.Match object; span=(38, 87), match='CWE Name: Authentication Bypass by Capture-replay>\n"
          ]
        },
        {
          "name": "stderr",
          "output_type": "stream",
          "text": [
            " 74%|███████▍  | 1677/2253 [4:09:56<1:25:50,  8.94s/it]\n"
          ]
        },
        {
          "ename": "KeyboardInterrupt",
          "evalue": "",
          "output_type": "error",
          "traceback": [
            "\u001b[1;31m---------------------------------------------------------------------------\u001b[0m",
            "\u001b[1;31mKeyboardInterrupt\u001b[0m                         Traceback (most recent call last)",
            "Cell \u001b[1;32mIn[14], line 2\u001b[0m\n\u001b[0;32m      1\u001b[0m tqdm\u001b[38;5;241m.\u001b[39mpandas()\n\u001b[1;32m----> 2\u001b[0m llama3_3ResponseDf[[\u001b[38;5;124m\"\u001b[39m\u001b[38;5;124mresponse\u001b[39m\u001b[38;5;124m\"\u001b[39m, \u001b[38;5;124m\"\u001b[39m\u001b[38;5;124mvul\u001b[39m\u001b[38;5;124m\"\u001b[39m, \u001b[38;5;124m\"\u001b[39m\u001b[38;5;124mCWE ID\u001b[39m\u001b[38;5;124m\"\u001b[39m, \u001b[38;5;124m\"\u001b[39m\u001b[38;5;124mCWE Name\u001b[39m\u001b[38;5;124m\"\u001b[39m]] \u001b[38;5;241m=\u001b[39m \u001b[43mllama3_3ResponseDf\u001b[49m\u001b[43m[\u001b[49m\u001b[38;5;124;43m\"\u001b[39;49m\u001b[38;5;124;43mprompt\u001b[39;49m\u001b[38;5;124;43m\"\u001b[39;49m\u001b[43m]\u001b[49m\u001b[38;5;241;43m.\u001b[39;49m\u001b[43mprogress_apply\u001b[49m\u001b[43m(\u001b[49m\n\u001b[0;32m      3\u001b[0m \u001b[43m    \u001b[49m\u001b[38;5;28;43;01mlambda\u001b[39;49;00m\u001b[43m \u001b[49m\u001b[43mp\u001b[49m\u001b[43m:\u001b[49m\u001b[43m \u001b[49m\u001b[43mpd\u001b[49m\u001b[38;5;241;43m.\u001b[39;49m\u001b[43mSeries\u001b[49m\u001b[43m(\u001b[49m\u001b[43mget_vul_info\u001b[49m\u001b[43m(\u001b[49m\u001b[43mp\u001b[49m\u001b[43m)\u001b[49m\u001b[43m)\u001b[49m\n\u001b[0;32m      4\u001b[0m \u001b[43m)\u001b[49m\n",
            "File \u001b[1;32md:\\Installation_folder\\python311\\Lib\\site-packages\\tqdm\\std.py:920\u001b[0m, in \u001b[0;36mtqdm.pandas.<locals>.inner_generator.<locals>.inner\u001b[1;34m(df, func, *args, **kwargs)\u001b[0m\n\u001b[0;32m    917\u001b[0m \u001b[38;5;66;03m# Apply the provided function (in **kwargs)\u001b[39;00m\n\u001b[0;32m    918\u001b[0m \u001b[38;5;66;03m# on the df using our wrapper (which provides bar updating)\u001b[39;00m\n\u001b[0;32m    919\u001b[0m \u001b[38;5;28;01mtry\u001b[39;00m:\n\u001b[1;32m--> 920\u001b[0m     \u001b[38;5;28;01mreturn\u001b[39;00m \u001b[38;5;28;43mgetattr\u001b[39;49m\u001b[43m(\u001b[49m\u001b[43mdf\u001b[49m\u001b[43m,\u001b[49m\u001b[43m \u001b[49m\u001b[43mdf_function\u001b[49m\u001b[43m)\u001b[49m\u001b[43m(\u001b[49m\u001b[43mwrapper\u001b[49m\u001b[43m,\u001b[49m\u001b[43m \u001b[49m\u001b[38;5;241;43m*\u001b[39;49m\u001b[38;5;241;43m*\u001b[39;49m\u001b[43mkwargs\u001b[49m\u001b[43m)\u001b[49m\n\u001b[0;32m    921\u001b[0m \u001b[38;5;28;01mfinally\u001b[39;00m:\n\u001b[0;32m    922\u001b[0m     t\u001b[38;5;241m.\u001b[39mclose()\n",
            "File \u001b[1;32md:\\Installation_folder\\python311\\Lib\\site-packages\\pandas\\core\\series.py:4760\u001b[0m, in \u001b[0;36mSeries.apply\u001b[1;34m(self, func, convert_dtype, args, by_row, **kwargs)\u001b[0m\n\u001b[0;32m   4625\u001b[0m \u001b[38;5;28;01mdef\u001b[39;00m \u001b[38;5;21mapply\u001b[39m(\n\u001b[0;32m   4626\u001b[0m     \u001b[38;5;28mself\u001b[39m,\n\u001b[0;32m   4627\u001b[0m     func: AggFuncType,\n\u001b[1;32m   (...)\u001b[0m\n\u001b[0;32m   4632\u001b[0m     \u001b[38;5;241m*\u001b[39m\u001b[38;5;241m*\u001b[39mkwargs,\n\u001b[0;32m   4633\u001b[0m ) \u001b[38;5;241m-\u001b[39m\u001b[38;5;241m>\u001b[39m DataFrame \u001b[38;5;241m|\u001b[39m Series:\n\u001b[0;32m   4634\u001b[0m \u001b[38;5;250m    \u001b[39m\u001b[38;5;124;03m\"\"\"\u001b[39;00m\n\u001b[0;32m   4635\u001b[0m \u001b[38;5;124;03m    Invoke function on values of Series.\u001b[39;00m\n\u001b[0;32m   4636\u001b[0m \n\u001b[1;32m   (...)\u001b[0m\n\u001b[0;32m   4751\u001b[0m \u001b[38;5;124;03m    dtype: float64\u001b[39;00m\n\u001b[0;32m   4752\u001b[0m \u001b[38;5;124;03m    \"\"\"\u001b[39;00m\n\u001b[0;32m   4753\u001b[0m     \u001b[38;5;28;01mreturn\u001b[39;00m \u001b[43mSeriesApply\u001b[49m\u001b[43m(\u001b[49m\n\u001b[0;32m   4754\u001b[0m \u001b[43m        \u001b[49m\u001b[38;5;28;43mself\u001b[39;49m\u001b[43m,\u001b[49m\n\u001b[0;32m   4755\u001b[0m \u001b[43m        \u001b[49m\u001b[43mfunc\u001b[49m\u001b[43m,\u001b[49m\n\u001b[0;32m   4756\u001b[0m \u001b[43m        \u001b[49m\u001b[43mconvert_dtype\u001b[49m\u001b[38;5;241;43m=\u001b[39;49m\u001b[43mconvert_dtype\u001b[49m\u001b[43m,\u001b[49m\n\u001b[0;32m   4757\u001b[0m \u001b[43m        \u001b[49m\u001b[43mby_row\u001b[49m\u001b[38;5;241;43m=\u001b[39;49m\u001b[43mby_row\u001b[49m\u001b[43m,\u001b[49m\n\u001b[0;32m   4758\u001b[0m \u001b[43m        \u001b[49m\u001b[43margs\u001b[49m\u001b[38;5;241;43m=\u001b[39;49m\u001b[43margs\u001b[49m\u001b[43m,\u001b[49m\n\u001b[0;32m   4759\u001b[0m \u001b[43m        \u001b[49m\u001b[43mkwargs\u001b[49m\u001b[38;5;241;43m=\u001b[39;49m\u001b[43mkwargs\u001b[49m\u001b[43m,\u001b[49m\n\u001b[1;32m-> 4760\u001b[0m \u001b[43m    \u001b[49m\u001b[43m)\u001b[49m\u001b[38;5;241;43m.\u001b[39;49m\u001b[43mapply\u001b[49m\u001b[43m(\u001b[49m\u001b[43m)\u001b[49m\n",
            "File \u001b[1;32md:\\Installation_folder\\python311\\Lib\\site-packages\\pandas\\core\\apply.py:1207\u001b[0m, in \u001b[0;36mSeriesApply.apply\u001b[1;34m(self)\u001b[0m\n\u001b[0;32m   1204\u001b[0m     \u001b[38;5;28;01mreturn\u001b[39;00m \u001b[38;5;28mself\u001b[39m\u001b[38;5;241m.\u001b[39mapply_compat()\n\u001b[0;32m   1206\u001b[0m \u001b[38;5;66;03m# self.func is Callable\u001b[39;00m\n\u001b[1;32m-> 1207\u001b[0m \u001b[38;5;28;01mreturn\u001b[39;00m \u001b[38;5;28;43mself\u001b[39;49m\u001b[38;5;241;43m.\u001b[39;49m\u001b[43mapply_standard\u001b[49m\u001b[43m(\u001b[49m\u001b[43m)\u001b[49m\n",
            "File \u001b[1;32md:\\Installation_folder\\python311\\Lib\\site-packages\\pandas\\core\\apply.py:1287\u001b[0m, in \u001b[0;36mSeriesApply.apply_standard\u001b[1;34m(self)\u001b[0m\n\u001b[0;32m   1281\u001b[0m \u001b[38;5;66;03m# row-wise access\u001b[39;00m\n\u001b[0;32m   1282\u001b[0m \u001b[38;5;66;03m# apply doesn't have a `na_action` keyword and for backward compat reasons\u001b[39;00m\n\u001b[0;32m   1283\u001b[0m \u001b[38;5;66;03m# we need to give `na_action=\"ignore\"` for categorical data.\u001b[39;00m\n\u001b[0;32m   1284\u001b[0m \u001b[38;5;66;03m# TODO: remove the `na_action=\"ignore\"` when that default has been changed in\u001b[39;00m\n\u001b[0;32m   1285\u001b[0m \u001b[38;5;66;03m#  Categorical (GH51645).\u001b[39;00m\n\u001b[0;32m   1286\u001b[0m action \u001b[38;5;241m=\u001b[39m \u001b[38;5;124m\"\u001b[39m\u001b[38;5;124mignore\u001b[39m\u001b[38;5;124m\"\u001b[39m \u001b[38;5;28;01mif\u001b[39;00m \u001b[38;5;28misinstance\u001b[39m(obj\u001b[38;5;241m.\u001b[39mdtype, CategoricalDtype) \u001b[38;5;28;01melse\u001b[39;00m \u001b[38;5;28;01mNone\u001b[39;00m\n\u001b[1;32m-> 1287\u001b[0m mapped \u001b[38;5;241m=\u001b[39m \u001b[43mobj\u001b[49m\u001b[38;5;241;43m.\u001b[39;49m\u001b[43m_map_values\u001b[49m\u001b[43m(\u001b[49m\n\u001b[0;32m   1288\u001b[0m \u001b[43m    \u001b[49m\u001b[43mmapper\u001b[49m\u001b[38;5;241;43m=\u001b[39;49m\u001b[43mcurried\u001b[49m\u001b[43m,\u001b[49m\u001b[43m \u001b[49m\u001b[43mna_action\u001b[49m\u001b[38;5;241;43m=\u001b[39;49m\u001b[43maction\u001b[49m\u001b[43m,\u001b[49m\u001b[43m \u001b[49m\u001b[43mconvert\u001b[49m\u001b[38;5;241;43m=\u001b[39;49m\u001b[38;5;28;43mself\u001b[39;49m\u001b[38;5;241;43m.\u001b[39;49m\u001b[43mconvert_dtype\u001b[49m\n\u001b[0;32m   1289\u001b[0m \u001b[43m\u001b[49m\u001b[43m)\u001b[49m\n\u001b[0;32m   1291\u001b[0m \u001b[38;5;28;01mif\u001b[39;00m \u001b[38;5;28mlen\u001b[39m(mapped) \u001b[38;5;129;01mand\u001b[39;00m \u001b[38;5;28misinstance\u001b[39m(mapped[\u001b[38;5;241m0\u001b[39m], ABCSeries):\n\u001b[0;32m   1292\u001b[0m     \u001b[38;5;66;03m# GH#43986 Need to do list(mapped) in order to get treated as nested\u001b[39;00m\n\u001b[0;32m   1293\u001b[0m     \u001b[38;5;66;03m#  See also GH#25959 regarding EA support\u001b[39;00m\n\u001b[0;32m   1294\u001b[0m     \u001b[38;5;28;01mreturn\u001b[39;00m obj\u001b[38;5;241m.\u001b[39m_constructor_expanddim(\u001b[38;5;28mlist\u001b[39m(mapped), index\u001b[38;5;241m=\u001b[39mobj\u001b[38;5;241m.\u001b[39mindex)\n",
            "File \u001b[1;32md:\\Installation_folder\\python311\\Lib\\site-packages\\pandas\\core\\base.py:921\u001b[0m, in \u001b[0;36mIndexOpsMixin._map_values\u001b[1;34m(self, mapper, na_action, convert)\u001b[0m\n\u001b[0;32m    918\u001b[0m \u001b[38;5;28;01mif\u001b[39;00m \u001b[38;5;28misinstance\u001b[39m(arr, ExtensionArray):\n\u001b[0;32m    919\u001b[0m     \u001b[38;5;28;01mreturn\u001b[39;00m arr\u001b[38;5;241m.\u001b[39mmap(mapper, na_action\u001b[38;5;241m=\u001b[39mna_action)\n\u001b[1;32m--> 921\u001b[0m \u001b[38;5;28;01mreturn\u001b[39;00m \u001b[43malgorithms\u001b[49m\u001b[38;5;241;43m.\u001b[39;49m\u001b[43mmap_array\u001b[49m\u001b[43m(\u001b[49m\u001b[43marr\u001b[49m\u001b[43m,\u001b[49m\u001b[43m \u001b[49m\u001b[43mmapper\u001b[49m\u001b[43m,\u001b[49m\u001b[43m \u001b[49m\u001b[43mna_action\u001b[49m\u001b[38;5;241;43m=\u001b[39;49m\u001b[43mna_action\u001b[49m\u001b[43m,\u001b[49m\u001b[43m \u001b[49m\u001b[43mconvert\u001b[49m\u001b[38;5;241;43m=\u001b[39;49m\u001b[43mconvert\u001b[49m\u001b[43m)\u001b[49m\n",
            "File \u001b[1;32md:\\Installation_folder\\python311\\Lib\\site-packages\\pandas\\core\\algorithms.py:1814\u001b[0m, in \u001b[0;36mmap_array\u001b[1;34m(arr, mapper, na_action, convert)\u001b[0m\n\u001b[0;32m   1812\u001b[0m values \u001b[38;5;241m=\u001b[39m arr\u001b[38;5;241m.\u001b[39mastype(\u001b[38;5;28mobject\u001b[39m, copy\u001b[38;5;241m=\u001b[39m\u001b[38;5;28;01mFalse\u001b[39;00m)\n\u001b[0;32m   1813\u001b[0m \u001b[38;5;28;01mif\u001b[39;00m na_action \u001b[38;5;129;01mis\u001b[39;00m \u001b[38;5;28;01mNone\u001b[39;00m:\n\u001b[1;32m-> 1814\u001b[0m     \u001b[38;5;28;01mreturn\u001b[39;00m \u001b[43mlib\u001b[49m\u001b[38;5;241;43m.\u001b[39;49m\u001b[43mmap_infer\u001b[49m\u001b[43m(\u001b[49m\u001b[43mvalues\u001b[49m\u001b[43m,\u001b[49m\u001b[43m \u001b[49m\u001b[43mmapper\u001b[49m\u001b[43m,\u001b[49m\u001b[43m \u001b[49m\u001b[43mconvert\u001b[49m\u001b[38;5;241;43m=\u001b[39;49m\u001b[43mconvert\u001b[49m\u001b[43m)\u001b[49m\n\u001b[0;32m   1815\u001b[0m \u001b[38;5;28;01melse\u001b[39;00m:\n\u001b[0;32m   1816\u001b[0m     \u001b[38;5;28;01mreturn\u001b[39;00m lib\u001b[38;5;241m.\u001b[39mmap_infer_mask(\n\u001b[0;32m   1817\u001b[0m         values, mapper, mask\u001b[38;5;241m=\u001b[39misna(values)\u001b[38;5;241m.\u001b[39mview(np\u001b[38;5;241m.\u001b[39muint8), convert\u001b[38;5;241m=\u001b[39mconvert\n\u001b[0;32m   1818\u001b[0m     )\n",
            "File \u001b[1;32mlib.pyx:2920\u001b[0m, in \u001b[0;36mpandas._libs.lib.map_infer\u001b[1;34m()\u001b[0m\n",
            "File \u001b[1;32md:\\Installation_folder\\python311\\Lib\\site-packages\\tqdm\\std.py:915\u001b[0m, in \u001b[0;36mtqdm.pandas.<locals>.inner_generator.<locals>.inner.<locals>.wrapper\u001b[1;34m(*args, **kwargs)\u001b[0m\n\u001b[0;32m    909\u001b[0m \u001b[38;5;28;01mdef\u001b[39;00m \u001b[38;5;21mwrapper\u001b[39m(\u001b[38;5;241m*\u001b[39margs, \u001b[38;5;241m*\u001b[39m\u001b[38;5;241m*\u001b[39mkwargs):\n\u001b[0;32m    910\u001b[0m     \u001b[38;5;66;03m# update tbar correctly\u001b[39;00m\n\u001b[0;32m    911\u001b[0m     \u001b[38;5;66;03m# it seems `pandas apply` calls `func` twice\u001b[39;00m\n\u001b[0;32m    912\u001b[0m     \u001b[38;5;66;03m# on the first column/row to decide whether it can\u001b[39;00m\n\u001b[0;32m    913\u001b[0m     \u001b[38;5;66;03m# take a fast or slow code path; so stop when t.total==t.n\u001b[39;00m\n\u001b[0;32m    914\u001b[0m     t\u001b[38;5;241m.\u001b[39mupdate(n\u001b[38;5;241m=\u001b[39m\u001b[38;5;241m1\u001b[39m \u001b[38;5;28;01mif\u001b[39;00m \u001b[38;5;129;01mnot\u001b[39;00m t\u001b[38;5;241m.\u001b[39mtotal \u001b[38;5;129;01mor\u001b[39;00m t\u001b[38;5;241m.\u001b[39mn \u001b[38;5;241m<\u001b[39m t\u001b[38;5;241m.\u001b[39mtotal \u001b[38;5;28;01melse\u001b[39;00m \u001b[38;5;241m0\u001b[39m)\n\u001b[1;32m--> 915\u001b[0m     \u001b[38;5;28;01mreturn\u001b[39;00m \u001b[43mfunc\u001b[49m\u001b[43m(\u001b[49m\u001b[38;5;241;43m*\u001b[39;49m\u001b[43margs\u001b[49m\u001b[43m,\u001b[49m\u001b[43m \u001b[49m\u001b[38;5;241;43m*\u001b[39;49m\u001b[38;5;241;43m*\u001b[39;49m\u001b[43mkwargs\u001b[49m\u001b[43m)\u001b[49m\n",
            "Cell \u001b[1;32mIn[14], line 3\u001b[0m, in \u001b[0;36m<lambda>\u001b[1;34m(p)\u001b[0m\n\u001b[0;32m      1\u001b[0m tqdm\u001b[38;5;241m.\u001b[39mpandas()\n\u001b[0;32m      2\u001b[0m llama3_3ResponseDf[[\u001b[38;5;124m\"\u001b[39m\u001b[38;5;124mresponse\u001b[39m\u001b[38;5;124m\"\u001b[39m, \u001b[38;5;124m\"\u001b[39m\u001b[38;5;124mvul\u001b[39m\u001b[38;5;124m\"\u001b[39m, \u001b[38;5;124m\"\u001b[39m\u001b[38;5;124mCWE ID\u001b[39m\u001b[38;5;124m\"\u001b[39m, \u001b[38;5;124m\"\u001b[39m\u001b[38;5;124mCWE Name\u001b[39m\u001b[38;5;124m\"\u001b[39m]] \u001b[38;5;241m=\u001b[39m llama3_3ResponseDf[\u001b[38;5;124m\"\u001b[39m\u001b[38;5;124mprompt\u001b[39m\u001b[38;5;124m\"\u001b[39m]\u001b[38;5;241m.\u001b[39mprogress_apply(\n\u001b[1;32m----> 3\u001b[0m     \u001b[38;5;28;01mlambda\u001b[39;00m p: pd\u001b[38;5;241m.\u001b[39mSeries(\u001b[43mget_vul_info\u001b[49m\u001b[43m(\u001b[49m\u001b[43mp\u001b[49m\u001b[43m)\u001b[49m)\n\u001b[0;32m      4\u001b[0m )\n",
            "Cell \u001b[1;32mIn[12], line 20\u001b[0m, in \u001b[0;36mget_vul_info\u001b[1;34m(prompt)\u001b[0m\n\u001b[0;32m     18\u001b[0m client \u001b[38;5;241m=\u001b[39m get_client()\n\u001b[0;32m     19\u001b[0m \u001b[38;5;28;01mtry\u001b[39;00m:\n\u001b[1;32m---> 20\u001b[0m     resp \u001b[38;5;241m=\u001b[39m \u001b[43mclient\u001b[49m\u001b[38;5;241;43m.\u001b[39;49m\u001b[43mchat\u001b[49m\u001b[38;5;241;43m.\u001b[39;49m\u001b[43mcompletions\u001b[49m\u001b[38;5;241;43m.\u001b[39;49m\u001b[43mcreate\u001b[49m\u001b[43m(\u001b[49m\n\u001b[0;32m     21\u001b[0m \u001b[43m        \u001b[49m\u001b[43mmessages\u001b[49m\u001b[38;5;241;43m=\u001b[39;49m\u001b[43m[\u001b[49m\u001b[43m{\u001b[49m\u001b[38;5;124;43m\"\u001b[39;49m\u001b[38;5;124;43mrole\u001b[39;49m\u001b[38;5;124;43m\"\u001b[39;49m\u001b[43m:\u001b[49m\u001b[43m \u001b[49m\u001b[38;5;124;43m\"\u001b[39;49m\u001b[38;5;124;43muser\u001b[39;49m\u001b[38;5;124;43m\"\u001b[39;49m\u001b[43m,\u001b[49m\u001b[43m \u001b[49m\u001b[38;5;124;43m\"\u001b[39;49m\u001b[38;5;124;43mcontent\u001b[39;49m\u001b[38;5;124;43m\"\u001b[39;49m\u001b[43m:\u001b[49m\u001b[43m \u001b[49m\u001b[43mprompt\u001b[49m\u001b[43m}\u001b[49m\u001b[43m]\u001b[49m\u001b[43m,\u001b[49m\n\u001b[0;32m     22\u001b[0m \u001b[43m        \u001b[49m\u001b[43mmodel\u001b[49m\u001b[38;5;241;43m=\u001b[39;49m\u001b[38;5;124;43m\"\u001b[39;49m\u001b[38;5;124;43mllama3.3-70b\u001b[39;49m\u001b[38;5;124;43m\"\u001b[39;49m\u001b[43m,\u001b[49m\n\u001b[0;32m     23\u001b[0m \u001b[43m    \u001b[49m\u001b[43m)\u001b[49m\n\u001b[0;32m     24\u001b[0m     text \u001b[38;5;241m=\u001b[39m resp\u001b[38;5;241m.\u001b[39mchoices[\u001b[38;5;241m0\u001b[39m]\u001b[38;5;241m.\u001b[39mmessage\u001b[38;5;241m.\u001b[39mcontent \u001b[38;5;28;01mif\u001b[39;00m \u001b[38;5;28mhasattr\u001b[39m(resp, \u001b[38;5;124m'\u001b[39m\u001b[38;5;124mchoices\u001b[39m\u001b[38;5;124m'\u001b[39m) \u001b[38;5;28;01melse\u001b[39;00m \u001b[38;5;28mstr\u001b[39m(resp)\n\u001b[0;32m     26\u001b[0m     vul \u001b[38;5;241m=\u001b[39m re\u001b[38;5;241m.\u001b[39msearch(\u001b[38;5;124mr\u001b[39m\u001b[38;5;124m\"\u001b[39m\u001b[38;5;124mVulnerability:\u001b[39m\u001b[38;5;124m\\\u001b[39m\u001b[38;5;124ms*(.*)\u001b[39m\u001b[38;5;124m\"\u001b[39m, text)\n",
            "File \u001b[1;32md:\\Installation_folder\\python311\\Lib\\site-packages\\cerebras\\cloud\\sdk\\resources\\chat\\completions.py:180\u001b[0m, in \u001b[0;36mCompletionsResource.create\u001b[1;34m(self, messages, model, frequency_penalty, logit_bias, logprobs, max_completion_tokens, max_tokens, min_completion_tokens, min_tokens, n, parallel_tool_calls, presence_penalty, reasoning_effort, response_format, seed, service_tier, stop, stream, stream_options, temperature, tool_choice, tools, top_logprobs, top_p, user, cf_ray, x_amz_cf_id, x_delay_time, extra_headers, extra_query, extra_body, timeout)\u001b[0m\n\u001b[0;32m     86\u001b[0m \u001b[38;5;250m\u001b[39m\u001b[38;5;124;03m\"\"\"Chat\u001b[39;00m\n\u001b[0;32m     87\u001b[0m \n\u001b[0;32m     88\u001b[0m \u001b[38;5;124;03mArgs:\u001b[39;00m\n\u001b[1;32m   (...)\u001b[0m\n\u001b[0;32m    166\u001b[0m \u001b[38;5;124;03m  timeout: Override the client-level default timeout for this request, in seconds\u001b[39;00m\n\u001b[0;32m    167\u001b[0m \u001b[38;5;124;03m\"\"\"\u001b[39;00m\n\u001b[0;32m    168\u001b[0m extra_headers \u001b[38;5;241m=\u001b[39m {\n\u001b[0;32m    169\u001b[0m     \u001b[38;5;241m*\u001b[39m\u001b[38;5;241m*\u001b[39mstrip_not_given(\n\u001b[0;32m    170\u001b[0m         {\n\u001b[1;32m   (...)\u001b[0m\n\u001b[0;32m    176\u001b[0m     \u001b[38;5;241m*\u001b[39m\u001b[38;5;241m*\u001b[39m(extra_headers \u001b[38;5;129;01mor\u001b[39;00m {}),\n\u001b[0;32m    177\u001b[0m }\n\u001b[0;32m    178\u001b[0m \u001b[38;5;28;01mreturn\u001b[39;00m cast(\n\u001b[0;32m    179\u001b[0m     ChatCompletion,\n\u001b[1;32m--> 180\u001b[0m     \u001b[38;5;28;43mself\u001b[39;49m\u001b[38;5;241;43m.\u001b[39;49m\u001b[43m_post\u001b[49m\u001b[43m(\u001b[49m\n\u001b[0;32m    181\u001b[0m \u001b[43m        \u001b[49m\u001b[38;5;124;43m\"\u001b[39;49m\u001b[38;5;124;43m/v1/chat/completions\u001b[39;49m\u001b[38;5;124;43m\"\u001b[39;49m\u001b[43m,\u001b[49m\n\u001b[0;32m    182\u001b[0m \u001b[43m        \u001b[49m\u001b[43mbody\u001b[49m\u001b[38;5;241;43m=\u001b[39;49m\u001b[43mmaybe_transform\u001b[49m\u001b[43m(\u001b[49m\n\u001b[0;32m    183\u001b[0m \u001b[43m            \u001b[49m\u001b[43m{\u001b[49m\n\u001b[0;32m    184\u001b[0m \u001b[43m                \u001b[49m\u001b[38;5;124;43m\"\u001b[39;49m\u001b[38;5;124;43mmessages\u001b[39;49m\u001b[38;5;124;43m\"\u001b[39;49m\u001b[43m:\u001b[49m\u001b[43m \u001b[49m\u001b[43mmessages\u001b[49m\u001b[43m,\u001b[49m\n\u001b[0;32m    185\u001b[0m \u001b[43m                \u001b[49m\u001b[38;5;124;43m\"\u001b[39;49m\u001b[38;5;124;43mmodel\u001b[39;49m\u001b[38;5;124;43m\"\u001b[39;49m\u001b[43m:\u001b[49m\u001b[43m \u001b[49m\u001b[43mmodel\u001b[49m\u001b[43m,\u001b[49m\n\u001b[0;32m    186\u001b[0m \u001b[43m                \u001b[49m\u001b[38;5;124;43m\"\u001b[39;49m\u001b[38;5;124;43mfrequency_penalty\u001b[39;49m\u001b[38;5;124;43m\"\u001b[39;49m\u001b[43m:\u001b[49m\u001b[43m \u001b[49m\u001b[43mfrequency_penalty\u001b[49m\u001b[43m,\u001b[49m\n\u001b[0;32m    187\u001b[0m \u001b[43m                \u001b[49m\u001b[38;5;124;43m\"\u001b[39;49m\u001b[38;5;124;43mlogit_bias\u001b[39;49m\u001b[38;5;124;43m\"\u001b[39;49m\u001b[43m:\u001b[49m\u001b[43m \u001b[49m\u001b[43mlogit_bias\u001b[49m\u001b[43m,\u001b[49m\n\u001b[0;32m    188\u001b[0m \u001b[43m                \u001b[49m\u001b[38;5;124;43m\"\u001b[39;49m\u001b[38;5;124;43mlogprobs\u001b[39;49m\u001b[38;5;124;43m\"\u001b[39;49m\u001b[43m:\u001b[49m\u001b[43m \u001b[49m\u001b[43mlogprobs\u001b[49m\u001b[43m,\u001b[49m\n\u001b[0;32m    189\u001b[0m \u001b[43m                \u001b[49m\u001b[38;5;124;43m\"\u001b[39;49m\u001b[38;5;124;43mmax_completion_tokens\u001b[39;49m\u001b[38;5;124;43m\"\u001b[39;49m\u001b[43m:\u001b[49m\u001b[43m \u001b[49m\u001b[43mmax_completion_tokens\u001b[49m\u001b[43m,\u001b[49m\n\u001b[0;32m    190\u001b[0m \u001b[43m                \u001b[49m\u001b[38;5;124;43m\"\u001b[39;49m\u001b[38;5;124;43mmax_tokens\u001b[39;49m\u001b[38;5;124;43m\"\u001b[39;49m\u001b[43m:\u001b[49m\u001b[43m \u001b[49m\u001b[43mmax_tokens\u001b[49m\u001b[43m,\u001b[49m\n\u001b[0;32m    191\u001b[0m \u001b[43m                \u001b[49m\u001b[38;5;124;43m\"\u001b[39;49m\u001b[38;5;124;43mmin_completion_tokens\u001b[39;49m\u001b[38;5;124;43m\"\u001b[39;49m\u001b[43m:\u001b[49m\u001b[43m \u001b[49m\u001b[43mmin_completion_tokens\u001b[49m\u001b[43m,\u001b[49m\n\u001b[0;32m    192\u001b[0m \u001b[43m                \u001b[49m\u001b[38;5;124;43m\"\u001b[39;49m\u001b[38;5;124;43mmin_tokens\u001b[39;49m\u001b[38;5;124;43m\"\u001b[39;49m\u001b[43m:\u001b[49m\u001b[43m \u001b[49m\u001b[43mmin_tokens\u001b[49m\u001b[43m,\u001b[49m\n\u001b[0;32m    193\u001b[0m \u001b[43m                \u001b[49m\u001b[38;5;124;43m\"\u001b[39;49m\u001b[38;5;124;43mn\u001b[39;49m\u001b[38;5;124;43m\"\u001b[39;49m\u001b[43m:\u001b[49m\u001b[43m \u001b[49m\u001b[43mn\u001b[49m\u001b[43m,\u001b[49m\n\u001b[0;32m    194\u001b[0m \u001b[43m                \u001b[49m\u001b[38;5;124;43m\"\u001b[39;49m\u001b[38;5;124;43mparallel_tool_calls\u001b[39;49m\u001b[38;5;124;43m\"\u001b[39;49m\u001b[43m:\u001b[49m\u001b[43m \u001b[49m\u001b[43mparallel_tool_calls\u001b[49m\u001b[43m,\u001b[49m\n\u001b[0;32m    195\u001b[0m \u001b[43m                \u001b[49m\u001b[38;5;124;43m\"\u001b[39;49m\u001b[38;5;124;43mpresence_penalty\u001b[39;49m\u001b[38;5;124;43m\"\u001b[39;49m\u001b[43m:\u001b[49m\u001b[43m \u001b[49m\u001b[43mpresence_penalty\u001b[49m\u001b[43m,\u001b[49m\n\u001b[0;32m    196\u001b[0m \u001b[43m                \u001b[49m\u001b[38;5;124;43m\"\u001b[39;49m\u001b[38;5;124;43mreasoning_effort\u001b[39;49m\u001b[38;5;124;43m\"\u001b[39;49m\u001b[43m:\u001b[49m\u001b[43m \u001b[49m\u001b[43mreasoning_effort\u001b[49m\u001b[43m,\u001b[49m\n\u001b[0;32m    197\u001b[0m \u001b[43m                \u001b[49m\u001b[38;5;124;43m\"\u001b[39;49m\u001b[38;5;124;43mresponse_format\u001b[39;49m\u001b[38;5;124;43m\"\u001b[39;49m\u001b[43m:\u001b[49m\u001b[43m \u001b[49m\u001b[43mresponse_format\u001b[49m\u001b[43m,\u001b[49m\n\u001b[0;32m    198\u001b[0m \u001b[43m                \u001b[49m\u001b[38;5;124;43m\"\u001b[39;49m\u001b[38;5;124;43mseed\u001b[39;49m\u001b[38;5;124;43m\"\u001b[39;49m\u001b[43m:\u001b[49m\u001b[43m \u001b[49m\u001b[43mseed\u001b[49m\u001b[43m,\u001b[49m\n\u001b[0;32m    199\u001b[0m \u001b[43m                \u001b[49m\u001b[38;5;124;43m\"\u001b[39;49m\u001b[38;5;124;43mservice_tier\u001b[39;49m\u001b[38;5;124;43m\"\u001b[39;49m\u001b[43m:\u001b[49m\u001b[43m \u001b[49m\u001b[43mservice_tier\u001b[49m\u001b[43m,\u001b[49m\n\u001b[0;32m    200\u001b[0m \u001b[43m                \u001b[49m\u001b[38;5;124;43m\"\u001b[39;49m\u001b[38;5;124;43mstop\u001b[39;49m\u001b[38;5;124;43m\"\u001b[39;49m\u001b[43m:\u001b[49m\u001b[43m \u001b[49m\u001b[43mstop\u001b[49m\u001b[43m,\u001b[49m\n\u001b[0;32m    201\u001b[0m \u001b[43m                \u001b[49m\u001b[38;5;124;43m\"\u001b[39;49m\u001b[38;5;124;43mstream\u001b[39;49m\u001b[38;5;124;43m\"\u001b[39;49m\u001b[43m:\u001b[49m\u001b[43m \u001b[49m\u001b[43mstream\u001b[49m\u001b[43m,\u001b[49m\n\u001b[0;32m    202\u001b[0m \u001b[43m                \u001b[49m\u001b[38;5;124;43m\"\u001b[39;49m\u001b[38;5;124;43mstream_options\u001b[39;49m\u001b[38;5;124;43m\"\u001b[39;49m\u001b[43m:\u001b[49m\u001b[43m \u001b[49m\u001b[43mstream_options\u001b[49m\u001b[43m,\u001b[49m\n\u001b[0;32m    203\u001b[0m \u001b[43m                \u001b[49m\u001b[38;5;124;43m\"\u001b[39;49m\u001b[38;5;124;43mtemperature\u001b[39;49m\u001b[38;5;124;43m\"\u001b[39;49m\u001b[43m:\u001b[49m\u001b[43m \u001b[49m\u001b[43mtemperature\u001b[49m\u001b[43m,\u001b[49m\n\u001b[0;32m    204\u001b[0m \u001b[43m                \u001b[49m\u001b[38;5;124;43m\"\u001b[39;49m\u001b[38;5;124;43mtool_choice\u001b[39;49m\u001b[38;5;124;43m\"\u001b[39;49m\u001b[43m:\u001b[49m\u001b[43m \u001b[49m\u001b[43mtool_choice\u001b[49m\u001b[43m,\u001b[49m\n\u001b[0;32m    205\u001b[0m \u001b[43m                \u001b[49m\u001b[38;5;124;43m\"\u001b[39;49m\u001b[38;5;124;43mtools\u001b[39;49m\u001b[38;5;124;43m\"\u001b[39;49m\u001b[43m:\u001b[49m\u001b[43m \u001b[49m\u001b[43mtools\u001b[49m\u001b[43m,\u001b[49m\n\u001b[0;32m    206\u001b[0m \u001b[43m                \u001b[49m\u001b[38;5;124;43m\"\u001b[39;49m\u001b[38;5;124;43mtop_logprobs\u001b[39;49m\u001b[38;5;124;43m\"\u001b[39;49m\u001b[43m:\u001b[49m\u001b[43m \u001b[49m\u001b[43mtop_logprobs\u001b[49m\u001b[43m,\u001b[49m\n\u001b[0;32m    207\u001b[0m \u001b[43m                \u001b[49m\u001b[38;5;124;43m\"\u001b[39;49m\u001b[38;5;124;43mtop_p\u001b[39;49m\u001b[38;5;124;43m\"\u001b[39;49m\u001b[43m:\u001b[49m\u001b[43m \u001b[49m\u001b[43mtop_p\u001b[49m\u001b[43m,\u001b[49m\n\u001b[0;32m    208\u001b[0m \u001b[43m                \u001b[49m\u001b[38;5;124;43m\"\u001b[39;49m\u001b[38;5;124;43muser\u001b[39;49m\u001b[38;5;124;43m\"\u001b[39;49m\u001b[43m:\u001b[49m\u001b[43m \u001b[49m\u001b[43muser\u001b[49m\u001b[43m,\u001b[49m\n\u001b[0;32m    209\u001b[0m \u001b[43m            \u001b[49m\u001b[43m}\u001b[49m\u001b[43m,\u001b[49m\n\u001b[0;32m    210\u001b[0m \u001b[43m            \u001b[49m\u001b[43mcompletion_create_params\u001b[49m\u001b[38;5;241;43m.\u001b[39;49m\u001b[43mCompletionCreateParams\u001b[49m\u001b[43m,\u001b[49m\n\u001b[0;32m    211\u001b[0m \u001b[43m        \u001b[49m\u001b[43m)\u001b[49m\u001b[43m,\u001b[49m\n\u001b[0;32m    212\u001b[0m \u001b[43m        \u001b[49m\u001b[43moptions\u001b[49m\u001b[38;5;241;43m=\u001b[39;49m\u001b[43mmake_request_options\u001b[49m\u001b[43m(\u001b[49m\n\u001b[0;32m    213\u001b[0m \u001b[43m            \u001b[49m\u001b[43mextra_headers\u001b[49m\u001b[38;5;241;43m=\u001b[39;49m\u001b[43mextra_headers\u001b[49m\u001b[43m,\u001b[49m\u001b[43m \u001b[49m\u001b[43mextra_query\u001b[49m\u001b[38;5;241;43m=\u001b[39;49m\u001b[43mextra_query\u001b[49m\u001b[43m,\u001b[49m\u001b[43m \u001b[49m\u001b[43mextra_body\u001b[49m\u001b[38;5;241;43m=\u001b[39;49m\u001b[43mextra_body\u001b[49m\u001b[43m,\u001b[49m\u001b[43m \u001b[49m\u001b[43mtimeout\u001b[49m\u001b[38;5;241;43m=\u001b[39;49m\u001b[43mtimeout\u001b[49m\n\u001b[0;32m    214\u001b[0m \u001b[43m        \u001b[49m\u001b[43m)\u001b[49m\u001b[43m,\u001b[49m\n\u001b[0;32m    215\u001b[0m \u001b[43m        \u001b[49m\u001b[43mcast_to\u001b[49m\u001b[38;5;241;43m=\u001b[39;49m\u001b[43mcast\u001b[49m\u001b[43m(\u001b[49m\u001b[43mAny\u001b[49m\u001b[43m,\u001b[49m\u001b[43m \u001b[49m\u001b[43mChatCompletion\u001b[49m\u001b[43m)\u001b[49m\u001b[43m,\u001b[49m\u001b[43m  \u001b[49m\u001b[38;5;66;43;03m# Union types cannot be passed in as arguments in the type system\u001b[39;49;00m\n\u001b[0;32m    216\u001b[0m \u001b[43m        \u001b[49m\u001b[43mstream\u001b[49m\u001b[38;5;241;43m=\u001b[39;49m\u001b[43mstream\u001b[49m\u001b[43m \u001b[49m\u001b[38;5;129;43;01mor\u001b[39;49;00m\u001b[43m \u001b[49m\u001b[38;5;28;43;01mFalse\u001b[39;49;00m\u001b[43m,\u001b[49m\n\u001b[0;32m    217\u001b[0m \u001b[43m        \u001b[49m\u001b[43mstream_cls\u001b[49m\u001b[38;5;241;43m=\u001b[39;49m\u001b[43mStream\u001b[49m\u001b[43m[\u001b[49m\u001b[43mChatCompletion\u001b[49m\u001b[43m]\u001b[49m\u001b[43m,\u001b[49m\n\u001b[0;32m    218\u001b[0m \u001b[43m    \u001b[49m\u001b[43m)\u001b[49m,\n\u001b[0;32m    219\u001b[0m )\n",
            "File \u001b[1;32md:\\Installation_folder\\python311\\Lib\\site-packages\\cerebras\\cloud\\sdk\\_base_client.py:1242\u001b[0m, in \u001b[0;36mSyncAPIClient.post\u001b[1;34m(self, path, cast_to, body, options, files, stream, stream_cls)\u001b[0m\n\u001b[0;32m   1228\u001b[0m \u001b[38;5;28;01mdef\u001b[39;00m \u001b[38;5;21mpost\u001b[39m(\n\u001b[0;32m   1229\u001b[0m     \u001b[38;5;28mself\u001b[39m,\n\u001b[0;32m   1230\u001b[0m     path: \u001b[38;5;28mstr\u001b[39m,\n\u001b[1;32m   (...)\u001b[0m\n\u001b[0;32m   1237\u001b[0m     stream_cls: \u001b[38;5;28mtype\u001b[39m[_StreamT] \u001b[38;5;241m|\u001b[39m \u001b[38;5;28;01mNone\u001b[39;00m \u001b[38;5;241m=\u001b[39m \u001b[38;5;28;01mNone\u001b[39;00m,\n\u001b[0;32m   1238\u001b[0m ) \u001b[38;5;241m-\u001b[39m\u001b[38;5;241m>\u001b[39m ResponseT \u001b[38;5;241m|\u001b[39m _StreamT:\n\u001b[0;32m   1239\u001b[0m     opts \u001b[38;5;241m=\u001b[39m FinalRequestOptions\u001b[38;5;241m.\u001b[39mconstruct(\n\u001b[0;32m   1240\u001b[0m         method\u001b[38;5;241m=\u001b[39m\u001b[38;5;124m\"\u001b[39m\u001b[38;5;124mpost\u001b[39m\u001b[38;5;124m\"\u001b[39m, url\u001b[38;5;241m=\u001b[39mpath, json_data\u001b[38;5;241m=\u001b[39mbody, files\u001b[38;5;241m=\u001b[39mto_httpx_files(files), \u001b[38;5;241m*\u001b[39m\u001b[38;5;241m*\u001b[39moptions\n\u001b[0;32m   1241\u001b[0m     )\n\u001b[1;32m-> 1242\u001b[0m     \u001b[38;5;28;01mreturn\u001b[39;00m cast(ResponseT, \u001b[38;5;28;43mself\u001b[39;49m\u001b[38;5;241;43m.\u001b[39;49m\u001b[43mrequest\u001b[49m\u001b[43m(\u001b[49m\u001b[43mcast_to\u001b[49m\u001b[43m,\u001b[49m\u001b[43m \u001b[49m\u001b[43mopts\u001b[49m\u001b[43m,\u001b[49m\u001b[43m \u001b[49m\u001b[43mstream\u001b[49m\u001b[38;5;241;43m=\u001b[39;49m\u001b[43mstream\u001b[49m\u001b[43m,\u001b[49m\u001b[43m \u001b[49m\u001b[43mstream_cls\u001b[49m\u001b[38;5;241;43m=\u001b[39;49m\u001b[43mstream_cls\u001b[49m\u001b[43m)\u001b[49m)\n",
            "File \u001b[1;32md:\\Installation_folder\\python311\\Lib\\site-packages\\cerebras\\cloud\\sdk\\_base_client.py:980\u001b[0m, in \u001b[0;36mSyncAPIClient.request\u001b[1;34m(self, cast_to, options, stream, stream_cls)\u001b[0m\n\u001b[0;32m    978\u001b[0m response \u001b[38;5;241m=\u001b[39m \u001b[38;5;28;01mNone\u001b[39;00m\n\u001b[0;32m    979\u001b[0m \u001b[38;5;28;01mtry\u001b[39;00m:\n\u001b[1;32m--> 980\u001b[0m     response \u001b[38;5;241m=\u001b[39m \u001b[38;5;28;43mself\u001b[39;49m\u001b[38;5;241;43m.\u001b[39;49m\u001b[43m_client\u001b[49m\u001b[38;5;241;43m.\u001b[39;49m\u001b[43msend\u001b[49m\u001b[43m(\u001b[49m\n\u001b[0;32m    981\u001b[0m \u001b[43m        \u001b[49m\u001b[43mrequest\u001b[49m\u001b[43m,\u001b[49m\n\u001b[0;32m    982\u001b[0m \u001b[43m        \u001b[49m\u001b[43mstream\u001b[49m\u001b[38;5;241;43m=\u001b[39;49m\u001b[43mstream\u001b[49m\u001b[43m \u001b[49m\u001b[38;5;129;43;01mor\u001b[39;49;00m\u001b[43m \u001b[49m\u001b[38;5;28;43mself\u001b[39;49m\u001b[38;5;241;43m.\u001b[39;49m\u001b[43m_should_stream_response_body\u001b[49m\u001b[43m(\u001b[49m\u001b[43mrequest\u001b[49m\u001b[38;5;241;43m=\u001b[39;49m\u001b[43mrequest\u001b[49m\u001b[43m)\u001b[49m\u001b[43m,\u001b[49m\n\u001b[0;32m    983\u001b[0m \u001b[43m        \u001b[49m\u001b[38;5;241;43m*\u001b[39;49m\u001b[38;5;241;43m*\u001b[39;49m\u001b[43mkwargs\u001b[49m\u001b[43m,\u001b[49m\n\u001b[0;32m    984\u001b[0m \u001b[43m    \u001b[49m\u001b[43m)\u001b[49m\n\u001b[0;32m    985\u001b[0m \u001b[38;5;28;01mexcept\u001b[39;00m httpx\u001b[38;5;241m.\u001b[39mTimeoutException \u001b[38;5;28;01mas\u001b[39;00m err:\n\u001b[0;32m    986\u001b[0m     log\u001b[38;5;241m.\u001b[39mdebug(\u001b[38;5;124m\"\u001b[39m\u001b[38;5;124mEncountered httpx.TimeoutException\u001b[39m\u001b[38;5;124m\"\u001b[39m, exc_info\u001b[38;5;241m=\u001b[39m\u001b[38;5;28;01mTrue\u001b[39;00m)\n",
            "File \u001b[1;32md:\\Installation_folder\\python311\\Lib\\site-packages\\httpx\\_client.py:914\u001b[0m, in \u001b[0;36mClient.send\u001b[1;34m(self, request, stream, auth, follow_redirects)\u001b[0m\n\u001b[0;32m    910\u001b[0m \u001b[38;5;28mself\u001b[39m\u001b[38;5;241m.\u001b[39m_set_timeout(request)\n\u001b[0;32m    912\u001b[0m auth \u001b[38;5;241m=\u001b[39m \u001b[38;5;28mself\u001b[39m\u001b[38;5;241m.\u001b[39m_build_request_auth(request, auth)\n\u001b[1;32m--> 914\u001b[0m response \u001b[38;5;241m=\u001b[39m \u001b[38;5;28;43mself\u001b[39;49m\u001b[38;5;241;43m.\u001b[39;49m\u001b[43m_send_handling_auth\u001b[49m\u001b[43m(\u001b[49m\n\u001b[0;32m    915\u001b[0m \u001b[43m    \u001b[49m\u001b[43mrequest\u001b[49m\u001b[43m,\u001b[49m\n\u001b[0;32m    916\u001b[0m \u001b[43m    \u001b[49m\u001b[43mauth\u001b[49m\u001b[38;5;241;43m=\u001b[39;49m\u001b[43mauth\u001b[49m\u001b[43m,\u001b[49m\n\u001b[0;32m    917\u001b[0m \u001b[43m    \u001b[49m\u001b[43mfollow_redirects\u001b[49m\u001b[38;5;241;43m=\u001b[39;49m\u001b[43mfollow_redirects\u001b[49m\u001b[43m,\u001b[49m\n\u001b[0;32m    918\u001b[0m \u001b[43m    \u001b[49m\u001b[43mhistory\u001b[49m\u001b[38;5;241;43m=\u001b[39;49m\u001b[43m[\u001b[49m\u001b[43m]\u001b[49m\u001b[43m,\u001b[49m\n\u001b[0;32m    919\u001b[0m \u001b[43m\u001b[49m\u001b[43m)\u001b[49m\n\u001b[0;32m    920\u001b[0m \u001b[38;5;28;01mtry\u001b[39;00m:\n\u001b[0;32m    921\u001b[0m     \u001b[38;5;28;01mif\u001b[39;00m \u001b[38;5;129;01mnot\u001b[39;00m stream:\n",
            "File \u001b[1;32md:\\Installation_folder\\python311\\Lib\\site-packages\\httpx\\_client.py:942\u001b[0m, in \u001b[0;36mClient._send_handling_auth\u001b[1;34m(self, request, auth, follow_redirects, history)\u001b[0m\n\u001b[0;32m    939\u001b[0m request \u001b[38;5;241m=\u001b[39m \u001b[38;5;28mnext\u001b[39m(auth_flow)\n\u001b[0;32m    941\u001b[0m \u001b[38;5;28;01mwhile\u001b[39;00m \u001b[38;5;28;01mTrue\u001b[39;00m:\n\u001b[1;32m--> 942\u001b[0m     response \u001b[38;5;241m=\u001b[39m \u001b[38;5;28;43mself\u001b[39;49m\u001b[38;5;241;43m.\u001b[39;49m\u001b[43m_send_handling_redirects\u001b[49m\u001b[43m(\u001b[49m\n\u001b[0;32m    943\u001b[0m \u001b[43m        \u001b[49m\u001b[43mrequest\u001b[49m\u001b[43m,\u001b[49m\n\u001b[0;32m    944\u001b[0m \u001b[43m        \u001b[49m\u001b[43mfollow_redirects\u001b[49m\u001b[38;5;241;43m=\u001b[39;49m\u001b[43mfollow_redirects\u001b[49m\u001b[43m,\u001b[49m\n\u001b[0;32m    945\u001b[0m \u001b[43m        \u001b[49m\u001b[43mhistory\u001b[49m\u001b[38;5;241;43m=\u001b[39;49m\u001b[43mhistory\u001b[49m\u001b[43m,\u001b[49m\n\u001b[0;32m    946\u001b[0m \u001b[43m    \u001b[49m\u001b[43m)\u001b[49m\n\u001b[0;32m    947\u001b[0m     \u001b[38;5;28;01mtry\u001b[39;00m:\n\u001b[0;32m    948\u001b[0m         \u001b[38;5;28;01mtry\u001b[39;00m:\n",
            "File \u001b[1;32md:\\Installation_folder\\python311\\Lib\\site-packages\\httpx\\_client.py:979\u001b[0m, in \u001b[0;36mClient._send_handling_redirects\u001b[1;34m(self, request, follow_redirects, history)\u001b[0m\n\u001b[0;32m    976\u001b[0m \u001b[38;5;28;01mfor\u001b[39;00m hook \u001b[38;5;129;01min\u001b[39;00m \u001b[38;5;28mself\u001b[39m\u001b[38;5;241m.\u001b[39m_event_hooks[\u001b[38;5;124m\"\u001b[39m\u001b[38;5;124mrequest\u001b[39m\u001b[38;5;124m\"\u001b[39m]:\n\u001b[0;32m    977\u001b[0m     hook(request)\n\u001b[1;32m--> 979\u001b[0m response \u001b[38;5;241m=\u001b[39m \u001b[38;5;28;43mself\u001b[39;49m\u001b[38;5;241;43m.\u001b[39;49m\u001b[43m_send_single_request\u001b[49m\u001b[43m(\u001b[49m\u001b[43mrequest\u001b[49m\u001b[43m)\u001b[49m\n\u001b[0;32m    980\u001b[0m \u001b[38;5;28;01mtry\u001b[39;00m:\n\u001b[0;32m    981\u001b[0m     \u001b[38;5;28;01mfor\u001b[39;00m hook \u001b[38;5;129;01min\u001b[39;00m \u001b[38;5;28mself\u001b[39m\u001b[38;5;241m.\u001b[39m_event_hooks[\u001b[38;5;124m\"\u001b[39m\u001b[38;5;124mresponse\u001b[39m\u001b[38;5;124m\"\u001b[39m]:\n",
            "File \u001b[1;32md:\\Installation_folder\\python311\\Lib\\site-packages\\httpx\\_client.py:1014\u001b[0m, in \u001b[0;36mClient._send_single_request\u001b[1;34m(self, request)\u001b[0m\n\u001b[0;32m   1009\u001b[0m     \u001b[38;5;28;01mraise\u001b[39;00m \u001b[38;5;167;01mRuntimeError\u001b[39;00m(\n\u001b[0;32m   1010\u001b[0m         \u001b[38;5;124m\"\u001b[39m\u001b[38;5;124mAttempted to send an async request with a sync Client instance.\u001b[39m\u001b[38;5;124m\"\u001b[39m\n\u001b[0;32m   1011\u001b[0m     )\n\u001b[0;32m   1013\u001b[0m \u001b[38;5;28;01mwith\u001b[39;00m request_context(request\u001b[38;5;241m=\u001b[39mrequest):\n\u001b[1;32m-> 1014\u001b[0m     response \u001b[38;5;241m=\u001b[39m \u001b[43mtransport\u001b[49m\u001b[38;5;241;43m.\u001b[39;49m\u001b[43mhandle_request\u001b[49m\u001b[43m(\u001b[49m\u001b[43mrequest\u001b[49m\u001b[43m)\u001b[49m\n\u001b[0;32m   1016\u001b[0m \u001b[38;5;28;01massert\u001b[39;00m \u001b[38;5;28misinstance\u001b[39m(response\u001b[38;5;241m.\u001b[39mstream, SyncByteStream)\n\u001b[0;32m   1018\u001b[0m response\u001b[38;5;241m.\u001b[39mrequest \u001b[38;5;241m=\u001b[39m request\n",
            "File \u001b[1;32md:\\Installation_folder\\python311\\Lib\\site-packages\\httpx\\_transports\\default.py:250\u001b[0m, in \u001b[0;36mHTTPTransport.handle_request\u001b[1;34m(self, request)\u001b[0m\n\u001b[0;32m    237\u001b[0m req \u001b[38;5;241m=\u001b[39m httpcore\u001b[38;5;241m.\u001b[39mRequest(\n\u001b[0;32m    238\u001b[0m     method\u001b[38;5;241m=\u001b[39mrequest\u001b[38;5;241m.\u001b[39mmethod,\n\u001b[0;32m    239\u001b[0m     url\u001b[38;5;241m=\u001b[39mhttpcore\u001b[38;5;241m.\u001b[39mURL(\n\u001b[1;32m   (...)\u001b[0m\n\u001b[0;32m    247\u001b[0m     extensions\u001b[38;5;241m=\u001b[39mrequest\u001b[38;5;241m.\u001b[39mextensions,\n\u001b[0;32m    248\u001b[0m )\n\u001b[0;32m    249\u001b[0m \u001b[38;5;28;01mwith\u001b[39;00m map_httpcore_exceptions():\n\u001b[1;32m--> 250\u001b[0m     resp \u001b[38;5;241m=\u001b[39m \u001b[38;5;28;43mself\u001b[39;49m\u001b[38;5;241;43m.\u001b[39;49m\u001b[43m_pool\u001b[49m\u001b[38;5;241;43m.\u001b[39;49m\u001b[43mhandle_request\u001b[49m\u001b[43m(\u001b[49m\u001b[43mreq\u001b[49m\u001b[43m)\u001b[49m\n\u001b[0;32m    252\u001b[0m \u001b[38;5;28;01massert\u001b[39;00m \u001b[38;5;28misinstance\u001b[39m(resp\u001b[38;5;241m.\u001b[39mstream, typing\u001b[38;5;241m.\u001b[39mIterable)\n\u001b[0;32m    254\u001b[0m \u001b[38;5;28;01mreturn\u001b[39;00m Response(\n\u001b[0;32m    255\u001b[0m     status_code\u001b[38;5;241m=\u001b[39mresp\u001b[38;5;241m.\u001b[39mstatus,\n\u001b[0;32m    256\u001b[0m     headers\u001b[38;5;241m=\u001b[39mresp\u001b[38;5;241m.\u001b[39mheaders,\n\u001b[0;32m    257\u001b[0m     stream\u001b[38;5;241m=\u001b[39mResponseStream(resp\u001b[38;5;241m.\u001b[39mstream),\n\u001b[0;32m    258\u001b[0m     extensions\u001b[38;5;241m=\u001b[39mresp\u001b[38;5;241m.\u001b[39mextensions,\n\u001b[0;32m    259\u001b[0m )\n",
            "File \u001b[1;32md:\\Installation_folder\\python311\\Lib\\site-packages\\httpcore\\_sync\\connection_pool.py:256\u001b[0m, in \u001b[0;36mConnectionPool.handle_request\u001b[1;34m(self, request)\u001b[0m\n\u001b[0;32m    253\u001b[0m         closing \u001b[38;5;241m=\u001b[39m \u001b[38;5;28mself\u001b[39m\u001b[38;5;241m.\u001b[39m_assign_requests_to_connections()\n\u001b[0;32m    255\u001b[0m     \u001b[38;5;28mself\u001b[39m\u001b[38;5;241m.\u001b[39m_close_connections(closing)\n\u001b[1;32m--> 256\u001b[0m     \u001b[38;5;28;01mraise\u001b[39;00m exc \u001b[38;5;28;01mfrom\u001b[39;00m \u001b[38;5;28;01mNone\u001b[39;00m\n\u001b[0;32m    258\u001b[0m \u001b[38;5;66;03m# Return the response. Note that in this case we still have to manage\u001b[39;00m\n\u001b[0;32m    259\u001b[0m \u001b[38;5;66;03m# the point at which the response is closed.\u001b[39;00m\n\u001b[0;32m    260\u001b[0m \u001b[38;5;28;01massert\u001b[39;00m \u001b[38;5;28misinstance\u001b[39m(response\u001b[38;5;241m.\u001b[39mstream, typing\u001b[38;5;241m.\u001b[39mIterable)\n",
            "File \u001b[1;32md:\\Installation_folder\\python311\\Lib\\site-packages\\httpcore\\_sync\\connection_pool.py:236\u001b[0m, in \u001b[0;36mConnectionPool.handle_request\u001b[1;34m(self, request)\u001b[0m\n\u001b[0;32m    232\u001b[0m connection \u001b[38;5;241m=\u001b[39m pool_request\u001b[38;5;241m.\u001b[39mwait_for_connection(timeout\u001b[38;5;241m=\u001b[39mtimeout)\n\u001b[0;32m    234\u001b[0m \u001b[38;5;28;01mtry\u001b[39;00m:\n\u001b[0;32m    235\u001b[0m     \u001b[38;5;66;03m# Send the request on the assigned connection.\u001b[39;00m\n\u001b[1;32m--> 236\u001b[0m     response \u001b[38;5;241m=\u001b[39m \u001b[43mconnection\u001b[49m\u001b[38;5;241;43m.\u001b[39;49m\u001b[43mhandle_request\u001b[49m\u001b[43m(\u001b[49m\n\u001b[0;32m    237\u001b[0m \u001b[43m        \u001b[49m\u001b[43mpool_request\u001b[49m\u001b[38;5;241;43m.\u001b[39;49m\u001b[43mrequest\u001b[49m\n\u001b[0;32m    238\u001b[0m \u001b[43m    \u001b[49m\u001b[43m)\u001b[49m\n\u001b[0;32m    239\u001b[0m \u001b[38;5;28;01mexcept\u001b[39;00m ConnectionNotAvailable:\n\u001b[0;32m    240\u001b[0m     \u001b[38;5;66;03m# In some cases a connection may initially be available to\u001b[39;00m\n\u001b[0;32m    241\u001b[0m     \u001b[38;5;66;03m# handle a request, but then become unavailable.\u001b[39;00m\n\u001b[0;32m    242\u001b[0m     \u001b[38;5;66;03m#\u001b[39;00m\n\u001b[0;32m    243\u001b[0m     \u001b[38;5;66;03m# In this case we clear the connection and try again.\u001b[39;00m\n\u001b[0;32m    244\u001b[0m     pool_request\u001b[38;5;241m.\u001b[39mclear_connection()\n",
            "File \u001b[1;32md:\\Installation_folder\\python311\\Lib\\site-packages\\httpcore\\_sync\\connection.py:103\u001b[0m, in \u001b[0;36mHTTPConnection.handle_request\u001b[1;34m(self, request)\u001b[0m\n\u001b[0;32m    100\u001b[0m     \u001b[38;5;28mself\u001b[39m\u001b[38;5;241m.\u001b[39m_connect_failed \u001b[38;5;241m=\u001b[39m \u001b[38;5;28;01mTrue\u001b[39;00m\n\u001b[0;32m    101\u001b[0m     \u001b[38;5;28;01mraise\u001b[39;00m exc\n\u001b[1;32m--> 103\u001b[0m \u001b[38;5;28;01mreturn\u001b[39;00m \u001b[38;5;28;43mself\u001b[39;49m\u001b[38;5;241;43m.\u001b[39;49m\u001b[43m_connection\u001b[49m\u001b[38;5;241;43m.\u001b[39;49m\u001b[43mhandle_request\u001b[49m\u001b[43m(\u001b[49m\u001b[43mrequest\u001b[49m\u001b[43m)\u001b[49m\n",
            "File \u001b[1;32md:\\Installation_folder\\python311\\Lib\\site-packages\\httpcore\\_sync\\http11.py:136\u001b[0m, in \u001b[0;36mHTTP11Connection.handle_request\u001b[1;34m(self, request)\u001b[0m\n\u001b[0;32m    134\u001b[0m     \u001b[38;5;28;01mwith\u001b[39;00m Trace(\u001b[38;5;124m\"\u001b[39m\u001b[38;5;124mresponse_closed\u001b[39m\u001b[38;5;124m\"\u001b[39m, logger, request) \u001b[38;5;28;01mas\u001b[39;00m trace:\n\u001b[0;32m    135\u001b[0m         \u001b[38;5;28mself\u001b[39m\u001b[38;5;241m.\u001b[39m_response_closed()\n\u001b[1;32m--> 136\u001b[0m \u001b[38;5;28;01mraise\u001b[39;00m exc\n",
            "File \u001b[1;32md:\\Installation_folder\\python311\\Lib\\site-packages\\httpcore\\_sync\\http11.py:106\u001b[0m, in \u001b[0;36mHTTP11Connection.handle_request\u001b[1;34m(self, request)\u001b[0m\n\u001b[0;32m     95\u001b[0m     \u001b[38;5;28;01mpass\u001b[39;00m\n\u001b[0;32m     97\u001b[0m \u001b[38;5;28;01mwith\u001b[39;00m Trace(\n\u001b[0;32m     98\u001b[0m     \u001b[38;5;124m\"\u001b[39m\u001b[38;5;124mreceive_response_headers\u001b[39m\u001b[38;5;124m\"\u001b[39m, logger, request, kwargs\n\u001b[0;32m     99\u001b[0m ) \u001b[38;5;28;01mas\u001b[39;00m trace:\n\u001b[0;32m    100\u001b[0m     (\n\u001b[0;32m    101\u001b[0m         http_version,\n\u001b[0;32m    102\u001b[0m         status,\n\u001b[0;32m    103\u001b[0m         reason_phrase,\n\u001b[0;32m    104\u001b[0m         headers,\n\u001b[0;32m    105\u001b[0m         trailing_data,\n\u001b[1;32m--> 106\u001b[0m     ) \u001b[38;5;241m=\u001b[39m \u001b[38;5;28;43mself\u001b[39;49m\u001b[38;5;241;43m.\u001b[39;49m\u001b[43m_receive_response_headers\u001b[49m\u001b[43m(\u001b[49m\u001b[38;5;241;43m*\u001b[39;49m\u001b[38;5;241;43m*\u001b[39;49m\u001b[43mkwargs\u001b[49m\u001b[43m)\u001b[49m\n\u001b[0;32m    107\u001b[0m     trace\u001b[38;5;241m.\u001b[39mreturn_value \u001b[38;5;241m=\u001b[39m (\n\u001b[0;32m    108\u001b[0m         http_version,\n\u001b[0;32m    109\u001b[0m         status,\n\u001b[0;32m    110\u001b[0m         reason_phrase,\n\u001b[0;32m    111\u001b[0m         headers,\n\u001b[0;32m    112\u001b[0m     )\n\u001b[0;32m    114\u001b[0m network_stream \u001b[38;5;241m=\u001b[39m \u001b[38;5;28mself\u001b[39m\u001b[38;5;241m.\u001b[39m_network_stream\n",
            "File \u001b[1;32md:\\Installation_folder\\python311\\Lib\\site-packages\\httpcore\\_sync\\http11.py:177\u001b[0m, in \u001b[0;36mHTTP11Connection._receive_response_headers\u001b[1;34m(self, request)\u001b[0m\n\u001b[0;32m    174\u001b[0m timeout \u001b[38;5;241m=\u001b[39m timeouts\u001b[38;5;241m.\u001b[39mget(\u001b[38;5;124m\"\u001b[39m\u001b[38;5;124mread\u001b[39m\u001b[38;5;124m\"\u001b[39m, \u001b[38;5;28;01mNone\u001b[39;00m)\n\u001b[0;32m    176\u001b[0m \u001b[38;5;28;01mwhile\u001b[39;00m \u001b[38;5;28;01mTrue\u001b[39;00m:\n\u001b[1;32m--> 177\u001b[0m     event \u001b[38;5;241m=\u001b[39m \u001b[38;5;28;43mself\u001b[39;49m\u001b[38;5;241;43m.\u001b[39;49m\u001b[43m_receive_event\u001b[49m\u001b[43m(\u001b[49m\u001b[43mtimeout\u001b[49m\u001b[38;5;241;43m=\u001b[39;49m\u001b[43mtimeout\u001b[49m\u001b[43m)\u001b[49m\n\u001b[0;32m    178\u001b[0m     \u001b[38;5;28;01mif\u001b[39;00m \u001b[38;5;28misinstance\u001b[39m(event, h11\u001b[38;5;241m.\u001b[39mResponse):\n\u001b[0;32m    179\u001b[0m         \u001b[38;5;28;01mbreak\u001b[39;00m\n",
            "File \u001b[1;32md:\\Installation_folder\\python311\\Lib\\site-packages\\httpcore\\_sync\\http11.py:217\u001b[0m, in \u001b[0;36mHTTP11Connection._receive_event\u001b[1;34m(self, timeout)\u001b[0m\n\u001b[0;32m    214\u001b[0m     event \u001b[38;5;241m=\u001b[39m \u001b[38;5;28mself\u001b[39m\u001b[38;5;241m.\u001b[39m_h11_state\u001b[38;5;241m.\u001b[39mnext_event()\n\u001b[0;32m    216\u001b[0m \u001b[38;5;28;01mif\u001b[39;00m event \u001b[38;5;129;01mis\u001b[39;00m h11\u001b[38;5;241m.\u001b[39mNEED_DATA:\n\u001b[1;32m--> 217\u001b[0m     data \u001b[38;5;241m=\u001b[39m \u001b[38;5;28;43mself\u001b[39;49m\u001b[38;5;241;43m.\u001b[39;49m\u001b[43m_network_stream\u001b[49m\u001b[38;5;241;43m.\u001b[39;49m\u001b[43mread\u001b[49m\u001b[43m(\u001b[49m\n\u001b[0;32m    218\u001b[0m \u001b[43m        \u001b[49m\u001b[38;5;28;43mself\u001b[39;49m\u001b[38;5;241;43m.\u001b[39;49m\u001b[43mREAD_NUM_BYTES\u001b[49m\u001b[43m,\u001b[49m\u001b[43m \u001b[49m\u001b[43mtimeout\u001b[49m\u001b[38;5;241;43m=\u001b[39;49m\u001b[43mtimeout\u001b[49m\n\u001b[0;32m    219\u001b[0m \u001b[43m    \u001b[49m\u001b[43m)\u001b[49m\n\u001b[0;32m    221\u001b[0m     \u001b[38;5;66;03m# If we feed this case through h11 we'll raise an exception like:\u001b[39;00m\n\u001b[0;32m    222\u001b[0m     \u001b[38;5;66;03m#\u001b[39;00m\n\u001b[0;32m    223\u001b[0m     \u001b[38;5;66;03m#     httpcore.RemoteProtocolError: can't handle event type\u001b[39;00m\n\u001b[1;32m   (...)\u001b[0m\n\u001b[0;32m    227\u001b[0m     \u001b[38;5;66;03m# perspective. Instead we handle this case distinctly and treat\u001b[39;00m\n\u001b[0;32m    228\u001b[0m     \u001b[38;5;66;03m# it as a ConnectError.\u001b[39;00m\n\u001b[0;32m    229\u001b[0m     \u001b[38;5;28;01mif\u001b[39;00m data \u001b[38;5;241m==\u001b[39m \u001b[38;5;124mb\u001b[39m\u001b[38;5;124m\"\u001b[39m\u001b[38;5;124m\"\u001b[39m \u001b[38;5;129;01mand\u001b[39;00m \u001b[38;5;28mself\u001b[39m\u001b[38;5;241m.\u001b[39m_h11_state\u001b[38;5;241m.\u001b[39mtheir_state \u001b[38;5;241m==\u001b[39m h11\u001b[38;5;241m.\u001b[39mSEND_RESPONSE:\n",
            "File \u001b[1;32md:\\Installation_folder\\python311\\Lib\\site-packages\\httpcore\\_backends\\sync.py:128\u001b[0m, in \u001b[0;36mSyncStream.read\u001b[1;34m(self, max_bytes, timeout)\u001b[0m\n\u001b[0;32m    126\u001b[0m \u001b[38;5;28;01mwith\u001b[39;00m map_exceptions(exc_map):\n\u001b[0;32m    127\u001b[0m     \u001b[38;5;28mself\u001b[39m\u001b[38;5;241m.\u001b[39m_sock\u001b[38;5;241m.\u001b[39msettimeout(timeout)\n\u001b[1;32m--> 128\u001b[0m     \u001b[38;5;28;01mreturn\u001b[39;00m \u001b[38;5;28;43mself\u001b[39;49m\u001b[38;5;241;43m.\u001b[39;49m\u001b[43m_sock\u001b[49m\u001b[38;5;241;43m.\u001b[39;49m\u001b[43mrecv\u001b[49m\u001b[43m(\u001b[49m\u001b[43mmax_bytes\u001b[49m\u001b[43m)\u001b[49m\n",
            "File \u001b[1;32md:\\Installation_folder\\python311\\Lib\\ssl.py:1296\u001b[0m, in \u001b[0;36mSSLSocket.recv\u001b[1;34m(self, buflen, flags)\u001b[0m\n\u001b[0;32m   1292\u001b[0m     \u001b[38;5;28;01mif\u001b[39;00m flags \u001b[38;5;241m!=\u001b[39m \u001b[38;5;241m0\u001b[39m:\n\u001b[0;32m   1293\u001b[0m         \u001b[38;5;28;01mraise\u001b[39;00m \u001b[38;5;167;01mValueError\u001b[39;00m(\n\u001b[0;32m   1294\u001b[0m             \u001b[38;5;124m\"\u001b[39m\u001b[38;5;124mnon-zero flags not allowed in calls to recv() on \u001b[39m\u001b[38;5;132;01m%s\u001b[39;00m\u001b[38;5;124m\"\u001b[39m \u001b[38;5;241m%\u001b[39m\n\u001b[0;32m   1295\u001b[0m             \u001b[38;5;28mself\u001b[39m\u001b[38;5;241m.\u001b[39m\u001b[38;5;18m__class__\u001b[39m)\n\u001b[1;32m-> 1296\u001b[0m     \u001b[38;5;28;01mreturn\u001b[39;00m \u001b[38;5;28;43mself\u001b[39;49m\u001b[38;5;241;43m.\u001b[39;49m\u001b[43mread\u001b[49m\u001b[43m(\u001b[49m\u001b[43mbuflen\u001b[49m\u001b[43m)\u001b[49m\n\u001b[0;32m   1297\u001b[0m \u001b[38;5;28;01melse\u001b[39;00m:\n\u001b[0;32m   1298\u001b[0m     \u001b[38;5;28;01mreturn\u001b[39;00m \u001b[38;5;28msuper\u001b[39m()\u001b[38;5;241m.\u001b[39mrecv(buflen, flags)\n",
            "File \u001b[1;32md:\\Installation_folder\\python311\\Lib\\ssl.py:1169\u001b[0m, in \u001b[0;36mSSLSocket.read\u001b[1;34m(self, len, buffer)\u001b[0m\n\u001b[0;32m   1167\u001b[0m         \u001b[38;5;28;01mreturn\u001b[39;00m \u001b[38;5;28mself\u001b[39m\u001b[38;5;241m.\u001b[39m_sslobj\u001b[38;5;241m.\u001b[39mread(\u001b[38;5;28mlen\u001b[39m, buffer)\n\u001b[0;32m   1168\u001b[0m     \u001b[38;5;28;01melse\u001b[39;00m:\n\u001b[1;32m-> 1169\u001b[0m         \u001b[38;5;28;01mreturn\u001b[39;00m \u001b[38;5;28;43mself\u001b[39;49m\u001b[38;5;241;43m.\u001b[39;49m\u001b[43m_sslobj\u001b[49m\u001b[38;5;241;43m.\u001b[39;49m\u001b[43mread\u001b[49m\u001b[43m(\u001b[49m\u001b[38;5;28;43mlen\u001b[39;49m\u001b[43m)\u001b[49m\n\u001b[0;32m   1170\u001b[0m \u001b[38;5;28;01mexcept\u001b[39;00m SSLError \u001b[38;5;28;01mas\u001b[39;00m x:\n\u001b[0;32m   1171\u001b[0m     \u001b[38;5;28;01mif\u001b[39;00m x\u001b[38;5;241m.\u001b[39margs[\u001b[38;5;241m0\u001b[39m] \u001b[38;5;241m==\u001b[39m SSL_ERROR_EOF \u001b[38;5;129;01mand\u001b[39;00m \u001b[38;5;28mself\u001b[39m\u001b[38;5;241m.\u001b[39msuppress_ragged_eofs:\n",
            "\u001b[1;31mKeyboardInterrupt\u001b[0m: "
          ]
        }
      ],
      "source": [
        "tqdm.pandas()\n",
        "llama3_3ResponseDf[[\"response\", \"vul\", \"CWE ID\", \"CWE Name\"]] = llama3_3ResponseDf[\"prompt\"].progress_apply(\n",
        "    lambda p: pd.Series(get_vul_info(p))\n",
        ")"
      ]
    },
    {
      "cell_type": "code",
      "execution_count": 2,
      "metadata": {},
      "outputs": [
        {
          "ename": "NameError",
          "evalue": "name 'llama3_3ResponseDf' is not defined",
          "output_type": "error",
          "traceback": [
            "\u001b[1;31m---------------------------------------------------------------------------\u001b[0m",
            "\u001b[1;31mNameError\u001b[0m                                 Traceback (most recent call last)",
            "Cell \u001b[1;32mIn[2], line 2\u001b[0m\n\u001b[0;32m      1\u001b[0m cols_to_drop \u001b[38;5;241m=\u001b[39m [\n\u001b[1;32m----> 2\u001b[0m     col \u001b[38;5;28;01mfor\u001b[39;00m col \u001b[38;5;129;01min\u001b[39;00m \u001b[43mllama3_3ResponseDf\u001b[49m\u001b[38;5;241m.\u001b[39mcolumns\n\u001b[0;32m      3\u001b[0m     \u001b[38;5;28;01mif\u001b[39;00m (col \u001b[38;5;129;01mis\u001b[39;00m \u001b[38;5;28;01mNone\u001b[39;00m)\n\u001b[0;32m      4\u001b[0m     \u001b[38;5;129;01mor\u001b[39;00m (\u001b[38;5;28misinstance\u001b[39m(col, \u001b[38;5;28mstr\u001b[39m) \u001b[38;5;129;01mand\u001b[39;00m col\u001b[38;5;241m.\u001b[39mstrip()\u001b[38;5;241m.\u001b[39mlower() \u001b[38;5;129;01min\u001b[39;00m {\u001b[38;5;124m\"\u001b[39m\u001b[38;5;124mnone\u001b[39m\u001b[38;5;124m\"\u001b[39m, \u001b[38;5;124m\"\u001b[39m\u001b[38;5;124mnoe\u001b[39m\u001b[38;5;124m\"\u001b[39m})\n\u001b[0;32m      5\u001b[0m ]\n\u001b[0;32m      7\u001b[0m \u001b[38;5;28;01mif\u001b[39;00m \u001b[38;5;129;01mnot\u001b[39;00m cols_to_drop:\n\u001b[0;32m      8\u001b[0m     \u001b[38;5;28mprint\u001b[39m(\u001b[38;5;124m\"\u001b[39m\u001b[38;5;124mNo matching columns to drop.\u001b[39m\u001b[38;5;124m\"\u001b[39m )\n",
            "\u001b[1;31mNameError\u001b[0m: name 'llama3_3ResponseDf' is not defined"
          ]
        }
      ],
      "source": [
        "cols_to_drop = [\n",
        "    col for col in llama3_3ResponseDf.columns\n",
        "    if (col is None)\n",
        "    or (isinstance(col, str) and col.strip().lower() in {\"none\", \"noe\"})\n",
        "]\n",
        "\n",
        "if not cols_to_drop:\n",
        "    print(\"No matching columns to drop.\" )\n",
        "else:\n",
        "    print(\"Dropping columns:\", cols_to_drop)\n",
        "    llama3_3ResponseDf = llama3_3ResponseDf.drop(columns=cols_to_drop)\n",
        "\n",
        "print(\"\\nRemaining columns:\")\n",
        "print(list(llama3_3ResponseDf.columns))\n",
        "print(\"\\nFirst row preview:\")\n",
        "print(llama3_3ResponseDf.head(1))\n",
        "\n",
        "llama3_3ResponseDf.to_parquet(\"llama_3_3_results.parquet\", index=True)"
      ]
    },
    {
      "cell_type": "code",
      "execution_count": null,
      "metadata": {},
      "outputs": [
        {
          "name": "stdout",
          "output_type": "stream",
          "text": [
            "Dropping 11 row(s) due to non-binary or missing values in 'vul' columns.\n",
            "\n",
            "Binary classification metrics (based on 'vul' 0/1):\n",
            "\n",
            "                     vul(0/1)\n",
            "TP                        502\n",
            "FP                        339\n",
            "FN                        367\n",
            "TN                       1034\n",
            "precision              59.69%\n",
            "recall                 57.77%\n",
            "accuracy               68.51%\n",
            "f1                     58.71%\n",
            "total_evaluated_rows     2242\n",
            "dropped_rows               11\n",
            "\n",
            "Confusion matrix counts:\n",
            "TP: 502, FP: 339, FN: 367, TN: 1034\n",
            "Total evaluated rows: 2242; Rows dropped (invalid/missing): 11\n"
          ]
        },
        {
          "name": "stderr",
          "output_type": "stream",
          "text": [
            "C:\\Users\\USER\\AppData\\Local\\Temp\\ipykernel_14880\\843849231.py:64: FutureWarning: DataFrame.applymap has been deprecated. Use DataFrame.map instead.\n",
            "  display_df[[\"precision\", \"recall\", \"accuracy\", \"f1\"]] = display_df[[\"precision\", \"recall\", \"accuracy\", \"f1\"]].applymap(lambda x: f\"{x:.2%}\")\n"
          ]
        }
      ],
      "source": [
        "\n",
        "try:\n",
        "    llama3_3ResponseDf \n",
        "except NameError:\n",
        "    raise NameError(\"llama3_3ResponseDf not found. Load your predictions into 'llama3_3ResponseDf' first.\")\n",
        "\n",
        "if \"vul\" not in llama3_3ResponseDf.columns:\n",
        "    raise KeyError(\"llama3_3ResponseDf must contain a 'vul' column (predictions 0/1).\")\n",
        "\n",
        "if \"vul\" not in df.columns:\n",
        "    raise KeyError(\"original_df must contain a 'vul' column (ground truth 0/1).\")\n",
        "\n",
        "pred = llama3_3ResponseDf[\"vul\"]\n",
        "true = df[\"vul\"]\n",
        "\n",
        "common_idx = pred.index.intersection(true.index)\n",
        "if len(common_idx) == 0:\n",
        "    raise ValueError(\"No overlapping indices found between llama3_3ResponseDf and df. \"\n",
        "                     \"Ensure both DataFrames index the same rows, or reindex them appropriately.\")\n",
        "\n",
        "pred = pred.loc[common_idx].copy()\n",
        "true = true.loc[common_idx].copy()\n",
        "\n",
        "def to_binary_series(s, colname=\"vul\"):\n",
        "    s_conv = pd.to_numeric(s, errors=\"coerce\") \n",
        "    mask_na = s_conv.isna()\n",
        "    if mask_na.any():\n",
        "        s_str = s.astype(str).str.strip().str.lower()\n",
        "        s_conv.loc[mask_na & s_str.isin({\"1\", \"true\", \"yes\", \"y\", \"t\"})] = 1\n",
        "        s_conv.loc[mask_na & s_str.isin({\"0\", \"false\", \"no\", \"n\", \"f\"})] = 0\n",
        "    s_conv = s_conv.where(s_conv.isin([0, 1]))\n",
        "    return s_conv\n",
        "\n",
        "pred_bin = to_binary_series(pred, \"predicted_vul\")\n",
        "true_bin = to_binary_series(true, \"true_vul\")\n",
        "\n",
        "invalid_mask = pred_bin.isna() | true_bin.isna()\n",
        "n_invalid = invalid_mask.sum()\n",
        "if n_invalid > 0:\n",
        "    print(f\"Dropping {n_invalid} row(s) due to non-binary or missing values in 'vul' columns.\")\n",
        "pred_bin = pred_bin[~invalid_mask].astype(int)\n",
        "true_bin = true_bin[~invalid_mask].astype(int)\n",
        "\n",
        "TP = int(((pred_bin == 1) & (true_bin == 1)).sum())\n",
        "FP = int(((pred_bin == 1) & (true_bin == 0)).sum())\n",
        "FN = int(((pred_bin == 0) & (true_bin == 1)).sum())\n",
        "TN = int(((pred_bin == 0) & (true_bin == 0)).sum())\n",
        "total = TP + FP + FN + TN\n",
        "\n",
        "def safe_div(n, d):\n",
        "    return float(n) / d if d != 0 else 0.0\n",
        "\n",
        "precision = safe_div(TP, TP + FP)\n",
        "recall = safe_div(TP, TP + FN)\n",
        "accuracy = safe_div(TP + TN, total)\n",
        "f1 = safe_div(2 * precision * recall, precision + recall) if (precision + recall) > 0 else 0.0\n",
        "\n",
        "metrics_df = pd.DataFrame([{\n",
        "    \"TP\": TP, \"FP\": FP, \"FN\": FN, \"TN\": TN,\n",
        "    \"precision\": precision, \"recall\": recall, \"accuracy\": accuracy, \"f1\": f1,\n",
        "    \"total_evaluated_rows\": total, \"dropped_rows\": int(n_invalid)\n",
        "}], index=[\"vul(0/1)\"])\n",
        "\n",
        "display_df = metrics_df.copy()\n",
        "display_df[[\"precision\", \"recall\", \"accuracy\", \"f1\"]] = display_df[[\"precision\", \"recall\", \"accuracy\", \"f1\"]].applymap(lambda x: f\"{x:.2%}\")\n",
        "display_df[[\"TP\",\"FP\",\"FN\",\"TN\",\"total_evaluated_rows\",\"dropped_rows\"]] = display_df[[\"TP\",\"FP\",\"FN\",\"TN\",\"total_evaluated_rows\",\"dropped_rows\"]].astype(int)\n",
        "\n",
        "print(\"\\nBinary classification metrics (based on 'vul' 0/1):\\n\")\n",
        "print(display_df.T)\n",
        "\n",
        "print(\"\\nConfusion matrix counts:\")\n",
        "print(f\"TP: {TP}, FP: {FP}, FN: {FN}, TN: {TN}\")\n",
        "print(f\"Total evaluated rows: {total}; Rows dropped (invalid/missing): {int(n_invalid)}\")\n"
      ]
    },
    {
      "cell_type": "code",
      "execution_count": null,
      "metadata": {},
      "outputs": [
        {
          "name": "stdout",
          "output_type": "stream",
          "text": [
            "Dropping 11 row(s) due to invalid/missing 'vul' values.\n",
            "\n",
            "CWE correctness summary:\n",
            "\n",
            "                                                 correct  total      pct\n",
            "metric                                                                  \n",
            "CWE accuracy (among rows with GT CWE)               1376   2242   61.37%\n",
            "CWE accuracy among TP (pred=1 & true=1)              342    502   68.13%\n",
            "CWE accuracy among predicted positives (pred=1)      342    841   40.67%\n",
            "Predicted non-empty CWE count                       2242   2242  100.00%\n"
          ]
        }
      ],
      "source": [
        "try:\n",
        "    llama3_3ResponseDf\n",
        "except NameError:\n",
        "    raise NameError(\"llama3_3ResponseDf not found. Load your predictions into 'llama3_3ResponseDf' first.\")\n",
        "\n",
        "try:\n",
        "    df\n",
        "except NameError:\n",
        "    raise NameError(\"Ground truth DataFrame 'df' not found. Load it into variable 'df' (must contain 'vul' and 'CWE ID').\")\n",
        "\n",
        "for col in [\"vul\"]:\n",
        "    if col not in llama3_3ResponseDf.columns:\n",
        "        raise KeyError(f\"llama3_3ResponseDf must contain '{col}' column.\")\n",
        "    if col not in df.columns:\n",
        "        raise KeyError(f\"df must contain '{col}' column.\")\n",
        "\n",
        "for col in [\"CWE ID\"]:\n",
        "    if col not in llama3_3ResponseDf.columns:\n",
        "        raise KeyError(f\"llama3_3ResponseDf must contain '{col}' column.\")\n",
        "    if col not in df.columns:\n",
        "        raise KeyError(f\"df must contain '{col}' column.\")\n",
        "\n",
        "pred_vul = llama3_3ResponseDf[\"vul\"]\n",
        "true_vul = df[\"vul\"]\n",
        "common_idx = pred_vul.index.intersection(true_vul.index)\n",
        "if len(common_idx) == 0:\n",
        "    raise ValueError(\"No overlapping indices between prediction and ground-truth DataFrames.\")\n",
        "\n",
        "pred_cwe_raw = llama3_3ResponseDf.loc[common_idx, \"CWE ID\"].copy()\n",
        "true_cwe_raw = df.loc[common_idx, \"CWE ID\"].copy()\n",
        "\n",
        "pred_vul = pred_vul.loc[common_idx].copy()\n",
        "true_vul = true_vul.loc[common_idx].copy()\n",
        "\n",
        "def to_binary_series(s):\n",
        "    s_conv = pd.to_numeric(s, errors=\"coerce\")\n",
        "    mask_na = s_conv.isna()\n",
        "    if mask_na.any():\n",
        "        s_str = s.astype(str).str.strip().str.lower()\n",
        "        s_conv.loc[mask_na & s_str.isin({\"1\", \"true\", \"yes\", \"y\", \"t\"})] = 1\n",
        "        s_conv.loc[mask_na & s_str.isin({\"0\", \"false\", \"no\", \"n\", \"f\"})] = 0\n",
        "    s_conv = s_conv.where(s_conv.isin([0, 1]))\n",
        "    return s_conv\n",
        "\n",
        "pred_bin = to_binary_series(pred_vul)\n",
        "true_bin = to_binary_series(true_vul)\n",
        "\n",
        "invalid_mask = pred_bin.isna() | true_bin.isna()\n",
        "n_invalid = int(invalid_mask.sum())\n",
        "if n_invalid > 0:\n",
        "    print(f\"Dropping {n_invalid} row(s) due to invalid/missing 'vul' values.\")\n",
        "valid_idx = pred_bin[~invalid_mask].index\n",
        "pred_bin = pred_bin.loc[valid_idx].astype(int)\n",
        "true_bin = true_bin.loc[valid_idx].astype(int)\n",
        "pred_cwe_raw = pred_cwe_raw.loc[valid_idx]\n",
        "true_cwe_raw = true_cwe_raw.loc[valid_idx]\n",
        "\n",
        "def normalize_cwe(x):\n",
        "    if pd.isna(x):\n",
        "        return \"\"\n",
        "    s = str(x).strip().lower()\n",
        "    s = s.replace(\"cwe-\", \"\").replace(\"cwe \", \"\").strip()\n",
        "    m = re.search(r\"(\\d+)\", s)\n",
        "    if m:\n",
        "        return m.group(1)\n",
        "    return s\n",
        "\n",
        "pred_cwe = pred_cwe_raw.apply(normalize_cwe)\n",
        "true_cwe = true_cwe_raw.apply(normalize_cwe)\n",
        "\n",
        "true_has_cwe = true_cwe != \"\"\n",
        "pred_has_cwe = pred_cwe != \"\"\n",
        "cwe_exact_match = (pred_cwe == true_cwe) & true_has_cwe\n",
        "\n",
        "total_with_true_cwe = int(true_has_cwe.sum())\n",
        "correct_cwe_all = int(cwe_exact_match.sum())\n",
        "cwe_accuracy_all = (correct_cwe_all / total_with_true_cwe) if total_with_true_cwe else 0.0\n",
        "\n",
        "tp_mask = (pred_bin == 1) & (true_bin == 1)\n",
        "tp_with_true_cwe = int((tp_mask & true_has_cwe).sum())\n",
        "correct_cwe_in_tp = int((tp_mask & cwe_exact_match).sum())\n",
        "cwe_accuracy_in_tp = (correct_cwe_in_tp / tp_with_true_cwe) if tp_with_true_cwe else 0.0\n",
        "\n",
        "predpos_mask = (pred_bin == 1)\n",
        "predpos_with_true_cwe = int((predpos_mask & true_has_cwe).sum())\n",
        "correct_cwe_in_predpos = int((predpos_mask & cwe_exact_match).sum())\n",
        "cwe_accuracy_in_predpos = (correct_cwe_in_predpos / predpos_with_true_cwe) if predpos_with_true_cwe else 0.0\n",
        "\n",
        "predicted_cwe_count = int(pred_has_cwe.sum())\n",
        "\n",
        "rows = []\n",
        "rows.append({\n",
        "    \"metric\": \"CWE accuracy (among rows with GT CWE)\",\n",
        "    \"correct\": correct_cwe_all,\n",
        "    \"total\": total_with_true_cwe,\n",
        "    \"pct\": f\"{cwe_accuracy_all:.2%}\"\n",
        "})\n",
        "rows.append({\n",
        "    \"metric\": \"CWE accuracy among TP (pred=1 & true=1)\",\n",
        "    \"correct\": correct_cwe_in_tp,\n",
        "    \"total\": tp_with_true_cwe,\n",
        "    \"pct\": f\"{cwe_accuracy_in_tp:.2%}\"\n",
        "})\n",
        "rows.append({\n",
        "    \"metric\": \"CWE accuracy among predicted positives (pred=1)\",\n",
        "    \"correct\": correct_cwe_in_predpos,\n",
        "    \"total\": predpos_with_true_cwe,\n",
        "    \"pct\": f\"{cwe_accuracy_in_predpos:.2%}\"\n",
        "})\n",
        "rows.append({\n",
        "    \"metric\": \"Predicted non-empty CWE count\",\n",
        "    \"correct\": predicted_cwe_count,\n",
        "    \"total\": int(len(valid_idx)),\n",
        "    \"pct\": f\"{predicted_cwe_count/len(valid_idx):.2%}\"\n",
        "})\n",
        "\n",
        "cwe_metrics_df = pd.DataFrame(rows).set_index(\"metric\")\n",
        "print(\"\\nCWE correctness summary:\\n\")\n",
        "print(cwe_metrics_df)\n"
      ]
    }
  ],
  "metadata": {
    "colab": {
      "provenance": []
    },
    "kernelspec": {
      "display_name": "Python 3",
      "name": "python3"
    },
    "language_info": {
      "codemirror_mode": {
        "name": "ipython",
        "version": 3
      },
      "file_extension": ".py",
      "mimetype": "text/x-python",
      "name": "python",
      "nbconvert_exporter": "python",
      "pygments_lexer": "ipython3",
      "version": "3.11.5"
    }
  },
  "nbformat": 4,
  "nbformat_minor": 0
}
